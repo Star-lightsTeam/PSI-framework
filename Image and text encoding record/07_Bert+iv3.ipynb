{
 "cells": [
  {
   "cell_type": "code",
   "execution_count": 2,
   "id": "19c8216e-93a9-4548-8905-ad50c4ae0588",
   "metadata": {},
   "outputs": [
    {
     "name": "stderr",
     "output_type": "stream",
     "text": [
      "提取 BERT 文本特征: 100%|██████████| 69/69 [00:02<00:00, 33.38it/s]\n",
      "提取 BERT 文本特征: 100%|██████████| 69/69 [00:02<00:00, 34.42it/s]"
     ]
    },
    {
     "name": "stdout",
     "output_type": "stream",
     "text": [
      "BERT 文本特征提取完成。\n"
     ]
    },
    {
     "name": "stderr",
     "output_type": "stream",
     "text": [
      "\n"
     ]
    }
   ],
   "source": [
    "import pandas as pd\n",
    "import numpy as np\n",
    "import torch\n",
    "import torch.nn as nn\n",
    "from torch.utils.data import Dataset, DataLoader\n",
    "from sklearn.preprocessing import StandardScaler\n",
    "from sklearn.decomposition import PCA\n",
    "from transformers import RobertaTokenizer, RobertaModel, ViTFeatureExtractor, ViTModel\n",
    "from PIL import Image\n",
    "import joblib\n",
    "import os\n",
    "from tqdm import tqdm\n",
    "from sklearn.model_selection import train_test_split\n",
    "\n",
    "# 定义设备 # Define device\n",
    "device = torch.device('cuda' if torch.cuda.is_available() else 'cpu')\n",
    "\n",
    "# 读取CSV文件    # Read CSV file\n",
    "df = pd.read_csv(\"最终的记录.csv\", encoding='utf-8', encoding_errors='ignore')\n",
    "\n",
    "# 重命名列（确保与之前一致） # Rename columns (ensure consistency with previous ones)\n",
    "df.columns = [\n",
    "    '商品名称', '一级种类', '二级种类', '图片地址', 'sku', '文本描述', '折扣率',\n",
    "    '折扣价', '价格', '星级', '销量', '收入', '评论', 'cc-1', 'cc-2',\n",
    "    'cc-3', 'DRC-1', 'DRC-2', 'DRC-3', 'RCV-1', 'RCV-2',\n",
    "    'RCV-3', 'RSV-1', 'RSV-2', 'RSV-3'\n",
    "]\n",
    "\n",
    "# 转换数据类型   # Data type conversion\n",
    "numeric_columns = ['星级', '折扣率', '折扣价', '价格', '销量', '收入']\n",
    "for col in numeric_columns:\n",
    "    df[col] = pd.to_numeric(df[col], errors='coerce')\n",
    "\n",
    "# 重新计算收入（如果需要）  # Recalculate income (if necessary)\n",
    "df['收入'] = df['折扣价'] * df['销量']\n",
    "df['收入'] = np.log10(df['收入'].replace(0, 1))  # 避免log10(0)错误\n",
    "\n",
    "# 数值特征   # Numerical Features\n",
    "numerical_features = ['星级', '折扣价', '折扣率', '价格']\n",
    "\n",
    "# 标准化数值特征   # Standardized numerical features\n",
    "scaler = StandardScaler()\n",
    "df[numerical_features] = scaler.fit_transform(df[numerical_features])\n",
    "\n",
    "# 保存Scaler以备后续使用  # Save the Scaler for future use\n",
    "joblib.dump(scaler, 'scaler.pkl')\n",
    "\n",
    "# 设置设备\n",
    "device = torch.device('cuda') if torch.cuda.is_available() else torch.device('cpu')\n",
    "\n",
    "# 初始化 BERT 模型和分词器 # Initialize BERT model and tokenizer\n",
    "bert_model_name = r\"/root/.cache/huggingface/hub/models--google-bert--bert-base-uncased/snapshots/86b5e0934494bd15c9632b12f734a8a67f723594\"\n",
    "tokenizer_bert = AutoTokenizer.from_pretrained(bert_model_name)\n",
    "model_bert = AutoModel.from_pretrained(bert_model_name, from_tf=False)  # 根据实际情况设置 from_tf\n",
    "model_bert.to(device)\n",
    "model_bert.eval()  # 设置为评估模式 # Set to evaluation mode\n",
    "\n",
    "def extract_text_features(texts, model, tokenizer, device, batch_size=32, max_length=128):\n",
    "    all_features = []\n",
    "    num_samples = len(texts)\n",
    "    num_batches = int(np.ceil(num_samples / batch_size))\n",
    "    \n",
    "    with torch.no_grad():  # 禁用梯度计算 # Disable gradient computation\n",
    "        for batch_idx in tqdm(range(num_batches), desc=\"提取 BERT 文本特征\"):\n",
    "            start_idx = batch_idx * batch_size\n",
    "            end_idx = min(start_idx + batch_size, num_samples)\n",
    "            batch_texts = texts[start_idx:end_idx]\n",
    "            \n",
    "            # Tokenize with fixed max_length and padding to max_length\n",
    "            inputs = tokenizer(\n",
    "                batch_texts,\n",
    "                return_tensors='pt',\n",
    "                padding='max_length',  # 固定填充到 max_length\n",
    "                truncation=True,\n",
    "                max_length=max_length,\n",
    "            )\n",
    "            inputs = {key: val.to(device) for key, val in inputs.items()}\n",
    "            \n",
    "            # 获取模型输出  # Obtain model output\n",
    "            outputs = model(**inputs)\n",
    "             \n",
    "            # 对最后一个隐藏状态进行平均池化，得到每个样本的固定维度特征   # Perform average pooling on the last hidden state to obtain fixed-dimensional features for each sample\n",
    "            encoded_text = outputs.last_hidden_state.mean(dim=1).cpu().numpy()  # [batch_size, hidden_size]\n",
    "            \n",
    "            # 添加到特征列表     # Add to feature list\n",
    "            all_features.append(encoded_text)\n",
    "     \n",
    "    # 将所有批次的特征堆叠起来，得到 [num_samples, hidden_size]   # Stack the features of all batches to obtain [num_samples, hidden_size]\n",
    "    all_features = np.vstack(all_features)\n",
    "    return all_features\n",
    "\n",
    "\n",
    "# 确保所有文本字段为字符串类型 # Ensure that all text fields are of string type\n",
    "text_columns = ['商品名称', '文本描述', '一级种类', '二级种类', 'cc-1']\n",
    "for col in text_columns:\n",
    "    df[col] = df[col].astype(str)\n",
    "\n",
    "# 构建“其他文本”特征  # Constructing \"other text\" features\n",
    "other_texts = (\n",
    "    df['商品名称'] + \" \" +\n",
    "    df['一级种类'] + \" \" +\n",
    "    df['二级种类'] + \" \" +\n",
    "    df['cc-1']\n",
    ").tolist()\n",
    "\n",
    "# 构建“文本描述”特征  # Constructing \"text description\" features\n",
    "text_descs = df['文本描述'].tolist()\n",
    "\n",
    "# 提取 BERT 的“其他文本”特征 # Extracting the \"Other Text\" features of BERT\n",
    "bert_other_text_features = extract_text_features(\n",
    "    other_texts,\n",
    "    model_bert,\n",
    "    tokenizer_bert,\n",
    "    device,\n",
    "    batch_size=32,\n",
    "    max_length=128\n",
    ")\n",
    "df['other_text_features'] = list(bert_other_text_features)\n",
    "\n",
    "# 提取 BERT 的“文本描述”特征  # Extracting the \"text description\" feature of BERT\n",
    "bert_text_desc_features = extract_text_features(\n",
    "    text_descs,\n",
    "    model_bert,\n",
    "    tokenizer_bert,\n",
    "    device,\n",
    "    batch_size=32,\n",
    "    max_length=128\n",
    ")\n",
    "df['text_desc_features'] = list(bert_text_desc_features)\n",
    "\n",
    "print(\"BERT 文本特征提取完成。\")\n",
    "\n"
   ]
  },
  {
   "cell_type": "code",
   "execution_count": 3,
   "id": "6e9cc95b-6115-4937-a6a3-a77c014dde78",
   "metadata": {},
   "outputs": [
    {
     "name": "stderr",
     "output_type": "stream",
     "text": [
      "/root/miniconda3/lib/python3.12/site-packages/torchvision/models/_utils.py:208: UserWarning: The parameter 'pretrained' is deprecated since 0.13 and may be removed in the future, please use 'weights' instead.\n",
      "  warnings.warn(\n",
      "/root/miniconda3/lib/python3.12/site-packages/torchvision/models/_utils.py:223: UserWarning: Arguments other than a weight enum or `None` for 'weights' are deprecated since 0.13 and may be removed in the future. The current behavior is equivalent to passing `weights=Inception_V3_Weights.IMAGENET1K_V1`. You can also use `weights=Inception_V3_Weights.DEFAULT` to get the most up-to-date weights.\n",
      "  warnings.warn(msg)\n",
      "提取Inception v3图像特征:  29%|██▉       | 641/2194 [01:21<05:13,  4.96it/s]/root/miniconda3/lib/python3.12/site-packages/PIL/Image.py:1000: UserWarning: Palette images with Transparency expressed in bytes should be converted to RGBA images\n",
      "  warnings.warn(\n",
      "提取Inception v3图像特征: 100%|██████████| 2194/2194 [08:38<00:00,  4.23it/s]\n",
      "/root/miniconda3/lib/python3.12/site-packages/transformers/models/vit/feature_extraction_vit.py:28: FutureWarning: The class ViTFeatureExtractor is deprecated and will be removed in version 5 of Transformers. Please use ViTImageProcessor instead.\n",
      "  warnings.warn(\n",
      "Some weights of ViTModel were not initialized from the model checkpoint at /root/.cache/huggingface/hub/models--google--vit-base-patch16-224/snapshots/3f49326eb077187dfe1c2a2bb15fbd74e6ab91e3 and are newly initialized: ['vit.pooler.dense.bias', 'vit.pooler.dense.weight']\n",
      "You should probably TRAIN this model on a down-stream task to be able to use it for predictions and inference.\n",
      "提取图像特征:  29%|██▉       | 641/2194 [03:16<08:16,  3.13it/s]/root/miniconda3/lib/python3.12/site-packages/PIL/Image.py:1000: UserWarning: Palette images with Transparency expressed in bytes should be converted to RGBA images\n",
      "  warnings.warn(\n",
      "提取图像特征: 100%|██████████| 2194/2194 [10:45<00:00,  3.40it/s]\n",
      "/root/miniconda3/lib/python3.12/site-packages/torchvision/models/_utils.py:208: UserWarning: The parameter 'pretrained' is deprecated since 0.13 and may be removed in the future, please use 'weights' instead.\n",
      "  warnings.warn(\n",
      "/root/miniconda3/lib/python3.12/site-packages/torchvision/models/_utils.py:223: UserWarning: Arguments other than a weight enum or `None` for 'weights' are deprecated since 0.13 and may be removed in the future. The current behavior is equivalent to passing `weights=None`.\n",
      "  warnings.warn(msg)\n",
      "提取VGG图像特征:  29%|██▉       | 637/2194 [00:15<00:41, 37.15it/s]/root/miniconda3/lib/python3.12/site-packages/PIL/Image.py:1000: UserWarning: Palette images with Transparency expressed in bytes should be converted to RGBA images\n",
      "  warnings.warn(\n",
      "提取VGG图像特征:  58%|█████▊    | 1267/2194 [00:33<00:27, 33.34it/s]IOPub message rate exceeded.\n",
      "The Jupyter server will temporarily stop sending output\n",
      "to the client in order to avoid crashing it.\n",
      "To change this limit, set the config variable\n",
      "`--ServerApp.iopub_msg_rate_limit`.\n",
      "\n",
      "Current values:\n",
      "ServerApp.iopub_msg_rate_limit=1000.0 (msgs/sec)\n",
      "ServerApp.rate_limit_window=3.0 (secs)\n",
      "\n",
      "Epoch 297/1000 - Validation: 100%|██████████| 1/1 [00:00<00:00, 249.28it/s]\n"
     ]
    },
    {
     "name": "stdout",
     "output_type": "stream",
     "text": [
      "Epoch 297/1000 - Train Loss: 0.0482 - Val Loss: 0.2348\n"
     ]
    },
    {
     "name": "stderr",
     "output_type": "stream",
     "text": [
      "Epoch 298/1000 - Training: 100%|██████████| 68/68 [00:00<00:00, 125.68it/s]\n",
      "Epoch 298/1000 - Validation: 100%|██████████| 1/1 [00:00<00:00, 220.49it/s]\n"
     ]
    },
    {
     "name": "stdout",
     "output_type": "stream",
     "text": [
      "Epoch 298/1000 - Train Loss: 0.0464 - Val Loss: 0.1827\n"
     ]
    },
    {
     "name": "stderr",
     "output_type": "stream",
     "text": [
      "Epoch 299/1000 - Training: 100%|██████████| 68/68 [00:00<00:00, 125.22it/s]\n",
      "Epoch 299/1000 - Validation: 100%|██████████| 1/1 [00:00<00:00, 251.90it/s]\n"
     ]
    },
    {
     "name": "stdout",
     "output_type": "stream",
     "text": [
      "Epoch 299/1000 - Train Loss: 0.0488 - Val Loss: 0.2163\n"
     ]
    },
    {
     "name": "stderr",
     "output_type": "stream",
     "text": [
      "Epoch 300/1000 - Training: 100%|██████████| 68/68 [00:00<00:00, 125.49it/s]\n",
      "Epoch 300/1000 - Validation: 100%|██████████| 1/1 [00:00<00:00, 252.23it/s]\n"
     ]
    },
    {
     "name": "stdout",
     "output_type": "stream",
     "text": [
      "Epoch 300/1000 - Train Loss: 0.0441 - Val Loss: 0.2037\n"
     ]
    },
    {
     "name": "stderr",
     "output_type": "stream",
     "text": [
      "Epoch 301/1000 - Training: 100%|██████████| 68/68 [00:00<00:00, 125.79it/s]\n",
      "Epoch 301/1000 - Validation: 100%|██████████| 1/1 [00:00<00:00, 212.53it/s]\n"
     ]
    },
    {
     "name": "stdout",
     "output_type": "stream",
     "text": [
      "Epoch 301/1000 - Train Loss: 0.0422 - Val Loss: 0.2240\n"
     ]
    },
    {
     "name": "stderr",
     "output_type": "stream",
     "text": [
      "Epoch 302/1000 - Training: 100%|██████████| 68/68 [00:00<00:00, 125.18it/s]\n",
      "Epoch 302/1000 - Validation: 100%|██████████| 1/1 [00:00<00:00, 247.25it/s]\n"
     ]
    },
    {
     "name": "stdout",
     "output_type": "stream",
     "text": [
      "Epoch 302/1000 - Train Loss: 0.0441 - Val Loss: 0.1814\n"
     ]
    },
    {
     "name": "stderr",
     "output_type": "stream",
     "text": [
      "Epoch 303/1000 - Training: 100%|██████████| 68/68 [00:00<00:00, 124.90it/s]\n",
      "Epoch 303/1000 - Validation: 100%|██████████| 1/1 [00:00<00:00, 232.80it/s]\n"
     ]
    },
    {
     "name": "stdout",
     "output_type": "stream",
     "text": [
      "Epoch 303/1000 - Train Loss: 0.0465 - Val Loss: 0.2177\n"
     ]
    },
    {
     "name": "stderr",
     "output_type": "stream",
     "text": [
      "Epoch 304/1000 - Training: 100%|██████████| 68/68 [00:00<00:00, 125.54it/s]\n",
      "Epoch 304/1000 - Validation: 100%|██████████| 1/1 [00:00<00:00, 249.51it/s]\n"
     ]
    },
    {
     "name": "stdout",
     "output_type": "stream",
     "text": [
      "Epoch 304/1000 - Train Loss: 0.0418 - Val Loss: 0.1952\n"
     ]
    },
    {
     "name": "stderr",
     "output_type": "stream",
     "text": [
      "Epoch 305/1000 - Training: 100%|██████████| 68/68 [00:00<00:00, 124.41it/s]\n",
      "Epoch 305/1000 - Validation: 100%|██████████| 1/1 [00:00<00:00, 222.17it/s]\n"
     ]
    },
    {
     "name": "stdout",
     "output_type": "stream",
     "text": [
      "Epoch 305/1000 - Train Loss: 0.0437 - Val Loss: 0.1831\n"
     ]
    },
    {
     "name": "stderr",
     "output_type": "stream",
     "text": [
      "Epoch 306/1000 - Training: 100%|██████████| 68/68 [00:00<00:00, 124.98it/s]\n",
      "Epoch 306/1000 - Validation: 100%|██████████| 1/1 [00:00<00:00, 219.56it/s]\n"
     ]
    },
    {
     "name": "stdout",
     "output_type": "stream",
     "text": [
      "Epoch 306/1000 - Train Loss: 0.0506 - Val Loss: 0.2104\n"
     ]
    },
    {
     "name": "stderr",
     "output_type": "stream",
     "text": [
      "Epoch 307/1000 - Training: 100%|██████████| 68/68 [00:00<00:00, 125.10it/s]\n",
      "Epoch 307/1000 - Validation: 100%|██████████| 1/1 [00:00<00:00, 228.03it/s]\n"
     ]
    },
    {
     "name": "stdout",
     "output_type": "stream",
     "text": [
      "Epoch 307/1000 - Train Loss: 0.0474 - Val Loss: 0.1965\n"
     ]
    },
    {
     "name": "stderr",
     "output_type": "stream",
     "text": [
      "Epoch 308/1000 - Training: 100%|██████████| 68/68 [00:00<00:00, 124.84it/s]\n",
      "Epoch 308/1000 - Validation: 100%|██████████| 1/1 [00:00<00:00, 247.50it/s]\n"
     ]
    },
    {
     "name": "stdout",
     "output_type": "stream",
     "text": [
      "Epoch 308/1000 - Train Loss: 0.0415 - Val Loss: 0.1981\n"
     ]
    },
    {
     "name": "stderr",
     "output_type": "stream",
     "text": [
      "Epoch 309/1000 - Training: 100%|██████████| 68/68 [00:00<00:00, 125.68it/s]\n",
      "Epoch 309/1000 - Validation: 100%|██████████| 1/1 [00:00<00:00, 232.24it/s]\n"
     ]
    },
    {
     "name": "stdout",
     "output_type": "stream",
     "text": [
      "Epoch 309/1000 - Train Loss: 0.0449 - Val Loss: 0.2025\n"
     ]
    },
    {
     "name": "stderr",
     "output_type": "stream",
     "text": [
      "Epoch 310/1000 - Training: 100%|██████████| 68/68 [00:00<00:00, 125.64it/s]\n",
      "Epoch 310/1000 - Validation: 100%|██████████| 1/1 [00:00<00:00, 234.49it/s]\n"
     ]
    },
    {
     "name": "stdout",
     "output_type": "stream",
     "text": [
      "Epoch 310/1000 - Train Loss: 0.0439 - Val Loss: 0.1986\n"
     ]
    },
    {
     "name": "stderr",
     "output_type": "stream",
     "text": [
      "Epoch 311/1000 - Training: 100%|██████████| 68/68 [00:00<00:00, 124.89it/s]\n",
      "Epoch 311/1000 - Validation: 100%|██████████| 1/1 [00:00<00:00, 241.32it/s]\n"
     ]
    },
    {
     "name": "stdout",
     "output_type": "stream",
     "text": [
      "Epoch 311/1000 - Train Loss: 0.0474 - Val Loss: 0.2166\n"
     ]
    },
    {
     "name": "stderr",
     "output_type": "stream",
     "text": [
      "Epoch 312/1000 - Training: 100%|██████████| 68/68 [00:00<00:00, 125.40it/s]\n",
      "Epoch 312/1000 - Validation: 100%|██████████| 1/1 [00:00<00:00, 218.66it/s]\n"
     ]
    },
    {
     "name": "stdout",
     "output_type": "stream",
     "text": [
      "Epoch 312/1000 - Train Loss: 0.0450 - Val Loss: 0.2317\n"
     ]
    },
    {
     "name": "stderr",
     "output_type": "stream",
     "text": [
      "Epoch 313/1000 - Training: 100%|██████████| 68/68 [00:00<00:00, 123.09it/s]\n",
      "Epoch 313/1000 - Validation: 100%|██████████| 1/1 [00:00<00:00, 231.65it/s]\n"
     ]
    },
    {
     "name": "stdout",
     "output_type": "stream",
     "text": [
      "Epoch 313/1000 - Train Loss: 0.0464 - Val Loss: 0.2023\n"
     ]
    },
    {
     "name": "stderr",
     "output_type": "stream",
     "text": [
      "Epoch 314/1000 - Training: 100%|██████████| 68/68 [00:00<00:00, 125.72it/s]\n",
      "Epoch 314/1000 - Validation: 100%|██████████| 1/1 [00:00<00:00, 245.34it/s]\n"
     ]
    },
    {
     "name": "stdout",
     "output_type": "stream",
     "text": [
      "Epoch 314/1000 - Train Loss: 0.0505 - Val Loss: 0.2398\n"
     ]
    },
    {
     "name": "stderr",
     "output_type": "stream",
     "text": [
      "Epoch 315/1000 - Training: 100%|██████████| 68/68 [00:00<00:00, 124.85it/s]\n",
      "Epoch 315/1000 - Validation: 100%|██████████| 1/1 [00:00<00:00, 247.80it/s]\n"
     ]
    },
    {
     "name": "stdout",
     "output_type": "stream",
     "text": [
      "Epoch 315/1000 - Train Loss: 0.0480 - Val Loss: 0.2323\n"
     ]
    },
    {
     "name": "stderr",
     "output_type": "stream",
     "text": [
      "Epoch 316/1000 - Training: 100%|██████████| 68/68 [00:00<00:00, 125.15it/s]\n",
      "Epoch 316/1000 - Validation: 100%|██████████| 1/1 [00:00<00:00, 219.23it/s]\n"
     ]
    },
    {
     "name": "stdout",
     "output_type": "stream",
     "text": [
      "Epoch 316/1000 - Train Loss: 0.0437 - Val Loss: 0.1871\n"
     ]
    },
    {
     "name": "stderr",
     "output_type": "stream",
     "text": [
      "Epoch 317/1000 - Training: 100%|██████████| 68/68 [00:00<00:00, 124.45it/s]\n",
      "Epoch 317/1000 - Validation: 100%|██████████| 1/1 [00:00<00:00, 244.67it/s]\n"
     ]
    },
    {
     "name": "stdout",
     "output_type": "stream",
     "text": [
      "Epoch 317/1000 - Train Loss: 0.0433 - Val Loss: 0.2032\n"
     ]
    },
    {
     "name": "stderr",
     "output_type": "stream",
     "text": [
      "Epoch 318/1000 - Training: 100%|██████████| 68/68 [00:00<00:00, 124.39it/s]\n",
      "Epoch 318/1000 - Validation: 100%|██████████| 1/1 [00:00<00:00, 235.83it/s]\n"
     ]
    },
    {
     "name": "stdout",
     "output_type": "stream",
     "text": [
      "Epoch 318/1000 - Train Loss: 0.0449 - Val Loss: 0.2413\n"
     ]
    },
    {
     "name": "stderr",
     "output_type": "stream",
     "text": [
      "Epoch 319/1000 - Training: 100%|██████████| 68/68 [00:00<00:00, 125.25it/s]\n",
      "Epoch 319/1000 - Validation: 100%|██████████| 1/1 [00:00<00:00, 247.35it/s]\n"
     ]
    },
    {
     "name": "stdout",
     "output_type": "stream",
     "text": [
      "Epoch 319/1000 - Train Loss: 0.0462 - Val Loss: 0.1702\n"
     ]
    },
    {
     "name": "stderr",
     "output_type": "stream",
     "text": [
      "Epoch 320/1000 - Training: 100%|██████████| 68/68 [00:00<00:00, 125.93it/s]\n",
      "Epoch 320/1000 - Validation: 100%|██████████| 1/1 [00:00<00:00, 243.90it/s]\n"
     ]
    },
    {
     "name": "stdout",
     "output_type": "stream",
     "text": [
      "Epoch 320/1000 - Train Loss: 0.0430 - Val Loss: 0.2246\n"
     ]
    },
    {
     "name": "stderr",
     "output_type": "stream",
     "text": [
      "Epoch 321/1000 - Training: 100%|██████████| 68/68 [00:00<00:00, 125.34it/s]\n",
      "Epoch 321/1000 - Validation: 100%|██████████| 1/1 [00:00<00:00, 251.80it/s]\n"
     ]
    },
    {
     "name": "stdout",
     "output_type": "stream",
     "text": [
      "Epoch 321/1000 - Train Loss: 0.0442 - Val Loss: 0.1949\n"
     ]
    },
    {
     "name": "stderr",
     "output_type": "stream",
     "text": [
      "Epoch 322/1000 - Training: 100%|██████████| 68/68 [00:00<00:00, 125.36it/s]\n",
      "Epoch 322/1000 - Validation: 100%|██████████| 1/1 [00:00<00:00, 277.40it/s]\n"
     ]
    },
    {
     "name": "stdout",
     "output_type": "stream",
     "text": [
      "Epoch 322/1000 - Train Loss: 0.0446 - Val Loss: 0.2075\n"
     ]
    },
    {
     "name": "stderr",
     "output_type": "stream",
     "text": [
      "Epoch 323/1000 - Training: 100%|██████████| 68/68 [00:00<00:00, 125.15it/s]\n",
      "Epoch 323/1000 - Validation: 100%|██████████| 1/1 [00:00<00:00, 232.62it/s]\n"
     ]
    },
    {
     "name": "stdout",
     "output_type": "stream",
     "text": [
      "Epoch 323/1000 - Train Loss: 0.0488 - Val Loss: 0.1953\n"
     ]
    },
    {
     "name": "stderr",
     "output_type": "stream",
     "text": [
      "Epoch 324/1000 - Training: 100%|██████████| 68/68 [00:00<00:00, 125.06it/s]\n",
      "Epoch 324/1000 - Validation: 100%|██████████| 1/1 [00:00<00:00, 222.21it/s]\n"
     ]
    },
    {
     "name": "stdout",
     "output_type": "stream",
     "text": [
      "Epoch 324/1000 - Train Loss: 0.0474 - Val Loss: 0.2185\n"
     ]
    },
    {
     "name": "stderr",
     "output_type": "stream",
     "text": [
      "Epoch 325/1000 - Training: 100%|██████████| 68/68 [00:00<00:00, 124.93it/s]\n",
      "Epoch 325/1000 - Validation: 100%|██████████| 1/1 [00:00<00:00, 249.25it/s]\n"
     ]
    },
    {
     "name": "stdout",
     "output_type": "stream",
     "text": [
      "Epoch 325/1000 - Train Loss: 0.0451 - Val Loss: 0.2203\n"
     ]
    },
    {
     "name": "stderr",
     "output_type": "stream",
     "text": [
      "Epoch 326/1000 - Training: 100%|██████████| 68/68 [00:00<00:00, 125.77it/s]\n",
      "Epoch 326/1000 - Validation: 100%|██████████| 1/1 [00:00<00:00, 241.00it/s]\n"
     ]
    },
    {
     "name": "stdout",
     "output_type": "stream",
     "text": [
      "Epoch 326/1000 - Train Loss: 0.0482 - Val Loss: 0.2104\n"
     ]
    },
    {
     "name": "stderr",
     "output_type": "stream",
     "text": [
      "Epoch 327/1000 - Training: 100%|██████████| 68/68 [00:00<00:00, 125.27it/s]\n",
      "Epoch 327/1000 - Validation: 100%|██████████| 1/1 [00:00<00:00, 243.30it/s]\n"
     ]
    },
    {
     "name": "stdout",
     "output_type": "stream",
     "text": [
      "Epoch 327/1000 - Train Loss: 0.0450 - Val Loss: 0.2385\n"
     ]
    },
    {
     "name": "stderr",
     "output_type": "stream",
     "text": [
      "Epoch 328/1000 - Training: 100%|██████████| 68/68 [00:00<00:00, 125.75it/s]\n",
      "Epoch 328/1000 - Validation: 100%|██████████| 1/1 [00:00<00:00, 210.86it/s]\n"
     ]
    },
    {
     "name": "stdout",
     "output_type": "stream",
     "text": [
      "Epoch 328/1000 - Train Loss: 0.0492 - Val Loss: 0.2098\n"
     ]
    },
    {
     "name": "stderr",
     "output_type": "stream",
     "text": [
      "Epoch 329/1000 - Training: 100%|██████████| 68/68 [00:00<00:00, 125.57it/s]\n",
      "Epoch 329/1000 - Validation: 100%|██████████| 1/1 [00:00<00:00, 227.85it/s]\n"
     ]
    },
    {
     "name": "stdout",
     "output_type": "stream",
     "text": [
      "Epoch 329/1000 - Train Loss: 0.0425 - Val Loss: 0.2063\n"
     ]
    },
    {
     "name": "stderr",
     "output_type": "stream",
     "text": [
      "Epoch 330/1000 - Training: 100%|██████████| 68/68 [00:00<00:00, 125.06it/s]\n",
      "Epoch 330/1000 - Validation: 100%|██████████| 1/1 [00:00<00:00, 232.78it/s]\n"
     ]
    },
    {
     "name": "stdout",
     "output_type": "stream",
     "text": [
      "Epoch 330/1000 - Train Loss: 0.0462 - Val Loss: 0.2269\n"
     ]
    },
    {
     "name": "stderr",
     "output_type": "stream",
     "text": [
      "Epoch 331/1000 - Training: 100%|██████████| 68/68 [00:00<00:00, 125.78it/s]\n",
      "Epoch 331/1000 - Validation: 100%|██████████| 1/1 [00:00<00:00, 227.05it/s]\n"
     ]
    },
    {
     "name": "stdout",
     "output_type": "stream",
     "text": [
      "Epoch 331/1000 - Train Loss: 0.0483 - Val Loss: 0.2699\n"
     ]
    },
    {
     "name": "stderr",
     "output_type": "stream",
     "text": [
      "Epoch 332/1000 - Training: 100%|██████████| 68/68 [00:00<00:00, 125.90it/s]\n",
      "Epoch 332/1000 - Validation: 100%|██████████| 1/1 [00:00<00:00, 228.57it/s]\n"
     ]
    },
    {
     "name": "stdout",
     "output_type": "stream",
     "text": [
      "Epoch 332/1000 - Train Loss: 0.0485 - Val Loss: 0.2083\n"
     ]
    },
    {
     "name": "stderr",
     "output_type": "stream",
     "text": [
      "Epoch 333/1000 - Training: 100%|██████████| 68/68 [00:00<00:00, 125.85it/s]\n",
      "Epoch 333/1000 - Validation: 100%|██████████| 1/1 [00:00<00:00, 246.22it/s]\n"
     ]
    },
    {
     "name": "stdout",
     "output_type": "stream",
     "text": [
      "Epoch 333/1000 - Train Loss: 0.0427 - Val Loss: 0.2375\n"
     ]
    },
    {
     "name": "stderr",
     "output_type": "stream",
     "text": [
      "Epoch 334/1000 - Training: 100%|██████████| 68/68 [00:00<00:00, 125.80it/s]\n",
      "Epoch 334/1000 - Validation: 100%|██████████| 1/1 [00:00<00:00, 228.65it/s]\n"
     ]
    },
    {
     "name": "stdout",
     "output_type": "stream",
     "text": [
      "Epoch 334/1000 - Train Loss: 0.0436 - Val Loss: 0.2149\n"
     ]
    },
    {
     "name": "stderr",
     "output_type": "stream",
     "text": [
      "Epoch 335/1000 - Training: 100%|██████████| 68/68 [00:00<00:00, 125.42it/s]\n",
      "Epoch 335/1000 - Validation: 100%|██████████| 1/1 [00:00<00:00, 234.79it/s]\n"
     ]
    },
    {
     "name": "stdout",
     "output_type": "stream",
     "text": [
      "Epoch 335/1000 - Train Loss: 0.0438 - Val Loss: 0.2154\n"
     ]
    },
    {
     "name": "stderr",
     "output_type": "stream",
     "text": [
      "Epoch 336/1000 - Training: 100%|██████████| 68/68 [00:00<00:00, 125.99it/s]\n",
      "Epoch 336/1000 - Validation: 100%|██████████| 1/1 [00:00<00:00, 244.64it/s]\n"
     ]
    },
    {
     "name": "stdout",
     "output_type": "stream",
     "text": [
      "Epoch 336/1000 - Train Loss: 0.0476 - Val Loss: 0.2637\n"
     ]
    },
    {
     "name": "stderr",
     "output_type": "stream",
     "text": [
      "Epoch 337/1000 - Training: 100%|██████████| 68/68 [00:00<00:00, 125.91it/s]\n",
      "Epoch 337/1000 - Validation: 100%|██████████| 1/1 [00:00<00:00, 240.54it/s]\n"
     ]
    },
    {
     "name": "stdout",
     "output_type": "stream",
     "text": [
      "Epoch 337/1000 - Train Loss: 0.0445 - Val Loss: 0.2168\n"
     ]
    },
    {
     "name": "stderr",
     "output_type": "stream",
     "text": [
      "Epoch 338/1000 - Training: 100%|██████████| 68/68 [00:00<00:00, 125.54it/s]\n",
      "Epoch 338/1000 - Validation: 100%|██████████| 1/1 [00:00<00:00, 201.90it/s]\n"
     ]
    },
    {
     "name": "stdout",
     "output_type": "stream",
     "text": [
      "Epoch 338/1000 - Train Loss: 0.0437 - Val Loss: 0.2036\n"
     ]
    },
    {
     "name": "stderr",
     "output_type": "stream",
     "text": [
      "Epoch 339/1000 - Training: 100%|██████████| 68/68 [00:00<00:00, 124.33it/s]\n",
      "Epoch 339/1000 - Validation: 100%|██████████| 1/1 [00:00<00:00, 248.49it/s]\n"
     ]
    },
    {
     "name": "stdout",
     "output_type": "stream",
     "text": [
      "Epoch 339/1000 - Train Loss: 0.0435 - Val Loss: 0.1931\n"
     ]
    },
    {
     "name": "stderr",
     "output_type": "stream",
     "text": [
      "Epoch 340/1000 - Training: 100%|██████████| 68/68 [00:00<00:00, 125.28it/s]\n",
      "Epoch 340/1000 - Validation: 100%|██████████| 1/1 [00:00<00:00, 223.97it/s]\n"
     ]
    },
    {
     "name": "stdout",
     "output_type": "stream",
     "text": [
      "Epoch 340/1000 - Train Loss: 0.0414 - Val Loss: 0.2059\n"
     ]
    },
    {
     "name": "stderr",
     "output_type": "stream",
     "text": [
      "Epoch 341/1000 - Training: 100%|██████████| 68/68 [00:00<00:00, 124.70it/s]\n",
      "Epoch 341/1000 - Validation: 100%|██████████| 1/1 [00:00<00:00, 244.82it/s]\n"
     ]
    },
    {
     "name": "stdout",
     "output_type": "stream",
     "text": [
      "Epoch 341/1000 - Train Loss: 0.0416 - Val Loss: 0.1760\n"
     ]
    },
    {
     "name": "stderr",
     "output_type": "stream",
     "text": [
      "Epoch 342/1000 - Training: 100%|██████████| 68/68 [00:00<00:00, 124.47it/s]\n",
      "Epoch 342/1000 - Validation: 100%|██████████| 1/1 [00:00<00:00, 195.48it/s]\n"
     ]
    },
    {
     "name": "stdout",
     "output_type": "stream",
     "text": [
      "Epoch 342/1000 - Train Loss: 0.0409 - Val Loss: 0.1729\n"
     ]
    },
    {
     "name": "stderr",
     "output_type": "stream",
     "text": [
      "Epoch 343/1000 - Training: 100%|██████████| 68/68 [00:00<00:00, 124.47it/s]\n",
      "Epoch 343/1000 - Validation: 100%|██████████| 1/1 [00:00<00:00, 242.94it/s]\n"
     ]
    },
    {
     "name": "stdout",
     "output_type": "stream",
     "text": [
      "Epoch 343/1000 - Train Loss: 0.0414 - Val Loss: 0.1820\n"
     ]
    },
    {
     "name": "stderr",
     "output_type": "stream",
     "text": [
      "Epoch 344/1000 - Training: 100%|██████████| 68/68 [00:00<00:00, 125.39it/s]\n",
      "Epoch 344/1000 - Validation: 100%|██████████| 1/1 [00:00<00:00, 247.01it/s]\n"
     ]
    },
    {
     "name": "stdout",
     "output_type": "stream",
     "text": [
      "Epoch 344/1000 - Train Loss: 0.0449 - Val Loss: 0.2413\n"
     ]
    },
    {
     "name": "stderr",
     "output_type": "stream",
     "text": [
      "Epoch 345/1000 - Training: 100%|██████████| 68/68 [00:00<00:00, 124.60it/s]\n",
      "Epoch 345/1000 - Validation: 100%|██████████| 1/1 [00:00<00:00, 218.65it/s]\n"
     ]
    },
    {
     "name": "stdout",
     "output_type": "stream",
     "text": [
      "Epoch 345/1000 - Train Loss: 0.0434 - Val Loss: 0.2145\n"
     ]
    },
    {
     "name": "stderr",
     "output_type": "stream",
     "text": [
      "Epoch 346/1000 - Training: 100%|██████████| 68/68 [00:00<00:00, 124.89it/s]\n",
      "Epoch 346/1000 - Validation: 100%|██████████| 1/1 [00:00<00:00, 223.60it/s]\n"
     ]
    },
    {
     "name": "stdout",
     "output_type": "stream",
     "text": [
      "Epoch 346/1000 - Train Loss: 0.0433 - Val Loss: 0.2002\n"
     ]
    },
    {
     "name": "stderr",
     "output_type": "stream",
     "text": [
      "Epoch 347/1000 - Training: 100%|██████████| 68/68 [00:00<00:00, 123.51it/s]\n",
      "Epoch 347/1000 - Validation: 100%|██████████| 1/1 [00:00<00:00, 214.58it/s]\n"
     ]
    },
    {
     "name": "stdout",
     "output_type": "stream",
     "text": [
      "Epoch 347/1000 - Train Loss: 0.0430 - Val Loss: 0.2269\n"
     ]
    },
    {
     "name": "stderr",
     "output_type": "stream",
     "text": [
      "Epoch 348/1000 - Training: 100%|██████████| 68/68 [00:00<00:00, 125.19it/s]\n",
      "Epoch 348/1000 - Validation: 100%|██████████| 1/1 [00:00<00:00, 250.00it/s]\n"
     ]
    },
    {
     "name": "stdout",
     "output_type": "stream",
     "text": [
      "Epoch 348/1000 - Train Loss: 0.0434 - Val Loss: 0.2145\n"
     ]
    },
    {
     "name": "stderr",
     "output_type": "stream",
     "text": [
      "Epoch 349/1000 - Training: 100%|██████████| 68/68 [00:00<00:00, 124.03it/s]\n",
      "Epoch 349/1000 - Validation: 100%|██████████| 1/1 [00:00<00:00, 221.30it/s]\n"
     ]
    },
    {
     "name": "stdout",
     "output_type": "stream",
     "text": [
      "Epoch 349/1000 - Train Loss: 0.0437 - Val Loss: 0.2225\n"
     ]
    },
    {
     "name": "stderr",
     "output_type": "stream",
     "text": [
      "Epoch 350/1000 - Training: 100%|██████████| 68/68 [00:00<00:00, 125.54it/s]\n",
      "Epoch 350/1000 - Validation: 100%|██████████| 1/1 [00:00<00:00, 197.66it/s]\n"
     ]
    },
    {
     "name": "stdout",
     "output_type": "stream",
     "text": [
      "Epoch 350/1000 - Train Loss: 0.0446 - Val Loss: 0.2179\n"
     ]
    },
    {
     "name": "stderr",
     "output_type": "stream",
     "text": [
      "Epoch 351/1000 - Training: 100%|██████████| 68/68 [00:00<00:00, 124.29it/s]\n",
      "Epoch 351/1000 - Validation: 100%|██████████| 1/1 [00:00<00:00, 247.13it/s]\n"
     ]
    },
    {
     "name": "stdout",
     "output_type": "stream",
     "text": [
      "Epoch 351/1000 - Train Loss: 0.0430 - Val Loss: 0.2044\n"
     ]
    },
    {
     "name": "stderr",
     "output_type": "stream",
     "text": [
      "Epoch 352/1000 - Training: 100%|██████████| 68/68 [00:00<00:00, 124.74it/s]\n",
      "Epoch 352/1000 - Validation: 100%|██████████| 1/1 [00:00<00:00, 215.95it/s]\n"
     ]
    },
    {
     "name": "stdout",
     "output_type": "stream",
     "text": [
      "Epoch 352/1000 - Train Loss: 0.0441 - Val Loss: 0.2133\n"
     ]
    },
    {
     "name": "stderr",
     "output_type": "stream",
     "text": [
      "Epoch 353/1000 - Training: 100%|██████████| 68/68 [00:00<00:00, 125.56it/s]\n",
      "Epoch 353/1000 - Validation: 100%|██████████| 1/1 [00:00<00:00, 238.20it/s]\n"
     ]
    },
    {
     "name": "stdout",
     "output_type": "stream",
     "text": [
      "Epoch 353/1000 - Train Loss: 0.0418 - Val Loss: 0.2097\n"
     ]
    },
    {
     "name": "stderr",
     "output_type": "stream",
     "text": [
      "Epoch 354/1000 - Training: 100%|██████████| 68/68 [00:00<00:00, 125.57it/s]\n",
      "Epoch 354/1000 - Validation: 100%|██████████| 1/1 [00:00<00:00, 205.92it/s]\n"
     ]
    },
    {
     "name": "stdout",
     "output_type": "stream",
     "text": [
      "Epoch 354/1000 - Train Loss: 0.0433 - Val Loss: 0.2241\n"
     ]
    },
    {
     "name": "stderr",
     "output_type": "stream",
     "text": [
      "Epoch 355/1000 - Training: 100%|██████████| 68/68 [00:00<00:00, 125.73it/s]\n",
      "Epoch 355/1000 - Validation: 100%|██████████| 1/1 [00:00<00:00, 248.08it/s]\n"
     ]
    },
    {
     "name": "stdout",
     "output_type": "stream",
     "text": [
      "Epoch 355/1000 - Train Loss: 0.0427 - Val Loss: 0.2068\n"
     ]
    },
    {
     "name": "stderr",
     "output_type": "stream",
     "text": [
      "Epoch 356/1000 - Training: 100%|██████████| 68/68 [00:00<00:00, 124.12it/s]\n",
      "Epoch 356/1000 - Validation: 100%|██████████| 1/1 [00:00<00:00, 237.37it/s]\n"
     ]
    },
    {
     "name": "stdout",
     "output_type": "stream",
     "text": [
      "Epoch 356/1000 - Train Loss: 0.0428 - Val Loss: 0.2232\n"
     ]
    },
    {
     "name": "stderr",
     "output_type": "stream",
     "text": [
      "Epoch 357/1000 - Training: 100%|██████████| 68/68 [00:00<00:00, 125.88it/s]\n",
      "Epoch 357/1000 - Validation: 100%|██████████| 1/1 [00:00<00:00, 248.17it/s]\n"
     ]
    },
    {
     "name": "stdout",
     "output_type": "stream",
     "text": [
      "Epoch 357/1000 - Train Loss: 0.0403 - Val Loss: 0.2363\n"
     ]
    },
    {
     "name": "stderr",
     "output_type": "stream",
     "text": [
      "Epoch 358/1000 - Training: 100%|██████████| 68/68 [00:00<00:00, 125.43it/s]\n",
      "Epoch 358/1000 - Validation: 100%|██████████| 1/1 [00:00<00:00, 258.84it/s]\n"
     ]
    },
    {
     "name": "stdout",
     "output_type": "stream",
     "text": [
      "Epoch 358/1000 - Train Loss: 0.0409 - Val Loss: 0.1801\n"
     ]
    },
    {
     "name": "stderr",
     "output_type": "stream",
     "text": [
      "Epoch 359/1000 - Training: 100%|██████████| 68/68 [00:00<00:00, 125.86it/s]\n",
      "Epoch 359/1000 - Validation: 100%|██████████| 1/1 [00:00<00:00, 228.46it/s]\n"
     ]
    },
    {
     "name": "stdout",
     "output_type": "stream",
     "text": [
      "Epoch 359/1000 - Train Loss: 0.0408 - Val Loss: 0.1830\n"
     ]
    },
    {
     "name": "stderr",
     "output_type": "stream",
     "text": [
      "Epoch 360/1000 - Training: 100%|██████████| 68/68 [00:00<00:00, 124.19it/s]\n",
      "Epoch 360/1000 - Validation: 100%|██████████| 1/1 [00:00<00:00, 246.33it/s]\n"
     ]
    },
    {
     "name": "stdout",
     "output_type": "stream",
     "text": [
      "Epoch 360/1000 - Train Loss: 0.0436 - Val Loss: 0.2238\n"
     ]
    },
    {
     "name": "stderr",
     "output_type": "stream",
     "text": [
      "Epoch 361/1000 - Training: 100%|██████████| 68/68 [00:00<00:00, 125.82it/s]\n",
      "Epoch 361/1000 - Validation: 100%|██████████| 1/1 [00:00<00:00, 217.92it/s]\n"
     ]
    },
    {
     "name": "stdout",
     "output_type": "stream",
     "text": [
      "Epoch 361/1000 - Train Loss: 0.0420 - Val Loss: 0.2017\n"
     ]
    },
    {
     "name": "stderr",
     "output_type": "stream",
     "text": [
      "Epoch 362/1000 - Training: 100%|██████████| 68/68 [00:00<00:00, 125.47it/s]\n",
      "Epoch 362/1000 - Validation: 100%|██████████| 1/1 [00:00<00:00, 253.37it/s]\n"
     ]
    },
    {
     "name": "stdout",
     "output_type": "stream",
     "text": [
      "Epoch 362/1000 - Train Loss: 0.0455 - Val Loss: 0.2267\n"
     ]
    },
    {
     "name": "stderr",
     "output_type": "stream",
     "text": [
      "Epoch 363/1000 - Training: 100%|██████████| 68/68 [00:00<00:00, 124.35it/s]\n",
      "Epoch 363/1000 - Validation: 100%|██████████| 1/1 [00:00<00:00, 223.86it/s]\n"
     ]
    },
    {
     "name": "stdout",
     "output_type": "stream",
     "text": [
      "Epoch 363/1000 - Train Loss: 0.0409 - Val Loss: 0.2151\n"
     ]
    },
    {
     "name": "stderr",
     "output_type": "stream",
     "text": [
      "Epoch 364/1000 - Training: 100%|██████████| 68/68 [00:00<00:00, 124.83it/s]\n",
      "Epoch 364/1000 - Validation: 100%|██████████| 1/1 [00:00<00:00, 247.96it/s]\n"
     ]
    },
    {
     "name": "stdout",
     "output_type": "stream",
     "text": [
      "Epoch 364/1000 - Train Loss: 0.0391 - Val Loss: 0.1989\n"
     ]
    },
    {
     "name": "stderr",
     "output_type": "stream",
     "text": [
      "Epoch 365/1000 - Training: 100%|██████████| 68/68 [00:00<00:00, 124.06it/s]\n",
      "Epoch 365/1000 - Validation: 100%|██████████| 1/1 [00:00<00:00, 234.53it/s]\n"
     ]
    },
    {
     "name": "stdout",
     "output_type": "stream",
     "text": [
      "Epoch 365/1000 - Train Loss: 0.0397 - Val Loss: 0.2031\n"
     ]
    },
    {
     "name": "stderr",
     "output_type": "stream",
     "text": [
      "Epoch 366/1000 - Training: 100%|██████████| 68/68 [00:00<00:00, 124.81it/s]\n",
      "Epoch 366/1000 - Validation: 100%|██████████| 1/1 [00:00<00:00, 242.70it/s]\n"
     ]
    },
    {
     "name": "stdout",
     "output_type": "stream",
     "text": [
      "Epoch 366/1000 - Train Loss: 0.0417 - Val Loss: 0.2193\n"
     ]
    },
    {
     "name": "stderr",
     "output_type": "stream",
     "text": [
      "Epoch 367/1000 - Training: 100%|██████████| 68/68 [00:00<00:00, 123.52it/s]\n",
      "Epoch 367/1000 - Validation: 100%|██████████| 1/1 [00:00<00:00, 223.53it/s]\n"
     ]
    },
    {
     "name": "stdout",
     "output_type": "stream",
     "text": [
      "Epoch 367/1000 - Train Loss: 0.0392 - Val Loss: 0.1893\n"
     ]
    },
    {
     "name": "stderr",
     "output_type": "stream",
     "text": [
      "Epoch 368/1000 - Training: 100%|██████████| 68/68 [00:00<00:00, 125.01it/s]\n",
      "Epoch 368/1000 - Validation: 100%|██████████| 1/1 [00:00<00:00, 248.07it/s]\n"
     ]
    },
    {
     "name": "stdout",
     "output_type": "stream",
     "text": [
      "Epoch 368/1000 - Train Loss: 0.0446 - Val Loss: 0.1742\n"
     ]
    },
    {
     "name": "stderr",
     "output_type": "stream",
     "text": [
      "Epoch 369/1000 - Training: 100%|██████████| 68/68 [00:00<00:00, 124.77it/s]\n",
      "Epoch 369/1000 - Validation: 100%|██████████| 1/1 [00:00<00:00, 242.01it/s]\n"
     ]
    },
    {
     "name": "stdout",
     "output_type": "stream",
     "text": [
      "Epoch 369/1000 - Train Loss: 0.0431 - Val Loss: 0.1918\n"
     ]
    },
    {
     "name": "stderr",
     "output_type": "stream",
     "text": [
      "Epoch 370/1000 - Training: 100%|██████████| 68/68 [00:00<00:00, 125.39it/s]\n",
      "Epoch 370/1000 - Validation: 100%|██████████| 1/1 [00:00<00:00, 221.48it/s]\n"
     ]
    },
    {
     "name": "stdout",
     "output_type": "stream",
     "text": [
      "Epoch 370/1000 - Train Loss: 0.0393 - Val Loss: 0.2156\n"
     ]
    },
    {
     "name": "stderr",
     "output_type": "stream",
     "text": [
      "Epoch 371/1000 - Training: 100%|██████████| 68/68 [00:00<00:00, 125.60it/s]\n",
      "Epoch 371/1000 - Validation: 100%|██████████| 1/1 [00:00<00:00, 248.14it/s]\n"
     ]
    },
    {
     "name": "stdout",
     "output_type": "stream",
     "text": [
      "Epoch 371/1000 - Train Loss: 0.0416 - Val Loss: 0.1971\n"
     ]
    },
    {
     "name": "stderr",
     "output_type": "stream",
     "text": [
      "Epoch 372/1000 - Training: 100%|██████████| 68/68 [00:00<00:00, 124.31it/s]\n",
      "Epoch 372/1000 - Validation: 100%|██████████| 1/1 [00:00<00:00, 239.13it/s]\n"
     ]
    },
    {
     "name": "stdout",
     "output_type": "stream",
     "text": [
      "Epoch 372/1000 - Train Loss: 0.0402 - Val Loss: 0.2027\n"
     ]
    },
    {
     "name": "stderr",
     "output_type": "stream",
     "text": [
      "Epoch 373/1000 - Training: 100%|██████████| 68/68 [00:00<00:00, 124.16it/s]\n",
      "Epoch 373/1000 - Validation: 100%|██████████| 1/1 [00:00<00:00, 224.92it/s]\n"
     ]
    },
    {
     "name": "stdout",
     "output_type": "stream",
     "text": [
      "Epoch 373/1000 - Train Loss: 0.0436 - Val Loss: 0.2014\n"
     ]
    },
    {
     "name": "stderr",
     "output_type": "stream",
     "text": [
      "Epoch 374/1000 - Training: 100%|██████████| 68/68 [00:00<00:00, 125.34it/s]\n",
      "Epoch 374/1000 - Validation: 100%|██████████| 1/1 [00:00<00:00, 247.54it/s]\n"
     ]
    },
    {
     "name": "stdout",
     "output_type": "stream",
     "text": [
      "Epoch 374/1000 - Train Loss: 0.0416 - Val Loss: 0.2114\n"
     ]
    },
    {
     "name": "stderr",
     "output_type": "stream",
     "text": [
      "Epoch 375/1000 - Training: 100%|██████████| 68/68 [00:00<00:00, 124.69it/s]\n",
      "Epoch 375/1000 - Validation: 100%|██████████| 1/1 [00:00<00:00, 241.23it/s]\n"
     ]
    },
    {
     "name": "stdout",
     "output_type": "stream",
     "text": [
      "Epoch 375/1000 - Train Loss: 0.0383 - Val Loss: 0.2391\n"
     ]
    },
    {
     "name": "stderr",
     "output_type": "stream",
     "text": [
      "Epoch 376/1000 - Training: 100%|██████████| 68/68 [00:00<00:00, 124.24it/s]\n",
      "Epoch 376/1000 - Validation: 100%|██████████| 1/1 [00:00<00:00, 218.28it/s]\n"
     ]
    },
    {
     "name": "stdout",
     "output_type": "stream",
     "text": [
      "Epoch 376/1000 - Train Loss: 0.0405 - Val Loss: 0.2081\n"
     ]
    },
    {
     "name": "stderr",
     "output_type": "stream",
     "text": [
      "Epoch 377/1000 - Training: 100%|██████████| 68/68 [00:00<00:00, 125.82it/s]\n",
      "Epoch 377/1000 - Validation: 100%|██████████| 1/1 [00:00<00:00, 203.69it/s]\n"
     ]
    },
    {
     "name": "stdout",
     "output_type": "stream",
     "text": [
      "Epoch 377/1000 - Train Loss: 0.0383 - Val Loss: 0.2169\n"
     ]
    },
    {
     "name": "stderr",
     "output_type": "stream",
     "text": [
      "Epoch 378/1000 - Training: 100%|██████████| 68/68 [00:00<00:00, 124.75it/s]\n",
      "Epoch 378/1000 - Validation: 100%|██████████| 1/1 [00:00<00:00, 219.08it/s]\n"
     ]
    },
    {
     "name": "stdout",
     "output_type": "stream",
     "text": [
      "Epoch 378/1000 - Train Loss: 0.0371 - Val Loss: 0.1872\n"
     ]
    },
    {
     "name": "stderr",
     "output_type": "stream",
     "text": [
      "Epoch 379/1000 - Training: 100%|██████████| 68/68 [00:00<00:00, 125.49it/s]\n",
      "Epoch 379/1000 - Validation: 100%|██████████| 1/1 [00:00<00:00, 242.70it/s]\n"
     ]
    },
    {
     "name": "stdout",
     "output_type": "stream",
     "text": [
      "Epoch 379/1000 - Train Loss: 0.0419 - Val Loss: 0.2316\n"
     ]
    },
    {
     "name": "stderr",
     "output_type": "stream",
     "text": [
      "Epoch 380/1000 - Training: 100%|██████████| 68/68 [00:00<00:00, 125.60it/s]\n",
      "Epoch 380/1000 - Validation: 100%|██████████| 1/1 [00:00<00:00, 214.37it/s]\n"
     ]
    },
    {
     "name": "stdout",
     "output_type": "stream",
     "text": [
      "Epoch 380/1000 - Train Loss: 0.0449 - Val Loss: 0.2233\n"
     ]
    },
    {
     "name": "stderr",
     "output_type": "stream",
     "text": [
      "Epoch 381/1000 - Training: 100%|██████████| 68/68 [00:00<00:00, 125.06it/s]\n",
      "Epoch 381/1000 - Validation: 100%|██████████| 1/1 [00:00<00:00, 243.73it/s]\n"
     ]
    },
    {
     "name": "stdout",
     "output_type": "stream",
     "text": [
      "Epoch 381/1000 - Train Loss: 0.0433 - Val Loss: 0.1721\n"
     ]
    },
    {
     "name": "stderr",
     "output_type": "stream",
     "text": [
      "Epoch 382/1000 - Training: 100%|██████████| 68/68 [00:00<00:00, 125.92it/s]\n",
      "Epoch 382/1000 - Validation: 100%|██████████| 1/1 [00:00<00:00, 271.13it/s]\n"
     ]
    },
    {
     "name": "stdout",
     "output_type": "stream",
     "text": [
      "Epoch 382/1000 - Train Loss: 0.0390 - Val Loss: 0.1901\n"
     ]
    },
    {
     "name": "stderr",
     "output_type": "stream",
     "text": [
      "Epoch 383/1000 - Training: 100%|██████████| 68/68 [00:00<00:00, 126.32it/s]\n",
      "Epoch 383/1000 - Validation: 100%|██████████| 1/1 [00:00<00:00, 241.40it/s]\n"
     ]
    },
    {
     "name": "stdout",
     "output_type": "stream",
     "text": [
      "Epoch 383/1000 - Train Loss: 0.0400 - Val Loss: 0.2024\n"
     ]
    },
    {
     "name": "stderr",
     "output_type": "stream",
     "text": [
      "Epoch 384/1000 - Training: 100%|██████████| 68/68 [00:00<00:00, 125.31it/s]\n",
      "Epoch 384/1000 - Validation: 100%|██████████| 1/1 [00:00<00:00, 227.08it/s]\n"
     ]
    },
    {
     "name": "stdout",
     "output_type": "stream",
     "text": [
      "Epoch 384/1000 - Train Loss: 0.0449 - Val Loss: 0.2087\n"
     ]
    },
    {
     "name": "stderr",
     "output_type": "stream",
     "text": [
      "Epoch 385/1000 - Training: 100%|██████████| 68/68 [00:00<00:00, 125.33it/s]\n",
      "Epoch 385/1000 - Validation: 100%|██████████| 1/1 [00:00<00:00, 238.16it/s]\n"
     ]
    },
    {
     "name": "stdout",
     "output_type": "stream",
     "text": [
      "Epoch 385/1000 - Train Loss: 0.0421 - Val Loss: 0.2212\n"
     ]
    },
    {
     "name": "stderr",
     "output_type": "stream",
     "text": [
      "Epoch 386/1000 - Training: 100%|██████████| 68/68 [00:00<00:00, 125.90it/s]\n",
      "Epoch 386/1000 - Validation: 100%|██████████| 1/1 [00:00<00:00, 240.22it/s]\n"
     ]
    },
    {
     "name": "stdout",
     "output_type": "stream",
     "text": [
      "Epoch 386/1000 - Train Loss: 0.0406 - Val Loss: 0.2141\n"
     ]
    },
    {
     "name": "stderr",
     "output_type": "stream",
     "text": [
      "Epoch 387/1000 - Training: 100%|██████████| 68/68 [00:00<00:00, 125.50it/s]\n",
      "Epoch 387/1000 - Validation: 100%|██████████| 1/1 [00:00<00:00, 207.03it/s]\n"
     ]
    },
    {
     "name": "stdout",
     "output_type": "stream",
     "text": [
      "Epoch 387/1000 - Train Loss: 0.0415 - Val Loss: 0.1925\n"
     ]
    },
    {
     "name": "stderr",
     "output_type": "stream",
     "text": [
      "Epoch 388/1000 - Training: 100%|██████████| 68/68 [00:00<00:00, 125.46it/s]\n",
      "Epoch 388/1000 - Validation: 100%|██████████| 1/1 [00:00<00:00, 245.53it/s]\n"
     ]
    },
    {
     "name": "stdout",
     "output_type": "stream",
     "text": [
      "Epoch 388/1000 - Train Loss: 0.0443 - Val Loss: 0.2240\n"
     ]
    },
    {
     "name": "stderr",
     "output_type": "stream",
     "text": [
      "Epoch 389/1000 - Training: 100%|██████████| 68/68 [00:00<00:00, 124.38it/s]\n",
      "Epoch 389/1000 - Validation: 100%|██████████| 1/1 [00:00<00:00, 249.84it/s]\n"
     ]
    },
    {
     "name": "stdout",
     "output_type": "stream",
     "text": [
      "Epoch 389/1000 - Train Loss: 0.0380 - Val Loss: 0.1945\n"
     ]
    },
    {
     "name": "stderr",
     "output_type": "stream",
     "text": [
      "Epoch 390/1000 - Training: 100%|██████████| 68/68 [00:00<00:00, 124.85it/s]\n",
      "Epoch 390/1000 - Validation: 100%|██████████| 1/1 [00:00<00:00, 219.33it/s]\n"
     ]
    },
    {
     "name": "stdout",
     "output_type": "stream",
     "text": [
      "Epoch 390/1000 - Train Loss: 0.0390 - Val Loss: 0.2011\n"
     ]
    },
    {
     "name": "stderr",
     "output_type": "stream",
     "text": [
      "Epoch 391/1000 - Training: 100%|██████████| 68/68 [00:00<00:00, 125.28it/s]\n",
      "Epoch 391/1000 - Validation: 100%|██████████| 1/1 [00:00<00:00, 266.71it/s]\n"
     ]
    },
    {
     "name": "stdout",
     "output_type": "stream",
     "text": [
      "Epoch 391/1000 - Train Loss: 0.0418 - Val Loss: 0.1981\n"
     ]
    },
    {
     "name": "stderr",
     "output_type": "stream",
     "text": [
      "Epoch 392/1000 - Training: 100%|██████████| 68/68 [00:00<00:00, 127.80it/s]\n",
      "Epoch 392/1000 - Validation: 100%|██████████| 1/1 [00:00<00:00, 269.23it/s]\n"
     ]
    },
    {
     "name": "stdout",
     "output_type": "stream",
     "text": [
      "Epoch 392/1000 - Train Loss: 0.0379 - Val Loss: 0.2132\n"
     ]
    },
    {
     "name": "stderr",
     "output_type": "stream",
     "text": [
      "Epoch 393/1000 - Training: 100%|██████████| 68/68 [00:00<00:00, 127.85it/s]\n",
      "Epoch 393/1000 - Validation: 100%|██████████| 1/1 [00:00<00:00, 244.03it/s]\n"
     ]
    },
    {
     "name": "stdout",
     "output_type": "stream",
     "text": [
      "Epoch 393/1000 - Train Loss: 0.0351 - Val Loss: 0.2095\n"
     ]
    },
    {
     "name": "stderr",
     "output_type": "stream",
     "text": [
      "Epoch 394/1000 - Training: 100%|██████████| 68/68 [00:00<00:00, 124.91it/s]\n",
      "Epoch 394/1000 - Validation: 100%|██████████| 1/1 [00:00<00:00, 228.31it/s]\n"
     ]
    },
    {
     "name": "stdout",
     "output_type": "stream",
     "text": [
      "Epoch 394/1000 - Train Loss: 0.0406 - Val Loss: 0.2069\n"
     ]
    },
    {
     "name": "stderr",
     "output_type": "stream",
     "text": [
      "Epoch 395/1000 - Training: 100%|██████████| 68/68 [00:00<00:00, 125.42it/s]\n",
      "Epoch 395/1000 - Validation: 100%|██████████| 1/1 [00:00<00:00, 217.69it/s]\n"
     ]
    },
    {
     "name": "stdout",
     "output_type": "stream",
     "text": [
      "Epoch 395/1000 - Train Loss: 0.0405 - Val Loss: 0.1734\n"
     ]
    },
    {
     "name": "stderr",
     "output_type": "stream",
     "text": [
      "Epoch 396/1000 - Training: 100%|██████████| 68/68 [00:00<00:00, 125.16it/s]\n",
      "Epoch 396/1000 - Validation: 100%|██████████| 1/1 [00:00<00:00, 245.83it/s]\n"
     ]
    },
    {
     "name": "stdout",
     "output_type": "stream",
     "text": [
      "Epoch 396/1000 - Train Loss: 0.0400 - Val Loss: 0.2010\n"
     ]
    },
    {
     "name": "stderr",
     "output_type": "stream",
     "text": [
      "Epoch 397/1000 - Training: 100%|██████████| 68/68 [00:00<00:00, 126.47it/s]\n",
      "Epoch 397/1000 - Validation: 100%|██████████| 1/1 [00:00<00:00, 213.10it/s]\n"
     ]
    },
    {
     "name": "stdout",
     "output_type": "stream",
     "text": [
      "Epoch 397/1000 - Train Loss: 0.0382 - Val Loss: 0.1977\n"
     ]
    },
    {
     "name": "stderr",
     "output_type": "stream",
     "text": [
      "Epoch 398/1000 - Training: 100%|██████████| 68/68 [00:00<00:00, 123.70it/s]\n",
      "Epoch 398/1000 - Validation: 100%|██████████| 1/1 [00:00<00:00, 232.82it/s]\n"
     ]
    },
    {
     "name": "stdout",
     "output_type": "stream",
     "text": [
      "Epoch 398/1000 - Train Loss: 0.0386 - Val Loss: 0.1953\n"
     ]
    },
    {
     "name": "stderr",
     "output_type": "stream",
     "text": [
      "Epoch 399/1000 - Training: 100%|██████████| 68/68 [00:00<00:00, 126.06it/s]\n",
      "Epoch 399/1000 - Validation: 100%|██████████| 1/1 [00:00<00:00, 241.40it/s]\n"
     ]
    },
    {
     "name": "stdout",
     "output_type": "stream",
     "text": [
      "Epoch 399/1000 - Train Loss: 0.0385 - Val Loss: 0.2090\n"
     ]
    },
    {
     "name": "stderr",
     "output_type": "stream",
     "text": [
      "Epoch 400/1000 - Training: 100%|██████████| 68/68 [00:00<00:00, 125.47it/s]\n",
      "Epoch 400/1000 - Validation: 100%|██████████| 1/1 [00:00<00:00, 230.27it/s]\n"
     ]
    },
    {
     "name": "stdout",
     "output_type": "stream",
     "text": [
      "Epoch 400/1000 - Train Loss: 0.0409 - Val Loss: 0.1890\n"
     ]
    },
    {
     "name": "stderr",
     "output_type": "stream",
     "text": [
      "Epoch 401/1000 - Training: 100%|██████████| 68/68 [00:00<00:00, 125.38it/s]\n",
      "Epoch 401/1000 - Validation: 100%|██████████| 1/1 [00:00<00:00, 241.66it/s]\n"
     ]
    },
    {
     "name": "stdout",
     "output_type": "stream",
     "text": [
      "Epoch 401/1000 - Train Loss: 0.0400 - Val Loss: 0.1955\n"
     ]
    },
    {
     "name": "stderr",
     "output_type": "stream",
     "text": [
      "Epoch 402/1000 - Training: 100%|██████████| 68/68 [00:00<00:00, 124.97it/s]IOPub message rate exceeded.\n",
      "The Jupyter server will temporarily stop sending output\n",
      "to the client in order to avoid crashing it.\n",
      "To change this limit, set the config variable\n",
      "`--ServerApp.iopub_msg_rate_limit`.\n",
      "\n",
      "Current values:\n",
      "ServerApp.iopub_msg_rate_limit=1000.0 (msgs/sec)\n",
      "ServerApp.rate_limit_window=3.0 (secs)\n",
      "\n",
      "Epoch 354/1000 - Validation: 100%|██████████| 1/1 [00:00<00:00, 341.03it/s]\n"
     ]
    },
    {
     "name": "stdout",
     "output_type": "stream",
     "text": [
      "Epoch 354/1000 - Train Loss: 0.0407 - Val Loss: 0.1215\n"
     ]
    },
    {
     "name": "stderr",
     "output_type": "stream",
     "text": [
      "Epoch 355/1000 - Training: 100%|██████████| 68/68 [00:00<00:00, 153.05it/s]\n",
      "Epoch 355/1000 - Validation: 100%|██████████| 1/1 [00:00<00:00, 252.85it/s]\n"
     ]
    },
    {
     "name": "stdout",
     "output_type": "stream",
     "text": [
      "Epoch 355/1000 - Train Loss: 0.0443 - Val Loss: 0.0908\n"
     ]
    },
    {
     "name": "stderr",
     "output_type": "stream",
     "text": [
      "Epoch 356/1000 - Training: 100%|██████████| 68/68 [00:00<00:00, 160.15it/s]\n",
      "Epoch 356/1000 - Validation: 100%|██████████| 1/1 [00:00<00:00, 321.21it/s]\n"
     ]
    },
    {
     "name": "stdout",
     "output_type": "stream",
     "text": [
      "Epoch 356/1000 - Train Loss: 0.0448 - Val Loss: 0.0957\n"
     ]
    },
    {
     "name": "stderr",
     "output_type": "stream",
     "text": [
      "Epoch 357/1000 - Training: 100%|██████████| 68/68 [00:00<00:00, 158.58it/s]\n",
      "Epoch 357/1000 - Validation: 100%|██████████| 1/1 [00:00<00:00, 420.14it/s]\n"
     ]
    },
    {
     "name": "stdout",
     "output_type": "stream",
     "text": [
      "Epoch 357/1000 - Train Loss: 0.0421 - Val Loss: 0.1065\n"
     ]
    },
    {
     "name": "stderr",
     "output_type": "stream",
     "text": [
      "Epoch 358/1000 - Training: 100%|██████████| 68/68 [00:00<00:00, 164.83it/s]\n",
      "Epoch 358/1000 - Validation: 100%|██████████| 1/1 [00:00<00:00, 270.11it/s]\n"
     ]
    },
    {
     "name": "stdout",
     "output_type": "stream",
     "text": [
      "Epoch 358/1000 - Train Loss: 0.0440 - Val Loss: 0.1018\n"
     ]
    },
    {
     "name": "stderr",
     "output_type": "stream",
     "text": [
      "Epoch 359/1000 - Training: 100%|██████████| 68/68 [00:00<00:00, 172.37it/s]\n",
      "Epoch 359/1000 - Validation: 100%|██████████| 1/1 [00:00<00:00, 296.88it/s]\n"
     ]
    },
    {
     "name": "stdout",
     "output_type": "stream",
     "text": [
      "Epoch 359/1000 - Train Loss: 0.0386 - Val Loss: 0.1137\n"
     ]
    },
    {
     "name": "stderr",
     "output_type": "stream",
     "text": [
      "Epoch 360/1000 - Training: 100%|██████████| 68/68 [00:00<00:00, 167.23it/s]\n",
      "Epoch 360/1000 - Validation: 100%|██████████| 1/1 [00:00<00:00, 360.37it/s]\n"
     ]
    },
    {
     "name": "stdout",
     "output_type": "stream",
     "text": [
      "Epoch 360/1000 - Train Loss: 0.0416 - Val Loss: 0.1000\n"
     ]
    },
    {
     "name": "stderr",
     "output_type": "stream",
     "text": [
      "Epoch 361/1000 - Training: 100%|██████████| 68/68 [00:00<00:00, 152.86it/s]\n",
      "Epoch 361/1000 - Validation: 100%|██████████| 1/1 [00:00<00:00, 390.82it/s]\n"
     ]
    },
    {
     "name": "stdout",
     "output_type": "stream",
     "text": [
      "Epoch 361/1000 - Train Loss: 0.0433 - Val Loss: 0.0837\n"
     ]
    },
    {
     "name": "stderr",
     "output_type": "stream",
     "text": [
      "Epoch 362/1000 - Training: 100%|██████████| 68/68 [00:00<00:00, 170.39it/s]\n",
      "Epoch 362/1000 - Validation: 100%|██████████| 1/1 [00:00<00:00, 272.36it/s]\n"
     ]
    },
    {
     "name": "stdout",
     "output_type": "stream",
     "text": [
      "Epoch 362/1000 - Train Loss: 0.0417 - Val Loss: 0.1025\n"
     ]
    },
    {
     "name": "stderr",
     "output_type": "stream",
     "text": [
      "Epoch 363/1000 - Training: 100%|██████████| 68/68 [00:00<00:00, 172.37it/s]\n",
      "Epoch 363/1000 - Validation: 100%|██████████| 1/1 [00:00<00:00, 316.58it/s]\n"
     ]
    },
    {
     "name": "stdout",
     "output_type": "stream",
     "text": [
      "Epoch 363/1000 - Train Loss: 0.0452 - Val Loss: 0.0988\n"
     ]
    },
    {
     "name": "stderr",
     "output_type": "stream",
     "text": [
      "Epoch 364/1000 - Training: 100%|██████████| 68/68 [00:00<00:00, 166.23it/s]\n",
      "Epoch 364/1000 - Validation: 100%|██████████| 1/1 [00:00<00:00, 339.56it/s]\n"
     ]
    },
    {
     "name": "stdout",
     "output_type": "stream",
     "text": [
      "Epoch 364/1000 - Train Loss: 0.0419 - Val Loss: 0.0842\n"
     ]
    },
    {
     "name": "stderr",
     "output_type": "stream",
     "text": [
      "Epoch 365/1000 - Training: 100%|██████████| 68/68 [00:00<00:00, 152.94it/s]\n",
      "Epoch 365/1000 - Validation: 100%|██████████| 1/1 [00:00<00:00, 258.73it/s]\n"
     ]
    },
    {
     "name": "stdout",
     "output_type": "stream",
     "text": [
      "Epoch 365/1000 - Train Loss: 0.0438 - Val Loss: 0.1044\n"
     ]
    },
    {
     "name": "stderr",
     "output_type": "stream",
     "text": [
      "Epoch 366/1000 - Training: 100%|██████████| 68/68 [00:00<00:00, 175.73it/s]\n",
      "Epoch 366/1000 - Validation: 100%|██████████| 1/1 [00:00<00:00, 320.59it/s]\n"
     ]
    },
    {
     "name": "stdout",
     "output_type": "stream",
     "text": [
      "Epoch 366/1000 - Train Loss: 0.0410 - Val Loss: 0.0861\n"
     ]
    },
    {
     "name": "stderr",
     "output_type": "stream",
     "text": [
      "Epoch 367/1000 - Training: 100%|██████████| 68/68 [00:00<00:00, 168.31it/s]\n",
      "Epoch 367/1000 - Validation: 100%|██████████| 1/1 [00:00<00:00, 356.93it/s]\n"
     ]
    },
    {
     "name": "stdout",
     "output_type": "stream",
     "text": [
      "Epoch 367/1000 - Train Loss: 0.0456 - Val Loss: 0.1249\n"
     ]
    },
    {
     "name": "stderr",
     "output_type": "stream",
     "text": [
      "Epoch 368/1000 - Training: 100%|██████████| 68/68 [00:00<00:00, 167.35it/s]\n",
      "Epoch 368/1000 - Validation: 100%|██████████| 1/1 [00:00<00:00, 283.59it/s]\n"
     ]
    },
    {
     "name": "stdout",
     "output_type": "stream",
     "text": [
      "Epoch 368/1000 - Train Loss: 0.0393 - Val Loss: 0.1071\n"
     ]
    },
    {
     "name": "stderr",
     "output_type": "stream",
     "text": [
      "Epoch 369/1000 - Training: 100%|██████████| 68/68 [00:00<00:00, 175.05it/s]\n",
      "Epoch 369/1000 - Validation: 100%|██████████| 1/1 [00:00<00:00, 277.13it/s]\n"
     ]
    },
    {
     "name": "stdout",
     "output_type": "stream",
     "text": [
      "Epoch 369/1000 - Train Loss: 0.0414 - Val Loss: 0.1269\n"
     ]
    },
    {
     "name": "stderr",
     "output_type": "stream",
     "text": [
      "Epoch 370/1000 - Training: 100%|██████████| 68/68 [00:00<00:00, 166.06it/s]\n",
      "Epoch 370/1000 - Validation: 100%|██████████| 1/1 [00:00<00:00, 331.88it/s]\n"
     ]
    },
    {
     "name": "stdout",
     "output_type": "stream",
     "text": [
      "Epoch 370/1000 - Train Loss: 0.0429 - Val Loss: 0.1158\n"
     ]
    },
    {
     "name": "stderr",
     "output_type": "stream",
     "text": [
      "Epoch 371/1000 - Training: 100%|██████████| 68/68 [00:00<00:00, 160.67it/s]\n",
      "Epoch 371/1000 - Validation: 100%|██████████| 1/1 [00:00<00:00, 450.23it/s]\n"
     ]
    },
    {
     "name": "stdout",
     "output_type": "stream",
     "text": [
      "Epoch 371/1000 - Train Loss: 0.0388 - Val Loss: 0.1190\n"
     ]
    },
    {
     "name": "stderr",
     "output_type": "stream",
     "text": [
      "Epoch 372/1000 - Training: 100%|██████████| 68/68 [00:00<00:00, 168.91it/s]\n",
      "Epoch 372/1000 - Validation: 100%|██████████| 1/1 [00:00<00:00, 305.53it/s]\n"
     ]
    },
    {
     "name": "stdout",
     "output_type": "stream",
     "text": [
      "Epoch 372/1000 - Train Loss: 0.0413 - Val Loss: 0.0948\n"
     ]
    },
    {
     "name": "stderr",
     "output_type": "stream",
     "text": [
      "Epoch 373/1000 - Training: 100%|██████████| 68/68 [00:00<00:00, 172.34it/s]\n",
      "Epoch 373/1000 - Validation: 100%|██████████| 1/1 [00:00<00:00, 287.73it/s]\n"
     ]
    },
    {
     "name": "stdout",
     "output_type": "stream",
     "text": [
      "Epoch 373/1000 - Train Loss: 0.0441 - Val Loss: 0.0969\n"
     ]
    },
    {
     "name": "stderr",
     "output_type": "stream",
     "text": [
      "Epoch 374/1000 - Training: 100%|██████████| 68/68 [00:00<00:00, 160.32it/s]\n",
      "Epoch 374/1000 - Validation: 100%|██████████| 1/1 [00:00<00:00, 390.97it/s]\n"
     ]
    },
    {
     "name": "stdout",
     "output_type": "stream",
     "text": [
      "Epoch 374/1000 - Train Loss: 0.0414 - Val Loss: 0.1295\n"
     ]
    },
    {
     "name": "stderr",
     "output_type": "stream",
     "text": [
      "Epoch 375/1000 - Training: 100%|██████████| 68/68 [00:00<00:00, 165.30it/s]\n",
      "Epoch 375/1000 - Validation: 100%|██████████| 1/1 [00:00<00:00, 272.76it/s]\n"
     ]
    },
    {
     "name": "stdout",
     "output_type": "stream",
     "text": [
      "Epoch 375/1000 - Train Loss: 0.0406 - Val Loss: 0.1022\n"
     ]
    },
    {
     "name": "stderr",
     "output_type": "stream",
     "text": [
      "Epoch 376/1000 - Training: 100%|██████████| 68/68 [00:00<00:00, 175.36it/s]\n",
      "Epoch 376/1000 - Validation: 100%|██████████| 1/1 [00:00<00:00, 347.70it/s]\n"
     ]
    },
    {
     "name": "stdout",
     "output_type": "stream",
     "text": [
      "Epoch 376/1000 - Train Loss: 0.0417 - Val Loss: 0.1108\n"
     ]
    },
    {
     "name": "stderr",
     "output_type": "stream",
     "text": [
      "Epoch 377/1000 - Training: 100%|██████████| 68/68 [00:00<00:00, 165.12it/s]\n",
      "Epoch 377/1000 - Validation: 100%|██████████| 1/1 [00:00<00:00, 460.86it/s]\n"
     ]
    },
    {
     "name": "stdout",
     "output_type": "stream",
     "text": [
      "Epoch 377/1000 - Train Loss: 0.0419 - Val Loss: 0.0971\n"
     ]
    },
    {
     "name": "stderr",
     "output_type": "stream",
     "text": [
      "Epoch 378/1000 - Training: 100%|██████████| 68/68 [00:00<00:00, 159.52it/s]\n",
      "Epoch 378/1000 - Validation: 100%|██████████| 1/1 [00:00<00:00, 296.44it/s]\n"
     ]
    },
    {
     "name": "stdout",
     "output_type": "stream",
     "text": [
      "Epoch 378/1000 - Train Loss: 0.0424 - Val Loss: 0.1164\n"
     ]
    },
    {
     "name": "stderr",
     "output_type": "stream",
     "text": [
      "Epoch 379/1000 - Training: 100%|██████████| 68/68 [00:00<00:00, 180.91it/s]\n",
      "Epoch 379/1000 - Validation: 100%|██████████| 1/1 [00:00<00:00, 320.57it/s]\n"
     ]
    },
    {
     "name": "stdout",
     "output_type": "stream",
     "text": [
      "Epoch 379/1000 - Train Loss: 0.0438 - Val Loss: 0.1231\n"
     ]
    },
    {
     "name": "stderr",
     "output_type": "stream",
     "text": [
      "Epoch 380/1000 - Training: 100%|██████████| 68/68 [00:00<00:00, 171.55it/s]\n",
      "Epoch 380/1000 - Validation: 100%|██████████| 1/1 [00:00<00:00, 411.73it/s]\n"
     ]
    },
    {
     "name": "stdout",
     "output_type": "stream",
     "text": [
      "Epoch 380/1000 - Train Loss: 0.0407 - Val Loss: 0.1194\n"
     ]
    },
    {
     "name": "stderr",
     "output_type": "stream",
     "text": [
      "Epoch 381/1000 - Training: 100%|██████████| 68/68 [00:00<00:00, 153.29it/s]\n",
      "Epoch 381/1000 - Validation: 100%|██████████| 1/1 [00:00<00:00, 347.44it/s]\n"
     ]
    },
    {
     "name": "stdout",
     "output_type": "stream",
     "text": [
      "Epoch 381/1000 - Train Loss: 0.0422 - Val Loss: 0.1048\n"
     ]
    },
    {
     "name": "stderr",
     "output_type": "stream",
     "text": [
      "Epoch 382/1000 - Training: 100%|██████████| 68/68 [00:00<00:00, 167.29it/s]\n",
      "Epoch 382/1000 - Validation: 100%|██████████| 1/1 [00:00<00:00, 269.21it/s]\n"
     ]
    },
    {
     "name": "stdout",
     "output_type": "stream",
     "text": [
      "Epoch 382/1000 - Train Loss: 0.0415 - Val Loss: 0.1078\n"
     ]
    },
    {
     "name": "stderr",
     "output_type": "stream",
     "text": [
      "Epoch 383/1000 - Training: 100%|██████████| 68/68 [00:00<00:00, 174.13it/s]\n",
      "Epoch 383/1000 - Validation: 100%|██████████| 1/1 [00:00<00:00, 326.53it/s]\n"
     ]
    },
    {
     "name": "stdout",
     "output_type": "stream",
     "text": [
      "Epoch 383/1000 - Train Loss: 0.0405 - Val Loss: 0.1105\n"
     ]
    },
    {
     "name": "stderr",
     "output_type": "stream",
     "text": [
      "Epoch 384/1000 - Training: 100%|██████████| 68/68 [00:00<00:00, 156.63it/s]\n",
      "Epoch 384/1000 - Validation: 100%|██████████| 1/1 [00:00<00:00, 407.89it/s]\n"
     ]
    },
    {
     "name": "stdout",
     "output_type": "stream",
     "text": [
      "Epoch 384/1000 - Train Loss: 0.0400 - Val Loss: 0.1034\n"
     ]
    },
    {
     "name": "stderr",
     "output_type": "stream",
     "text": [
      "Epoch 385/1000 - Training: 100%|██████████| 68/68 [00:00<00:00, 155.64it/s]\n",
      "Epoch 385/1000 - Validation: 100%|██████████| 1/1 [00:00<00:00, 281.12it/s]\n"
     ]
    },
    {
     "name": "stdout",
     "output_type": "stream",
     "text": [
      "Epoch 385/1000 - Train Loss: 0.0392 - Val Loss: 0.0997\n"
     ]
    },
    {
     "name": "stderr",
     "output_type": "stream",
     "text": [
      "Epoch 386/1000 - Training: 100%|██████████| 68/68 [00:00<00:00, 177.45it/s]\n",
      "Epoch 386/1000 - Validation: 100%|██████████| 1/1 [00:00<00:00, 293.27it/s]\n"
     ]
    },
    {
     "name": "stdout",
     "output_type": "stream",
     "text": [
      "Epoch 386/1000 - Train Loss: 0.0406 - Val Loss: 0.0994\n"
     ]
    },
    {
     "name": "stderr",
     "output_type": "stream",
     "text": [
      "Epoch 387/1000 - Training: 100%|██████████| 68/68 [00:00<00:00, 165.41it/s]\n",
      "Epoch 387/1000 - Validation: 100%|██████████| 1/1 [00:00<00:00, 384.94it/s]\n"
     ]
    },
    {
     "name": "stdout",
     "output_type": "stream",
     "text": [
      "Epoch 387/1000 - Train Loss: 0.0398 - Val Loss: 0.0886\n"
     ]
    },
    {
     "name": "stderr",
     "output_type": "stream",
     "text": [
      "Epoch 388/1000 - Training: 100%|██████████| 68/68 [00:00<00:00, 156.33it/s]\n",
      "Epoch 388/1000 - Validation: 100%|██████████| 1/1 [00:00<00:00, 337.33it/s]\n"
     ]
    },
    {
     "name": "stdout",
     "output_type": "stream",
     "text": [
      "Epoch 388/1000 - Train Loss: 0.0386 - Val Loss: 0.1006\n"
     ]
    },
    {
     "name": "stderr",
     "output_type": "stream",
     "text": [
      "Epoch 389/1000 - Training: 100%|██████████| 68/68 [00:00<00:00, 164.99it/s]\n",
      "Epoch 389/1000 - Validation: 100%|██████████| 1/1 [00:00<00:00, 272.25it/s]\n"
     ]
    },
    {
     "name": "stdout",
     "output_type": "stream",
     "text": [
      "Epoch 389/1000 - Train Loss: 0.0373 - Val Loss: 0.0950\n"
     ]
    },
    {
     "name": "stderr",
     "output_type": "stream",
     "text": [
      "Epoch 390/1000 - Training: 100%|██████████| 68/68 [00:00<00:00, 173.28it/s]\n",
      "Epoch 390/1000 - Validation: 100%|██████████| 1/1 [00:00<00:00, 348.77it/s]\n"
     ]
    },
    {
     "name": "stdout",
     "output_type": "stream",
     "text": [
      "Epoch 390/1000 - Train Loss: 0.0397 - Val Loss: 0.1293\n"
     ]
    },
    {
     "name": "stderr",
     "output_type": "stream",
     "text": [
      "Epoch 391/1000 - Training: 100%|██████████| 68/68 [00:00<00:00, 145.83it/s]\n",
      "Epoch 391/1000 - Validation: 100%|██████████| 1/1 [00:00<00:00, 408.92it/s]\n"
     ]
    },
    {
     "name": "stdout",
     "output_type": "stream",
     "text": [
      "Epoch 391/1000 - Train Loss: 0.0392 - Val Loss: 0.1087\n"
     ]
    },
    {
     "name": "stderr",
     "output_type": "stream",
     "text": [
      "Epoch 392/1000 - Training: 100%|██████████| 68/68 [00:00<00:00, 165.12it/s]\n",
      "Epoch 392/1000 - Validation: 100%|██████████| 1/1 [00:00<00:00, 276.54it/s]\n"
     ]
    },
    {
     "name": "stdout",
     "output_type": "stream",
     "text": [
      "Epoch 392/1000 - Train Loss: 0.0394 - Val Loss: 0.1203\n"
     ]
    },
    {
     "name": "stderr",
     "output_type": "stream",
     "text": [
      "Epoch 393/1000 - Training: 100%|██████████| 68/68 [00:00<00:00, 173.23it/s]\n",
      "Epoch 393/1000 - Validation: 100%|██████████| 1/1 [00:00<00:00, 320.15it/s]\n"
     ]
    },
    {
     "name": "stdout",
     "output_type": "stream",
     "text": [
      "Epoch 393/1000 - Train Loss: 0.0389 - Val Loss: 0.0969\n"
     ]
    },
    {
     "name": "stderr",
     "output_type": "stream",
     "text": [
      "Epoch 394/1000 - Training: 100%|██████████| 68/68 [00:00<00:00, 153.82it/s]\n",
      "Epoch 394/1000 - Validation: 100%|██████████| 1/1 [00:00<00:00, 385.54it/s]\n"
     ]
    },
    {
     "name": "stdout",
     "output_type": "stream",
     "text": [
      "Epoch 394/1000 - Train Loss: 0.0375 - Val Loss: 0.1071\n"
     ]
    },
    {
     "name": "stderr",
     "output_type": "stream",
     "text": [
      "Epoch 395/1000 - Training: 100%|██████████| 68/68 [00:00<00:00, 160.02it/s]\n",
      "Epoch 395/1000 - Validation: 100%|██████████| 1/1 [00:00<00:00, 276.16it/s]\n"
     ]
    },
    {
     "name": "stdout",
     "output_type": "stream",
     "text": [
      "Epoch 395/1000 - Train Loss: 0.0394 - Val Loss: 0.1412\n"
     ]
    },
    {
     "name": "stderr",
     "output_type": "stream",
     "text": [
      "Epoch 396/1000 - Training: 100%|██████████| 68/68 [00:00<00:00, 176.94it/s]\n",
      "Epoch 396/1000 - Validation: 100%|██████████| 1/1 [00:00<00:00, 284.67it/s]\n"
     ]
    },
    {
     "name": "stdout",
     "output_type": "stream",
     "text": [
      "Epoch 396/1000 - Train Loss: 0.0405 - Val Loss: 0.1047\n"
     ]
    },
    {
     "name": "stderr",
     "output_type": "stream",
     "text": [
      "Epoch 397/1000 - Training: 100%|██████████| 68/68 [00:00<00:00, 160.73it/s]\n",
      "Epoch 397/1000 - Validation: 100%|██████████| 1/1 [00:00<00:00, 334.15it/s]\n"
     ]
    },
    {
     "name": "stdout",
     "output_type": "stream",
     "text": [
      "Epoch 397/1000 - Train Loss: 0.0405 - Val Loss: 0.0890\n"
     ]
    },
    {
     "name": "stderr",
     "output_type": "stream",
     "text": [
      "Epoch 398/1000 - Training: 100%|██████████| 68/68 [00:00<00:00, 150.92it/s]\n",
      "Epoch 398/1000 - Validation: 100%|██████████| 1/1 [00:00<00:00, 334.82it/s]\n"
     ]
    },
    {
     "name": "stdout",
     "output_type": "stream",
     "text": [
      "Epoch 398/1000 - Train Loss: 0.0422 - Val Loss: 0.1098\n"
     ]
    },
    {
     "name": "stderr",
     "output_type": "stream",
     "text": [
      "Epoch 399/1000 - Training: 100%|██████████| 68/68 [00:00<00:00, 159.49it/s]\n",
      "Epoch 399/1000 - Validation: 100%|██████████| 1/1 [00:00<00:00, 253.48it/s]\n"
     ]
    },
    {
     "name": "stdout",
     "output_type": "stream",
     "text": [
      "Epoch 399/1000 - Train Loss: 0.0406 - Val Loss: 0.1175\n"
     ]
    },
    {
     "name": "stderr",
     "output_type": "stream",
     "text": [
      "Epoch 400/1000 - Training: 100%|██████████| 68/68 [00:00<00:00, 165.39it/s]\n",
      "Epoch 400/1000 - Validation: 100%|██████████| 1/1 [00:00<00:00, 279.55it/s]\n"
     ]
    },
    {
     "name": "stdout",
     "output_type": "stream",
     "text": [
      "Epoch 400/1000 - Train Loss: 0.0387 - Val Loss: 0.1113\n"
     ]
    },
    {
     "name": "stderr",
     "output_type": "stream",
     "text": [
      "Epoch 401/1000 - Training: 100%|██████████| 68/68 [00:00<00:00, 156.23it/s]\n",
      "Epoch 401/1000 - Validation: 100%|██████████| 1/1 [00:00<00:00, 353.83it/s]\n"
     ]
    },
    {
     "name": "stdout",
     "output_type": "stream",
     "text": [
      "Epoch 401/1000 - Train Loss: 0.0397 - Val Loss: 0.1241\n"
     ]
    },
    {
     "name": "stderr",
     "output_type": "stream",
     "text": [
      "Epoch 402/1000 - Training: 100%|██████████| 68/68 [00:00<00:00, 161.56it/s]\n",
      "Epoch 402/1000 - Validation: 100%|██████████| 1/1 [00:00<00:00, 310.14it/s]\n"
     ]
    },
    {
     "name": "stdout",
     "output_type": "stream",
     "text": [
      "Epoch 402/1000 - Train Loss: 0.0447 - Val Loss: 0.0950\n"
     ]
    },
    {
     "name": "stderr",
     "output_type": "stream",
     "text": [
      "Epoch 403/1000 - Training: 100%|██████████| 68/68 [00:00<00:00, 175.21it/s]\n",
      "Epoch 403/1000 - Validation: 100%|██████████| 1/1 [00:00<00:00, 294.71it/s]\n"
     ]
    },
    {
     "name": "stdout",
     "output_type": "stream",
     "text": [
      "Epoch 403/1000 - Train Loss: 0.0387 - Val Loss: 0.0844\n"
     ]
    },
    {
     "name": "stderr",
     "output_type": "stream",
     "text": [
      "Epoch 404/1000 - Training: 100%|██████████| 68/68 [00:00<00:00, 172.63it/s]\n",
      "Epoch 404/1000 - Validation: 100%|██████████| 1/1 [00:00<00:00, 182.92it/s]\n"
     ]
    },
    {
     "name": "stdout",
     "output_type": "stream",
     "text": [
      "Epoch 404/1000 - Train Loss: 0.0370 - Val Loss: 0.1087\n"
     ]
    },
    {
     "name": "stderr",
     "output_type": "stream",
     "text": [
      "Epoch 405/1000 - Training: 100%|██████████| 68/68 [00:00<00:00, 160.21it/s]\n",
      "Epoch 405/1000 - Validation: 100%|██████████| 1/1 [00:00<00:00, 397.41it/s]\n"
     ]
    },
    {
     "name": "stdout",
     "output_type": "stream",
     "text": [
      "Epoch 405/1000 - Train Loss: 0.0380 - Val Loss: 0.1225\n"
     ]
    },
    {
     "name": "stderr",
     "output_type": "stream",
     "text": [
      "Epoch 406/1000 - Training: 100%|██████████| 68/68 [00:00<00:00, 170.48it/s]\n",
      "Epoch 406/1000 - Validation: 100%|██████████| 1/1 [00:00<00:00, 292.18it/s]\n"
     ]
    },
    {
     "name": "stdout",
     "output_type": "stream",
     "text": [
      "Epoch 406/1000 - Train Loss: 0.0361 - Val Loss: 0.1157\n"
     ]
    },
    {
     "name": "stderr",
     "output_type": "stream",
     "text": [
      "Epoch 407/1000 - Training: 100%|██████████| 68/68 [00:00<00:00, 176.00it/s]\n",
      "Epoch 407/1000 - Validation: 100%|██████████| 1/1 [00:00<00:00, 344.22it/s]\n"
     ]
    },
    {
     "name": "stdout",
     "output_type": "stream",
     "text": [
      "Epoch 407/1000 - Train Loss: 0.0382 - Val Loss: 0.0918\n"
     ]
    },
    {
     "name": "stderr",
     "output_type": "stream",
     "text": [
      "Epoch 408/1000 - Training: 100%|██████████| 68/68 [00:00<00:00, 156.65it/s]\n",
      "Epoch 408/1000 - Validation: 100%|██████████| 1/1 [00:00<00:00, 343.99it/s]\n"
     ]
    },
    {
     "name": "stdout",
     "output_type": "stream",
     "text": [
      "Epoch 408/1000 - Train Loss: 0.0418 - Val Loss: 0.1261\n"
     ]
    },
    {
     "name": "stderr",
     "output_type": "stream",
     "text": [
      "Epoch 409/1000 - Training: 100%|██████████| 68/68 [00:00<00:00, 168.49it/s]\n",
      "Epoch 409/1000 - Validation: 100%|██████████| 1/1 [00:00<00:00, 290.79it/s]\n"
     ]
    },
    {
     "name": "stdout",
     "output_type": "stream",
     "text": [
      "Epoch 409/1000 - Train Loss: 0.0419 - Val Loss: 0.1028\n"
     ]
    },
    {
     "name": "stderr",
     "output_type": "stream",
     "text": [
      "Epoch 410/1000 - Training: 100%|██████████| 68/68 [00:00<00:00, 181.78it/s]\n",
      "Epoch 410/1000 - Validation: 100%|██████████| 1/1 [00:00<00:00, 320.69it/s]\n"
     ]
    },
    {
     "name": "stdout",
     "output_type": "stream",
     "text": [
      "Epoch 410/1000 - Train Loss: 0.0407 - Val Loss: 0.1147\n"
     ]
    },
    {
     "name": "stderr",
     "output_type": "stream",
     "text": [
      "Epoch 411/1000 - Training: 100%|██████████| 68/68 [00:00<00:00, 162.32it/s]\n",
      "Epoch 411/1000 - Validation: 100%|██████████| 1/1 [00:00<00:00, 371.87it/s]\n"
     ]
    },
    {
     "name": "stdout",
     "output_type": "stream",
     "text": [
      "Epoch 411/1000 - Train Loss: 0.0447 - Val Loss: 0.0840\n"
     ]
    },
    {
     "name": "stderr",
     "output_type": "stream",
     "text": [
      "Epoch 412/1000 - Training: 100%|██████████| 68/68 [00:00<00:00, 164.59it/s]\n",
      "Epoch 412/1000 - Validation: 100%|██████████| 1/1 [00:00<00:00, 270.72it/s]\n"
     ]
    },
    {
     "name": "stdout",
     "output_type": "stream",
     "text": [
      "Epoch 412/1000 - Train Loss: 0.0422 - Val Loss: 0.0937\n"
     ]
    },
    {
     "name": "stderr",
     "output_type": "stream",
     "text": [
      "Epoch 413/1000 - Training: 100%|██████████| 68/68 [00:00<00:00, 175.44it/s]\n",
      "Epoch 413/1000 - Validation: 100%|██████████| 1/1 [00:00<00:00, 321.30it/s]\n"
     ]
    },
    {
     "name": "stdout",
     "output_type": "stream",
     "text": [
      "Epoch 413/1000 - Train Loss: 0.0402 - Val Loss: 0.1317\n"
     ]
    },
    {
     "name": "stderr",
     "output_type": "stream",
     "text": [
      "Epoch 414/1000 - Training: 100%|██████████| 68/68 [00:00<00:00, 166.45it/s]\n",
      "Epoch 414/1000 - Validation: 100%|██████████| 1/1 [00:00<00:00, 348.60it/s]\n"
     ]
    },
    {
     "name": "stdout",
     "output_type": "stream",
     "text": [
      "Epoch 414/1000 - Train Loss: 0.0457 - Val Loss: 0.1016\n"
     ]
    },
    {
     "name": "stderr",
     "output_type": "stream",
     "text": [
      "Epoch 415/1000 - Training: 100%|██████████| 68/68 [00:00<00:00, 157.00it/s]\n",
      "Epoch 415/1000 - Validation: 100%|██████████| 1/1 [00:00<00:00, 358.55it/s]\n"
     ]
    },
    {
     "name": "stdout",
     "output_type": "stream",
     "text": [
      "Epoch 415/1000 - Train Loss: 0.0398 - Val Loss: 0.1085\n"
     ]
    },
    {
     "name": "stderr",
     "output_type": "stream",
     "text": [
      "Epoch 416/1000 - Training: 100%|██████████| 68/68 [00:00<00:00, 170.23it/s]\n",
      "Epoch 416/1000 - Validation: 100%|██████████| 1/1 [00:00<00:00, 283.78it/s]\n"
     ]
    },
    {
     "name": "stdout",
     "output_type": "stream",
     "text": [
      "Epoch 416/1000 - Train Loss: 0.0396 - Val Loss: 0.1044\n"
     ]
    },
    {
     "name": "stderr",
     "output_type": "stream",
     "text": [
      "Epoch 417/1000 - Training: 100%|██████████| 68/68 [00:00<00:00, 174.01it/s]\n",
      "Epoch 417/1000 - Validation: 100%|██████████| 1/1 [00:00<00:00, 346.26it/s]\n"
     ]
    },
    {
     "name": "stdout",
     "output_type": "stream",
     "text": [
      "Epoch 417/1000 - Train Loss: 0.0376 - Val Loss: 0.1077\n"
     ]
    },
    {
     "name": "stderr",
     "output_type": "stream",
     "text": [
      "Epoch 418/1000 - Training: 100%|██████████| 68/68 [00:00<00:00, 163.63it/s]\n",
      "Epoch 418/1000 - Validation: 100%|██████████| 1/1 [00:00<00:00, 408.09it/s]\n"
     ]
    },
    {
     "name": "stdout",
     "output_type": "stream",
     "text": [
      "Epoch 418/1000 - Train Loss: 0.0377 - Val Loss: 0.1035\n"
     ]
    },
    {
     "name": "stderr",
     "output_type": "stream",
     "text": [
      "Epoch 419/1000 - Training: 100%|██████████| 68/68 [00:00<00:00, 170.04it/s]\n",
      "Epoch 419/1000 - Validation: 100%|██████████| 1/1 [00:00<00:00, 273.82it/s]\n"
     ]
    },
    {
     "name": "stdout",
     "output_type": "stream",
     "text": [
      "Epoch 419/1000 - Train Loss: 0.0413 - Val Loss: 0.1110\n"
     ]
    },
    {
     "name": "stderr",
     "output_type": "stream",
     "text": [
      "Epoch 420/1000 - Training: 100%|██████████| 68/68 [00:00<00:00, 168.99it/s]\n",
      "Epoch 420/1000 - Validation: 100%|██████████| 1/1 [00:00<00:00, 281.93it/s]\n"
     ]
    },
    {
     "name": "stdout",
     "output_type": "stream",
     "text": [
      "Epoch 420/1000 - Train Loss: 0.0384 - Val Loss: 0.1046\n"
     ]
    },
    {
     "name": "stderr",
     "output_type": "stream",
     "text": [
      "Epoch 421/1000 - Training: 100%|██████████| 68/68 [00:00<00:00, 160.32it/s]\n",
      "Epoch 421/1000 - Validation: 100%|██████████| 1/1 [00:00<00:00, 349.03it/s]\n"
     ]
    },
    {
     "name": "stdout",
     "output_type": "stream",
     "text": [
      "Epoch 421/1000 - Train Loss: 0.0413 - Val Loss: 0.1275\n"
     ]
    },
    {
     "name": "stderr",
     "output_type": "stream",
     "text": [
      "Epoch 422/1000 - Training: 100%|██████████| 68/68 [00:00<00:00, 155.08it/s]\n",
      "Epoch 422/1000 - Validation: 100%|██████████| 1/1 [00:00<00:00, 392.54it/s]\n"
     ]
    },
    {
     "name": "stdout",
     "output_type": "stream",
     "text": [
      "Epoch 422/1000 - Train Loss: 0.0429 - Val Loss: 0.0989\n"
     ]
    },
    {
     "name": "stderr",
     "output_type": "stream",
     "text": [
      "Epoch 423/1000 - Training: 100%|██████████| 68/68 [00:00<00:00, 171.84it/s]\n",
      "Epoch 423/1000 - Validation: 100%|██████████| 1/1 [00:00<00:00, 263.99it/s]\n"
     ]
    },
    {
     "name": "stdout",
     "output_type": "stream",
     "text": [
      "Epoch 423/1000 - Train Loss: 0.0429 - Val Loss: 0.1252\n"
     ]
    },
    {
     "name": "stderr",
     "output_type": "stream",
     "text": [
      "Epoch 424/1000 - Training: 100%|██████████| 68/68 [00:00<00:00, 170.70it/s]\n",
      "Epoch 424/1000 - Validation: 100%|██████████| 1/1 [00:00<00:00, 325.92it/s]\n"
     ]
    },
    {
     "name": "stdout",
     "output_type": "stream",
     "text": [
      "Epoch 424/1000 - Train Loss: 0.0409 - Val Loss: 0.0963\n"
     ]
    },
    {
     "name": "stderr",
     "output_type": "stream",
     "text": [
      "Epoch 425/1000 - Training: 100%|██████████| 68/68 [00:00<00:00, 169.14it/s]\n",
      "Epoch 425/1000 - Validation: 100%|██████████| 1/1 [00:00<00:00, 382.90it/s]\n"
     ]
    },
    {
     "name": "stdout",
     "output_type": "stream",
     "text": [
      "Epoch 425/1000 - Train Loss: 0.0400 - Val Loss: 0.0977\n"
     ]
    },
    {
     "name": "stderr",
     "output_type": "stream",
     "text": [
      "Epoch 426/1000 - Training: 100%|██████████| 68/68 [00:00<00:00, 154.78it/s]\n",
      "Epoch 426/1000 - Validation: 100%|██████████| 1/1 [00:00<00:00, 262.03it/s]\n"
     ]
    },
    {
     "name": "stdout",
     "output_type": "stream",
     "text": [
      "Epoch 426/1000 - Train Loss: 0.0428 - Val Loss: 0.0821\n"
     ]
    },
    {
     "name": "stderr",
     "output_type": "stream",
     "text": [
      "Epoch 427/1000 - Training: 100%|██████████| 68/68 [00:00<00:00, 161.90it/s]\n",
      "Epoch 427/1000 - Validation: 100%|██████████| 1/1 [00:00<00:00, 339.89it/s]\n"
     ]
    },
    {
     "name": "stdout",
     "output_type": "stream",
     "text": [
      "Epoch 427/1000 - Train Loss: 0.0379 - Val Loss: 0.0840\n"
     ]
    },
    {
     "name": "stderr",
     "output_type": "stream",
     "text": [
      "Epoch 428/1000 - Training: 100%|██████████| 68/68 [00:00<00:00, 155.97it/s]\n",
      "Epoch 428/1000 - Validation: 100%|██████████| 1/1 [00:00<00:00, 331.25it/s]\n"
     ]
    },
    {
     "name": "stdout",
     "output_type": "stream",
     "text": [
      "Epoch 428/1000 - Train Loss: 0.0417 - Val Loss: 0.0952\n"
     ]
    },
    {
     "name": "stderr",
     "output_type": "stream",
     "text": [
      "Epoch 429/1000 - Training: 100%|██████████| 68/68 [00:00<00:00, 166.39it/s]\n",
      "Epoch 429/1000 - Validation: 100%|██████████| 1/1 [00:00<00:00, 304.73it/s]\n"
     ]
    },
    {
     "name": "stdout",
     "output_type": "stream",
     "text": [
      "Epoch 429/1000 - Train Loss: 0.0371 - Val Loss: 0.0945\n"
     ]
    },
    {
     "name": "stderr",
     "output_type": "stream",
     "text": [
      "Epoch 430/1000 - Training: 100%|██████████| 68/68 [00:00<00:00, 179.14it/s]\n",
      "Epoch 430/1000 - Validation: 100%|██████████| 1/1 [00:00<00:00, 347.41it/s]\n"
     ]
    },
    {
     "name": "stdout",
     "output_type": "stream",
     "text": [
      "Epoch 430/1000 - Train Loss: 0.0377 - Val Loss: 0.1016\n"
     ]
    },
    {
     "name": "stderr",
     "output_type": "stream",
     "text": [
      "Epoch 431/1000 - Training: 100%|██████████| 68/68 [00:00<00:00, 166.20it/s]\n",
      "Epoch 431/1000 - Validation: 100%|██████████| 1/1 [00:00<00:00, 369.41it/s]\n"
     ]
    },
    {
     "name": "stdout",
     "output_type": "stream",
     "text": [
      "Epoch 431/1000 - Train Loss: 0.0382 - Val Loss: 0.0942\n"
     ]
    },
    {
     "name": "stderr",
     "output_type": "stream",
     "text": [
      "Epoch 432/1000 - Training: 100%|██████████| 68/68 [00:00<00:00, 176.29it/s]\n",
      "Epoch 432/1000 - Validation: 100%|██████████| 1/1 [00:00<00:00, 297.32it/s]\n"
     ]
    },
    {
     "name": "stdout",
     "output_type": "stream",
     "text": [
      "Epoch 432/1000 - Train Loss: 0.0382 - Val Loss: 0.1086\n"
     ]
    },
    {
     "name": "stderr",
     "output_type": "stream",
     "text": [
      "Epoch 433/1000 - Training: 100%|██████████| 68/68 [00:00<00:00, 184.66it/s]\n",
      "Epoch 433/1000 - Validation: 100%|██████████| 1/1 [00:00<00:00, 408.72it/s]\n"
     ]
    },
    {
     "name": "stdout",
     "output_type": "stream",
     "text": [
      "Epoch 433/1000 - Train Loss: 0.0415 - Val Loss: 0.1339\n"
     ]
    },
    {
     "name": "stderr",
     "output_type": "stream",
     "text": [
      "Epoch 434/1000 - Training: 100%|██████████| 68/68 [00:00<00:00, 170.01it/s]\n",
      "Epoch 434/1000 - Validation: 100%|██████████| 1/1 [00:00<00:00, 375.93it/s]\n"
     ]
    },
    {
     "name": "stdout",
     "output_type": "stream",
     "text": [
      "Epoch 434/1000 - Train Loss: 0.0381 - Val Loss: 0.1157\n"
     ]
    },
    {
     "name": "stderr",
     "output_type": "stream",
     "text": [
      "Epoch 435/1000 - Training: 100%|██████████| 68/68 [00:00<00:00, 169.33it/s]\n",
      "Epoch 435/1000 - Validation: 100%|██████████| 1/1 [00:00<00:00, 295.50it/s]\n"
     ]
    },
    {
     "name": "stdout",
     "output_type": "stream",
     "text": [
      "Epoch 435/1000 - Train Loss: 0.0376 - Val Loss: 0.0848\n"
     ]
    },
    {
     "name": "stderr",
     "output_type": "stream",
     "text": [
      "Epoch 436/1000 - Training: 100%|██████████| 68/68 [00:00<00:00, 179.77it/s]\n",
      "Epoch 436/1000 - Validation: 100%|██████████| 1/1 [00:00<00:00, 319.49it/s]\n"
     ]
    },
    {
     "name": "stdout",
     "output_type": "stream",
     "text": [
      "Epoch 436/1000 - Train Loss: 0.0396 - Val Loss: 0.0853\n"
     ]
    },
    {
     "name": "stderr",
     "output_type": "stream",
     "text": [
      "Epoch 437/1000 - Training: 100%|██████████| 68/68 [00:00<00:00, 170.79it/s]\n",
      "Epoch 437/1000 - Validation: 100%|██████████| 1/1 [00:00<00:00, 377.63it/s]\n"
     ]
    },
    {
     "name": "stdout",
     "output_type": "stream",
     "text": [
      "Epoch 437/1000 - Train Loss: 0.0413 - Val Loss: 0.0977\n"
     ]
    },
    {
     "name": "stderr",
     "output_type": "stream",
     "text": [
      "Epoch 438/1000 - Training: 100%|██████████| 68/68 [00:00<00:00, 165.04it/s]\n",
      "Epoch 438/1000 - Validation: 100%|██████████| 1/1 [00:00<00:00, 386.04it/s]\n"
     ]
    },
    {
     "name": "stdout",
     "output_type": "stream",
     "text": [
      "Epoch 438/1000 - Train Loss: 0.0382 - Val Loss: 0.1084\n"
     ]
    },
    {
     "name": "stderr",
     "output_type": "stream",
     "text": [
      "Epoch 439/1000 - Training: 100%|██████████| 68/68 [00:00<00:00, 182.91it/s]\n",
      "Epoch 439/1000 - Validation: 100%|██████████| 1/1 [00:00<00:00, 296.15it/s]\n"
     ]
    },
    {
     "name": "stdout",
     "output_type": "stream",
     "text": [
      "Epoch 439/1000 - Train Loss: 0.0377 - Val Loss: 0.0980\n"
     ]
    },
    {
     "name": "stderr",
     "output_type": "stream",
     "text": [
      "Epoch 440/1000 - Training: 100%|██████████| 68/68 [00:00<00:00, 171.04it/s]\n",
      "Epoch 440/1000 - Validation: 100%|██████████| 1/1 [00:00<00:00, 355.33it/s]\n"
     ]
    },
    {
     "name": "stdout",
     "output_type": "stream",
     "text": [
      "Epoch 440/1000 - Train Loss: 0.0384 - Val Loss: 0.0998\n"
     ]
    },
    {
     "name": "stderr",
     "output_type": "stream",
     "text": [
      "Epoch 441/1000 - Training: 100%|██████████| 68/68 [00:00<00:00, 170.21it/s]\n",
      "Epoch 441/1000 - Validation: 100%|██████████| 1/1 [00:00<00:00, 384.06it/s]\n"
     ]
    },
    {
     "name": "stdout",
     "output_type": "stream",
     "text": [
      "Epoch 441/1000 - Train Loss: 0.0342 - Val Loss: 0.1040\n"
     ]
    },
    {
     "name": "stderr",
     "output_type": "stream",
     "text": [
      "Epoch 442/1000 - Training: 100%|██████████| 68/68 [00:00<00:00, 169.12it/s]\n",
      "Epoch 442/1000 - Validation: 100%|██████████| 1/1 [00:00<00:00, 287.62it/s]\n"
     ]
    },
    {
     "name": "stdout",
     "output_type": "stream",
     "text": [
      "Epoch 442/1000 - Train Loss: 0.0413 - Val Loss: 0.0973\n"
     ]
    },
    {
     "name": "stderr",
     "output_type": "stream",
     "text": [
      "Epoch 443/1000 - Training: 100%|██████████| 68/68 [00:00<00:00, 183.36it/s]\n",
      "Epoch 443/1000 - Validation: 100%|██████████| 1/1 [00:00<00:00, 371.18it/s]\n"
     ]
    },
    {
     "name": "stdout",
     "output_type": "stream",
     "text": [
      "Epoch 443/1000 - Train Loss: 0.0410 - Val Loss: 0.1032\n"
     ]
    },
    {
     "name": "stderr",
     "output_type": "stream",
     "text": [
      "Epoch 444/1000 - Training: 100%|██████████| 68/68 [00:00<00:00, 156.35it/s]\n",
      "Epoch 444/1000 - Validation: 100%|██████████| 1/1 [00:00<00:00, 358.21it/s]\n"
     ]
    },
    {
     "name": "stdout",
     "output_type": "stream",
     "text": [
      "Epoch 444/1000 - Train Loss: 0.0377 - Val Loss: 0.0975\n"
     ]
    },
    {
     "name": "stderr",
     "output_type": "stream",
     "text": [
      "Epoch 445/1000 - Training: 100%|██████████| 68/68 [00:00<00:00, 165.66it/s]\n",
      "Epoch 445/1000 - Validation: 100%|██████████| 1/1 [00:00<00:00, 324.06it/s]\n"
     ]
    },
    {
     "name": "stdout",
     "output_type": "stream",
     "text": [
      "Epoch 445/1000 - Train Loss: 0.0341 - Val Loss: 0.0913\n"
     ]
    },
    {
     "name": "stderr",
     "output_type": "stream",
     "text": [
      "Epoch 446/1000 - Training: 100%|██████████| 68/68 [00:00<00:00, 139.98it/s]\n",
      "Epoch 446/1000 - Validation: 100%|██████████| 1/1 [00:00<00:00, 275.60it/s]\n"
     ]
    },
    {
     "name": "stdout",
     "output_type": "stream",
     "text": [
      "Epoch 446/1000 - Train Loss: 0.0383 - Val Loss: 0.0807\n"
     ]
    },
    {
     "name": "stderr",
     "output_type": "stream",
     "text": [
      "Epoch 447/1000 - Training: 100%|██████████| 68/68 [00:00<00:00, 138.25it/s]\n",
      "Epoch 447/1000 - Validation: 100%|██████████| 1/1 [00:00<00:00, 255.67it/s]\n"
     ]
    },
    {
     "name": "stdout",
     "output_type": "stream",
     "text": [
      "Epoch 447/1000 - Train Loss: 0.0404 - Val Loss: 0.1160\n"
     ]
    },
    {
     "name": "stderr",
     "output_type": "stream",
     "text": [
      "Epoch 448/1000 - Training: 100%|██████████| 68/68 [00:00<00:00, 137.57it/s]\n",
      "Epoch 448/1000 - Validation: 100%|██████████| 1/1 [00:00<00:00, 250.83it/s]\n"
     ]
    },
    {
     "name": "stdout",
     "output_type": "stream",
     "text": [
      "Epoch 448/1000 - Train Loss: 0.0410 - Val Loss: 0.0919\n"
     ]
    },
    {
     "name": "stderr",
     "output_type": "stream",
     "text": [
      "Epoch 449/1000 - Training: 100%|██████████| 68/68 [00:00<00:00, 136.42it/s]\n",
      "Epoch 449/1000 - Validation: 100%|██████████| 1/1 [00:00<00:00, 243.84it/s]\n"
     ]
    },
    {
     "name": "stdout",
     "output_type": "stream",
     "text": [
      "Epoch 449/1000 - Train Loss: 0.0385 - Val Loss: 0.1115\n"
     ]
    },
    {
     "name": "stderr",
     "output_type": "stream",
     "text": [
      "Epoch 450/1000 - Training: 100%|██████████| 68/68 [00:00<00:00, 128.06it/s]\n",
      "Epoch 450/1000 - Validation: 100%|██████████| 1/1 [00:00<00:00, 227.94it/s]\n"
     ]
    },
    {
     "name": "stdout",
     "output_type": "stream",
     "text": [
      "Epoch 450/1000 - Train Loss: 0.0370 - Val Loss: 0.0930\n"
     ]
    },
    {
     "name": "stderr",
     "output_type": "stream",
     "text": [
      "Epoch 451/1000 - Training: 100%|██████████| 68/68 [00:00<00:00, 128.72it/s]\n",
      "Epoch 451/1000 - Validation: 100%|██████████| 1/1 [00:00<00:00, 249.57it/s]\n"
     ]
    },
    {
     "name": "stdout",
     "output_type": "stream",
     "text": [
      "Epoch 451/1000 - Train Loss: 0.0366 - Val Loss: 0.1042\n"
     ]
    },
    {
     "name": "stderr",
     "output_type": "stream",
     "text": [
      "Epoch 452/1000 - Training: 100%|██████████| 68/68 [00:00<00:00, 128.10it/s]\n",
      "Epoch 452/1000 - Validation: 100%|██████████| 1/1 [00:00<00:00, 256.33it/s]\n"
     ]
    },
    {
     "name": "stdout",
     "output_type": "stream",
     "text": [
      "Epoch 452/1000 - Train Loss: 0.0394 - Val Loss: 0.1025\n"
     ]
    },
    {
     "name": "stderr",
     "output_type": "stream",
     "text": [
      "Epoch 453/1000 - Training: 100%|██████████| 68/68 [00:00<00:00, 128.29it/s]\n",
      "Epoch 453/1000 - Validation: 100%|██████████| 1/1 [00:00<00:00, 241.07it/s]\n"
     ]
    },
    {
     "name": "stdout",
     "output_type": "stream",
     "text": [
      "Epoch 453/1000 - Train Loss: 0.0401 - Val Loss: 0.1045\n"
     ]
    },
    {
     "name": "stderr",
     "output_type": "stream",
     "text": [
      "Epoch 454/1000 - Training: 100%|██████████| 68/68 [00:00<00:00, 133.14it/s]\n",
      "Epoch 454/1000 - Validation: 100%|██████████| 1/1 [00:00<00:00, 291.29it/s]\n"
     ]
    },
    {
     "name": "stdout",
     "output_type": "stream",
     "text": [
      "Epoch 454/1000 - Train Loss: 0.0362 - Val Loss: 0.1109\n"
     ]
    },
    {
     "name": "stderr",
     "output_type": "stream",
     "text": [
      "Epoch 455/1000 - Training: 100%|██████████| 68/68 [00:00<00:00, 138.73it/s]\n",
      "Epoch 455/1000 - Validation: 100%|██████████| 1/1 [00:00<00:00, 282.62it/s]\n"
     ]
    },
    {
     "name": "stdout",
     "output_type": "stream",
     "text": [
      "Epoch 455/1000 - Train Loss: 0.0379 - Val Loss: 0.1155\n"
     ]
    },
    {
     "name": "stderr",
     "output_type": "stream",
     "text": [
      "Epoch 456/1000 - Training: 100%|██████████| 68/68 [00:00<00:00, 138.09it/s]\n",
      "Epoch 456/1000 - Validation: 100%|██████████| 1/1 [00:00<00:00, 263.59it/s]\n"
     ]
    },
    {
     "name": "stdout",
     "output_type": "stream",
     "text": [
      "Epoch 456/1000 - Train Loss: 0.0420 - Val Loss: 0.0996\n"
     ]
    },
    {
     "name": "stderr",
     "output_type": "stream",
     "text": [
      "Epoch 457/1000 - Training: 100%|██████████| 68/68 [00:00<00:00, 138.40it/s]\n",
      "Epoch 457/1000 - Validation: 100%|██████████| 1/1 [00:00<00:00, 270.08it/s]\n"
     ]
    },
    {
     "name": "stdout",
     "output_type": "stream",
     "text": [
      "Epoch 457/1000 - Train Loss: 0.0404 - Val Loss: 0.0819\n"
     ]
    },
    {
     "name": "stderr",
     "output_type": "stream",
     "text": [
      "Epoch 458/1000 - Training: 100%|██████████| 68/68 [00:00<00:00, 137.39it/s]\n",
      "Epoch 458/1000 - Validation: 100%|██████████| 1/1 [00:00<00:00, 247.25it/s]\n"
     ]
    },
    {
     "name": "stdout",
     "output_type": "stream",
     "text": [
      "Epoch 458/1000 - Train Loss: 0.0403 - Val Loss: 0.0947\n"
     ]
    },
    {
     "name": "stderr",
     "output_type": "stream",
     "text": [
      "Epoch 459/1000 - Training: 100%|██████████| 68/68 [00:00<00:00, 138.41it/s]\n",
      "Epoch 459/1000 - Validation: 100%|██████████| 1/1 [00:00<00:00, 236.17it/s]\n"
     ]
    },
    {
     "name": "stdout",
     "output_type": "stream",
     "text": [
      "Epoch 459/1000 - Train Loss: 0.0362 - Val Loss: 0.1129\n"
     ]
    },
    {
     "name": "stderr",
     "output_type": "stream",
     "text": [
      "Epoch 460/1000 - Training: 100%|██████████| 68/68 [00:00<00:00, 134.47it/s]\n",
      "Epoch 460/1000 - Validation: 100%|██████████| 1/1 [00:00<00:00, 239.09it/s]\n"
     ]
    },
    {
     "name": "stdout",
     "output_type": "stream",
     "text": [
      "Epoch 460/1000 - Train Loss: 0.0364 - Val Loss: 0.0902\n"
     ]
    },
    {
     "name": "stderr",
     "output_type": "stream",
     "text": [
      "Epoch 461/1000 - Training: 100%|██████████| 68/68 [00:00<00:00, 134.75it/s]\n",
      "Epoch 461/1000 - Validation: 100%|██████████| 1/1 [00:00<00:00, 273.37it/s]\n"
     ]
    },
    {
     "name": "stdout",
     "output_type": "stream",
     "text": [
      "Epoch 461/1000 - Train Loss: 0.0356 - Val Loss: 0.0909\n"
     ]
    },
    {
     "name": "stderr",
     "output_type": "stream",
     "text": [
      "Epoch 462/1000 - Training: 100%|██████████| 68/68 [00:00<00:00, 125.85it/s]\n",
      "Epoch 462/1000 - Validation: 100%|██████████| 1/1 [00:00<00:00, 224.52it/s]\n"
     ]
    },
    {
     "name": "stdout",
     "output_type": "stream",
     "text": [
      "Epoch 462/1000 - Train Loss: 0.0333 - Val Loss: 0.0867\n"
     ]
    },
    {
     "name": "stderr",
     "output_type": "stream",
     "text": [
      "Epoch 463/1000 - Training: 100%|██████████| 68/68 [00:00<00:00, 126.03it/s]\n",
      "Epoch 463/1000 - Validation: 100%|██████████| 1/1 [00:00<00:00, 217.24it/s]\n"
     ]
    },
    {
     "name": "stdout",
     "output_type": "stream",
     "text": [
      "Epoch 463/1000 - Train Loss: 0.0346 - Val Loss: 0.0887\n"
     ]
    },
    {
     "name": "stderr",
     "output_type": "stream",
     "text": [
      "Epoch 464/1000 - Training: 100%|██████████| 68/68 [00:00<00:00, 125.86it/s]\n",
      "Epoch 464/1000 - Validation: 100%|██████████| 1/1 [00:00<00:00, 248.32it/s]\n"
     ]
    },
    {
     "name": "stdout",
     "output_type": "stream",
     "text": [
      "Epoch 464/1000 - Train Loss: 0.0372 - Val Loss: 0.1097\n"
     ]
    },
    {
     "name": "stderr",
     "output_type": "stream",
     "text": [
      "Epoch 465/1000 - Training: 100%|██████████| 68/68 [00:00<00:00, 126.07it/s]\n",
      "Epoch 465/1000 - Validation: 100%|██████████| 1/1 [00:00<00:00, 251.88it/s]\n"
     ]
    },
    {
     "name": "stdout",
     "output_type": "stream",
     "text": [
      "Epoch 465/1000 - Train Loss: 0.0397 - Val Loss: 0.1112\n"
     ]
    },
    {
     "name": "stderr",
     "output_type": "stream",
     "text": [
      "Epoch 466/1000 - Training: 100%|██████████| 68/68 [00:00<00:00, 126.26it/s]\n",
      "Epoch 466/1000 - Validation: 100%|██████████| 1/1 [00:00<00:00, 249.08it/s]\n"
     ]
    },
    {
     "name": "stdout",
     "output_type": "stream",
     "text": [
      "Epoch 466/1000 - Train Loss: 0.0375 - Val Loss: 0.1051\n"
     ]
    },
    {
     "name": "stderr",
     "output_type": "stream",
     "text": [
      "Epoch 467/1000 - Training: 100%|██████████| 68/68 [00:00<00:00, 125.46it/s]\n",
      "Epoch 467/1000 - Validation: 100%|██████████| 1/1 [00:00<00:00, 232.58it/s]\n"
     ]
    },
    {
     "name": "stdout",
     "output_type": "stream",
     "text": [
      "Epoch 467/1000 - Train Loss: 0.0388 - Val Loss: 0.0977\n"
     ]
    },
    {
     "name": "stderr",
     "output_type": "stream",
     "text": [
      "Epoch 468/1000 - Training: 100%|██████████| 68/68 [00:00<00:00, 125.85it/s]\n",
      "Epoch 468/1000 - Validation: 100%|██████████| 1/1 [00:00<00:00, 241.01it/s]\n"
     ]
    },
    {
     "name": "stdout",
     "output_type": "stream",
     "text": [
      "Epoch 468/1000 - Train Loss: 0.0375 - Val Loss: 0.0940\n"
     ]
    },
    {
     "name": "stderr",
     "output_type": "stream",
     "text": [
      "Epoch 469/1000 - Training: 100%|██████████| 68/68 [00:00<00:00, 125.62it/s]\n",
      "Epoch 469/1000 - Validation: 100%|██████████| 1/1 [00:00<00:00, 208.75it/s]\n"
     ]
    },
    {
     "name": "stdout",
     "output_type": "stream",
     "text": [
      "Epoch 469/1000 - Train Loss: 0.0357 - Val Loss: 0.1037\n"
     ]
    },
    {
     "name": "stderr",
     "output_type": "stream",
     "text": [
      "Epoch 470/1000 - Training: 100%|██████████| 68/68 [00:00<00:00, 125.45it/s]\n",
      "Epoch 470/1000 - Validation: 100%|██████████| 1/1 [00:00<00:00, 222.75it/s]\n"
     ]
    },
    {
     "name": "stdout",
     "output_type": "stream",
     "text": [
      "Epoch 470/1000 - Train Loss: 0.0357 - Val Loss: 0.0941\n"
     ]
    },
    {
     "name": "stderr",
     "output_type": "stream",
     "text": [
      "Epoch 471/1000 - Training: 100%|██████████| 68/68 [00:00<00:00, 125.85it/s]\n",
      "Epoch 471/1000 - Validation: 100%|██████████| 1/1 [00:00<00:00, 231.59it/s]\n"
     ]
    },
    {
     "name": "stdout",
     "output_type": "stream",
     "text": [
      "Epoch 471/1000 - Train Loss: 0.0398 - Val Loss: 0.0996\n"
     ]
    },
    {
     "name": "stderr",
     "output_type": "stream",
     "text": [
      "Epoch 472/1000 - Training: 100%|██████████| 68/68 [00:00<00:00, 125.64it/s]\n",
      "Epoch 472/1000 - Validation: 100%|██████████| 1/1 [00:00<00:00, 245.90it/s]\n"
     ]
    },
    {
     "name": "stdout",
     "output_type": "stream",
     "text": [
      "Epoch 472/1000 - Train Loss: 0.0365 - Val Loss: 0.1014\n"
     ]
    },
    {
     "name": "stderr",
     "output_type": "stream",
     "text": [
      "Epoch 473/1000 - Training: 100%|██████████| 68/68 [00:00<00:00, 125.25it/s]\n",
      "Epoch 473/1000 - Validation: 100%|██████████| 1/1 [00:00<00:00, 215.91it/s]\n"
     ]
    },
    {
     "name": "stdout",
     "output_type": "stream",
     "text": [
      "Epoch 473/1000 - Train Loss: 0.0360 - Val Loss: 0.0852\n"
     ]
    },
    {
     "name": "stderr",
     "output_type": "stream",
     "text": [
      "Epoch 474/1000 - Training: 100%|██████████| 68/68 [00:00<00:00, 125.71it/s]\n",
      "Epoch 474/1000 - Validation: 100%|██████████| 1/1 [00:00<00:00, 236.35it/s]\n"
     ]
    },
    {
     "name": "stdout",
     "output_type": "stream",
     "text": [
      "Epoch 474/1000 - Train Loss: 0.0403 - Val Loss: 0.0915\n"
     ]
    },
    {
     "name": "stderr",
     "output_type": "stream",
     "text": [
      "Epoch 475/1000 - Training: 100%|██████████| 68/68 [00:00<00:00, 126.17it/s]\n",
      "Epoch 475/1000 - Validation: 100%|██████████| 1/1 [00:00<00:00, 220.34it/s]\n"
     ]
    },
    {
     "name": "stdout",
     "output_type": "stream",
     "text": [
      "Epoch 475/1000 - Train Loss: 0.0350 - Val Loss: 0.0755\n"
     ]
    },
    {
     "name": "stderr",
     "output_type": "stream",
     "text": [
      "Epoch 476/1000 - Training: 100%|██████████| 68/68 [00:00<00:00, 125.02it/s]\n",
      "Epoch 476/1000 - Validation: 100%|██████████| 1/1 [00:00<00:00, 244.48it/s]\n"
     ]
    },
    {
     "name": "stdout",
     "output_type": "stream",
     "text": [
      "Epoch 476/1000 - Train Loss: 0.0373 - Val Loss: 0.0927\n"
     ]
    },
    {
     "name": "stderr",
     "output_type": "stream",
     "text": [
      "Epoch 477/1000 - Training: 100%|██████████| 68/68 [00:00<00:00, 125.99it/s]\n",
      "Epoch 477/1000 - Validation: 100%|██████████| 1/1 [00:00<00:00, 245.68it/s]\n"
     ]
    },
    {
     "name": "stdout",
     "output_type": "stream",
     "text": [
      "Epoch 477/1000 - Train Loss: 0.0457 - Val Loss: 0.1052\n"
     ]
    },
    {
     "name": "stderr",
     "output_type": "stream",
     "text": [
      "Epoch 478/1000 - Training: 100%|██████████| 68/68 [00:00<00:00, 125.71it/s]\n",
      "Epoch 478/1000 - Validation: 100%|██████████| 1/1 [00:00<00:00, 221.94it/s]\n"
     ]
    },
    {
     "name": "stdout",
     "output_type": "stream",
     "text": [
      "Epoch 478/1000 - Train Loss: 0.0386 - Val Loss: 0.0899\n"
     ]
    },
    {
     "name": "stderr",
     "output_type": "stream",
     "text": [
      "Epoch 479/1000 - Training: 100%|██████████| 68/68 [00:00<00:00, 125.90it/s]\n",
      "Epoch 479/1000 - Validation: 100%|██████████| 1/1 [00:00<00:00, 230.62it/s]\n"
     ]
    },
    {
     "name": "stdout",
     "output_type": "stream",
     "text": [
      "Epoch 479/1000 - Train Loss: 0.0386 - Val Loss: 0.1116\n"
     ]
    },
    {
     "name": "stderr",
     "output_type": "stream",
     "text": [
      "Epoch 480/1000 - Training: 100%|██████████| 68/68 [00:00<00:00, 126.06it/s]\n",
      "Epoch 480/1000 - Validation: 100%|██████████| 1/1 [00:00<00:00, 250.00it/s]\n"
     ]
    },
    {
     "name": "stdout",
     "output_type": "stream",
     "text": [
      "Epoch 480/1000 - Train Loss: 0.0348 - Val Loss: 0.0921\n"
     ]
    },
    {
     "name": "stderr",
     "output_type": "stream",
     "text": [
      "Epoch 481/1000 - Training: 100%|██████████| 68/68 [00:00<00:00, 129.39it/s]\n",
      "Epoch 481/1000 - Validation: 100%|██████████| 1/1 [00:00<00:00, 265.77it/s]\n"
     ]
    },
    {
     "name": "stdout",
     "output_type": "stream",
     "text": [
      "Epoch 481/1000 - Train Loss: 0.0414 - Val Loss: 0.0954\n"
     ]
    },
    {
     "name": "stderr",
     "output_type": "stream",
     "text": [
      "Epoch 482/1000 - Training: 100%|██████████| 68/68 [00:00<00:00, 126.37it/s]\n",
      "Epoch 482/1000 - Validation: 100%|██████████| 1/1 [00:00<00:00, 251.35it/s]\n"
     ]
    },
    {
     "name": "stdout",
     "output_type": "stream",
     "text": [
      "Epoch 482/1000 - Train Loss: 0.0376 - Val Loss: 0.1469\n"
     ]
    },
    {
     "name": "stderr",
     "output_type": "stream",
     "text": [
      "Epoch 483/1000 - Training: 100%|██████████| 68/68 [00:00<00:00, 126.46it/s]\n",
      "Epoch 483/1000 - Validation: 100%|██████████| 1/1 [00:00<00:00, 239.26it/s]\n"
     ]
    },
    {
     "name": "stdout",
     "output_type": "stream",
     "text": [
      "Epoch 483/1000 - Train Loss: 0.0371 - Val Loss: 0.1250\n"
     ]
    },
    {
     "name": "stderr",
     "output_type": "stream",
     "text": [
      "Epoch 484/1000 - Training: 100%|██████████| 68/68 [00:00<00:00, 125.84it/s]\n",
      "Epoch 484/1000 - Validation: 100%|██████████| 1/1 [00:00<00:00, 217.28it/s]\n"
     ]
    },
    {
     "name": "stdout",
     "output_type": "stream",
     "text": [
      "Epoch 484/1000 - Train Loss: 0.0348 - Val Loss: 0.1064\n"
     ]
    },
    {
     "name": "stderr",
     "output_type": "stream",
     "text": [
      "Epoch 485/1000 - Training: 100%|██████████| 68/68 [00:00<00:00, 125.83it/s]\n",
      "Epoch 485/1000 - Validation: 100%|██████████| 1/1 [00:00<00:00, 239.84it/s]\n"
     ]
    },
    {
     "name": "stdout",
     "output_type": "stream",
     "text": [
      "Epoch 485/1000 - Train Loss: 0.0342 - Val Loss: 0.1144\n"
     ]
    },
    {
     "name": "stderr",
     "output_type": "stream",
     "text": [
      "Epoch 486/1000 - Training: 100%|██████████| 68/68 [00:00<00:00, 126.10it/s]\n",
      "Epoch 486/1000 - Validation: 100%|██████████| 1/1 [00:00<00:00, 244.10it/s]\n"
     ]
    },
    {
     "name": "stdout",
     "output_type": "stream",
     "text": [
      "Epoch 486/1000 - Train Loss: 0.0389 - Val Loss: 0.0916\n"
     ]
    },
    {
     "name": "stderr",
     "output_type": "stream",
     "text": [
      "Epoch 487/1000 - Training: 100%|██████████| 68/68 [00:00<00:00, 128.89it/s]\n",
      "Epoch 487/1000 - Validation: 100%|██████████| 1/1 [00:00<00:00, 338.63it/s]\n"
     ]
    },
    {
     "name": "stdout",
     "output_type": "stream",
     "text": [
      "Epoch 487/1000 - Train Loss: 0.0358 - Val Loss: 0.1106\n"
     ]
    },
    {
     "name": "stderr",
     "output_type": "stream",
     "text": [
      "Epoch 488/1000 - Training: 100%|██████████| 68/68 [00:00<00:00, 162.72it/s]\n",
      "Epoch 488/1000 - Validation: 100%|██████████| 1/1 [00:00<00:00, 253.55it/s]\n"
     ]
    },
    {
     "name": "stdout",
     "output_type": "stream",
     "text": [
      "Epoch 488/1000 - Train Loss: 0.0328 - Val Loss: 0.0990\n"
     ]
    },
    {
     "name": "stderr",
     "output_type": "stream",
     "text": [
      "Epoch 489/1000 - Training: 100%|██████████| 68/68 [00:00<00:00, 147.05it/s]\n",
      "Epoch 489/1000 - Validation: 100%|██████████| 1/1 [00:00<00:00, 268.35it/s]\n"
     ]
    },
    {
     "name": "stdout",
     "output_type": "stream",
     "text": [
      "Epoch 489/1000 - Train Loss: 0.0356 - Val Loss: 0.1119\n"
     ]
    },
    {
     "name": "stderr",
     "output_type": "stream",
     "text": [
      "Epoch 490/1000 - Training: 100%|██████████| 68/68 [00:00<00:00, 126.96it/s]\n",
      "Epoch 490/1000 - Validation: 100%|██████████| 1/1 [00:00<00:00, 249.63it/s]\n"
     ]
    },
    {
     "name": "stdout",
     "output_type": "stream",
     "text": [
      "Epoch 490/1000 - Train Loss: 0.0390 - Val Loss: 0.1052\n"
     ]
    },
    {
     "name": "stderr",
     "output_type": "stream",
     "text": [
      "Epoch 491/1000 - Training: 100%|██████████| 68/68 [00:00<00:00, 126.60it/s]\n",
      "Epoch 491/1000 - Validation: 100%|██████████| 1/1 [00:00<00:00, 243.68it/s]\n"
     ]
    },
    {
     "name": "stdout",
     "output_type": "stream",
     "text": [
      "Epoch 491/1000 - Train Loss: 0.0357 - Val Loss: 0.1223\n"
     ]
    },
    {
     "name": "stderr",
     "output_type": "stream",
     "text": [
      "Epoch 492/1000 - Training: 100%|██████████| 68/68 [00:00<00:00, 124.54it/s]\n",
      "Epoch 492/1000 - Validation: 100%|██████████| 1/1 [00:00<00:00, 216.38it/s]\n"
     ]
    },
    {
     "name": "stdout",
     "output_type": "stream",
     "text": [
      "Epoch 492/1000 - Train Loss: 0.0357 - Val Loss: 0.0758\n"
     ]
    },
    {
     "name": "stderr",
     "output_type": "stream",
     "text": [
      "Epoch 493/1000 - Training: 100%|██████████| 68/68 [00:00<00:00, 125.74it/s]\n",
      "Epoch 493/1000 - Validation: 100%|██████████| 1/1 [00:00<00:00, 249.38it/s]\n"
     ]
    },
    {
     "name": "stdout",
     "output_type": "stream",
     "text": [
      "Epoch 493/1000 - Train Loss: 0.0402 - Val Loss: 0.0852\n"
     ]
    },
    {
     "name": "stderr",
     "output_type": "stream",
     "text": [
      "Epoch 494/1000 - Training: 100%|██████████| 68/68 [00:00<00:00, 125.30it/s]\n",
      "Epoch 494/1000 - Validation: 100%|██████████| 1/1 [00:00<00:00, 226.94it/s]\n"
     ]
    },
    {
     "name": "stdout",
     "output_type": "stream",
     "text": [
      "Epoch 494/1000 - Train Loss: 0.0374 - Val Loss: 0.0967\n"
     ]
    },
    {
     "name": "stderr",
     "output_type": "stream",
     "text": [
      "Epoch 495/1000 - Training: 100%|██████████| 68/68 [00:00<00:00, 126.10it/s]\n",
      "Epoch 495/1000 - Validation: 100%|██████████| 1/1 [00:00<00:00, 252.18it/s]\n"
     ]
    },
    {
     "name": "stdout",
     "output_type": "stream",
     "text": [
      "Epoch 495/1000 - Train Loss: 0.0371 - Val Loss: 0.1101\n"
     ]
    },
    {
     "name": "stderr",
     "output_type": "stream",
     "text": [
      "Epoch 496/1000 - Training: 100%|██████████| 68/68 [00:00<00:00, 125.70it/s]\n",
      "Epoch 496/1000 - Validation: 100%|██████████| 1/1 [00:00<00:00, 250.72it/s]\n"
     ]
    },
    {
     "name": "stdout",
     "output_type": "stream",
     "text": [
      "Epoch 496/1000 - Train Loss: 0.0380 - Val Loss: 0.0973\n"
     ]
    },
    {
     "name": "stderr",
     "output_type": "stream",
     "text": [
      "Epoch 497/1000 - Training: 100%|██████████| 68/68 [00:00<00:00, 126.53it/s]\n",
      "Epoch 497/1000 - Validation: 100%|██████████| 1/1 [00:00<00:00, 227.95it/s]\n"
     ]
    },
    {
     "name": "stdout",
     "output_type": "stream",
     "text": [
      "Epoch 497/1000 - Train Loss: 0.0347 - Val Loss: 0.1095\n"
     ]
    },
    {
     "name": "stderr",
     "output_type": "stream",
     "text": [
      "Epoch 498/1000 - Training: 100%|██████████| 68/68 [00:00<00:00, 124.85it/s]\n",
      "Epoch 498/1000 - Validation: 100%|██████████| 1/1 [00:00<00:00, 210.41it/s]\n"
     ]
    },
    {
     "name": "stdout",
     "output_type": "stream",
     "text": [
      "Epoch 498/1000 - Train Loss: 0.0397 - Val Loss: 0.1001\n"
     ]
    },
    {
     "name": "stderr",
     "output_type": "stream",
     "text": [
      "Epoch 499/1000 - Training: 100%|██████████| 68/68 [00:00<00:00, 125.50it/s]\n",
      "Epoch 499/1000 - Validation: 100%|██████████| 1/1 [00:00<00:00, 221.79it/s]\n"
     ]
    },
    {
     "name": "stdout",
     "output_type": "stream",
     "text": [
      "Epoch 499/1000 - Train Loss: 0.0369 - Val Loss: 0.0886\n"
     ]
    },
    {
     "name": "stderr",
     "output_type": "stream",
     "text": [
      "Epoch 500/1000 - Training: 100%|██████████| 68/68 [00:00<00:00, 124.65it/s]\n",
      "Epoch 500/1000 - Validation: 100%|██████████| 1/1 [00:00<00:00, 218.23it/s]\n"
     ]
    },
    {
     "name": "stdout",
     "output_type": "stream",
     "text": [
      "Epoch 500/1000 - Train Loss: 0.0354 - Val Loss: 0.0927\n"
     ]
    },
    {
     "name": "stderr",
     "output_type": "stream",
     "text": [
      "Epoch 501/1000 - Training: 100%|██████████| 68/68 [00:00<00:00, 125.80it/s]\n",
      "Epoch 501/1000 - Validation: 100%|██████████| 1/1 [00:00<00:00, 226.76it/s]\n"
     ]
    },
    {
     "name": "stdout",
     "output_type": "stream",
     "text": [
      "Epoch 501/1000 - Train Loss: 0.0383 - Val Loss: 0.0945\n"
     ]
    },
    {
     "name": "stderr",
     "output_type": "stream",
     "text": [
      "Epoch 502/1000 - Training: 100%|██████████| 68/68 [00:00<00:00, 124.64it/s]\n",
      "Epoch 502/1000 - Validation: 100%|██████████| 1/1 [00:00<00:00, 256.91it/s]\n"
     ]
    },
    {
     "name": "stdout",
     "output_type": "stream",
     "text": [
      "Epoch 502/1000 - Train Loss: 0.0362 - Val Loss: 0.0918\n"
     ]
    },
    {
     "name": "stderr",
     "output_type": "stream",
     "text": [
      "Epoch 503/1000 - Training: 100%|██████████| 68/68 [00:00<00:00, 125.13it/s]\n",
      "Epoch 503/1000 - Validation: 100%|██████████| 1/1 [00:00<00:00, 240.64it/s]\n"
     ]
    },
    {
     "name": "stdout",
     "output_type": "stream",
     "text": [
      "Epoch 503/1000 - Train Loss: 0.0380 - Val Loss: 0.1044\n"
     ]
    },
    {
     "name": "stderr",
     "output_type": "stream",
     "text": [
      "Epoch 504/1000 - Training: 100%|██████████| 68/68 [00:00<00:00, 126.42it/s]\n",
      "Epoch 504/1000 - Validation: 100%|██████████| 1/1 [00:00<00:00, 236.66it/s]\n"
     ]
    },
    {
     "name": "stdout",
     "output_type": "stream",
     "text": [
      "Epoch 504/1000 - Train Loss: 0.0379 - Val Loss: 0.0946\n"
     ]
    },
    {
     "name": "stderr",
     "output_type": "stream",
     "text": [
      "Epoch 505/1000 - Training: 100%|██████████| 68/68 [00:00<00:00, 126.40it/s]\n",
      "Epoch 505/1000 - Validation: 100%|██████████| 1/1 [00:00<00:00, 240.35it/s]\n"
     ]
    },
    {
     "name": "stdout",
     "output_type": "stream",
     "text": [
      "Epoch 505/1000 - Train Loss: 0.0343 - Val Loss: 0.0928\n"
     ]
    },
    {
     "name": "stderr",
     "output_type": "stream",
     "text": [
      "Epoch 506/1000 - Training: 100%|██████████| 68/68 [00:00<00:00, 125.50it/s]\n",
      "Epoch 506/1000 - Validation: 100%|██████████| 1/1 [00:00<00:00, 226.83it/s]\n"
     ]
    },
    {
     "name": "stdout",
     "output_type": "stream",
     "text": [
      "Epoch 506/1000 - Train Loss: 0.0371 - Val Loss: 0.1082\n"
     ]
    },
    {
     "name": "stderr",
     "output_type": "stream",
     "text": [
      "Epoch 507/1000 - Training: 100%|██████████| 68/68 [00:00<00:00, 125.50it/s]\n",
      "Epoch 507/1000 - Validation: 100%|██████████| 1/1 [00:00<00:00, 222.98it/s]\n"
     ]
    },
    {
     "name": "stdout",
     "output_type": "stream",
     "text": [
      "Epoch 507/1000 - Train Loss: 0.0336 - Val Loss: 0.1136\n"
     ]
    },
    {
     "name": "stderr",
     "output_type": "stream",
     "text": [
      "Epoch 508/1000 - Training: 100%|██████████| 68/68 [00:00<00:00, 126.14it/s]\n",
      "Epoch 508/1000 - Validation: 100%|██████████| 1/1 [00:00<00:00, 246.88it/s]\n"
     ]
    },
    {
     "name": "stdout",
     "output_type": "stream",
     "text": [
      "Epoch 508/1000 - Train Loss: 0.0360 - Val Loss: 0.0989\n"
     ]
    },
    {
     "name": "stderr",
     "output_type": "stream",
     "text": [
      "Epoch 509/1000 - Training: 100%|██████████| 68/68 [00:00<00:00, 125.79it/s]\n",
      "Epoch 509/1000 - Validation: 100%|██████████| 1/1 [00:00<00:00, 240.83it/s]\n"
     ]
    },
    {
     "name": "stdout",
     "output_type": "stream",
     "text": [
      "Epoch 509/1000 - Train Loss: 0.0404 - Val Loss: 0.0969\n"
     ]
    },
    {
     "name": "stderr",
     "output_type": "stream",
     "text": [
      "Epoch 510/1000 - Training: 100%|██████████| 68/68 [00:00<00:00, 131.81it/s]\n",
      "Epoch 510/1000 - Validation: 100%|██████████| 1/1 [00:00<00:00, 259.20it/s]\n"
     ]
    },
    {
     "name": "stdout",
     "output_type": "stream",
     "text": [
      "Epoch 510/1000 - Train Loss: 0.0382 - Val Loss: 0.1016\n"
     ]
    },
    {
     "name": "stderr",
     "output_type": "stream",
     "text": [
      "Epoch 511/1000 - Training: 100%|██████████| 68/68 [00:00<00:00, 135.36it/s]\n",
      "Epoch 511/1000 - Validation: 100%|██████████| 1/1 [00:00<00:00, 245.57it/s]\n"
     ]
    },
    {
     "name": "stdout",
     "output_type": "stream",
     "text": [
      "Epoch 511/1000 - Train Loss: 0.0353 - Val Loss: 0.1063\n"
     ]
    },
    {
     "name": "stderr",
     "output_type": "stream",
     "text": [
      "Epoch 512/1000 - Training: 100%|██████████| 68/68 [00:00<00:00, 126.47it/s]\n",
      "Epoch 512/1000 - Validation: 100%|██████████| 1/1 [00:00<00:00, 226.68it/s]\n"
     ]
    },
    {
     "name": "stdout",
     "output_type": "stream",
     "text": [
      "Epoch 512/1000 - Train Loss: 0.0336 - Val Loss: 0.0963\n"
     ]
    },
    {
     "name": "stderr",
     "output_type": "stream",
     "text": [
      "Epoch 513/1000 - Training: 100%|██████████| 68/68 [00:00<00:00, 125.22it/s]\n",
      "Epoch 513/1000 - Validation: 100%|██████████| 1/1 [00:00<00:00, 246.04it/s]\n"
     ]
    },
    {
     "name": "stdout",
     "output_type": "stream",
     "text": [
      "Epoch 513/1000 - Train Loss: 0.0371 - Val Loss: 0.1004\n"
     ]
    },
    {
     "name": "stderr",
     "output_type": "stream",
     "text": [
      "Epoch 514/1000 - Training: 100%|██████████| 68/68 [00:00<00:00, 125.01it/s]\n",
      "Epoch 514/1000 - Validation: 100%|██████████| 1/1 [00:00<00:00, 220.27it/s]IOPub message rate exceeded.\n",
      "The Jupyter server will temporarily stop sending output\n",
      "to the client in order to avoid crashing it.\n",
      "To change this limit, set the config variable\n",
      "`--ServerApp.iopub_msg_rate_limit`.\n",
      "\n",
      "Current values:\n",
      "ServerApp.iopub_msg_rate_limit=1000.0 (msgs/sec)\n",
      "ServerApp.rate_limit_window=3.0 (secs)\n",
      "\n"
     ]
    }
   ],
   "source": [
    "import torch\n",
    "from torchvision import models, transforms\n",
    "from PIL import Image\n",
    "import numpy as np\n",
    "import os\n",
    "from tqdm import tqdm\n",
    "import joblib\n",
    "\n",
    "import torch\n",
    "from torchvision import models, transforms\n",
    "from PIL import Image\n",
    "import numpy as np\n",
    "import os\n",
    "from tqdm import tqdm\n",
    "import joblib\n",
    "from sklearn.decomposition import PCA\n",
    "\n",
    "def inv3_encoding(image_dir, num_images=2194, device='cpu'):\n",
    "    inv3_list = []\n",
    "\n",
    "    # 图像预处理  # Image preprocessing\n",
    "    def load_image(image_path, transform):\n",
    "        try:\n",
    "            image = Image.open(image_path).convert('RGB')\n",
    "            image = transform(image).unsqueeze(0).to(device)\n",
    "            return image\n",
    "        except Exception as e:\n",
    "            print(f\"无法打开图片 {image_path}: {e}\")\n",
    "            return None\n",
    "\n",
    "    # 加载Inception v3模型  # Load Inception v3 model\n",
    "    def load_pretrained_inception_v3():\n",
    "        model = models.inception_v3(pretrained=True)\n",
    "        model.eval().to(device)\n",
    "        return model\n",
    "\n",
    "    # 提取特征  # Extracting Features\n",
    "    def extract_features(image_path, model, transform):\n",
    "        image = load_image(image_path, transform)\n",
    "        if image is not None:\n",
    "            with torch.no_grad():\n",
    "                features = model(image)\n",
    "                features = features[0]  # [batch_size, feature_size]\n",
    "                features = features.view(1, -1)  # 展平为1维向量\n",
    "            return features.cpu().numpy()\n",
    "        else:\n",
    "            return np.zeros((1, 2048))  # 返回全零特征，如果图片加载失败  # Return all-zero features if the image loading fails\n",
    "\n",
    "    # 图像预处理：Inception v3需要的标准化和尺寸变换 # Image preprocessing: Standardization and resizing required for Inception v3\n",
    "    transform = transforms.Compose([\n",
    "        transforms.Resize(299),               \n",
    "        transforms.CenterCrop(299),           \n",
    "        transforms.ToTensor(),                \n",
    "        transforms.Normalize(                  \n",
    "            mean=[0.485, 0.456, 0.406],\n",
    "            std=[0.229, 0.224, 0.225]\n",
    "        )\n",
    "    ])\n",
    "\n",
    "    # 加载模型 # Load model\n",
    "    model = load_pretrained_inception_v3()\n",
    "\n",
    "    # 提取所有图片的特征  # Extract features of all images\n",
    "    for i in tqdm(range(num_images), desc=\"提取Inception v3图像特征\"):\n",
    "        image_path = os.path.join(image_dir, f\"{i}.jpg\")  # 根据路径加载图像  # Load images based on the path\n",
    "        features = extract_features(image_path, model, transform)  # 提取特征  # Extracting Features\n",
    "        inv3_list.append(features)  # 将特征添加到列表  # Add features to the list\n",
    "\n",
    "    # 将所有特征合并为一个numpy数组  # Combine all features into a single numpy array\n",
    "    inv3_np = np.concatenate(inv3_list, axis=0)  # 确保是二维数组 [num_images, 2048]   # Ensure it is a two-dimensional array [num_images, 2048]\n",
    "\n",
    "    pca = PCA(n_components=50)\n",
    "    inv3_features_pca = pca.fit_transform(inv3_np)\n",
    "    joblib.dump(pca, 'inv3_pca.pkl')\n",
    "\n",
    "    return inv3_features_pca\n",
    "\n",
    "# 使用示例： # Usage Example: \n",
    "image_directory = r\"/root/img\"  # 图像目录  # Image Directory\n",
    "inv3_features = inv3_encoding(image_directory, num_images=2194)\n",
    "df['inv3_features'] = list(inv3_features)\n",
    "\n",
    "\n",
    "# 图像特征提取\n",
    "def vit_encoding(image_dir, num_images=2194, device='cpu'):\n",
    "    vit_list = []\n",
    "    model_name = \"/root/.cache/huggingface/hub/models--google--vit-base-patch16-224/snapshots/3f49326eb077187dfe1c2a2bb15fbd74e6ab91e3\"\n",
    "    feature_extractor = ViTFeatureExtractor.from_pretrained(model_name)\n",
    "    model = ViTModel.from_pretrained(model_name).to(device).eval()\n",
    "\n",
    "    def process_image(image_path):\n",
    "        try:\n",
    "            image = Image.open(image_path).convert('RGB')\n",
    "            return feature_extractor(images=image, return_tensors=\"pt\")\n",
    "        except Exception as e:\n",
    "            print(f\"无法打开图片 {image_path}: {e}\")\n",
    "            # 返回全零张量以保持尺寸一致\n",
    "            return feature_extractor(images=Image.new('RGB', (224, 224), (0, 0, 0)), return_tensors=\"pt\")\n",
    "\n",
    "    for i in tqdm(range(num_images), desc=\"提取图像特征\"):\n",
    "        image_path = os.path.join(image_dir, f\"{i}.jpg\")\n",
    "        inputs = process_image(image_path)\n",
    "        inputs = {k: v.to(device) for k, v in inputs.items()}\n",
    "        with torch.no_grad():\n",
    "            outputs = model(**inputs)\n",
    "            cls_token = outputs.last_hidden_state[:, 0, :].cpu().numpy()  # [1, hidden_size]\n",
    "            vit_list.append(cls_token.squeeze())\n",
    "    \n",
    "    vit_np = np.array(vit_list)  # [num_images, hidden_size]\n",
    "    \n",
    "    # PCA降维\n",
    "    vit_pca = PCA(n_components=50)\n",
    "    vit_features_pca = vit_pca.fit_transform(vit_np)\n",
    "    \n",
    "    # 保存PCA模型\n",
    "    joblib.dump(vit_pca, 'vit_pca.pkl')\n",
    "    \n",
    "    return vit_features_pca\n",
    "\n",
    "# 使用您的图像路径定义\n",
    "image_directory = r\"/root/img\"\n",
    "vit_features = vit_encoding(image_directory, num_images=len(df))\n",
    "df['vit_features'] = list(vit_features)\n",
    "\n",
    "import torchvision.models as models\n",
    "import torchvision\n",
    "from torchvision import transforms\n",
    "# VGG特征提取函数\n",
    "def vgg_encoding(image_dir, num_images=2194, device='cpu', pca_components=50):\n",
    "    \"\"\"\n",
    "    使用预训练的VGG16模型提取图像特征，并进行PCA降维。\n",
    "\n",
    "    参数:\n",
    "        image_dir (str): 存放图像的目录路径。\n",
    "        num_images (int): 要处理的图像数量。\n",
    "        device (str): 计算设备（'cpu'或'cuda'）。\n",
    "        pca_components (int): PCA降维后的维度数。\n",
    "\n",
    "    返回:\n",
    "        np.ndarray: 降维后的VGG特征。\n",
    "    \"\"\"\n",
    "    vgg_list = []\n",
    "\n",
    "    # 初始化预训练的VGG16模型\n",
    "    model = models.vgg16(pretrained=False)\n",
    "    model.load_state_dict(torch.load(r\"/root/.cache/torch/hub/checkpoints/vgg16-397923af.pth\"))\n",
    "    model.to(device).eval()\n",
    "\n",
    "    # 定义预处理步骤\n",
    "    preprocess = transforms.Compose([\n",
    "        transforms.Resize(256),\n",
    "        transforms.CenterCrop(224),\n",
    "        transforms.ToTensor(),\n",
    "        transforms.Normalize(mean=[0.485, 0.456, 0.406],\n",
    "                             std=[0.229, 0.224, 0.225]),\n",
    "    ])\n",
    "\n",
    "    def extract_features(image_path):\n",
    "        \"\"\"\n",
    "        从图像路径提取VGG特征。\n",
    "\n",
    "        参数:\n",
    "            image_path (str): 图像文件路径。\n",
    "\n",
    "        返回:\n",
    "            np.ndarray: 提取的特征向量。\n",
    "        \"\"\"\n",
    "        try:\n",
    "            image = Image.open(image_path).convert('RGB')\n",
    "            tensor = preprocess(image)\n",
    "        except Exception as e:\n",
    "            print(f\"无法打开图片 {image_path}: {e}\")\n",
    "            # 返回全零张量以保持尺寸一致\n",
    "            tensor = preprocess(Image.new('RGB', (224, 224), (0, 0, 0)))\n",
    "        \n",
    "        tensor = tensor.unsqueeze(0).to(device)  # 添加批次维度并移动到设备\n",
    "        with torch.no_grad():\n",
    "            features = model(tensor)\n",
    "        embedding = features.view(features.size(0), -1).cpu().numpy()  # 展平并转换为numpy数组\n",
    "        return embedding.squeeze()  # 移除多余的维度\n",
    "\n",
    "    # 遍历所有图像并提取特征\n",
    "    for i in tqdm(range(num_images), desc=\"提取VGG图像特征\"):\n",
    "        image_path = os.path.join(image_dir, f\"{i}.jpg\")\n",
    "        features = extract_features(image_path)\n",
    "        vgg_list.append(features)\n",
    "    \n",
    "    vgg_np = np.array(vgg_list)  # [num_images, feature_dim]\n",
    "\n",
    "    # PCA降维\n",
    "    vgg_pca = PCA(n_components=pca_components)\n",
    "    vgg_features_pca = vgg_pca.fit_transform(vgg_np)\n",
    " \n",
    "    # 保存PCA模型\n",
    "    joblib.dump(vgg_pca, 'vgg_pca.pkl')\n",
    "\n",
    "    return vgg_features_pca\n",
    "\n",
    "# 提取vgg特征\n",
    "vgg_features = vgg_encoding(image_directory, num_images=len(df), device='cuda' if torch.cuda.is_available() else 'cpu')\n",
    "df['vgg_features'] = list(vgg_features)\n",
    "\n",
    "def shuff_encoding(image_dir, num_images=2194, device='cpu', pca_components=50):\n",
    "\n",
    "    shuff_list = []\n",
    "\n",
    "    # 定义图像预处理\n",
    "    transform = transforms.Compose([\n",
    "        transforms.Resize(299),\n",
    "        transforms.CenterCrop(299),\n",
    "        transforms.ToTensor(),\n",
    "        transforms.Normalize(mean=[0.485, 0.456, 0.406], std=[0.229, 0.224, 0.225]),\n",
    "    ])\n",
    "\n",
    "    # 加载预训练的ShuffleNet模型\n",
    "    model = models.shufflenet_v2_x1_0(pretrained=False)\n",
    "    model.load_state_dict(torch.load(r\"/root/.cache/torch/hub/checkpoints/shufflenetv2_x1-5666bf0f80.pth\"))\n",
    "    model.to(device).eval()\n",
    "\n",
    "    def load_image(image_path):\n",
    "        try:\n",
    "            image = Image.open(image_path).convert('RGB')\n",
    "            return transform(image).unsqueeze(0).to(device)  # 添加批次维度并移动到设备\n",
    "        except Exception as e:\n",
    "            print(f\"无法加载图片 {image_path}: {e}\")\n",
    "            return transform(Image.new('RGB', (299, 299), (0, 0, 0))).unsqueeze(0).to(device)\n",
    "\n",
    "    # 遍历所有图像并提取特征\n",
    "    for i in tqdm(range(num_images), desc=\"提取ShuffleNet图像特征\"):\n",
    "        image_path = os.path.join(image_dir, f\"{i}.jpg\")\n",
    "        image = load_image(image_path)\n",
    "        with torch.no_grad():\n",
    "            features = model(image)\n",
    "        features = features.view(-1).cpu().numpy()  # 展平并转换为numpy数组\n",
    "        shuff_list.append(features)\n",
    "\n",
    "    shuff_np = np.array(shuff_list)\n",
    "\n",
    "    # PCA降维\n",
    "    shuff_pca = PCA(n_components=pca_components)\n",
    "    shuff_features_pca = shuff_pca.fit_transform(shuff_np)\n",
    "\n",
    "    # 保存PCA模型\n",
    "    joblib.dump(shuff_pca, 'shuff_pca.pkl')\n",
    "\n",
    "    return shuff_features_pca\n",
    "\n",
    "# 提取shuff特征\n",
    "shuff_features = shuff_encoding(image_directory, num_images=len(df), device='cuda' if torch.cuda.is_available() else 'cpu')\n",
    "df['shuff_features'] = list(shuff_features)\n",
    "\n",
    "def resnet_encoding(image_dir, num_images=2194, device='cpu', pca_components=50):\n",
    "\n",
    "    resnet_list = []\n",
    "\n",
    "    # 定义图像预处理\n",
    "    transform = transforms.Compose([\n",
    "        transforms.Resize((224, 224)),\n",
    "        transforms.ToTensor(),\n",
    "        transforms.Normalize(mean=[0.485, 0.456, 0.406], std=[0.229, 0.224, 0.225]),\n",
    "    ])\n",
    "\n",
    "    # 加载预训练的ResNet50模型\n",
    "    model = models.resnet50(pretrained=False)\n",
    "    model.load_state_dict(torch.load(r\"/root/.cache/torch/hub/checkpoints/resnet50-0676ba61.pth\"))\n",
    "    model.to(device).eval()\n",
    "\n",
    "    def load_image(image_path):\n",
    "        try:\n",
    "            image = Image.open(image_path).convert('RGB')\n",
    "            return transform(image).unsqueeze(0).to(device)  # 添加批次维度并移动到设备\n",
    "        except Exception as e:\n",
    "            print(f\"无法加载图片 {image_path}: {e}\")\n",
    "            return transform(Image.new('RGB', (224, 224), (0, 0, 0))).unsqueeze(0).to(device)\n",
    "\n",
    "    # 遍历所有图像并提取特征\n",
    "    for i in tqdm(range(num_images), desc=\"提取ResNet50图像特征\"):\n",
    "        image_path = os.path.join(image_dir, f\"{i}.jpg\")\n",
    "        image = load_image(image_path)\n",
    "        with torch.no_grad():\n",
    "            features = model(image)\n",
    "        features = features.view(-1).cpu().numpy()  # 展平并转换为numpy数组\n",
    "        resnet_list.append(features)\n",
    "\n",
    "    resnet_np = np.array(resnet_list)\n",
    "\n",
    "    # PCA降维\n",
    "    resnet_pca = PCA(n_components=pca_components)\n",
    "    resnet_features_pca = resnet_pca.fit_transform(resnet_np)\n",
    "    \n",
    "    # 保存PCA模型\n",
    "    joblib.dump(resnet_pca, 'resnet_pca.pkl')\n",
    "\n",
    "    return resnet_features_pca\n",
    "\n",
    "\n",
    "# 提取resnet特征\n",
    "resnet_features = resnet_encoding(image_directory, num_images=len(df), device='cuda' if torch.cuda.is_available() else 'cpu')\n",
    "df['resnet_features'] = list(resnet_features)\n",
    "\n",
    "# 定义自注意力层（新版本中去掉了注意力机制） # Define the self-attention layer (the attention mechanism has been removed in the new version)\n",
    "class SelfAttentionLayer(nn.Module):\n",
    "    def __init__(self, hidden_size, attention_dim):\n",
    "        super(SelfAttentionLayer, self).__init__()\n",
    "        self.attention = nn.Sequential(\n",
    "            nn.Linear(hidden_size, attention_dim),\n",
    "            nn.Tanh(),\n",
    "            nn.Linear(attention_dim, 1, bias=False)\n",
    "        )\n",
    "    \n",
    "    def forward(self, x):\n",
    "        # x: [batch_size, hidden_size]\n",
    "        att_weights = self.attention(x)  # [batch_size, 1]\n",
    "        att_weights = torch.softmax(att_weights, dim=1)  # [batch_size, 1]\n",
    "        weighted = x * att_weights  # [batch_size, hidden_size]\n",
    "        out = weighted.sum(dim=1)  # [batch_size, hidden_size]\n",
    "        return out\n",
    "\n",
    "# PSI framework\n",
    "class RegressionModelWithAttention(nn.Module):\n",
    "    def __init__(self, input_dim_image, input_dim_other_text, input_dim_text_desc, input_dim_numerical, attention_dim=128):\n",
    "        super(RegressionModelWithAttention, self).__init__()\n",
    "        # 图像特征处理  # Image feature processing\n",
    "        self.image_dense = nn.Sequential(\n",
    "            nn.Linear(input_dim_image, 256),\n",
    "            nn.ReLU(),\n",
    "            nn.Dropout(0.5)\n",
    "        )\n",
    "        # 其他文本特征处理 # Other text feature processing\n",
    "        self.other_text_dense = nn.Sequential(\n",
    "            nn.Linear(input_dim_other_text, 256),\n",
    "            nn.ReLU(),\n",
    "            nn.Dropout(0.5)\n",
    "        )\n",
    "        # “文本描述”特征处理（移除自注意力层）  # \"Text description\" feature processing (removing the self-attention layer)\n",
    "        self.text_dense = nn.Sequential(\n",
    "            nn.Linear(input_dim_text_desc, 256),\n",
    "            nn.ReLU(),\n",
    "            nn.Dropout(0.5)\n",
    "        )\n",
    "        # 数值特征处理 # Numerical feature processing\n",
    "        self.numerical_dense = nn.Sequential(\n",
    "            nn.Linear(input_dim_numerical, 64),\n",
    "            nn.ReLU(),\n",
    "            nn.Dropout(0.3)\n",
    "        )\n",
    "        # 融合特征    # Fusion featuresArithmeticError\n",
    "        self.fusion = nn.Sequential(\n",
    "            nn.Linear(256 + 256 , 256),  # 图像特征 + 文本描述特征 # Image features + textual descriptive features\n",
    "            nn.ReLU(),\n",
    "            nn.Dropout(0.5)\n",
    "        )\n",
    "        self.combined = nn.Sequential(\n",
    "            nn.Linear(256 + 256 + 64, 128),  # 其他文本特征 + 融合特征 + 数值特征 # Other text features + fused features + numerical features\n",
    "            nn.ReLU(),\n",
    "            nn.Dropout(0.3)\n",
    "        )\n",
    "        # 输出层 # Output layer\n",
    "        self.output = nn.Linear(128, 1)  # 回归输出  # Regression output\n",
    "\n",
    "    def forward(self, image, other_text, text_desc, numerical):\n",
    "        # 图像特征处理   # Image feature processing\n",
    "        image_features = self.image_dense(image)  # [batch_size, 256]\n",
    "        # 其他文本特征处理   # Other text feature processing\n",
    "        other_text_features = self.other_text_dense(other_text)  # [batch_size, 256]\n",
    "        # “文本描述”特征处理（直接传递给全连接层） # \"Text description\" feature processing (directly passed to the fully connected layer)\n",
    "        text_desc_features = self.text_dense(text_desc)  # [batch_size, 256]\n",
    "        # 数值特征处理  # Numerical feature processing\n",
    "        numerical_features = self.numerical_dense(numerical)  # [batch_size, 64]\n",
    "        # 融合图像、其他文本和文本描述特征 # Integrate image, other text, and textual descriptive features\n",
    "        fused = torch.cat((image_features, text_desc_features), dim=1)  # [batch_size, 768]\n",
    "        fused = self.fusion(fused)  # [batch_size, 256]\n",
    "        # 与数值特征拼接  # Concatenation with numerical features\n",
    "        combined = torch.cat((fused, numerical_features,other_text_features), dim=1)  # [batch_size, 320]\n",
    "        combined = self.combined(combined)  # [batch_size, 128]\n",
    "        # 输出  # output\n",
    "        output = self.output(combined)  # [batch_size, 1]\n",
    "        return output\n",
    "\n",
    "# 定义Dataset类\n",
    "class IncomeDataset(Dataset):\n",
    "    def __init__(self, df, image_feature_type='vit'):\n",
    "        \"\"\"\n",
    "        初始化数据集。\n",
    "        参数:\n",
    "            df (pd.DataFrame): 数据框。\n",
    "            image_feature_type (str): 要使用的图像特征类型，支持 'vit'、'vgg'、'shuff'、'resnet'。\n",
    "        \"\"\"\n",
    "        \"\"\"\n",
    "        Initialize the dataset.\n",
    "        Parameters:\n",
    "            df (pd.DataFrame): Data frame.\n",
    "            image_feature_type (str): The type of image feature to be used, supported by 'vit', 'vgg', 'shuff', and 'resnet'.\n",
    "        \"\"\"\n",
    "        \n",
    "        supported_features = ['vit_features', 'vgg_features', 'shuff_features', 'resnet_features']\n",
    "        feature_mapping = {\n",
    "            'vit': 'vit_features',\n",
    "            'vgg': 'vgg_features',\n",
    "            'shuff': 'shuff_features',\n",
    "            'resnet': 'resnet_features'\n",
    "        }\n",
    "        if image_feature_type not in feature_mapping:\n",
    "            raise ValueError(f\"Unsupported image feature type: {image_feature_type}. Supported types: {list(feature_mapping.keys())}\")\n",
    "        selected_feature = feature_mapping[image_feature_type]\n",
    "        self.image_features = np.stack(df[selected_feature].values)\n",
    "        self.other_text_features = np.stack(df['other_text_features'].values)\n",
    "        self.text_desc_features = np.stack(df['text_desc_features'].values)\n",
    "        self.numerical_features = df[[ '折扣价', '折扣率', '价格']].values\n",
    "        self.targets = df['收入'].values.astype(np.float32)\n",
    "        self.image_feature_type = image_feature_type\n",
    "\n",
    "    def __len__(self):\n",
    "        return len(self.targets)\n",
    "\n",
    "    def __getitem__(self, idx):\n",
    "        image = self.image_features[idx]\n",
    "        other_text = self.other_text_features[idx]\n",
    "        text_desc = self.text_desc_features[idx]\n",
    "        numerical = self.numerical_features[idx]\n",
    "        target = self.targets[idx]\n",
    "        return {\n",
    "            'image': torch.tensor(image, dtype=torch.float32),\n",
    "            'other_text': torch.tensor(other_text, dtype=torch.float32),\n",
    "            'text_desc': torch.tensor(text_desc, dtype=torch.float32),\n",
    "            'numerical': torch.tensor(numerical, dtype=torch.float32),\n",
    "            'target': torch.tensor(target, dtype=torch.float32)\n",
    "        }\n",
    "# 定义评估函数 # Define evaluation function\n",
    "def evaluate_model(model, dataloader, device):\n",
    "    model.eval()  # 设置模型为评估模式 # Set the model to evaluation mode\n",
    "    all_predictions = []\n",
    "    all_targets = []\n",
    "    with torch.no_grad():  # 关闭梯度计算 # Disable gradient computation\n",
    "        for batch in dataloader:\n",
    "            image = batch['image'].to(device)\n",
    "            other_text = batch['other_text'].to(device)\n",
    "            text_desc = batch['text_desc'].to(device)\n",
    "            numerical = batch['numerical'].to(device)\n",
    "            targets = batch['target'].to(device)\n",
    "            outputs = model(image, other_text, text_desc, numerical)\n",
    "            all_predictions.extend(outputs.cpu().numpy())\n",
    "            all_targets.extend(targets.cpu().numpy())\n",
    "    # 转换为NumPy数组并应用反变换（假设使用了对数变换） # Convert to NumPy array and apply inverse transformation (assuming logarithmic transformation is used)\n",
    "    all_predictions = 10**np.array(all_predictions).flatten()\n",
    "    all_targets = 10**np.array(all_targets).flatten()\n",
    "    # 计算指标   # Calculation Metrics\n",
    "    mse = mean_squared_error(all_targets, all_predictions)\n",
    "    rmse = np.sqrt(mse)\n",
    "    mae = mean_absolute_error(all_targets, all_predictions)\n",
    "    r2 = r2_score(all_targets, all_predictions)\n",
    "    return rmse, mae, r2, all_targets, all_predictions\n",
    "\n",
    "\n",
    "# 定义训练和评估函数   # Define training and evaluation functions\n",
    "def train_and_evaluate(model, train_loader, val_loader, criterion, optimizer, device, num_epochs=100):\n",
    "    \"\"\"\n",
    "    训练和评估模型。\n",
    "\n",
    "    参数:\n",
    "        model (nn.Module): 要训练的模型。\n",
    "        train_loader (DataLoader): 训练数据加载器。\n",
    "        val_loader (DataLoader): 验证数据加载器。\n",
    "        criterion: 损失函数。\n",
    "        optimizer: 优化器。\n",
    "        device (str): 设备类型。\n",
    "        num_epochs (int): 训练轮数。\n",
    "\n",
    "    返回:\n",
    "        train_losses, val_losses, rmse, mae, r2\n",
    "    \"\"\"\n",
    "    \"\"\"\n",
    "    Train and evaluate the model.\n",
    "\n",
    "    Parameters:\n",
    "        model (nn.Module): The model to be trained.\n",
    "        train_loader (DataLoader): Training data loader.\n",
    "        val_loader (DataLoader): Validation data loader.\n",
    "        criterion: loss function.\n",
    "        optimizer: Optimizer.\n",
    "        device (str): Device type.\n",
    "        num_epochs (int): Number of training epochs.\n",
    "\n",
    "    Return:\n",
    "        train_losses, val_losses, rmse, mae, r2\n",
    "    \"\"\"\n",
    "    \n",
    "    train_losses = []\n",
    "    val_losses = []\n",
    "    for epoch in range(num_epochs):\n",
    "        model.train()\n",
    "        train_loss = 0.0\n",
    "        for batch in tqdm(train_loader, desc=f\"Epoch {epoch+1}/{num_epochs} - Training\"):\n",
    "            optimizer.zero_grad()\n",
    "            outputs = model(\n",
    "                batch['image'].to(device),\n",
    "                batch['other_text'].to(device),\n",
    "                batch['text_desc'].to(device),\n",
    "                batch['numerical'].to(device)\n",
    "            ).squeeze()\n",
    "            loss = criterion(outputs, batch['target'].to(device))\n",
    "            loss.backward()\n",
    "            optimizer.step()\n",
    "            train_loss += loss.item() * batch['image'].size(0)\n",
    "        train_loss /= len(train_loader.dataset)\n",
    "        train_losses.append(train_loss)\n",
    "\n",
    "        # 验证阶段\n",
    "        model.eval()\n",
    "        val_loss = 0.0\n",
    "        with torch.no_grad():\n",
    "            for batch in tqdm(val_loader, desc=f\"Epoch {epoch+1}/{num_epochs} - Validation\"):\n",
    "                outputs = model(\n",
    "                    batch['image'].to(device),\n",
    "                    batch['other_text'].to(device),\n",
    "                    batch['text_desc'].to(device),\n",
    "                    batch['numerical'].to(device)\n",
    "                ).squeeze()\n",
    "                loss = criterion(outputs, batch['target'].to(device))\n",
    "                val_loss += loss.item() * batch['image'].size(0)\n",
    "        val_loss /= len(val_loader.dataset)\n",
    "        val_losses.append(val_loss)\n",
    "\n",
    "        print(f\"Epoch {epoch+1}/{num_epochs} - Train Loss: {train_loss:.4f} - Val Loss: {val_loss:.4f}\")\n",
    "\n",
    "    # 在所有epoch结束后进行评估  # Evaluate after all epochs have ended\n",
    "    rmse, mae, r2, _, _ = evaluate_model(model, val_loader, device)\n",
    "    return train_losses, val_losses, rmse, mae, r2\n",
    "# 设置随机种子 # Set random seed\n",
    "import random\n",
    "from sklearn.metrics import mean_squared_error, mean_absolute_error, r2_score\n",
    "from transformers import set_seed\n",
    "SEEDS = [ 42, 23, 15, 34, 18, 32, 47, 27,8, 52]\n",
    "\n",
    "\n",
    "# 定义不同图像特征类型  # Define different types of image features\n",
    "image_feature_types = ['vit', 'vgg', 'shuff', 'resnet']  # 假设 'resnet_features' 已提取\n",
    "\n",
    "# 存储实验结果 # Store experimental results\n",
    "experiment_results = {\n",
    "    'feature_type': [],\n",
    "    'seed': [],\n",
    "    'final_train_loss': [],\n",
    "    'final_val_loss': [],\n",
    "    'RMSE': [],\n",
    "    'MAE': [],\n",
    "    'R2': []\n",
    "}\n",
    "\n",
    "# 定义模型参数（根据不同特征的维度进行调整）# Define model parameters (adjusted according to the dimensions of different features)\n",
    "FEATURE_DIMENSIONS = {\n",
    "    'vit': 50,          # PCA后的ViT特征维度 # ViT feature dimension after PCA\n",
    "    'vgg': 50,          # PCA后的VGG特征维度  # VGGfeature dimension after PCA\n",
    "    'shuff': 50,        # PCA后的ShuffleNet特征维度  # ShuffleNet feature dimension after PCA\n",
    "    'resnet': 50        # PCA后的ResNet特征维度   # ResNet feature dimension after PCA\n",
    "}\n",
    "input_dim_other_text = 768  # BERT的hidden_size # The hidden_size of BERT\n",
    "input_dim_text_desc = 768   # 根据实际hidden_size调整  Adjust according to the actual hidden_size\n",
    "input_dim_numerical = 3     # 数值特征数量  Number of numerical features\n",
    "\n",
    "# 定义训练参数  # Define training parameters\n",
    "batch_size = 32\n",
    "num_epochs = 1000\n",
    "\n",
    "# 定义损失函数   # Define loss function\n",
    "criterion = nn.MSELoss()\n",
    "\n",
    "# 检查设备  # Check equipment\n",
    "device = torch.device('cuda' if torch.cuda.is_available() else 'cpu')\n",
    "print(f\"Using device: {device}\")\n",
    "\n",
    "# 遍历所有随机种子    # Iterate over all random seeds\n",
    "for seed in SEEDS:\n",
    "    print(f\"\\n=== 使用随机种子 {seed} 进行数据划分 ===\")\n",
    "    set_seed(seed)\n",
    "\n",
    "    # 数据集划分  # Dataset partitioning\n",
    "    train_df, val_df = train_test_split(\n",
    "        df,\n",
    "        test_size=0.01,  # 根据需要调整验证集比例    # Adjust the validation set ratio as needed\n",
    "        random_state=seed,\n",
    "        shuffle=True\n",
    "    )\n",
    "\n",
    "    # 遍历所有图像特征类型   # Iterate over all image feature types\n",
    "    for feature_type in image_feature_types:\n",
    "        print(f\"\\n=== 训练使用 {feature_type} 特征的模型 ===\")\n",
    "\n",
    "        # 定义输入维度   # Define input dimensions\n",
    "        input_dim_image = FEATURE_DIMENSIONS.get(feature_type)\n",
    "        if input_dim_image is None:\n",
    "            print(f\"未定义特征类型 {feature_type} 的输入维度。跳过...\")\n",
    "            continue\n",
    "\n",
    "        # 创建训练集和验证集  # Create training set and validation set\n",
    "        train_dataset = IncomeDataset(train_df, image_feature_type=feature_type)\n",
    "        val_dataset = IncomeDataset(val_df, image_feature_type=feature_type)\n",
    "\n",
    "        # 创建数据加载器    # Create a data loader\n",
    "        train_loader = DataLoader(train_dataset, batch_size=batch_size, shuffle=True, num_workers=0)\n",
    "        val_loader = DataLoader(val_dataset, batch_size=batch_size, shuffle=False, num_workers=0)\n",
    "\n",
    "        # 实例化模型      # Instantiate Model\n",
    "        model = RegressionModelWithAttention(\n",
    "            input_dim_image=input_dim_image,\n",
    "            input_dim_other_text=input_dim_other_text,\n",
    "            input_dim_text_desc=input_dim_text_desc,\n",
    "            input_dim_numerical=input_dim_numerical,\n",
    "            attention_dim=128\n",
    "        ).to(device)\n",
    "\n",
    "        # 定义优化器   # Train and evaluate the model\n",
    "        optimizer = torch.optim.Adam(model.parameters(), lr=1e-3)\n",
    "\n",
    "        # 训练和评估模型\n",
    "        train_losses, val_losses, rmse, mae, r2 = train_and_evaluate(\n",
    "            model,\n",
    "            train_loader,\n",
    "            val_loader,\n",
    "            criterion,\n",
    "            optimizer,\n",
    "            device,\n",
    "            num_epochs=num_epochs\n",
    "        )\n",
    "\n",
    "        # 记录最终的训练和验证损失以及评估指标  # Record the final training and validation losses as well as evaluation metrics\n",
    "        experiment_results['feature_type'].append(feature_type)\n",
    "        experiment_results['seed'].append(seed)\n",
    "        experiment_results['final_train_loss'].append(train_losses[-1])\n",
    "        experiment_results['final_val_loss'].append(val_losses[-1])\n",
    "        experiment_results['RMSE'].append(rmse)\n",
    "        experiment_results['MAE'].append(mae)\n",
    "        experiment_results['R2'].append(r2)\n",
    "\n",
    "        # 保存模型（可选） # Save the model (optional)\n",
    "        model_save_path = f\"regression_model_{feature_type}_seed{seed}.pth\"\n",
    "        torch.save(model.state_dict(), model_save_path)\n",
    "        print(f\"模型已保存为 {model_save_path}\")\n",
    "        print(f\"评估指标 - RMSE: {rmse:.4f}, MAE: {mae:.4f}, R²: {r2:.4f}\")\n",
    "\n",
    "# 将实验结果转换为DataFrame\n",
    "results_df = pd.DataFrame(experiment_results)\n",
    "# 可选：保存实验结果到CSV文件  # Optional: Save the experimental results to a CSV file\n",
    "results_df.to_csv(\"inv3_Mpnet_experiment_results.csv\", index=False, encoding='utf-8-sig')\n",
    "print(\"实验结果已保存到 'experiment_results.csv'\")"
   ]
  },
  {
   "cell_type": "code",
   "execution_count": null,
   "id": "8ac9c141-c65e-4aa7-9216-40f19b7f85cd",
   "metadata": {},
   "outputs": [],
   "source": []
  }
 ],
 "metadata": {
  "kernelspec": {
   "display_name": "Python 3 (ipykernel)",
   "language": "python",
   "name": "python3"
  },
  "language_info": {
   "codemirror_mode": {
    "name": "ipython",
    "version": 3
   },
   "file_extension": ".py",
   "mimetype": "text/x-python",
   "name": "python",
   "nbconvert_exporter": "python",
   "pygments_lexer": "ipython3",
   "version": "3.12.4"
  }
 },
 "nbformat": 4,
 "nbformat_minor": 5
}
