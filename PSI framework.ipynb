{
 "cells": [
  {
   "cell_type": "code",
   "execution_count": 7,
   "id": "ec5f5c6f-7eae-4a3d-b324-cde0db7b9349",
   "metadata": {},
   "outputs": [
    {
     "name": "stderr",
     "output_type": "stream",
     "text": [
      "Extract BERT text features: 100%|██████████| 7/7 [00:00<00:00, 38.52it/s]\n",
      "Extract BERT text features: 100%|██████████| 7/7 [00:00<00:00, 38.89it/s]"
     ]
    },
    {
     "name": "stdout",
     "output_type": "stream",
     "text": [
      "BERT text feature extraction is complete.\n"
     ]
    },
    {
     "name": "stderr",
     "output_type": "stream",
     "text": [
      "\n"
     ]
    }
   ],
   "source": [
    "import pandas as pd\n",
    "import numpy as np\n",
    "import torch\n",
    "import torch.nn as nn\n",
    "from torch.utils.data import Dataset, DataLoader\n",
    "from sklearn.preprocessing import StandardScaler\n",
    "from sklearn.decomposition import PCA\n",
    "from transformers import AutoTokenizer, AutoModel, ViTFeatureExtractor, ViTModel\n",
    "from PIL import Image\n",
    "import joblib\n",
    "import os\n",
    "from tqdm import tqdm\n",
    "from sklearn.model_selection import train_test_split\n",
    "\n",
    "# Define equipment\n",
    "device = torch.device('cuda' if torch.cuda.is_available() else 'cpu')\n",
    "\n",
    "# Example DataFrame (please adjust according to your data source)\n",
    "# df = pd.read_csv('your_data.csv')  # Load DataFrame based on your data source\n",
    "# Read CSV file\n",
    "df = pd.read_csv(\"Data.csv\", encoding='utf-8', encoding_errors='ignore')\n",
    "\n",
    "# Rename the column (ensure consistency with the previous one)\n",
    "df.columns = [\n",
    "    'ProductName', 'PrimaryCategory', 'SecondaryCategory', 'url', 'sku', 'TextDescription', 'Discount',\n",
    "    'DiscountedPrice', 'Price', 'StarRating', 'Sales', 'Revenue', 'CleanedReviews', 'cc-1', 'cc-2',\n",
    "    'cc-3', 'DRC-1', 'DRC-2', 'DRC-3', 'RCV-1', 'RCV-2',\n",
    "    'RCV-3', 'RSV-1', 'RSV-2', 'RSV-3'\n",
    "]\n",
    "\n",
    "# Convert data type\n",
    "numeric_columns = ['StarRating', 'Discount', 'DiscountedPrice', 'Price', 'Sales', 'Revenue']\n",
    "for col in numeric_columns:\n",
    "    df[col] = pd.to_numeric(df[col], errors='coerce')\n",
    "\n",
    "# Recalculate income (if necessary)\n",
    "df['Revenue'] = df['DiscountedPrice'] * df['Sales']\n",
    "df['Revenue'] = np.log10(df['Revenue'])\n",
    "\n",
    "# Numerical characteristics\n",
    "numerical_features = ['DiscountedPrice', 'Discount', 'Price']\n",
    "\n",
    "# Standardized numerical features\n",
    "scaler = StandardScaler()\n",
    "df[numerical_features] = scaler.fit_transform(df[numerical_features])\n",
    "\n",
    "# Save the Scaler for future use\n",
    "joblib.dump(scaler, 'scaler.pkl')\n",
    "\n",
    "\n",
    "# Set up device\n",
    "device = torch.device('cuda') if torch.cuda.is_available() else torch.device('cpu')\n",
    "\n",
    "# Initialize BERT model and tokenizer\n",
    "bert_model_name = r\"/root/.cache/huggingface/hub/models--google-bert--bert-base-uncased/snapshots/86b5e0934494bd15c9632b12f734a8a67f723594\"\n",
    "tokenizer_bert = AutoTokenizer.from_pretrained(bert_model_name)\n",
    "model_bert = AutoModel.from_pretrained(bert_model_name, from_tf=False)  # Set according to the actual situation\n",
    "model_bert.to(device)\n",
    "model_bert.eval()  # Set to evaluation mode\n",
    "\n",
    "def extract_text_features(texts, model, tokenizer, device, batch_size=32, max_length=128):\n",
    "    all_features = []\n",
    "    num_samples = len(texts)\n",
    "    num_batches = int(np.ceil(num_samples / batch_size))\n",
    "    \n",
    "    with torch.no_grad():  # Disable gradient computation\n",
    "        for batch_idx in tqdm(range(num_batches), desc=\"Extract BERT text features\"):\n",
    "            start_idx = batch_idx * batch_size\n",
    "            end_idx = min(start_idx + batch_size, num_samples)\n",
    "            batch_texts = texts[start_idx:end_idx]\n",
    "            \n",
    "            # Tokenize with fixed max_length and padding to max_length\n",
    "            inputs = tokenizer(\n",
    "                batch_texts,\n",
    "                return_tensors='pt',\n",
    "                padding='max_length',  # Fixed padding to max_length\n",
    "                truncation=True,\n",
    "                max_length=max_length,\n",
    "            )\n",
    "            inputs = {key: val.to(device) for key, val in inputs.items()}\n",
    "            \n",
    "            # Obtain model output\n",
    "            outputs = model(**inputs)\n",
    "            \n",
    "            # Perform average pooling on the last hidden state to obtain fixed-dimensional features for each sample\n",
    "            encoded_text = outputs.last_hidden_state.mean(dim=1).cpu().numpy()  # [batch_size, hidden_size]\n",
    "            \n",
    "            # Add to feature list\n",
    "            all_features.append(encoded_text)\n",
    "    \n",
    "    # Stack the features of all batches to obtain [num_samples, hidden_size]\n",
    "    all_features = np.vstack(all_features)\n",
    "    return all_features\n",
    "\n",
    "\n",
    "\n",
    "# Ensure that all text fields are of string type\n",
    "text_columns = [ 'ProductName', 'PrimaryCategory', 'SecondaryCategory', 'TextDescription', 'cc-1']\n",
    "for col in text_columns:\n",
    "    df[col] = df[col].astype(str)\n",
    "\n",
    "# Build review and basic text features\n",
    "other_texts = (\n",
    "    df['ProductName'] + \" \" +\n",
    "    df['PrimaryCategory'] + \" \" +\n",
    "    df['SecondaryCategory'] + \" \" +\n",
    "    df['cc-1']\n",
    ").tolist()\n",
    "\n",
    "# Construct \"text description\" features\n",
    "text_descs = df['TextDescription'].tolist()\n",
    "\n",
    "# Extracting the \"review and basic text encoding\" features of BERT\n",
    "bert_other_text_features = extract_text_features(\n",
    "    other_texts,\n",
    "    model_bert,\n",
    "    tokenizer_bert,\n",
    "    device,\n",
    "    batch_size=32,\n",
    "    max_length=128\n",
    ")\n",
    "df['other_text_features'] = list(bert_other_text_features)\n",
    "\n",
    "# Extract the \"text description\" feature of BERT\n",
    "bert_text_desc_features = extract_text_features(\n",
    "    text_descs,\n",
    "    model_bert,\n",
    "    tokenizer_bert,\n",
    "    device,\n",
    "    batch_size=32,\n",
    "    max_length=128\n",
    ")\n",
    "df['text_desc_features'] = list(bert_text_desc_features)\n",
    "\n",
    "print(\"BERT text feature extraction is complete.\")\n"
   ]
  },
  {
   "cell_type": "code",
   "execution_count": 8,
   "id": "14956016-3a69-4eb0-96e5-89bf466199fe",
   "metadata": {},
   "outputs": [
    {
     "name": "stderr",
     "output_type": "stream",
     "text": [
      "/root/miniconda3/lib/python3.12/site-packages/transformers/models/vit/feature_extraction_vit.py:28: FutureWarning: The class ViTFeatureExtractor is deprecated and will be removed in version 5 of Transformers. Please use ViTImageProcessor instead.\n",
      "  warnings.warn(\n",
      "Some weights of ViTModel were not initialized from the model checkpoint at /root/.cache/huggingface/hub/models--google--vit-base-patch16-224/snapshots/3f49326eb077187dfe1c2a2bb15fbd74e6ab91e3 and are newly initialized: ['vit.pooler.dense.bias', 'vit.pooler.dense.weight']\n",
      "You should probably TRAIN this model on a down-stream task to be able to use it for predictions and inference.\n",
      "Extract image features: 100%|██████████| 202/202 [00:09<00:00, 21.45it/s]\n"
     ]
    }
   ],
   "source": [
    "import torchvision.models as models\n",
    "import torchvision\n",
    "from torchvision import transforms\n",
    "# Image feature extraction\n",
    "def vit_encoding(image_dir, num_images=2194, device='cpu'):\n",
    "    vit_list = []\n",
    "    model_name = \"/root/.cache/huggingface/hub/models--google--vit-base-patch16-224/snapshots/3f49326eb077187dfe1c2a2bb15fbd74e6ab91e3\"\n",
    "    feature_extractor = ViTFeatureExtractor.from_pretrained(model_name)\n",
    "    model = ViTModel.from_pretrained(model_name).to(device).eval()\n",
    "\n",
    "    def process_image(image_path):\n",
    "        try:\n",
    "            image = Image.open(image_path).convert('RGB')\n",
    "            return feature_extractor(images=image, return_tensors=\"pt\")\n",
    "        except Exception as e:\n",
    "            print(f\"无法打开图片 {image_path}: {e}\")\n",
    "            # Return a tensor of all zeros to maintain consistent dimensions\n",
    "            return feature_extractor(images=Image.new('RGB', (224, 224), (0, 0, 0)), return_tensors=\"pt\")\n",
    "\n",
    "    for i in tqdm(range(num_images), desc=\"Extract image features\"):\n",
    "        image_path = os.path.join(image_dir, f\"{i}.jpg\")\n",
    "        inputs = process_image(image_path)\n",
    "        inputs = {k: v.to(device) for k, v in inputs.items()}\n",
    "        with torch.no_grad():\n",
    "            outputs = model(**inputs)\n",
    "            cls_token = outputs.last_hidden_state[:, 0, :].cpu().numpy()  # [1, hidden_size]\n",
    "            vit_list.append(cls_token.squeeze())\n",
    "    \n",
    "    vit_np = np.array(vit_list)  # [num_images, hidden_size]\n",
    "    \n",
    "    # PCA dimensionality reduction\n",
    "    vit_pca = PCA(n_components=50)\n",
    "    vit_features_pca = vit_pca.fit_transform(vit_np)\n",
    "    \n",
    "    joblib.dump(vit_pca, 'vit_pca.pkl')\n",
    "    \n",
    "    return vit_features_pca\n",
    "\n",
    "# Define using your image path\n",
    "image_directory = r\"/root\"\n",
    "vit_features = vit_encoding(image_directory, num_images=len(df))\n",
    "df['vit_features'] = list(vit_features)\n"
   ]
  },
  {
   "cell_type": "code",
   "execution_count": 9,
   "id": "b265e94f-c66b-4ac2-9fc1-2dfbfa2b0be5",
   "metadata": {},
   "outputs": [],
   "source": [
    "# PSI framework\n",
    "class RegressionModelWithAttention(nn.Module):\n",
    "    def __init__(self, input_dim_image, input_dim_other_text, input_dim_text_desc, input_dim_numerical, attention_dim=128):\n",
    "        super(RegressionModelWithAttention, self).__init__()\n",
    "        # Image feature processing\n",
    "        self.image_dense = nn.Sequential(\n",
    "            nn.Linear(input_dim_image, 256),\n",
    "            nn.Sigmoid(),\n",
    "            nn.Dropout(0.5)\n",
    "        )\n",
    "        # Other text feature processing\n",
    "        self.other_text_dense = nn.Sequential(\n",
    "            nn.Linear(input_dim_other_text, 256),\n",
    "            nn.Sigmoid(),\n",
    "            nn.Dropout(0.5)\n",
    "        )\n",
    "        # \"Text description\" feature processing (removing the self-attention layer)\n",
    "        self.text_dense = nn.Sequential(\n",
    "            nn.Linear(input_dim_text_desc, 256),\n",
    "            nn.ReLU(),\n",
    "            nn.Dropout(0.5)\n",
    "        )\n",
    "        # Numerical feature processing\n",
    "        self.numerical_dense = nn.Sequential(\n",
    "            nn.Linear(input_dim_numerical, 64),\n",
    "            nn.Sigmoid(),\n",
    "            nn.Dropout(0.3)\n",
    "        )\n",
    "        # Fusion featuresArithmeticError\n",
    "        self.fusion = nn.Sequential(\n",
    "            nn.Linear(256 + 256 , 256),  # Image features + textual descriptive features\n",
    "            nn.Sigmoid(),\n",
    "            nn.Dropout(0.5)\n",
    "        )\n",
    "        self.combined = nn.Sequential(\n",
    "            nn.Linear(256 + 256 + 64, 128),  # Other text features + fused features + numerical features\n",
    "            nn.Sigmoid(),\n",
    "            nn.Dropout(0.3)\n",
    "        )\n",
    "        # Output layer\n",
    "        self.output = nn.Linear(128, 1)  # Regression output\n",
    "\n",
    "    def forward(self, image, other_text, text_desc, numerical):\n",
    "        # Image feature processing\n",
    "        image_features = self.image_dense(image)  # [batch_size, 256]\n",
    "        # Other text feature processing\n",
    "        other_text_features = self.other_text_dense(other_text)  # [batch_size, 256]\n",
    "        # \"Text description\" feature processing (directly passed to the fully connected layer)\n",
    "        text_desc_features = self.text_dense(text_desc)  # [batch_size, 256]\n",
    "        # Numerical feature processing\n",
    "        numerical_features = self.numerical_dense(numerical)  # [batch_size, 64]\n",
    "        # Integrate image, other text, and textual descriptive features\n",
    "        fused = torch.cat((image_features, text_desc_features), dim=1)  # [batch_size, 768]\n",
    "        fused = self.fusion(fused)  # [batch_size, 256]\n",
    "        # Concatenation with numerical features\n",
    "        combined = torch.cat((fused, numerical_features,other_text_features), dim=1)  # [batch_size, 320]\n",
    "        combined = self.combined(combined)  # [batch_size, 128]\n",
    "        # output\n",
    "        output = self.output(combined)  # [batch_size, 1]\n",
    "        return output\n"
   ]
  },
  {
   "cell_type": "code",
   "execution_count": 10,
   "id": "50359dbb-b11f-410d-b671-260682758e98",
   "metadata": {},
   "outputs": [],
   "source": [
    "# Define the Dataset class\n",
    "class IncomeDataset(Dataset):\n",
    "    def __init__(self, df, image_feature_type='vit'):\n",
    "        \"\"\"\n",
    "        Initialize the dataset.\n",
    "        Parameters:\n",
    "            df (pd.DataFrame): Data frame.\n",
    "        \"\"\"\n",
    "        supported_features = ['vit_features']\n",
    "        feature_mapping = {\n",
    "            'vit': 'vit_features',\n",
    "        }\n",
    "        if image_feature_type not in feature_mapping:\n",
    "            raise ValueError(f\"Unsupported image feature type: {image_feature_type}. Supported types: {list(feature_mapping.keys())}\")\n",
    "        selected_feature = feature_mapping[image_feature_type]\n",
    "        self.image_features = np.stack(df[selected_feature].values)\n",
    "        self.other_text_features = np.stack(df['other_text_features'].values)\n",
    "        self.text_desc_features = np.stack(df['text_desc_features'].values)\n",
    "        self.numerical_features = df[[ 'Discount','DiscountedPrice', 'Price']].values\n",
    "        self.targets = df['Revenue'].values.astype(np.float32)\n",
    "        self.image_feature_type = image_feature_type\n",
    "\n",
    "    def __len__(self):\n",
    "        return len(self.targets)\n",
    "\n",
    "    def __getitem__(self, idx):\n",
    "        image = self.image_features[idx]\n",
    "        other_text = self.other_text_features[idx]\n",
    "        text_desc = self.text_desc_features[idx]\n",
    "        numerical = self.numerical_features[idx]\n",
    "        target = self.targets[idx]\n",
    "        return {\n",
    "            'image': torch.tensor(image, dtype=torch.float32),\n",
    "            'other_text': torch.tensor(other_text, dtype=torch.float32),\n",
    "            'text_desc': torch.tensor(text_desc, dtype=torch.float32),\n",
    "            'numerical': torch.tensor(numerical, dtype=torch.float32),\n",
    "            'target': torch.tensor(target, dtype=torch.float32)\n",
    "        }\n"
   ]
  },
  {
   "cell_type": "code",
   "execution_count": 11,
   "id": "0d58db33-f53d-4b60-bdfe-2ac5ebf72121",
   "metadata": {},
   "outputs": [],
   "source": [
    "# Define evaluation function\n",
    "def evaluate_model(model, dataloader, device):\n",
    "    model.eval()  # Set the model to evaluation mode\n",
    "    all_predictions = []\n",
    "    all_targets = []\n",
    "    with torch.no_grad():  # Turn off gradient computation\n",
    "        for batch in dataloader:\n",
    "            image = batch['image'].to(device)\n",
    "            other_text = batch['other_text'].to(device)\n",
    "            text_desc = batch['text_desc'].to(device)\n",
    "            numerical = batch['numerical'].to(device)\n",
    "            targets = batch['target'].to(device)\n",
    "            outputs = model(image, other_text, text_desc, numerical)\n",
    "            all_predictions.extend(outputs.cpu().numpy())\n",
    "            all_targets.extend(targets.cpu().numpy())\n",
    "    # Convert to a NumPy array and apply the inverse transformation (assuming a logarithmic transformation has been applied)\n",
    "    all_predictions_log = all_predictions\n",
    "    all_predictions = 10**np.array(all_predictions).flatten()\n",
    "    all_targets_log = all_targets\n",
    "    all_targets = 10**np.array(all_targets).flatten()\n",
    "    # Calculate indicators\n",
    "\n",
    "    return all_predictions_log, all_targets_log, all_targets, all_predictions\n",
    "\n",
    "\n",
    "# Define training and evaluation functions\n",
    "def train_and_evaluate(model, train_loader, val_loader, criterion, optimizer, device, num_epochs=100):\n",
    "    \"\"\"\n",
    "    Train and evaluate the model.\n",
    "\n",
    "    Parameters:\n",
    "        model (nn.Module): The model to be trained.\n",
    "        train_loader (DataLoader): Training data loader.\n",
    "        val_loader (DataLoader): Validation data loader.\n",
    "        criterion: loss function.\n",
    "        optimizer: optimizer.\n",
    "        device (str): Device type.\n",
    "        num_epochs (int): Number of training epochs.\n",
    "    \"\"\"\n",
    "    train_losses = []\n",
    "    val_losses = []\n",
    "    for epoch in range(num_epochs):\n",
    "        model.train()\n",
    "        train_loss = 0.0\n",
    "        for batch in tqdm(train_loader, desc=f\"Epoch {epoch+1}/{num_epochs} - Training\"):\n",
    "            optimizer.zero_grad()\n",
    "            outputs = model(\n",
    "                batch['image'].to(device),\n",
    "                batch['other_text'].to(device),\n",
    "                batch['text_desc'].to(device),\n",
    "                batch['numerical'].to(device)\n",
    "            ).squeeze()\n",
    "            loss = criterion(outputs, batch['target'].to(device))\n",
    "            loss.backward()\n",
    "            optimizer.step()\n",
    "            train_loss += loss.item() * batch['image'].size(0)\n",
    "        train_loss /= len(train_loader.dataset)\n",
    "        train_losses.append(train_loss)\n",
    "\n",
    "        # validation phase\n",
    "        model.eval()\n",
    "        val_loss = 0.0\n",
    "        with torch.no_grad():\n",
    "            for batch in tqdm(val_loader, desc=f\"Epoch {epoch+1}/{num_epochs} - Validation\"):\n",
    "                outputs = model(\n",
    "                    batch['image'].to(device),\n",
    "                    batch['other_text'].to(device),\n",
    "                    batch['text_desc'].to(device),\n",
    "                    batch['numerical'].to(device)\n",
    "                ).squeeze()\n",
    "                loss = criterion(outputs, batch['target'].to(device))\n",
    "                val_loss += loss.item() * batch['image'].size(0)\n",
    "        val_loss /= len(val_loader.dataset)\n",
    "        val_losses.append(val_loss)\n",
    "\n",
    "        print(f\"Epoch {epoch+1}/{num_epochs} - Train Loss: {train_loss:.4f} - Val Loss: {val_loss:.4f}\")\n",
    "\n",
    "    # Evaluate after all epochs have ended\n",
    "    all_predictions_log, all_targets_log, all_targets, all_predictions = evaluate_model(model, val_loader, device)\n",
    "    return all_predictions_log, all_targets_log, all_targets, all_predictions"
   ]
  },
  {
   "cell_type": "code",
   "execution_count": 12,
   "id": "bd25cb9c-817d-401b-930c-a108bddbfeda",
   "metadata": {},
   "outputs": [
    {
     "name": "stdout",
     "output_type": "stream",
     "text": [
      "Using device: cuda\n",
      "\n",
      "=== 使用随机种子 42 进行数据划分 ===\n",
      "\n",
      "=== 训练使用 vit 特征的模型 ===\n"
     ]
    },
    {
     "name": "stderr",
     "output_type": "stream",
     "text": [
      "Epoch 1/1000 - Training: 100%|██████████| 7/7 [00:00<00:00, 284.60it/s]\n",
      "Epoch 1/1000 - Validation: 100%|██████████| 1/1 [00:00<00:00, 1077.67it/s]\n"
     ]
    },
    {
     "name": "stdout",
     "output_type": "stream",
     "text": [
      "Epoch 1/1000 - Train Loss: 3.2546 - Val Loss: 0.2174\n"
     ]
    },
    {
     "name": "stderr",
     "output_type": "stream",
     "text": [
      "Epoch 2/1000 - Training: 100%|██████████| 7/7 [00:00<00:00, 360.02it/s]\n",
      "Epoch 2/1000 - Validation: 100%|██████████| 1/1 [00:00<00:00, 1016.80it/s]\n"
     ]
    },
    {
     "name": "stdout",
     "output_type": "stream",
     "text": [
      "Epoch 2/1000 - Train Loss: 0.4197 - Val Loss: 0.1305\n"
     ]
    },
    {
     "name": "stderr",
     "output_type": "stream",
     "text": [
      "Epoch 3/1000 - Training: 100%|██████████| 7/7 [00:00<00:00, 370.14it/s]\n",
      "Epoch 3/1000 - Validation: 100%|██████████| 1/1 [00:00<00:00, 803.51it/s]\n"
     ]
    },
    {
     "name": "stdout",
     "output_type": "stream",
     "text": [
      "Epoch 3/1000 - Train Loss: 0.5610 - Val Loss: 0.1164\n"
     ]
    },
    {
     "name": "stderr",
     "output_type": "stream",
     "text": [
      "Epoch 4/1000 - Training: 100%|██████████| 7/7 [00:00<00:00, 366.52it/s]\n",
      "Epoch 4/1000 - Validation: 100%|██████████| 1/1 [00:00<00:00, 992.26it/s]\n"
     ]
    },
    {
     "name": "stdout",
     "output_type": "stream",
     "text": [
      "Epoch 4/1000 - Train Loss: 0.4188 - Val Loss: 0.0814\n"
     ]
    },
    {
     "name": "stderr",
     "output_type": "stream",
     "text": [
      "Epoch 5/1000 - Training: 100%|██████████| 7/7 [00:00<00:00, 341.91it/s]\n",
      "Epoch 5/1000 - Validation: 100%|██████████| 1/1 [00:00<00:00, 627.42it/s]\n"
     ]
    },
    {
     "name": "stdout",
     "output_type": "stream",
     "text": [
      "Epoch 5/1000 - Train Loss: 0.3672 - Val Loss: 0.1284\n"
     ]
    },
    {
     "name": "stderr",
     "output_type": "stream",
     "text": [
      "Epoch 6/1000 - Training: 100%|██████████| 7/7 [00:00<00:00, 288.74it/s]\n",
      "Epoch 6/1000 - Validation: 100%|██████████| 1/1 [00:00<00:00, 784.57it/s]\n"
     ]
    },
    {
     "name": "stdout",
     "output_type": "stream",
     "text": [
      "Epoch 6/1000 - Train Loss: 0.3290 - Val Loss: 0.1845\n"
     ]
    },
    {
     "name": "stderr",
     "output_type": "stream",
     "text": [
      "Epoch 7/1000 - Training: 100%|██████████| 7/7 [00:00<00:00, 290.74it/s]\n",
      "Epoch 7/1000 - Validation: 100%|██████████| 1/1 [00:00<00:00, 772.01it/s]\n"
     ]
    },
    {
     "name": "stdout",
     "output_type": "stream",
     "text": [
      "Epoch 7/1000 - Train Loss: 0.3046 - Val Loss: 0.1949\n"
     ]
    },
    {
     "name": "stderr",
     "output_type": "stream",
     "text": [
      "Epoch 8/1000 - Training: 100%|██████████| 7/7 [00:00<00:00, 288.16it/s]\n",
      "Epoch 8/1000 - Validation: 100%|██████████| 1/1 [00:00<00:00, 687.59it/s]\n"
     ]
    },
    {
     "name": "stdout",
     "output_type": "stream",
     "text": [
      "Epoch 8/1000 - Train Loss: 0.3354 - Val Loss: 0.1589\n"
     ]
    },
    {
     "name": "stderr",
     "output_type": "stream",
     "text": [
      "Epoch 9/1000 - Training: 100%|██████████| 7/7 [00:00<00:00, 252.51it/s]\n",
      "Epoch 9/1000 - Validation: 100%|██████████| 1/1 [00:00<00:00, 446.63it/s]\n"
     ]
    },
    {
     "name": "stdout",
     "output_type": "stream",
     "text": [
      "Epoch 9/1000 - Train Loss: 0.3319 - Val Loss: 0.1349\n"
     ]
    },
    {
     "name": "stderr",
     "output_type": "stream",
     "text": [
      "Epoch 10/1000 - Training: 100%|██████████| 7/7 [00:00<00:00, 301.26it/s]\n",
      "Epoch 10/1000 - Validation: 100%|██████████| 1/1 [00:00<00:00, 878.39it/s]\n"
     ]
    },
    {
     "name": "stdout",
     "output_type": "stream",
     "text": [
      "Epoch 10/1000 - Train Loss: 0.3374 - Val Loss: 0.1345\n"
     ]
    },
    {
     "name": "stderr",
     "output_type": "stream",
     "text": [
      "Epoch 11/1000 - Training: 100%|██████████| 7/7 [00:00<00:00, 365.25it/s]\n",
      "Epoch 11/1000 - Validation: 100%|██████████| 1/1 [00:00<00:00, 1104.05it/s]\n"
     ]
    },
    {
     "name": "stdout",
     "output_type": "stream",
     "text": [
      "Epoch 11/1000 - Train Loss: 0.3184 - Val Loss: 0.1367\n"
     ]
    },
    {
     "name": "stderr",
     "output_type": "stream",
     "text": [
      "Epoch 12/1000 - Training: 100%|██████████| 7/7 [00:00<00:00, 378.31it/s]\n",
      "Epoch 12/1000 - Validation: 100%|██████████| 1/1 [00:00<00:00, 852.85it/s]\n"
     ]
    },
    {
     "name": "stdout",
     "output_type": "stream",
     "text": [
      "Epoch 12/1000 - Train Loss: 0.2991 - Val Loss: 0.1324\n"
     ]
    },
    {
     "name": "stderr",
     "output_type": "stream",
     "text": [
      "Epoch 13/1000 - Training: 100%|██████████| 7/7 [00:00<00:00, 369.02it/s]\n",
      "Epoch 13/1000 - Validation: 100%|██████████| 1/1 [00:00<00:00, 1075.46it/s]\n"
     ]
    },
    {
     "name": "stdout",
     "output_type": "stream",
     "text": [
      "Epoch 13/1000 - Train Loss: 0.3425 - Val Loss: 0.1222\n"
     ]
    },
    {
     "name": "stderr",
     "output_type": "stream",
     "text": [
      "Epoch 14/1000 - Training: 100%|██████████| 7/7 [00:00<00:00, 367.24it/s]\n",
      "Epoch 14/1000 - Validation: 100%|██████████| 1/1 [00:00<00:00, 770.02it/s]\n"
     ]
    },
    {
     "name": "stdout",
     "output_type": "stream",
     "text": [
      "Epoch 14/1000 - Train Loss: 0.3232 - Val Loss: 0.1168\n"
     ]
    },
    {
     "name": "stderr",
     "output_type": "stream",
     "text": [
      "Epoch 15/1000 - Training: 100%|██████████| 7/7 [00:00<00:00, 364.95it/s]\n",
      "Epoch 15/1000 - Validation: 100%|██████████| 1/1 [00:00<00:00, 799.22it/s]\n"
     ]
    },
    {
     "name": "stdout",
     "output_type": "stream",
     "text": [
      "Epoch 15/1000 - Train Loss: 0.3285 - Val Loss: 0.1299\n"
     ]
    },
    {
     "name": "stderr",
     "output_type": "stream",
     "text": [
      "Epoch 16/1000 - Training: 100%|██████████| 7/7 [00:00<00:00, 363.71it/s]\n",
      "Epoch 16/1000 - Validation: 100%|██████████| 1/1 [00:00<00:00, 778.74it/s]\n"
     ]
    },
    {
     "name": "stdout",
     "output_type": "stream",
     "text": [
      "Epoch 16/1000 - Train Loss: 0.2895 - Val Loss: 0.1210\n"
     ]
    },
    {
     "name": "stderr",
     "output_type": "stream",
     "text": [
      "Epoch 17/1000 - Training: 100%|██████████| 7/7 [00:00<00:00, 371.58it/s]\n",
      "Epoch 17/1000 - Validation: 100%|██████████| 1/1 [00:00<00:00, 985.04it/s]\n"
     ]
    },
    {
     "name": "stdout",
     "output_type": "stream",
     "text": [
      "Epoch 17/1000 - Train Loss: 0.3125 - Val Loss: 0.1008\n"
     ]
    },
    {
     "name": "stderr",
     "output_type": "stream",
     "text": [
      "Epoch 18/1000 - Training: 100%|██████████| 7/7 [00:00<00:00, 371.89it/s]\n",
      "Epoch 18/1000 - Validation: 100%|██████████| 1/1 [00:00<00:00, 936.23it/s]\n"
     ]
    },
    {
     "name": "stdout",
     "output_type": "stream",
     "text": [
      "Epoch 18/1000 - Train Loss: 0.3121 - Val Loss: 0.0958\n"
     ]
    },
    {
     "name": "stderr",
     "output_type": "stream",
     "text": [
      "Epoch 19/1000 - Training: 100%|██████████| 7/7 [00:00<00:00, 369.11it/s]\n",
      "Epoch 19/1000 - Validation: 100%|██████████| 1/1 [00:00<00:00, 971.35it/s]\n"
     ]
    },
    {
     "name": "stdout",
     "output_type": "stream",
     "text": [
      "Epoch 19/1000 - Train Loss: 0.2733 - Val Loss: 0.0957\n"
     ]
    },
    {
     "name": "stderr",
     "output_type": "stream",
     "text": [
      "Epoch 20/1000 - Training: 100%|██████████| 7/7 [00:00<00:00, 368.77it/s]\n",
      "Epoch 20/1000 - Validation: 100%|██████████| 1/1 [00:00<00:00, 797.85it/s]\n"
     ]
    },
    {
     "name": "stdout",
     "output_type": "stream",
     "text": [
      "Epoch 20/1000 - Train Loss: 0.2870 - Val Loss: 0.0919\n"
     ]
    },
    {
     "name": "stderr",
     "output_type": "stream",
     "text": [
      "Epoch 21/1000 - Training: 100%|██████████| 7/7 [00:00<00:00, 363.37it/s]\n",
      "Epoch 21/1000 - Validation: 100%|██████████| 1/1 [00:00<00:00, 808.31it/s]\n"
     ]
    },
    {
     "name": "stdout",
     "output_type": "stream",
     "text": [
      "Epoch 21/1000 - Train Loss: 0.2851 - Val Loss: 0.0854\n"
     ]
    },
    {
     "name": "stderr",
     "output_type": "stream",
     "text": [
      "Epoch 22/1000 - Training: 100%|██████████| 7/7 [00:00<00:00, 364.17it/s]\n",
      "Epoch 22/1000 - Validation: 100%|██████████| 1/1 [00:00<00:00, 923.25it/s]\n"
     ]
    },
    {
     "name": "stdout",
     "output_type": "stream",
     "text": [
      "Epoch 22/1000 - Train Loss: 0.2596 - Val Loss: 0.0876\n"
     ]
    },
    {
     "name": "stderr",
     "output_type": "stream",
     "text": [
      "Epoch 23/1000 - Training: 100%|██████████| 7/7 [00:00<00:00, 370.85it/s]\n",
      "Epoch 23/1000 - Validation: 100%|██████████| 1/1 [00:00<00:00, 999.83it/s]\n"
     ]
    },
    {
     "name": "stdout",
     "output_type": "stream",
     "text": [
      "Epoch 23/1000 - Train Loss: 0.2840 - Val Loss: 0.0897\n"
     ]
    },
    {
     "name": "stderr",
     "output_type": "stream",
     "text": [
      "Epoch 24/1000 - Training: 100%|██████████| 7/7 [00:00<00:00, 374.10it/s]\n",
      "Epoch 24/1000 - Validation: 100%|██████████| 1/1 [00:00<00:00, 667.56it/s]\n"
     ]
    },
    {
     "name": "stdout",
     "output_type": "stream",
     "text": [
      "Epoch 24/1000 - Train Loss: 0.2847 - Val Loss: 0.0895\n"
     ]
    },
    {
     "name": "stderr",
     "output_type": "stream",
     "text": [
      "Epoch 25/1000 - Training: 100%|██████████| 7/7 [00:00<00:00, 256.89it/s]\n",
      "Epoch 25/1000 - Validation: 100%|██████████| 1/1 [00:00<00:00, 796.49it/s]\n"
     ]
    },
    {
     "name": "stdout",
     "output_type": "stream",
     "text": [
      "Epoch 25/1000 - Train Loss: 0.2658 - Val Loss: 0.0843\n"
     ]
    },
    {
     "name": "stderr",
     "output_type": "stream",
     "text": [
      "Epoch 26/1000 - Training: 100%|██████████| 7/7 [00:00<00:00, 368.29it/s]\n",
      "Epoch 26/1000 - Validation: 100%|██████████| 1/1 [00:00<00:00, 1132.68it/s]\n"
     ]
    },
    {
     "name": "stdout",
     "output_type": "stream",
     "text": [
      "Epoch 26/1000 - Train Loss: 0.2234 - Val Loss: 0.0829\n"
     ]
    },
    {
     "name": "stderr",
     "output_type": "stream",
     "text": [
      "Epoch 27/1000 - Training: 100%|██████████| 7/7 [00:00<00:00, 372.63it/s]\n",
      "Epoch 27/1000 - Validation: 100%|██████████| 1/1 [00:00<00:00, 834.36it/s]\n"
     ]
    },
    {
     "name": "stdout",
     "output_type": "stream",
     "text": [
      "Epoch 27/1000 - Train Loss: 0.2260 - Val Loss: 0.0883\n"
     ]
    },
    {
     "name": "stderr",
     "output_type": "stream",
     "text": [
      "Epoch 28/1000 - Training: 100%|██████████| 7/7 [00:00<00:00, 367.05it/s]\n",
      "Epoch 28/1000 - Validation: 100%|██████████| 1/1 [00:00<00:00, 895.64it/s]\n"
     ]
    },
    {
     "name": "stdout",
     "output_type": "stream",
     "text": [
      "Epoch 28/1000 - Train Loss: 0.2238 - Val Loss: 0.0869\n"
     ]
    },
    {
     "name": "stderr",
     "output_type": "stream",
     "text": [
      "Epoch 29/1000 - Training: 100%|██████████| 7/7 [00:00<00:00, 372.49it/s]\n",
      "Epoch 29/1000 - Validation: 100%|██████████| 1/1 [00:00<00:00, 1160.25it/s]\n"
     ]
    },
    {
     "name": "stdout",
     "output_type": "stream",
     "text": [
      "Epoch 29/1000 - Train Loss: 0.2336 - Val Loss: 0.0849\n"
     ]
    },
    {
     "name": "stderr",
     "output_type": "stream",
     "text": [
      "Epoch 30/1000 - Training: 100%|██████████| 7/7 [00:00<00:00, 375.91it/s]\n",
      "Epoch 30/1000 - Validation: 100%|██████████| 1/1 [00:00<00:00, 862.85it/s]\n"
     ]
    },
    {
     "name": "stdout",
     "output_type": "stream",
     "text": [
      "Epoch 30/1000 - Train Loss: 0.2252 - Val Loss: 0.0889\n"
     ]
    },
    {
     "name": "stderr",
     "output_type": "stream",
     "text": [
      "Epoch 31/1000 - Training: 100%|██████████| 7/7 [00:00<00:00, 370.73it/s]\n",
      "Epoch 31/1000 - Validation: 100%|██████████| 1/1 [00:00<00:00, 923.04it/s]\n"
     ]
    },
    {
     "name": "stdout",
     "output_type": "stream",
     "text": [
      "Epoch 31/1000 - Train Loss: 0.2473 - Val Loss: 0.0855\n"
     ]
    },
    {
     "name": "stderr",
     "output_type": "stream",
     "text": [
      "Epoch 32/1000 - Training: 100%|██████████| 7/7 [00:00<00:00, 381.54it/s]\n",
      "Epoch 32/1000 - Validation: 100%|██████████| 1/1 [00:00<00:00, 893.74it/s]\n"
     ]
    },
    {
     "name": "stdout",
     "output_type": "stream",
     "text": [
      "Epoch 32/1000 - Train Loss: 0.2149 - Val Loss: 0.0876\n"
     ]
    },
    {
     "name": "stderr",
     "output_type": "stream",
     "text": [
      "Epoch 33/1000 - Training: 100%|██████████| 7/7 [00:00<00:00, 375.71it/s]\n",
      "Epoch 33/1000 - Validation: 100%|██████████| 1/1 [00:00<00:00, 819.84it/s]\n"
     ]
    },
    {
     "name": "stdout",
     "output_type": "stream",
     "text": [
      "Epoch 33/1000 - Train Loss: 0.2495 - Val Loss: 0.0863\n"
     ]
    },
    {
     "name": "stderr",
     "output_type": "stream",
     "text": [
      "Epoch 34/1000 - Training: 100%|██████████| 7/7 [00:00<00:00, 369.46it/s]\n",
      "Epoch 34/1000 - Validation: 100%|██████████| 1/1 [00:00<00:00, 1039.22it/s]\n"
     ]
    },
    {
     "name": "stdout",
     "output_type": "stream",
     "text": [
      "Epoch 34/1000 - Train Loss: 0.2096 - Val Loss: 0.0902\n"
     ]
    },
    {
     "name": "stderr",
     "output_type": "stream",
     "text": [
      "Epoch 35/1000 - Training: 100%|██████████| 7/7 [00:00<00:00, 372.01it/s]\n",
      "Epoch 35/1000 - Validation: 100%|██████████| 1/1 [00:00<00:00, 798.46it/s]\n"
     ]
    },
    {
     "name": "stdout",
     "output_type": "stream",
     "text": [
      "Epoch 35/1000 - Train Loss: 0.1913 - Val Loss: 0.0913\n"
     ]
    },
    {
     "name": "stderr",
     "output_type": "stream",
     "text": [
      "Epoch 36/1000 - Training: 100%|██████████| 7/7 [00:00<00:00, 367.59it/s]\n",
      "Epoch 36/1000 - Validation: 100%|██████████| 1/1 [00:00<00:00, 812.85it/s]\n"
     ]
    },
    {
     "name": "stdout",
     "output_type": "stream",
     "text": [
      "Epoch 36/1000 - Train Loss: 0.1673 - Val Loss: 0.0902\n"
     ]
    },
    {
     "name": "stderr",
     "output_type": "stream",
     "text": [
      "Epoch 37/1000 - Training: 100%|██████████| 7/7 [00:00<00:00, 370.50it/s]\n",
      "Epoch 37/1000 - Validation: 100%|██████████| 1/1 [00:00<00:00, 1147.87it/s]\n"
     ]
    },
    {
     "name": "stdout",
     "output_type": "stream",
     "text": [
      "Epoch 37/1000 - Train Loss: 0.1986 - Val Loss: 0.0873\n"
     ]
    },
    {
     "name": "stderr",
     "output_type": "stream",
     "text": [
      "Epoch 38/1000 - Training: 100%|██████████| 7/7 [00:00<00:00, 371.78it/s]\n",
      "Epoch 38/1000 - Validation: 100%|██████████| 1/1 [00:00<00:00, 869.83it/s]\n"
     ]
    },
    {
     "name": "stdout",
     "output_type": "stream",
     "text": [
      "Epoch 38/1000 - Train Loss: 0.1904 - Val Loss: 0.0863\n"
     ]
    },
    {
     "name": "stderr",
     "output_type": "stream",
     "text": [
      "Epoch 39/1000 - Training: 100%|██████████| 7/7 [00:00<00:00, 369.36it/s]\n",
      "Epoch 39/1000 - Validation: 100%|██████████| 1/1 [00:00<00:00, 1130.54it/s]\n"
     ]
    },
    {
     "name": "stdout",
     "output_type": "stream",
     "text": [
      "Epoch 39/1000 - Train Loss: 0.1797 - Val Loss: 0.0857\n"
     ]
    },
    {
     "name": "stderr",
     "output_type": "stream",
     "text": [
      "Epoch 40/1000 - Training: 100%|██████████| 7/7 [00:00<00:00, 372.15it/s]\n",
      "Epoch 40/1000 - Validation: 100%|██████████| 1/1 [00:00<00:00, 1116.10it/s]\n"
     ]
    },
    {
     "name": "stdout",
     "output_type": "stream",
     "text": [
      "Epoch 40/1000 - Train Loss: 0.1693 - Val Loss: 0.1010\n"
     ]
    },
    {
     "name": "stderr",
     "output_type": "stream",
     "text": [
      "Epoch 41/1000 - Training: 100%|██████████| 7/7 [00:00<00:00, 373.32it/s]\n",
      "Epoch 41/1000 - Validation: 100%|██████████| 1/1 [00:00<00:00, 1109.60it/s]\n"
     ]
    },
    {
     "name": "stdout",
     "output_type": "stream",
     "text": [
      "Epoch 41/1000 - Train Loss: 0.1792 - Val Loss: 0.0849\n"
     ]
    },
    {
     "name": "stderr",
     "output_type": "stream",
     "text": [
      "Epoch 42/1000 - Training: 100%|██████████| 7/7 [00:00<00:00, 369.97it/s]\n",
      "Epoch 42/1000 - Validation: 100%|██████████| 1/1 [00:00<00:00, 855.98it/s]\n"
     ]
    },
    {
     "name": "stdout",
     "output_type": "stream",
     "text": [
      "Epoch 42/1000 - Train Loss: 0.1725 - Val Loss: 0.0994\n"
     ]
    },
    {
     "name": "stderr",
     "output_type": "stream",
     "text": [
      "Epoch 43/1000 - Training: 100%|██████████| 7/7 [00:00<00:00, 367.88it/s]\n",
      "Epoch 43/1000 - Validation: 100%|██████████| 1/1 [00:00<00:00, 981.58it/s]\n"
     ]
    },
    {
     "name": "stdout",
     "output_type": "stream",
     "text": [
      "Epoch 43/1000 - Train Loss: 0.1569 - Val Loss: 0.0978\n"
     ]
    },
    {
     "name": "stderr",
     "output_type": "stream",
     "text": [
      "Epoch 44/1000 - Training: 100%|██████████| 7/7 [00:00<00:00, 371.17it/s]\n",
      "Epoch 44/1000 - Validation: 100%|██████████| 1/1 [00:00<00:00, 849.91it/s]\n"
     ]
    },
    {
     "name": "stdout",
     "output_type": "stream",
     "text": [
      "Epoch 44/1000 - Train Loss: 0.1910 - Val Loss: 0.0842\n"
     ]
    },
    {
     "name": "stderr",
     "output_type": "stream",
     "text": [
      "Epoch 45/1000 - Training: 100%|██████████| 7/7 [00:00<00:00, 368.62it/s]\n",
      "Epoch 45/1000 - Validation: 100%|██████████| 1/1 [00:00<00:00, 907.27it/s]\n"
     ]
    },
    {
     "name": "stdout",
     "output_type": "stream",
     "text": [
      "Epoch 45/1000 - Train Loss: 0.1957 - Val Loss: 0.0981\n"
     ]
    },
    {
     "name": "stderr",
     "output_type": "stream",
     "text": [
      "Epoch 46/1000 - Training: 100%|██████████| 7/7 [00:00<00:00, 376.16it/s]\n",
      "Epoch 46/1000 - Validation: 100%|██████████| 1/1 [00:00<00:00, 982.73it/s]\n"
     ]
    },
    {
     "name": "stdout",
     "output_type": "stream",
     "text": [
      "Epoch 46/1000 - Train Loss: 0.1535 - Val Loss: 0.0870\n"
     ]
    },
    {
     "name": "stderr",
     "output_type": "stream",
     "text": [
      "Epoch 47/1000 - Training: 100%|██████████| 7/7 [00:00<00:00, 372.03it/s]\n",
      "Epoch 47/1000 - Validation: 100%|██████████| 1/1 [00:00<00:00, 868.75it/s]\n"
     ]
    },
    {
     "name": "stdout",
     "output_type": "stream",
     "text": [
      "Epoch 47/1000 - Train Loss: 0.1522 - Val Loss: 0.0848\n"
     ]
    },
    {
     "name": "stderr",
     "output_type": "stream",
     "text": [
      "Epoch 48/1000 - Training: 100%|██████████| 7/7 [00:00<00:00, 367.21it/s]\n",
      "Epoch 48/1000 - Validation: 100%|██████████| 1/1 [00:00<00:00, 1097.12it/s]\n"
     ]
    },
    {
     "name": "stdout",
     "output_type": "stream",
     "text": [
      "Epoch 48/1000 - Train Loss: 0.1676 - Val Loss: 0.0808\n"
     ]
    },
    {
     "name": "stderr",
     "output_type": "stream",
     "text": [
      "Epoch 49/1000 - Training: 100%|██████████| 7/7 [00:00<00:00, 375.41it/s]\n",
      "Epoch 49/1000 - Validation: 100%|██████████| 1/1 [00:00<00:00, 881.71it/s]\n"
     ]
    },
    {
     "name": "stdout",
     "output_type": "stream",
     "text": [
      "Epoch 49/1000 - Train Loss: 0.1610 - Val Loss: 0.1008\n"
     ]
    },
    {
     "name": "stderr",
     "output_type": "stream",
     "text": [
      "Epoch 50/1000 - Training: 100%|██████████| 7/7 [00:00<00:00, 372.24it/s]\n",
      "Epoch 50/1000 - Validation: 100%|██████████| 1/1 [00:00<00:00, 861.25it/s]\n"
     ]
    },
    {
     "name": "stdout",
     "output_type": "stream",
     "text": [
      "Epoch 50/1000 - Train Loss: 0.1548 - Val Loss: 0.0909\n"
     ]
    },
    {
     "name": "stderr",
     "output_type": "stream",
     "text": [
      "Epoch 51/1000 - Training: 100%|██████████| 7/7 [00:00<00:00, 370.42it/s]\n",
      "Epoch 51/1000 - Validation: 100%|██████████| 1/1 [00:00<00:00, 990.39it/s]\n"
     ]
    },
    {
     "name": "stdout",
     "output_type": "stream",
     "text": [
      "Epoch 51/1000 - Train Loss: 0.1754 - Val Loss: 0.0839\n"
     ]
    },
    {
     "name": "stderr",
     "output_type": "stream",
     "text": [
      "Epoch 52/1000 - Training: 100%|██████████| 7/7 [00:00<00:00, 371.29it/s]\n",
      "Epoch 52/1000 - Validation: 100%|██████████| 1/1 [00:00<00:00, 823.87it/s]\n"
     ]
    },
    {
     "name": "stdout",
     "output_type": "stream",
     "text": [
      "Epoch 52/1000 - Train Loss: 0.1464 - Val Loss: 0.0818\n"
     ]
    },
    {
     "name": "stderr",
     "output_type": "stream",
     "text": [
      "Epoch 53/1000 - Training: 100%|██████████| 7/7 [00:00<00:00, 367.63it/s]\n",
      "Epoch 53/1000 - Validation: 100%|██████████| 1/1 [00:00<00:00, 741.96it/s]\n"
     ]
    },
    {
     "name": "stdout",
     "output_type": "stream",
     "text": [
      "Epoch 53/1000 - Train Loss: 0.1397 - Val Loss: 0.0904\n"
     ]
    },
    {
     "name": "stderr",
     "output_type": "stream",
     "text": [
      "Epoch 54/1000 - Training: 100%|██████████| 7/7 [00:00<00:00, 368.91it/s]\n",
      "Epoch 54/1000 - Validation: 100%|██████████| 1/1 [00:00<00:00, 872.18it/s]\n"
     ]
    },
    {
     "name": "stdout",
     "output_type": "stream",
     "text": [
      "Epoch 54/1000 - Train Loss: 0.1555 - Val Loss: 0.0957\n"
     ]
    },
    {
     "name": "stderr",
     "output_type": "stream",
     "text": [
      "Epoch 55/1000 - Training: 100%|██████████| 7/7 [00:00<00:00, 373.81it/s]\n",
      "Epoch 55/1000 - Validation: 100%|██████████| 1/1 [00:00<00:00, 975.19it/s]\n"
     ]
    },
    {
     "name": "stdout",
     "output_type": "stream",
     "text": [
      "Epoch 55/1000 - Train Loss: 0.1490 - Val Loss: 0.0901\n"
     ]
    },
    {
     "name": "stderr",
     "output_type": "stream",
     "text": [
      "Epoch 56/1000 - Training: 100%|██████████| 7/7 [00:00<00:00, 372.39it/s]\n",
      "Epoch 56/1000 - Validation: 100%|██████████| 1/1 [00:00<00:00, 815.38it/s]\n"
     ]
    },
    {
     "name": "stdout",
     "output_type": "stream",
     "text": [
      "Epoch 56/1000 - Train Loss: 0.1392 - Val Loss: 0.0955\n"
     ]
    },
    {
     "name": "stderr",
     "output_type": "stream",
     "text": [
      "Epoch 57/1000 - Training: 100%|██████████| 7/7 [00:00<00:00, 364.15it/s]\n",
      "Epoch 57/1000 - Validation: 100%|██████████| 1/1 [00:00<00:00, 854.06it/s]\n"
     ]
    },
    {
     "name": "stdout",
     "output_type": "stream",
     "text": [
      "Epoch 57/1000 - Train Loss: 0.1462 - Val Loss: 0.0818\n"
     ]
    },
    {
     "name": "stderr",
     "output_type": "stream",
     "text": [
      "Epoch 58/1000 - Training: 100%|██████████| 7/7 [00:00<00:00, 368.32it/s]\n",
      "Epoch 58/1000 - Validation: 100%|██████████| 1/1 [00:00<00:00, 943.39it/s]\n"
     ]
    },
    {
     "name": "stdout",
     "output_type": "stream",
     "text": [
      "Epoch 58/1000 - Train Loss: 0.1606 - Val Loss: 0.0784\n"
     ]
    },
    {
     "name": "stderr",
     "output_type": "stream",
     "text": [
      "Epoch 59/1000 - Training: 100%|██████████| 7/7 [00:00<00:00, 342.67it/s]\n",
      "Epoch 59/1000 - Validation: 100%|██████████| 1/1 [00:00<00:00, 918.59it/s]\n"
     ]
    },
    {
     "name": "stdout",
     "output_type": "stream",
     "text": [
      "Epoch 59/1000 - Train Loss: 0.1374 - Val Loss: 0.0903\n"
     ]
    },
    {
     "name": "stderr",
     "output_type": "stream",
     "text": [
      "Epoch 60/1000 - Training: 100%|██████████| 7/7 [00:00<00:00, 359.99it/s]\n",
      "Epoch 60/1000 - Validation: 100%|██████████| 1/1 [00:00<00:00, 983.42it/s]\n"
     ]
    },
    {
     "name": "stdout",
     "output_type": "stream",
     "text": [
      "Epoch 60/1000 - Train Loss: 0.1477 - Val Loss: 0.0742\n"
     ]
    },
    {
     "name": "stderr",
     "output_type": "stream",
     "text": [
      "Epoch 61/1000 - Training: 100%|██████████| 7/7 [00:00<00:00, 365.29it/s]\n",
      "Epoch 61/1000 - Validation: 100%|██████████| 1/1 [00:00<00:00, 796.79it/s]\n"
     ]
    },
    {
     "name": "stdout",
     "output_type": "stream",
     "text": [
      "Epoch 61/1000 - Train Loss: 0.1719 - Val Loss: 0.0744\n"
     ]
    },
    {
     "name": "stderr",
     "output_type": "stream",
     "text": [
      "Epoch 62/1000 - Training: 100%|██████████| 7/7 [00:00<00:00, 364.45it/s]\n",
      "Epoch 62/1000 - Validation: 100%|██████████| 1/1 [00:00<00:00, 1098.27it/s]\n"
     ]
    },
    {
     "name": "stdout",
     "output_type": "stream",
     "text": [
      "Epoch 62/1000 - Train Loss: 0.1321 - Val Loss: 0.0977\n"
     ]
    },
    {
     "name": "stderr",
     "output_type": "stream",
     "text": [
      "Epoch 63/1000 - Training: 100%|██████████| 7/7 [00:00<00:00, 368.05it/s]\n",
      "Epoch 63/1000 - Validation: 100%|██████████| 1/1 [00:00<00:00, 885.06it/s]\n"
     ]
    },
    {
     "name": "stdout",
     "output_type": "stream",
     "text": [
      "Epoch 63/1000 - Train Loss: 0.1360 - Val Loss: 0.0750\n"
     ]
    },
    {
     "name": "stderr",
     "output_type": "stream",
     "text": [
      "Epoch 64/1000 - Training: 100%|██████████| 7/7 [00:00<00:00, 364.31it/s]\n",
      "Epoch 64/1000 - Validation: 100%|██████████| 1/1 [00:00<00:00, 1084.08it/s]\n"
     ]
    },
    {
     "name": "stdout",
     "output_type": "stream",
     "text": [
      "Epoch 64/1000 - Train Loss: 0.1573 - Val Loss: 0.0988\n"
     ]
    },
    {
     "name": "stderr",
     "output_type": "stream",
     "text": [
      "Epoch 65/1000 - Training: 100%|██████████| 7/7 [00:00<00:00, 367.53it/s]\n",
      "Epoch 65/1000 - Validation: 100%|██████████| 1/1 [00:00<00:00, 983.19it/s]\n"
     ]
    },
    {
     "name": "stdout",
     "output_type": "stream",
     "text": [
      "Epoch 65/1000 - Train Loss: 0.1528 - Val Loss: 0.0928\n"
     ]
    },
    {
     "name": "stderr",
     "output_type": "stream",
     "text": [
      "Epoch 66/1000 - Training: 100%|██████████| 7/7 [00:00<00:00, 371.35it/s]\n",
      "Epoch 66/1000 - Validation: 100%|██████████| 1/1 [00:00<00:00, 768.75it/s]\n"
     ]
    },
    {
     "name": "stdout",
     "output_type": "stream",
     "text": [
      "Epoch 66/1000 - Train Loss: 0.1305 - Val Loss: 0.0781\n"
     ]
    },
    {
     "name": "stderr",
     "output_type": "stream",
     "text": [
      "Epoch 67/1000 - Training: 100%|██████████| 7/7 [00:00<00:00, 364.36it/s]\n",
      "Epoch 67/1000 - Validation: 100%|██████████| 1/1 [00:00<00:00, 627.80it/s]\n"
     ]
    },
    {
     "name": "stdout",
     "output_type": "stream",
     "text": [
      "Epoch 67/1000 - Train Loss: 0.1285 - Val Loss: 0.0895\n"
     ]
    },
    {
     "name": "stderr",
     "output_type": "stream",
     "text": [
      "Epoch 68/1000 - Training: 100%|██████████| 7/7 [00:00<00:00, 296.86it/s]\n",
      "Epoch 68/1000 - Validation: 100%|██████████| 1/1 [00:00<00:00, 1149.75it/s]\n"
     ]
    },
    {
     "name": "stdout",
     "output_type": "stream",
     "text": [
      "Epoch 68/1000 - Train Loss: 0.1419 - Val Loss: 0.0787\n"
     ]
    },
    {
     "name": "stderr",
     "output_type": "stream",
     "text": [
      "Epoch 69/1000 - Training: 100%|██████████| 7/7 [00:00<00:00, 367.62it/s]\n",
      "Epoch 69/1000 - Validation: 100%|██████████| 1/1 [00:00<00:00, 799.83it/s]\n"
     ]
    },
    {
     "name": "stdout",
     "output_type": "stream",
     "text": [
      "Epoch 69/1000 - Train Loss: 0.1423 - Val Loss: 0.1127\n"
     ]
    },
    {
     "name": "stderr",
     "output_type": "stream",
     "text": [
      "Epoch 70/1000 - Training: 100%|██████████| 7/7 [00:00<00:00, 366.06it/s]\n",
      "Epoch 70/1000 - Validation: 100%|██████████| 1/1 [00:00<00:00, 927.74it/s]\n"
     ]
    },
    {
     "name": "stdout",
     "output_type": "stream",
     "text": [
      "Epoch 70/1000 - Train Loss: 0.1329 - Val Loss: 0.0859\n"
     ]
    },
    {
     "name": "stderr",
     "output_type": "stream",
     "text": [
      "Epoch 71/1000 - Training: 100%|██████████| 7/7 [00:00<00:00, 369.62it/s]\n",
      "Epoch 71/1000 - Validation: 100%|██████████| 1/1 [00:00<00:00, 989.22it/s]\n"
     ]
    },
    {
     "name": "stdout",
     "output_type": "stream",
     "text": [
      "Epoch 71/1000 - Train Loss: 0.1224 - Val Loss: 0.0840\n"
     ]
    },
    {
     "name": "stderr",
     "output_type": "stream",
     "text": [
      "Epoch 72/1000 - Training: 100%|██████████| 7/7 [00:00<00:00, 354.51it/s]\n",
      "Epoch 72/1000 - Validation: 100%|██████████| 1/1 [00:00<00:00, 913.99it/s]\n"
     ]
    },
    {
     "name": "stdout",
     "output_type": "stream",
     "text": [
      "Epoch 72/1000 - Train Loss: 0.1546 - Val Loss: 0.0971\n"
     ]
    },
    {
     "name": "stderr",
     "output_type": "stream",
     "text": [
      "Epoch 73/1000 - Training: 100%|██████████| 7/7 [00:00<00:00, 367.89it/s]\n",
      "Epoch 73/1000 - Validation: 100%|██████████| 1/1 [00:00<00:00, 1007.04it/s]\n"
     ]
    },
    {
     "name": "stdout",
     "output_type": "stream",
     "text": [
      "Epoch 73/1000 - Train Loss: 0.1187 - Val Loss: 0.0743\n"
     ]
    },
    {
     "name": "stderr",
     "output_type": "stream",
     "text": [
      "Epoch 74/1000 - Training: 100%|██████████| 7/7 [00:00<00:00, 378.73it/s]\n",
      "Epoch 74/1000 - Validation: 100%|██████████| 1/1 [00:00<00:00, 876.19it/s]\n"
     ]
    },
    {
     "name": "stdout",
     "output_type": "stream",
     "text": [
      "Epoch 74/1000 - Train Loss: 0.1412 - Val Loss: 0.0966\n"
     ]
    },
    {
     "name": "stderr",
     "output_type": "stream",
     "text": [
      "Epoch 75/1000 - Training: 100%|██████████| 7/7 [00:00<00:00, 371.78it/s]\n",
      "Epoch 75/1000 - Validation: 100%|██████████| 1/1 [00:00<00:00, 1005.59it/s]\n"
     ]
    },
    {
     "name": "stdout",
     "output_type": "stream",
     "text": [
      "Epoch 75/1000 - Train Loss: 0.1599 - Val Loss: 0.0846\n"
     ]
    },
    {
     "name": "stderr",
     "output_type": "stream",
     "text": [
      "Epoch 76/1000 - Training: 100%|██████████| 7/7 [00:00<00:00, 370.84it/s]\n",
      "Epoch 76/1000 - Validation: 100%|██████████| 1/1 [00:00<00:00, 885.43it/s]\n"
     ]
    },
    {
     "name": "stdout",
     "output_type": "stream",
     "text": [
      "Epoch 76/1000 - Train Loss: 0.1436 - Val Loss: 0.0967\n"
     ]
    },
    {
     "name": "stderr",
     "output_type": "stream",
     "text": [
      "Epoch 77/1000 - Training: 100%|██████████| 7/7 [00:00<00:00, 315.31it/s]\n",
      "Epoch 77/1000 - Validation: 100%|██████████| 1/1 [00:00<00:00, 981.12it/s]\n"
     ]
    },
    {
     "name": "stdout",
     "output_type": "stream",
     "text": [
      "Epoch 77/1000 - Train Loss: 0.1363 - Val Loss: 0.0684\n"
     ]
    },
    {
     "name": "stderr",
     "output_type": "stream",
     "text": [
      "Epoch 78/1000 - Training: 100%|██████████| 7/7 [00:00<00:00, 277.87it/s]\n",
      "Epoch 78/1000 - Validation: 100%|██████████| 1/1 [00:00<00:00, 556.72it/s]\n"
     ]
    },
    {
     "name": "stdout",
     "output_type": "stream",
     "text": [
      "Epoch 78/1000 - Train Loss: 0.1178 - Val Loss: 0.0762\n"
     ]
    },
    {
     "name": "stderr",
     "output_type": "stream",
     "text": [
      "Epoch 79/1000 - Training: 100%|██████████| 7/7 [00:00<00:00, 256.53it/s]\n",
      "Epoch 79/1000 - Validation: 100%|██████████| 1/1 [00:00<00:00, 667.03it/s]\n"
     ]
    },
    {
     "name": "stdout",
     "output_type": "stream",
     "text": [
      "Epoch 79/1000 - Train Loss: 0.1520 - Val Loss: 0.0714\n"
     ]
    },
    {
     "name": "stderr",
     "output_type": "stream",
     "text": [
      "Epoch 80/1000 - Training: 100%|██████████| 7/7 [00:00<00:00, 280.42it/s]\n",
      "Epoch 80/1000 - Validation: 100%|██████████| 1/1 [00:00<00:00, 770.16it/s]\n"
     ]
    },
    {
     "name": "stdout",
     "output_type": "stream",
     "text": [
      "Epoch 80/1000 - Train Loss: 0.1814 - Val Loss: 0.0667\n"
     ]
    },
    {
     "name": "stderr",
     "output_type": "stream",
     "text": [
      "Epoch 81/1000 - Training: 100%|██████████| 7/7 [00:00<00:00, 276.60it/s]\n",
      "Epoch 81/1000 - Validation: 100%|██████████| 1/1 [00:00<00:00, 621.10it/s]\n"
     ]
    },
    {
     "name": "stdout",
     "output_type": "stream",
     "text": [
      "Epoch 81/1000 - Train Loss: 0.1383 - Val Loss: 0.0975\n"
     ]
    },
    {
     "name": "stderr",
     "output_type": "stream",
     "text": [
      "Epoch 82/1000 - Training: 100%|██████████| 7/7 [00:00<00:00, 277.19it/s]\n",
      "Epoch 82/1000 - Validation: 100%|██████████| 1/1 [00:00<00:00, 777.88it/s]\n"
     ]
    },
    {
     "name": "stdout",
     "output_type": "stream",
     "text": [
      "Epoch 82/1000 - Train Loss: 0.1312 - Val Loss: 0.0977\n"
     ]
    },
    {
     "name": "stderr",
     "output_type": "stream",
     "text": [
      "Epoch 83/1000 - Training: 100%|██████████| 7/7 [00:00<00:00, 283.82it/s]\n",
      "Epoch 83/1000 - Validation: 100%|██████████| 1/1 [00:00<00:00, 858.96it/s]\n"
     ]
    },
    {
     "name": "stdout",
     "output_type": "stream",
     "text": [
      "Epoch 83/1000 - Train Loss: 0.1273 - Val Loss: 0.0857\n"
     ]
    },
    {
     "name": "stderr",
     "output_type": "stream",
     "text": [
      "Epoch 84/1000 - Training: 100%|██████████| 7/7 [00:00<00:00, 318.99it/s]\n",
      "Epoch 84/1000 - Validation: 100%|██████████| 1/1 [00:00<00:00, 736.62it/s]\n"
     ]
    },
    {
     "name": "stdout",
     "output_type": "stream",
     "text": [
      "Epoch 84/1000 - Train Loss: 0.1165 - Val Loss: 0.0787\n"
     ]
    },
    {
     "name": "stderr",
     "output_type": "stream",
     "text": [
      "Epoch 85/1000 - Training: 100%|██████████| 7/7 [00:00<00:00, 314.89it/s]\n",
      "Epoch 85/1000 - Validation: 100%|██████████| 1/1 [00:00<00:00, 973.83it/s]\n"
     ]
    },
    {
     "name": "stdout",
     "output_type": "stream",
     "text": [
      "Epoch 85/1000 - Train Loss: 0.1057 - Val Loss: 0.0666\n"
     ]
    },
    {
     "name": "stderr",
     "output_type": "stream",
     "text": [
      "Epoch 86/1000 - Training: 100%|██████████| 7/7 [00:00<00:00, 322.53it/s]\n",
      "Epoch 86/1000 - Validation: 100%|██████████| 1/1 [00:00<00:00, 876.92it/s]\n"
     ]
    },
    {
     "name": "stdout",
     "output_type": "stream",
     "text": [
      "Epoch 86/1000 - Train Loss: 0.1151 - Val Loss: 0.0669\n"
     ]
    },
    {
     "name": "stderr",
     "output_type": "stream",
     "text": [
      "Epoch 87/1000 - Training: 100%|██████████| 7/7 [00:00<00:00, 327.89it/s]\n",
      "Epoch 87/1000 - Validation: 100%|██████████| 1/1 [00:00<00:00, 827.93it/s]\n"
     ]
    },
    {
     "name": "stdout",
     "output_type": "stream",
     "text": [
      "Epoch 87/1000 - Train Loss: 0.0925 - Val Loss: 0.0651\n"
     ]
    },
    {
     "name": "stderr",
     "output_type": "stream",
     "text": [
      "Epoch 88/1000 - Training: 100%|██████████| 7/7 [00:00<00:00, 330.10it/s]\n",
      "Epoch 88/1000 - Validation: 100%|██████████| 1/1 [00:00<00:00, 781.79it/s]\n"
     ]
    },
    {
     "name": "stdout",
     "output_type": "stream",
     "text": [
      "Epoch 88/1000 - Train Loss: 0.1064 - Val Loss: 0.0640\n"
     ]
    },
    {
     "name": "stderr",
     "output_type": "stream",
     "text": [
      "Epoch 89/1000 - Training: 100%|██████████| 7/7 [00:00<00:00, 326.29it/s]\n",
      "Epoch 89/1000 - Validation: 100%|██████████| 1/1 [00:00<00:00, 847.16it/s]\n"
     ]
    },
    {
     "name": "stdout",
     "output_type": "stream",
     "text": [
      "Epoch 89/1000 - Train Loss: 0.1107 - Val Loss: 0.0845\n"
     ]
    },
    {
     "name": "stderr",
     "output_type": "stream",
     "text": [
      "Epoch 90/1000 - Training: 100%|██████████| 7/7 [00:00<00:00, 325.27it/s]\n",
      "Epoch 90/1000 - Validation: 100%|██████████| 1/1 [00:00<00:00, 724.78it/s]\n"
     ]
    },
    {
     "name": "stdout",
     "output_type": "stream",
     "text": [
      "Epoch 90/1000 - Train Loss: 0.1336 - Val Loss: 0.0789\n"
     ]
    },
    {
     "name": "stderr",
     "output_type": "stream",
     "text": [
      "Epoch 91/1000 - Training: 100%|██████████| 7/7 [00:00<00:00, 324.30it/s]\n",
      "Epoch 91/1000 - Validation: 100%|██████████| 1/1 [00:00<00:00, 785.01it/s]\n"
     ]
    },
    {
     "name": "stdout",
     "output_type": "stream",
     "text": [
      "Epoch 91/1000 - Train Loss: 0.1255 - Val Loss: 0.0777\n"
     ]
    },
    {
     "name": "stderr",
     "output_type": "stream",
     "text": [
      "Epoch 92/1000 - Training: 100%|██████████| 7/7 [00:00<00:00, 325.58it/s]\n",
      "Epoch 92/1000 - Validation: 100%|██████████| 1/1 [00:00<00:00, 986.66it/s]\n"
     ]
    },
    {
     "name": "stdout",
     "output_type": "stream",
     "text": [
      "Epoch 92/1000 - Train Loss: 0.1272 - Val Loss: 0.0687\n"
     ]
    },
    {
     "name": "stderr",
     "output_type": "stream",
     "text": [
      "Epoch 93/1000 - Training: 100%|██████████| 7/7 [00:00<00:00, 322.73it/s]\n",
      "Epoch 93/1000 - Validation: 100%|██████████| 1/1 [00:00<00:00, 765.38it/s]\n"
     ]
    },
    {
     "name": "stdout",
     "output_type": "stream",
     "text": [
      "Epoch 93/1000 - Train Loss: 0.1067 - Val Loss: 0.0706\n"
     ]
    },
    {
     "name": "stderr",
     "output_type": "stream",
     "text": [
      "Epoch 94/1000 - Training: 100%|██████████| 7/7 [00:00<00:00, 322.03it/s]\n",
      "Epoch 94/1000 - Validation: 100%|██████████| 1/1 [00:00<00:00, 732.37it/s]\n"
     ]
    },
    {
     "name": "stdout",
     "output_type": "stream",
     "text": [
      "Epoch 94/1000 - Train Loss: 0.1065 - Val Loss: 0.0537\n"
     ]
    },
    {
     "name": "stderr",
     "output_type": "stream",
     "text": [
      "Epoch 95/1000 - Training: 100%|██████████| 7/7 [00:00<00:00, 323.76it/s]\n",
      "Epoch 95/1000 - Validation: 100%|██████████| 1/1 [00:00<00:00, 731.22it/s]\n"
     ]
    },
    {
     "name": "stdout",
     "output_type": "stream",
     "text": [
      "Epoch 95/1000 - Train Loss: 0.1087 - Val Loss: 0.0660\n"
     ]
    },
    {
     "name": "stderr",
     "output_type": "stream",
     "text": [
      "Epoch 96/1000 - Training: 100%|██████████| 7/7 [00:00<00:00, 320.88it/s]\n",
      "Epoch 96/1000 - Validation: 100%|██████████| 1/1 [00:00<00:00, 816.97it/s]\n"
     ]
    },
    {
     "name": "stdout",
     "output_type": "stream",
     "text": [
      "Epoch 96/1000 - Train Loss: 0.0971 - Val Loss: 0.0508\n"
     ]
    },
    {
     "name": "stderr",
     "output_type": "stream",
     "text": [
      "Epoch 97/1000 - Training: 100%|██████████| 7/7 [00:00<00:00, 324.52it/s]\n",
      "Epoch 97/1000 - Validation: 100%|██████████| 1/1 [00:00<00:00, 763.43it/s]\n"
     ]
    },
    {
     "name": "stdout",
     "output_type": "stream",
     "text": [
      "Epoch 97/1000 - Train Loss: 0.1034 - Val Loss: 0.0631\n"
     ]
    },
    {
     "name": "stderr",
     "output_type": "stream",
     "text": [
      "Epoch 98/1000 - Training: 100%|██████████| 7/7 [00:00<00:00, 325.40it/s]\n",
      "Epoch 98/1000 - Validation: 100%|██████████| 1/1 [00:00<00:00, 864.80it/s]\n"
     ]
    },
    {
     "name": "stdout",
     "output_type": "stream",
     "text": [
      "Epoch 98/1000 - Train Loss: 0.1291 - Val Loss: 0.0705\n"
     ]
    },
    {
     "name": "stderr",
     "output_type": "stream",
     "text": [
      "Epoch 99/1000 - Training: 100%|██████████| 7/7 [00:00<00:00, 326.35it/s]\n",
      "Epoch 99/1000 - Validation: 100%|██████████| 1/1 [00:00<00:00, 740.91it/s]\n"
     ]
    },
    {
     "name": "stdout",
     "output_type": "stream",
     "text": [
      "Epoch 99/1000 - Train Loss: 0.1096 - Val Loss: 0.0625\n"
     ]
    },
    {
     "name": "stderr",
     "output_type": "stream",
     "text": [
      "Epoch 100/1000 - Training: 100%|██████████| 7/7 [00:00<00:00, 317.97it/s]\n",
      "Epoch 100/1000 - Validation: 100%|██████████| 1/1 [00:00<00:00, 806.44it/s]\n"
     ]
    },
    {
     "name": "stdout",
     "output_type": "stream",
     "text": [
      "Epoch 100/1000 - Train Loss: 0.0952 - Val Loss: 0.0797\n"
     ]
    },
    {
     "name": "stderr",
     "output_type": "stream",
     "text": [
      "Epoch 101/1000 - Training: 100%|██████████| 7/7 [00:00<00:00, 323.40it/s]\n",
      "Epoch 101/1000 - Validation: 100%|██████████| 1/1 [00:00<00:00, 763.02it/s]\n"
     ]
    },
    {
     "name": "stdout",
     "output_type": "stream",
     "text": [
      "Epoch 101/1000 - Train Loss: 0.1081 - Val Loss: 0.0630\n"
     ]
    },
    {
     "name": "stderr",
     "output_type": "stream",
     "text": [
      "Epoch 102/1000 - Training: 100%|██████████| 7/7 [00:00<00:00, 323.77it/s]\n",
      "Epoch 102/1000 - Validation: 100%|██████████| 1/1 [00:00<00:00, 1008.49it/s]\n"
     ]
    },
    {
     "name": "stdout",
     "output_type": "stream",
     "text": [
      "Epoch 102/1000 - Train Loss: 0.1127 - Val Loss: 0.0635\n"
     ]
    },
    {
     "name": "stderr",
     "output_type": "stream",
     "text": [
      "Epoch 103/1000 - Training: 100%|██████████| 7/7 [00:00<00:00, 323.02it/s]\n",
      "Epoch 103/1000 - Validation: 100%|██████████| 1/1 [00:00<00:00, 883.94it/s]\n"
     ]
    },
    {
     "name": "stdout",
     "output_type": "stream",
     "text": [
      "Epoch 103/1000 - Train Loss: 0.1118 - Val Loss: 0.0550\n"
     ]
    },
    {
     "name": "stderr",
     "output_type": "stream",
     "text": [
      "Epoch 104/1000 - Training: 100%|██████████| 7/7 [00:00<00:00, 327.30it/s]\n",
      "Epoch 104/1000 - Validation: 100%|██████████| 1/1 [00:00<00:00, 768.33it/s]\n"
     ]
    },
    {
     "name": "stdout",
     "output_type": "stream",
     "text": [
      "Epoch 104/1000 - Train Loss: 0.0907 - Val Loss: 0.0472\n"
     ]
    },
    {
     "name": "stderr",
     "output_type": "stream",
     "text": [
      "Epoch 105/1000 - Training: 100%|██████████| 7/7 [00:00<00:00, 320.38it/s]\n",
      "Epoch 105/1000 - Validation: 100%|██████████| 1/1 [00:00<00:00, 848.02it/s]\n"
     ]
    },
    {
     "name": "stdout",
     "output_type": "stream",
     "text": [
      "Epoch 105/1000 - Train Loss: 0.1137 - Val Loss: 0.0416\n"
     ]
    },
    {
     "name": "stderr",
     "output_type": "stream",
     "text": [
      "Epoch 106/1000 - Training: 100%|██████████| 7/7 [00:00<00:00, 318.70it/s]\n",
      "Epoch 106/1000 - Validation: 100%|██████████| 1/1 [00:00<00:00, 709.34it/s]\n"
     ]
    },
    {
     "name": "stdout",
     "output_type": "stream",
     "text": [
      "Epoch 106/1000 - Train Loss: 0.1255 - Val Loss: 0.0497\n"
     ]
    },
    {
     "name": "stderr",
     "output_type": "stream",
     "text": [
      "Epoch 107/1000 - Training: 100%|██████████| 7/7 [00:00<00:00, 319.02it/s]\n",
      "Epoch 107/1000 - Validation: 100%|██████████| 1/1 [00:00<00:00, 951.74it/s]\n"
     ]
    },
    {
     "name": "stdout",
     "output_type": "stream",
     "text": [
      "Epoch 107/1000 - Train Loss: 0.1154 - Val Loss: 0.0658\n"
     ]
    },
    {
     "name": "stderr",
     "output_type": "stream",
     "text": [
      "Epoch 108/1000 - Training: 100%|██████████| 7/7 [00:00<00:00, 321.74it/s]\n",
      "Epoch 108/1000 - Validation: 100%|██████████| 1/1 [00:00<00:00, 851.29it/s]\n"
     ]
    },
    {
     "name": "stdout",
     "output_type": "stream",
     "text": [
      "Epoch 108/1000 - Train Loss: 0.0954 - Val Loss: 0.0594\n"
     ]
    },
    {
     "name": "stderr",
     "output_type": "stream",
     "text": [
      "Epoch 109/1000 - Training: 100%|██████████| 7/7 [00:00<00:00, 322.52it/s]\n",
      "Epoch 109/1000 - Validation: 100%|██████████| 1/1 [00:00<00:00, 728.30it/s]\n"
     ]
    },
    {
     "name": "stdout",
     "output_type": "stream",
     "text": [
      "Epoch 109/1000 - Train Loss: 0.0974 - Val Loss: 0.0750\n"
     ]
    },
    {
     "name": "stderr",
     "output_type": "stream",
     "text": [
      "Epoch 110/1000 - Training: 100%|██████████| 7/7 [00:00<00:00, 321.31it/s]\n",
      "Epoch 110/1000 - Validation: 100%|██████████| 1/1 [00:00<00:00, 815.85it/s]\n"
     ]
    },
    {
     "name": "stdout",
     "output_type": "stream",
     "text": [
      "Epoch 110/1000 - Train Loss: 0.0959 - Val Loss: 0.0493\n"
     ]
    },
    {
     "name": "stderr",
     "output_type": "stream",
     "text": [
      "Epoch 111/1000 - Training: 100%|██████████| 7/7 [00:00<00:00, 318.82it/s]\n",
      "Epoch 111/1000 - Validation: 100%|██████████| 1/1 [00:00<00:00, 754.78it/s]\n"
     ]
    },
    {
     "name": "stdout",
     "output_type": "stream",
     "text": [
      "Epoch 111/1000 - Train Loss: 0.1000 - Val Loss: 0.0748\n"
     ]
    },
    {
     "name": "stderr",
     "output_type": "stream",
     "text": [
      "Epoch 112/1000 - Training: 100%|██████████| 7/7 [00:00<00:00, 321.12it/s]\n",
      "Epoch 112/1000 - Validation: 100%|██████████| 1/1 [00:00<00:00, 868.75it/s]\n"
     ]
    },
    {
     "name": "stdout",
     "output_type": "stream",
     "text": [
      "Epoch 112/1000 - Train Loss: 0.1003 - Val Loss: 0.0548\n"
     ]
    },
    {
     "name": "stderr",
     "output_type": "stream",
     "text": [
      "Epoch 113/1000 - Training: 100%|██████████| 7/7 [00:00<00:00, 325.23it/s]\n",
      "Epoch 113/1000 - Validation: 100%|██████████| 1/1 [00:00<00:00, 726.03it/s]\n"
     ]
    },
    {
     "name": "stdout",
     "output_type": "stream",
     "text": [
      "Epoch 113/1000 - Train Loss: 0.0982 - Val Loss: 0.0610\n"
     ]
    },
    {
     "name": "stderr",
     "output_type": "stream",
     "text": [
      "Epoch 114/1000 - Training: 100%|██████████| 7/7 [00:00<00:00, 302.44it/s]\n",
      "Epoch 114/1000 - Validation: 100%|██████████| 1/1 [00:00<00:00, 771.44it/s]\n"
     ]
    },
    {
     "name": "stdout",
     "output_type": "stream",
     "text": [
      "Epoch 114/1000 - Train Loss: 0.0960 - Val Loss: 0.0454\n"
     ]
    },
    {
     "name": "stderr",
     "output_type": "stream",
     "text": [
      "Epoch 115/1000 - Training: 100%|██████████| 7/7 [00:00<00:00, 323.82it/s]\n",
      "Epoch 115/1000 - Validation: 100%|██████████| 1/1 [00:00<00:00, 979.75it/s]\n"
     ]
    },
    {
     "name": "stdout",
     "output_type": "stream",
     "text": [
      "Epoch 115/1000 - Train Loss: 0.0901 - Val Loss: 0.0671\n"
     ]
    },
    {
     "name": "stderr",
     "output_type": "stream",
     "text": [
      "Epoch 116/1000 - Training: 100%|██████████| 7/7 [00:00<00:00, 321.50it/s]\n",
      "Epoch 116/1000 - Validation: 100%|██████████| 1/1 [00:00<00:00, 734.30it/s]\n"
     ]
    },
    {
     "name": "stdout",
     "output_type": "stream",
     "text": [
      "Epoch 116/1000 - Train Loss: 0.0917 - Val Loss: 0.0602\n"
     ]
    },
    {
     "name": "stderr",
     "output_type": "stream",
     "text": [
      "Epoch 117/1000 - Training: 100%|██████████| 7/7 [00:00<00:00, 323.70it/s]\n",
      "Epoch 117/1000 - Validation: 100%|██████████| 1/1 [00:00<00:00, 848.71it/s]\n"
     ]
    },
    {
     "name": "stdout",
     "output_type": "stream",
     "text": [
      "Epoch 117/1000 - Train Loss: 0.0785 - Val Loss: 0.0599\n"
     ]
    },
    {
     "name": "stderr",
     "output_type": "stream",
     "text": [
      "Epoch 118/1000 - Training: 100%|██████████| 7/7 [00:00<00:00, 325.17it/s]\n",
      "Epoch 118/1000 - Validation: 100%|██████████| 1/1 [00:00<00:00, 798.15it/s]\n"
     ]
    },
    {
     "name": "stdout",
     "output_type": "stream",
     "text": [
      "Epoch 118/1000 - Train Loss: 0.0928 - Val Loss: 0.0461\n"
     ]
    },
    {
     "name": "stderr",
     "output_type": "stream",
     "text": [
      "Epoch 119/1000 - Training: 100%|██████████| 7/7 [00:00<00:00, 324.34it/s]\n",
      "Epoch 119/1000 - Validation: 100%|██████████| 1/1 [00:00<00:00, 757.50it/s]\n"
     ]
    },
    {
     "name": "stdout",
     "output_type": "stream",
     "text": [
      "Epoch 119/1000 - Train Loss: 0.0841 - Val Loss: 0.0582\n"
     ]
    },
    {
     "name": "stderr",
     "output_type": "stream",
     "text": [
      "Epoch 120/1000 - Training: 100%|██████████| 7/7 [00:00<00:00, 321.54it/s]\n",
      "Epoch 120/1000 - Validation: 100%|██████████| 1/1 [00:00<00:00, 871.27it/s]\n"
     ]
    },
    {
     "name": "stdout",
     "output_type": "stream",
     "text": [
      "Epoch 120/1000 - Train Loss: 0.1139 - Val Loss: 0.0601\n"
     ]
    },
    {
     "name": "stderr",
     "output_type": "stream",
     "text": [
      "Epoch 121/1000 - Training: 100%|██████████| 7/7 [00:00<00:00, 325.83it/s]\n",
      "Epoch 121/1000 - Validation: 100%|██████████| 1/1 [00:00<00:00, 772.15it/s]\n"
     ]
    },
    {
     "name": "stdout",
     "output_type": "stream",
     "text": [
      "Epoch 121/1000 - Train Loss: 0.1012 - Val Loss: 0.0418\n"
     ]
    },
    {
     "name": "stderr",
     "output_type": "stream",
     "text": [
      "Epoch 122/1000 - Training: 100%|██████████| 7/7 [00:00<00:00, 322.62it/s]\n",
      "Epoch 122/1000 - Validation: 100%|██████████| 1/1 [00:00<00:00, 909.04it/s]\n"
     ]
    },
    {
     "name": "stdout",
     "output_type": "stream",
     "text": [
      "Epoch 122/1000 - Train Loss: 0.0914 - Val Loss: 0.0474\n"
     ]
    },
    {
     "name": "stderr",
     "output_type": "stream",
     "text": [
      "Epoch 123/1000 - Training: 100%|██████████| 7/7 [00:00<00:00, 324.75it/s]\n",
      "Epoch 123/1000 - Validation: 100%|██████████| 1/1 [00:00<00:00, 769.17it/s]\n"
     ]
    },
    {
     "name": "stdout",
     "output_type": "stream",
     "text": [
      "Epoch 123/1000 - Train Loss: 0.0933 - Val Loss: 0.0593\n"
     ]
    },
    {
     "name": "stderr",
     "output_type": "stream",
     "text": [
      "Epoch 124/1000 - Training: 100%|██████████| 7/7 [00:00<00:00, 327.50it/s]\n",
      "Epoch 124/1000 - Validation: 100%|██████████| 1/1 [00:00<00:00, 853.89it/s]\n"
     ]
    },
    {
     "name": "stdout",
     "output_type": "stream",
     "text": [
      "Epoch 124/1000 - Train Loss: 0.0763 - Val Loss: 0.0429\n"
     ]
    },
    {
     "name": "stderr",
     "output_type": "stream",
     "text": [
      "Epoch 125/1000 - Training: 100%|██████████| 7/7 [00:00<00:00, 324.32it/s]\n",
      "Epoch 125/1000 - Validation: 100%|██████████| 1/1 [00:00<00:00, 803.66it/s]\n"
     ]
    },
    {
     "name": "stdout",
     "output_type": "stream",
     "text": [
      "Epoch 125/1000 - Train Loss: 0.0909 - Val Loss: 0.0517\n"
     ]
    },
    {
     "name": "stderr",
     "output_type": "stream",
     "text": [
      "Epoch 126/1000 - Training: 100%|██████████| 7/7 [00:00<00:00, 327.46it/s]\n",
      "Epoch 126/1000 - Validation: 100%|██████████| 1/1 [00:00<00:00, 872.36it/s]\n"
     ]
    },
    {
     "name": "stdout",
     "output_type": "stream",
     "text": [
      "Epoch 126/1000 - Train Loss: 0.0889 - Val Loss: 0.0350\n"
     ]
    },
    {
     "name": "stderr",
     "output_type": "stream",
     "text": [
      "Epoch 127/1000 - Training: 100%|██████████| 7/7 [00:00<00:00, 326.06it/s]\n",
      "Epoch 127/1000 - Validation: 100%|██████████| 1/1 [00:00<00:00, 768.89it/s]\n"
     ]
    },
    {
     "name": "stdout",
     "output_type": "stream",
     "text": [
      "Epoch 127/1000 - Train Loss: 0.0972 - Val Loss: 0.0648\n"
     ]
    },
    {
     "name": "stderr",
     "output_type": "stream",
     "text": [
      "Epoch 128/1000 - Training: 100%|██████████| 7/7 [00:00<00:00, 322.95it/s]\n",
      "Epoch 128/1000 - Validation: 100%|██████████| 1/1 [00:00<00:00, 849.39it/s]\n"
     ]
    },
    {
     "name": "stdout",
     "output_type": "stream",
     "text": [
      "Epoch 128/1000 - Train Loss: 0.1016 - Val Loss: 0.0400\n"
     ]
    },
    {
     "name": "stderr",
     "output_type": "stream",
     "text": [
      "Epoch 129/1000 - Training: 100%|██████████| 7/7 [00:00<00:00, 324.50it/s]\n",
      "Epoch 129/1000 - Validation: 100%|██████████| 1/1 [00:00<00:00, 734.81it/s]\n"
     ]
    },
    {
     "name": "stdout",
     "output_type": "stream",
     "text": [
      "Epoch 129/1000 - Train Loss: 0.0831 - Val Loss: 0.0872\n"
     ]
    },
    {
     "name": "stderr",
     "output_type": "stream",
     "text": [
      "Epoch 130/1000 - Training: 100%|██████████| 7/7 [00:00<00:00, 323.08it/s]\n",
      "Epoch 130/1000 - Validation: 100%|██████████| 1/1 [00:00<00:00, 859.66it/s]\n"
     ]
    },
    {
     "name": "stdout",
     "output_type": "stream",
     "text": [
      "Epoch 130/1000 - Train Loss: 0.0896 - Val Loss: 0.0393\n"
     ]
    },
    {
     "name": "stderr",
     "output_type": "stream",
     "text": [
      "Epoch 131/1000 - Training: 100%|██████████| 7/7 [00:00<00:00, 322.79it/s]\n",
      "Epoch 131/1000 - Validation: 100%|██████████| 1/1 [00:00<00:00, 777.44it/s]\n"
     ]
    },
    {
     "name": "stdout",
     "output_type": "stream",
     "text": [
      "Epoch 131/1000 - Train Loss: 0.0854 - Val Loss: 0.0799\n"
     ]
    },
    {
     "name": "stderr",
     "output_type": "stream",
     "text": [
      "Epoch 132/1000 - Training: 100%|██████████| 7/7 [00:00<00:00, 321.59it/s]\n",
      "Epoch 132/1000 - Validation: 100%|██████████| 1/1 [00:00<00:00, 867.49it/s]\n"
     ]
    },
    {
     "name": "stdout",
     "output_type": "stream",
     "text": [
      "Epoch 132/1000 - Train Loss: 0.0860 - Val Loss: 0.0458\n"
     ]
    },
    {
     "name": "stderr",
     "output_type": "stream",
     "text": [
      "Epoch 133/1000 - Training: 100%|██████████| 7/7 [00:00<00:00, 325.53it/s]\n",
      "Epoch 133/1000 - Validation: 100%|██████████| 1/1 [00:00<00:00, 830.39it/s]\n"
     ]
    },
    {
     "name": "stdout",
     "output_type": "stream",
     "text": [
      "Epoch 133/1000 - Train Loss: 0.0899 - Val Loss: 0.0551\n"
     ]
    },
    {
     "name": "stderr",
     "output_type": "stream",
     "text": [
      "Epoch 134/1000 - Training: 100%|██████████| 7/7 [00:00<00:00, 327.05it/s]\n",
      "Epoch 134/1000 - Validation: 100%|██████████| 1/1 [00:00<00:00, 775.57it/s]\n"
     ]
    },
    {
     "name": "stdout",
     "output_type": "stream",
     "text": [
      "Epoch 134/1000 - Train Loss: 0.0883 - Val Loss: 0.0350\n"
     ]
    },
    {
     "name": "stderr",
     "output_type": "stream",
     "text": [
      "Epoch 135/1000 - Training: 100%|██████████| 7/7 [00:00<00:00, 321.75it/s]\n",
      "Epoch 135/1000 - Validation: 100%|██████████| 1/1 [00:00<00:00, 861.43it/s]\n"
     ]
    },
    {
     "name": "stdout",
     "output_type": "stream",
     "text": [
      "Epoch 135/1000 - Train Loss: 0.1073 - Val Loss: 0.0768\n"
     ]
    },
    {
     "name": "stderr",
     "output_type": "stream",
     "text": [
      "Epoch 136/1000 - Training: 100%|██████████| 7/7 [00:00<00:00, 319.88it/s]\n",
      "Epoch 136/1000 - Validation: 100%|██████████| 1/1 [00:00<00:00, 868.03it/s]\n"
     ]
    },
    {
     "name": "stdout",
     "output_type": "stream",
     "text": [
      "Epoch 136/1000 - Train Loss: 0.1000 - Val Loss: 0.0337\n"
     ]
    },
    {
     "name": "stderr",
     "output_type": "stream",
     "text": [
      "Epoch 137/1000 - Training: 100%|██████████| 7/7 [00:00<00:00, 324.42it/s]\n",
      "Epoch 137/1000 - Validation: 100%|██████████| 1/1 [00:00<00:00, 847.68it/s]\n"
     ]
    },
    {
     "name": "stdout",
     "output_type": "stream",
     "text": [
      "Epoch 137/1000 - Train Loss: 0.1031 - Val Loss: 0.0421\n"
     ]
    },
    {
     "name": "stderr",
     "output_type": "stream",
     "text": [
      "Epoch 138/1000 - Training: 100%|██████████| 7/7 [00:00<00:00, 324.33it/s]\n",
      "Epoch 138/1000 - Validation: 100%|██████████| 1/1 [00:00<00:00, 713.80it/s]\n"
     ]
    },
    {
     "name": "stdout",
     "output_type": "stream",
     "text": [
      "Epoch 138/1000 - Train Loss: 0.1027 - Val Loss: 0.0403\n"
     ]
    },
    {
     "name": "stderr",
     "output_type": "stream",
     "text": [
      "Epoch 139/1000 - Training: 100%|██████████| 7/7 [00:00<00:00, 322.78it/s]\n",
      "Epoch 139/1000 - Validation: 100%|██████████| 1/1 [00:00<00:00, 882.08it/s]\n"
     ]
    },
    {
     "name": "stdout",
     "output_type": "stream",
     "text": [
      "Epoch 139/1000 - Train Loss: 0.0855 - Val Loss: 0.0462\n"
     ]
    },
    {
     "name": "stderr",
     "output_type": "stream",
     "text": [
      "Epoch 140/1000 - Training: 100%|██████████| 7/7 [00:00<00:00, 324.40it/s]\n",
      "Epoch 140/1000 - Validation: 100%|██████████| 1/1 [00:00<00:00, 866.05it/s]\n"
     ]
    },
    {
     "name": "stdout",
     "output_type": "stream",
     "text": [
      "Epoch 140/1000 - Train Loss: 0.0936 - Val Loss: 0.0334\n"
     ]
    },
    {
     "name": "stderr",
     "output_type": "stream",
     "text": [
      "Epoch 141/1000 - Training: 100%|██████████| 7/7 [00:00<00:00, 325.29it/s]\n",
      "Epoch 141/1000 - Validation: 100%|██████████| 1/1 [00:00<00:00, 710.66it/s]\n"
     ]
    },
    {
     "name": "stdout",
     "output_type": "stream",
     "text": [
      "Epoch 141/1000 - Train Loss: 0.0926 - Val Loss: 0.0743\n"
     ]
    },
    {
     "name": "stderr",
     "output_type": "stream",
     "text": [
      "Epoch 142/1000 - Training: 100%|██████████| 7/7 [00:00<00:00, 319.17it/s]\n",
      "Epoch 142/1000 - Validation: 100%|██████████| 1/1 [00:00<00:00, 715.75it/s]\n"
     ]
    },
    {
     "name": "stdout",
     "output_type": "stream",
     "text": [
      "Epoch 142/1000 - Train Loss: 0.1003 - Val Loss: 0.0336\n"
     ]
    },
    {
     "name": "stderr",
     "output_type": "stream",
     "text": [
      "Epoch 143/1000 - Training: 100%|██████████| 7/7 [00:00<00:00, 322.05it/s]\n",
      "Epoch 143/1000 - Validation: 100%|██████████| 1/1 [00:00<00:00, 848.53it/s]\n"
     ]
    },
    {
     "name": "stdout",
     "output_type": "stream",
     "text": [
      "Epoch 143/1000 - Train Loss: 0.0962 - Val Loss: 0.0858\n"
     ]
    },
    {
     "name": "stderr",
     "output_type": "stream",
     "text": [
      "Epoch 144/1000 - Training: 100%|██████████| 7/7 [00:00<00:00, 320.57it/s]\n",
      "Epoch 144/1000 - Validation: 100%|██████████| 1/1 [00:00<00:00, 703.51it/s]\n"
     ]
    },
    {
     "name": "stdout",
     "output_type": "stream",
     "text": [
      "Epoch 144/1000 - Train Loss: 0.0966 - Val Loss: 0.0293\n"
     ]
    },
    {
     "name": "stderr",
     "output_type": "stream",
     "text": [
      "Epoch 145/1000 - Training: 100%|██████████| 7/7 [00:00<00:00, 320.85it/s]\n",
      "Epoch 145/1000 - Validation: 100%|██████████| 1/1 [00:00<00:00, 827.61it/s]\n"
     ]
    },
    {
     "name": "stdout",
     "output_type": "stream",
     "text": [
      "Epoch 145/1000 - Train Loss: 0.0986 - Val Loss: 0.0652\n"
     ]
    },
    {
     "name": "stderr",
     "output_type": "stream",
     "text": [
      "Epoch 146/1000 - Training: 100%|██████████| 7/7 [00:00<00:00, 320.99it/s]\n",
      "Epoch 146/1000 - Validation: 100%|██████████| 1/1 [00:00<00:00, 1056.77it/s]\n"
     ]
    },
    {
     "name": "stdout",
     "output_type": "stream",
     "text": [
      "Epoch 146/1000 - Train Loss: 0.0887 - Val Loss: 0.0390\n"
     ]
    },
    {
     "name": "stderr",
     "output_type": "stream",
     "text": [
      "Epoch 147/1000 - Training: 100%|██████████| 7/7 [00:00<00:00, 372.95it/s]\n",
      "Epoch 147/1000 - Validation: 100%|██████████| 1/1 [00:00<00:00, 1108.72it/s]\n"
     ]
    },
    {
     "name": "stdout",
     "output_type": "stream",
     "text": [
      "Epoch 147/1000 - Train Loss: 0.0991 - Val Loss: 0.0242\n"
     ]
    },
    {
     "name": "stderr",
     "output_type": "stream",
     "text": [
      "Epoch 148/1000 - Training: 100%|██████████| 7/7 [00:00<00:00, 369.29it/s]\n",
      "Epoch 148/1000 - Validation: 100%|██████████| 1/1 [00:00<00:00, 1031.56it/s]\n"
     ]
    },
    {
     "name": "stdout",
     "output_type": "stream",
     "text": [
      "Epoch 148/1000 - Train Loss: 0.0848 - Val Loss: 0.0551\n"
     ]
    },
    {
     "name": "stderr",
     "output_type": "stream",
     "text": [
      "Epoch 149/1000 - Training: 100%|██████████| 7/7 [00:00<00:00, 320.68it/s]\n",
      "Epoch 149/1000 - Validation: 100%|██████████| 1/1 [00:00<00:00, 959.14it/s]\n"
     ]
    },
    {
     "name": "stdout",
     "output_type": "stream",
     "text": [
      "Epoch 149/1000 - Train Loss: 0.0955 - Val Loss: 0.0275\n"
     ]
    },
    {
     "name": "stderr",
     "output_type": "stream",
     "text": [
      "Epoch 150/1000 - Training: 100%|██████████| 7/7 [00:00<00:00, 315.96it/s]\n",
      "Epoch 150/1000 - Validation: 100%|██████████| 1/1 [00:00<00:00, 815.85it/s]\n"
     ]
    },
    {
     "name": "stdout",
     "output_type": "stream",
     "text": [
      "Epoch 150/1000 - Train Loss: 0.0947 - Val Loss: 0.0717\n"
     ]
    },
    {
     "name": "stderr",
     "output_type": "stream",
     "text": [
      "Epoch 151/1000 - Training: 100%|██████████| 7/7 [00:00<00:00, 367.78it/s]\n",
      "Epoch 151/1000 - Validation: 100%|██████████| 1/1 [00:00<00:00, 1024.25it/s]\n"
     ]
    },
    {
     "name": "stdout",
     "output_type": "stream",
     "text": [
      "Epoch 151/1000 - Train Loss: 0.0931 - Val Loss: 0.0310\n"
     ]
    },
    {
     "name": "stderr",
     "output_type": "stream",
     "text": [
      "Epoch 152/1000 - Training: 100%|██████████| 7/7 [00:00<00:00, 348.31it/s]\n",
      "Epoch 152/1000 - Validation: 100%|██████████| 1/1 [00:00<00:00, 826.46it/s]\n"
     ]
    },
    {
     "name": "stdout",
     "output_type": "stream",
     "text": [
      "Epoch 152/1000 - Train Loss: 0.0881 - Val Loss: 0.0621\n"
     ]
    },
    {
     "name": "stderr",
     "output_type": "stream",
     "text": [
      "Epoch 153/1000 - Training: 100%|██████████| 7/7 [00:00<00:00, 366.70it/s]\n",
      "Epoch 153/1000 - Validation: 100%|██████████| 1/1 [00:00<00:00, 785.60it/s]\n"
     ]
    },
    {
     "name": "stdout",
     "output_type": "stream",
     "text": [
      "Epoch 153/1000 - Train Loss: 0.0885 - Val Loss: 0.0316\n"
     ]
    },
    {
     "name": "stderr",
     "output_type": "stream",
     "text": [
      "Epoch 154/1000 - Training: 100%|██████████| 7/7 [00:00<00:00, 366.59it/s]\n",
      "Epoch 154/1000 - Validation: 100%|██████████| 1/1 [00:00<00:00, 859.66it/s]\n"
     ]
    },
    {
     "name": "stdout",
     "output_type": "stream",
     "text": [
      "Epoch 154/1000 - Train Loss: 0.0812 - Val Loss: 0.0622\n"
     ]
    },
    {
     "name": "stderr",
     "output_type": "stream",
     "text": [
      "Epoch 155/1000 - Training: 100%|██████████| 7/7 [00:00<00:00, 377.33it/s]\n",
      "Epoch 155/1000 - Validation: 100%|██████████| 1/1 [00:00<00:00, 1005.35it/s]\n"
     ]
    },
    {
     "name": "stdout",
     "output_type": "stream",
     "text": [
      "Epoch 155/1000 - Train Loss: 0.0805 - Val Loss: 0.0384\n"
     ]
    },
    {
     "name": "stderr",
     "output_type": "stream",
     "text": [
      "Epoch 156/1000 - Training: 100%|██████████| 7/7 [00:00<00:00, 380.15it/s]\n",
      "Epoch 156/1000 - Validation: 100%|██████████| 1/1 [00:00<00:00, 798.00it/s]\n"
     ]
    },
    {
     "name": "stdout",
     "output_type": "stream",
     "text": [
      "Epoch 156/1000 - Train Loss: 0.0775 - Val Loss: 0.0397\n"
     ]
    },
    {
     "name": "stderr",
     "output_type": "stream",
     "text": [
      "Epoch 157/1000 - Training: 100%|██████████| 7/7 [00:00<00:00, 374.32it/s]\n",
      "Epoch 157/1000 - Validation: 100%|██████████| 1/1 [00:00<00:00, 817.28it/s]\n"
     ]
    },
    {
     "name": "stdout",
     "output_type": "stream",
     "text": [
      "Epoch 157/1000 - Train Loss: 0.0735 - Val Loss: 0.0380\n"
     ]
    },
    {
     "name": "stderr",
     "output_type": "stream",
     "text": [
      "Epoch 158/1000 - Training: 100%|██████████| 7/7 [00:00<00:00, 354.98it/s]\n",
      "Epoch 158/1000 - Validation: 100%|██████████| 1/1 [00:00<00:00, 1022.50it/s]\n"
     ]
    },
    {
     "name": "stdout",
     "output_type": "stream",
     "text": [
      "Epoch 158/1000 - Train Loss: 0.0834 - Val Loss: 0.0315\n"
     ]
    },
    {
     "name": "stderr",
     "output_type": "stream",
     "text": [
      "Epoch 159/1000 - Training: 100%|██████████| 7/7 [00:00<00:00, 373.61it/s]\n",
      "Epoch 159/1000 - Validation: 100%|██████████| 1/1 [00:00<00:00, 817.76it/s]\n"
     ]
    },
    {
     "name": "stdout",
     "output_type": "stream",
     "text": [
      "Epoch 159/1000 - Train Loss: 0.0911 - Val Loss: 0.0528\n"
     ]
    },
    {
     "name": "stderr",
     "output_type": "stream",
     "text": [
      "Epoch 160/1000 - Training: 100%|██████████| 7/7 [00:00<00:00, 368.18it/s]\n",
      "Epoch 160/1000 - Validation: 100%|██████████| 1/1 [00:00<00:00, 967.77it/s]\n"
     ]
    },
    {
     "name": "stdout",
     "output_type": "stream",
     "text": [
      "Epoch 160/1000 - Train Loss: 0.0749 - Val Loss: 0.0335\n"
     ]
    },
    {
     "name": "stderr",
     "output_type": "stream",
     "text": [
      "Epoch 161/1000 - Training: 100%|██████████| 7/7 [00:00<00:00, 373.93it/s]\n",
      "Epoch 161/1000 - Validation: 100%|██████████| 1/1 [00:00<00:00, 895.64it/s]\n"
     ]
    },
    {
     "name": "stdout",
     "output_type": "stream",
     "text": [
      "Epoch 161/1000 - Train Loss: 0.0714 - Val Loss: 0.0317\n"
     ]
    },
    {
     "name": "stderr",
     "output_type": "stream",
     "text": [
      "Epoch 162/1000 - Training: 100%|██████████| 7/7 [00:00<00:00, 373.57it/s]\n",
      "Epoch 162/1000 - Validation: 100%|██████████| 1/1 [00:00<00:00, 874.91it/s]\n"
     ]
    },
    {
     "name": "stdout",
     "output_type": "stream",
     "text": [
      "Epoch 162/1000 - Train Loss: 0.0913 - Val Loss: 0.0289\n"
     ]
    },
    {
     "name": "stderr",
     "output_type": "stream",
     "text": [
      "Epoch 163/1000 - Training: 100%|██████████| 7/7 [00:00<00:00, 369.28it/s]\n",
      "Epoch 163/1000 - Validation: 100%|██████████| 1/1 [00:00<00:00, 1157.69it/s]\n"
     ]
    },
    {
     "name": "stdout",
     "output_type": "stream",
     "text": [
      "Epoch 163/1000 - Train Loss: 0.0736 - Val Loss: 0.0492\n"
     ]
    },
    {
     "name": "stderr",
     "output_type": "stream",
     "text": [
      "Epoch 164/1000 - Training: 100%|██████████| 7/7 [00:00<00:00, 369.84it/s]\n",
      "Epoch 164/1000 - Validation: 100%|██████████| 1/1 [00:00<00:00, 854.24it/s]\n"
     ]
    },
    {
     "name": "stdout",
     "output_type": "stream",
     "text": [
      "Epoch 164/1000 - Train Loss: 0.0718 - Val Loss: 0.0265\n"
     ]
    },
    {
     "name": "stderr",
     "output_type": "stream",
     "text": [
      "Epoch 165/1000 - Training: 100%|██████████| 7/7 [00:00<00:00, 368.71it/s]\n",
      "Epoch 165/1000 - Validation: 100%|██████████| 1/1 [00:00<00:00, 974.74it/s]\n"
     ]
    },
    {
     "name": "stdout",
     "output_type": "stream",
     "text": [
      "Epoch 165/1000 - Train Loss: 0.0795 - Val Loss: 0.0596\n"
     ]
    },
    {
     "name": "stderr",
     "output_type": "stream",
     "text": [
      "Epoch 166/1000 - Training: 100%|██████████| 7/7 [00:00<00:00, 371.36it/s]\n",
      "Epoch 166/1000 - Validation: 100%|██████████| 1/1 [00:00<00:00, 896.03it/s]\n"
     ]
    },
    {
     "name": "stdout",
     "output_type": "stream",
     "text": [
      "Epoch 166/1000 - Train Loss: 0.0912 - Val Loss: 0.0318\n"
     ]
    },
    {
     "name": "stderr",
     "output_type": "stream",
     "text": [
      "Epoch 167/1000 - Training: 100%|██████████| 7/7 [00:00<00:00, 374.68it/s]\n",
      "Epoch 167/1000 - Validation: 100%|██████████| 1/1 [00:00<00:00, 906.48it/s]\n"
     ]
    },
    {
     "name": "stdout",
     "output_type": "stream",
     "text": [
      "Epoch 167/1000 - Train Loss: 0.0736 - Val Loss: 0.0338\n"
     ]
    },
    {
     "name": "stderr",
     "output_type": "stream",
     "text": [
      "Epoch 168/1000 - Training: 100%|██████████| 7/7 [00:00<00:00, 369.76it/s]\n",
      "Epoch 168/1000 - Validation: 100%|██████████| 1/1 [00:00<00:00, 989.69it/s]\n"
     ]
    },
    {
     "name": "stdout",
     "output_type": "stream",
     "text": [
      "Epoch 168/1000 - Train Loss: 0.0762 - Val Loss: 0.0338\n"
     ]
    },
    {
     "name": "stderr",
     "output_type": "stream",
     "text": [
      "Epoch 169/1000 - Training: 100%|██████████| 7/7 [00:00<00:00, 375.23it/s]\n",
      "Epoch 169/1000 - Validation: 100%|██████████| 1/1 [00:00<00:00, 815.85it/s]\n"
     ]
    },
    {
     "name": "stdout",
     "output_type": "stream",
     "text": [
      "Epoch 169/1000 - Train Loss: 0.0749 - Val Loss: 0.0303\n"
     ]
    },
    {
     "name": "stderr",
     "output_type": "stream",
     "text": [
      "Epoch 170/1000 - Training: 100%|██████████| 7/7 [00:00<00:00, 369.37it/s]\n",
      "Epoch 170/1000 - Validation: 100%|██████████| 1/1 [00:00<00:00, 875.27it/s]\n"
     ]
    },
    {
     "name": "stdout",
     "output_type": "stream",
     "text": [
      "Epoch 170/1000 - Train Loss: 0.0890 - Val Loss: 0.0547\n"
     ]
    },
    {
     "name": "stderr",
     "output_type": "stream",
     "text": [
      "Epoch 171/1000 - Training: 100%|██████████| 7/7 [00:00<00:00, 367.04it/s]\n",
      "Epoch 171/1000 - Validation: 100%|██████████| 1/1 [00:00<00:00, 1104.35it/s]\n"
     ]
    },
    {
     "name": "stdout",
     "output_type": "stream",
     "text": [
      "Epoch 171/1000 - Train Loss: 0.0758 - Val Loss: 0.0405\n"
     ]
    },
    {
     "name": "stderr",
     "output_type": "stream",
     "text": [
      "Epoch 172/1000 - Training: 100%|██████████| 7/7 [00:00<00:00, 371.23it/s]\n",
      "Epoch 172/1000 - Validation: 100%|██████████| 1/1 [00:00<00:00, 578.68it/s]\n"
     ]
    },
    {
     "name": "stdout",
     "output_type": "stream",
     "text": [
      "Epoch 172/1000 - Train Loss: 0.0733 - Val Loss: 0.0533\n"
     ]
    },
    {
     "name": "stderr",
     "output_type": "stream",
     "text": [
      "Epoch 173/1000 - Training: 100%|██████████| 7/7 [00:00<00:00, 269.16it/s]\n",
      "Epoch 173/1000 - Validation: 100%|██████████| 1/1 [00:00<00:00, 630.06it/s]\n"
     ]
    },
    {
     "name": "stdout",
     "output_type": "stream",
     "text": [
      "Epoch 173/1000 - Train Loss: 0.0822 - Val Loss: 0.0718\n"
     ]
    },
    {
     "name": "stderr",
     "output_type": "stream",
     "text": [
      "Epoch 174/1000 - Training: 100%|██████████| 7/7 [00:00<00:00, 268.81it/s]\n",
      "Epoch 174/1000 - Validation: 100%|██████████| 1/1 [00:00<00:00, 743.93it/s]\n"
     ]
    },
    {
     "name": "stdout",
     "output_type": "stream",
     "text": [
      "Epoch 174/1000 - Train Loss: 0.0733 - Val Loss: 0.0378\n"
     ]
    },
    {
     "name": "stderr",
     "output_type": "stream",
     "text": [
      "Epoch 175/1000 - Training: 100%|██████████| 7/7 [00:00<00:00, 363.23it/s]\n",
      "Epoch 175/1000 - Validation: 100%|██████████| 1/1 [00:00<00:00, 872.36it/s]\n"
     ]
    },
    {
     "name": "stdout",
     "output_type": "stream",
     "text": [
      "Epoch 175/1000 - Train Loss: 0.0733 - Val Loss: 0.0463\n"
     ]
    },
    {
     "name": "stderr",
     "output_type": "stream",
     "text": [
      "Epoch 176/1000 - Training: 100%|██████████| 7/7 [00:00<00:00, 372.83it/s]\n",
      "Epoch 176/1000 - Validation: 100%|██████████| 1/1 [00:00<00:00, 992.26it/s]\n"
     ]
    },
    {
     "name": "stdout",
     "output_type": "stream",
     "text": [
      "Epoch 176/1000 - Train Loss: 0.0744 - Val Loss: 0.0394\n"
     ]
    },
    {
     "name": "stderr",
     "output_type": "stream",
     "text": [
      "Epoch 177/1000 - Training: 100%|██████████| 7/7 [00:00<00:00, 372.50it/s]\n",
      "Epoch 177/1000 - Validation: 100%|██████████| 1/1 [00:00<00:00, 795.58it/s]\n"
     ]
    },
    {
     "name": "stdout",
     "output_type": "stream",
     "text": [
      "Epoch 177/1000 - Train Loss: 0.0829 - Val Loss: 0.0279\n"
     ]
    },
    {
     "name": "stderr",
     "output_type": "stream",
     "text": [
      "Epoch 178/1000 - Training: 100%|██████████| 7/7 [00:00<00:00, 371.71it/s]\n",
      "Epoch 178/1000 - Validation: 100%|██████████| 1/1 [00:00<00:00, 915.39it/s]\n"
     ]
    },
    {
     "name": "stdout",
     "output_type": "stream",
     "text": [
      "Epoch 178/1000 - Train Loss: 0.0845 - Val Loss: 0.0415\n"
     ]
    },
    {
     "name": "stderr",
     "output_type": "stream",
     "text": [
      "Epoch 179/1000 - Training: 100%|██████████| 7/7 [00:00<00:00, 370.66it/s]\n",
      "Epoch 179/1000 - Validation: 100%|██████████| 1/1 [00:00<00:00, 860.72it/s]\n"
     ]
    },
    {
     "name": "stdout",
     "output_type": "stream",
     "text": [
      "Epoch 179/1000 - Train Loss: 0.0647 - Val Loss: 0.0265\n"
     ]
    },
    {
     "name": "stderr",
     "output_type": "stream",
     "text": [
      "Epoch 180/1000 - Training: 100%|██████████| 7/7 [00:00<00:00, 373.75it/s]\n",
      "Epoch 180/1000 - Validation: 100%|██████████| 1/1 [00:00<00:00, 897.18it/s]\n"
     ]
    },
    {
     "name": "stdout",
     "output_type": "stream",
     "text": [
      "Epoch 180/1000 - Train Loss: 0.0805 - Val Loss: 0.0917\n"
     ]
    },
    {
     "name": "stderr",
     "output_type": "stream",
     "text": [
      "Epoch 181/1000 - Training: 100%|██████████| 7/7 [00:00<00:00, 374.89it/s]\n",
      "Epoch 181/1000 - Validation: 100%|██████████| 1/1 [00:00<00:00, 995.09it/s]\n"
     ]
    },
    {
     "name": "stdout",
     "output_type": "stream",
     "text": [
      "Epoch 181/1000 - Train Loss: 0.0961 - Val Loss: 0.0387\n"
     ]
    },
    {
     "name": "stderr",
     "output_type": "stream",
     "text": [
      "Epoch 182/1000 - Training: 100%|██████████| 7/7 [00:00<00:00, 373.89it/s]\n",
      "Epoch 182/1000 - Validation: 100%|██████████| 1/1 [00:00<00:00, 1113.43it/s]\n"
     ]
    },
    {
     "name": "stdout",
     "output_type": "stream",
     "text": [
      "Epoch 182/1000 - Train Loss: 0.0776 - Val Loss: 0.0872\n"
     ]
    },
    {
     "name": "stderr",
     "output_type": "stream",
     "text": [
      "Epoch 183/1000 - Training: 100%|██████████| 7/7 [00:00<00:00, 369.01it/s]\n",
      "Epoch 183/1000 - Validation: 100%|██████████| 1/1 [00:00<00:00, 1133.29it/s]\n"
     ]
    },
    {
     "name": "stdout",
     "output_type": "stream",
     "text": [
      "Epoch 183/1000 - Train Loss: 0.0680 - Val Loss: 0.0418\n"
     ]
    },
    {
     "name": "stderr",
     "output_type": "stream",
     "text": [
      "Epoch 184/1000 - Training: 100%|██████████| 7/7 [00:00<00:00, 372.27it/s]\n",
      "Epoch 184/1000 - Validation: 100%|██████████| 1/1 [00:00<00:00, 868.75it/s]\n"
     ]
    },
    {
     "name": "stdout",
     "output_type": "stream",
     "text": [
      "Epoch 184/1000 - Train Loss: 0.0717 - Val Loss: 0.0781\n"
     ]
    },
    {
     "name": "stderr",
     "output_type": "stream",
     "text": [
      "Epoch 185/1000 - Training: 100%|██████████| 7/7 [00:00<00:00, 368.55it/s]\n",
      "Epoch 185/1000 - Validation: 100%|██████████| 1/1 [00:00<00:00, 984.58it/s]\n"
     ]
    },
    {
     "name": "stdout",
     "output_type": "stream",
     "text": [
      "Epoch 185/1000 - Train Loss: 0.0703 - Val Loss: 0.0419\n"
     ]
    },
    {
     "name": "stderr",
     "output_type": "stream",
     "text": [
      "Epoch 186/1000 - Training: 100%|██████████| 7/7 [00:00<00:00, 371.44it/s]\n",
      "Epoch 186/1000 - Validation: 100%|██████████| 1/1 [00:00<00:00, 832.53it/s]\n"
     ]
    },
    {
     "name": "stdout",
     "output_type": "stream",
     "text": [
      "Epoch 186/1000 - Train Loss: 0.0672 - Val Loss: 0.0396\n"
     ]
    },
    {
     "name": "stderr",
     "output_type": "stream",
     "text": [
      "Epoch 187/1000 - Training: 100%|██████████| 7/7 [00:00<00:00, 368.83it/s]\n",
      "Epoch 187/1000 - Validation: 100%|██████████| 1/1 [00:00<00:00, 1132.68it/s]\n"
     ]
    },
    {
     "name": "stdout",
     "output_type": "stream",
     "text": [
      "Epoch 187/1000 - Train Loss: 0.0797 - Val Loss: 0.0352\n"
     ]
    },
    {
     "name": "stderr",
     "output_type": "stream",
     "text": [
      "Epoch 188/1000 - Training: 100%|██████████| 7/7 [00:00<00:00, 368.09it/s]\n",
      "Epoch 188/1000 - Validation: 100%|██████████| 1/1 [00:00<00:00, 819.20it/s]\n"
     ]
    },
    {
     "name": "stdout",
     "output_type": "stream",
     "text": [
      "Epoch 188/1000 - Train Loss: 0.0619 - Val Loss: 0.0549\n"
     ]
    },
    {
     "name": "stderr",
     "output_type": "stream",
     "text": [
      "Epoch 189/1000 - Training: 100%|██████████| 7/7 [00:00<00:00, 373.29it/s]\n",
      "Epoch 189/1000 - Validation: 100%|██████████| 1/1 [00:00<00:00, 861.61it/s]\n"
     ]
    },
    {
     "name": "stdout",
     "output_type": "stream",
     "text": [
      "Epoch 189/1000 - Train Loss: 0.0644 - Val Loss: 0.0410\n"
     ]
    },
    {
     "name": "stderr",
     "output_type": "stream",
     "text": [
      "Epoch 190/1000 - Training: 100%|██████████| 7/7 [00:00<00:00, 366.27it/s]\n",
      "Epoch 190/1000 - Validation: 100%|██████████| 1/1 [00:00<00:00, 1141.62it/s]\n"
     ]
    },
    {
     "name": "stdout",
     "output_type": "stream",
     "text": [
      "Epoch 190/1000 - Train Loss: 0.0722 - Val Loss: 0.0484\n"
     ]
    },
    {
     "name": "stderr",
     "output_type": "stream",
     "text": [
      "Epoch 191/1000 - Training: 100%|██████████| 7/7 [00:00<00:00, 367.90it/s]\n",
      "Epoch 191/1000 - Validation: 100%|██████████| 1/1 [00:00<00:00, 977.01it/s]\n"
     ]
    },
    {
     "name": "stdout",
     "output_type": "stream",
     "text": [
      "Epoch 191/1000 - Train Loss: 0.0656 - Val Loss: 0.0404\n"
     ]
    },
    {
     "name": "stderr",
     "output_type": "stream",
     "text": [
      "Epoch 192/1000 - Training: 100%|██████████| 7/7 [00:00<00:00, 371.89it/s]\n",
      "Epoch 192/1000 - Validation: 100%|██████████| 1/1 [00:00<00:00, 864.80it/s]\n"
     ]
    },
    {
     "name": "stdout",
     "output_type": "stream",
     "text": [
      "Epoch 192/1000 - Train Loss: 0.0640 - Val Loss: 0.0278\n"
     ]
    },
    {
     "name": "stderr",
     "output_type": "stream",
     "text": [
      "Epoch 193/1000 - Training: 100%|██████████| 7/7 [00:00<00:00, 369.57it/s]\n",
      "Epoch 193/1000 - Validation: 100%|██████████| 1/1 [00:00<00:00, 1118.48it/s]\n"
     ]
    },
    {
     "name": "stdout",
     "output_type": "stream",
     "text": [
      "Epoch 193/1000 - Train Loss: 0.0778 - Val Loss: 0.0269\n"
     ]
    },
    {
     "name": "stderr",
     "output_type": "stream",
     "text": [
      "Epoch 194/1000 - Training: 100%|██████████| 7/7 [00:00<00:00, 371.50it/s]\n",
      "Epoch 194/1000 - Validation: 100%|██████████| 1/1 [00:00<00:00, 892.79it/s]\n"
     ]
    },
    {
     "name": "stdout",
     "output_type": "stream",
     "text": [
      "Epoch 194/1000 - Train Loss: 0.0585 - Val Loss: 0.0307\n"
     ]
    },
    {
     "name": "stderr",
     "output_type": "stream",
     "text": [
      "Epoch 195/1000 - Training: 100%|██████████| 7/7 [00:00<00:00, 364.41it/s]\n",
      "Epoch 195/1000 - Validation: 100%|██████████| 1/1 [00:00<00:00, 863.38it/s]\n"
     ]
    },
    {
     "name": "stdout",
     "output_type": "stream",
     "text": [
      "Epoch 195/1000 - Train Loss: 0.0753 - Val Loss: 0.0290\n"
     ]
    },
    {
     "name": "stderr",
     "output_type": "stream",
     "text": [
      "Epoch 196/1000 - Training: 100%|██████████| 7/7 [00:00<00:00, 369.64it/s]\n",
      "Epoch 196/1000 - Validation: 100%|██████████| 1/1 [00:00<00:00, 972.48it/s]\n"
     ]
    },
    {
     "name": "stdout",
     "output_type": "stream",
     "text": [
      "Epoch 196/1000 - Train Loss: 0.0639 - Val Loss: 0.0320\n"
     ]
    },
    {
     "name": "stderr",
     "output_type": "stream",
     "text": [
      "Epoch 197/1000 - Training: 100%|██████████| 7/7 [00:00<00:00, 372.63it/s]\n",
      "Epoch 197/1000 - Validation: 100%|██████████| 1/1 [00:00<00:00, 485.51it/s]\n"
     ]
    },
    {
     "name": "stdout",
     "output_type": "stream",
     "text": [
      "Epoch 197/1000 - Train Loss: 0.0760 - Val Loss: 0.0546\n"
     ]
    },
    {
     "name": "stderr",
     "output_type": "stream",
     "text": [
      "Epoch 198/1000 - Training: 100%|██████████| 7/7 [00:00<00:00, 361.56it/s]\n",
      "Epoch 198/1000 - Validation: 100%|██████████| 1/1 [00:00<00:00, 948.94it/s]\n"
     ]
    },
    {
     "name": "stdout",
     "output_type": "stream",
     "text": [
      "Epoch 198/1000 - Train Loss: 0.0674 - Val Loss: 0.0240\n"
     ]
    },
    {
     "name": "stderr",
     "output_type": "stream",
     "text": [
      "Epoch 199/1000 - Training: 100%|██████████| 7/7 [00:00<00:00, 367.88it/s]\n",
      "Epoch 199/1000 - Validation: 100%|██████████| 1/1 [00:00<00:00, 1033.84it/s]\n"
     ]
    },
    {
     "name": "stdout",
     "output_type": "stream",
     "text": [
      "Epoch 199/1000 - Train Loss: 0.0943 - Val Loss: 0.0357\n"
     ]
    },
    {
     "name": "stderr",
     "output_type": "stream",
     "text": [
      "Epoch 200/1000 - Training: 100%|██████████| 7/7 [00:00<00:00, 368.20it/s]\n",
      "Epoch 200/1000 - Validation: 100%|██████████| 1/1 [00:00<00:00, 835.69it/s]\n"
     ]
    },
    {
     "name": "stdout",
     "output_type": "stream",
     "text": [
      "Epoch 200/1000 - Train Loss: 0.0648 - Val Loss: 0.0246\n"
     ]
    },
    {
     "name": "stderr",
     "output_type": "stream",
     "text": [
      "Epoch 201/1000 - Training: 100%|██████████| 7/7 [00:00<00:00, 367.33it/s]\n",
      "Epoch 201/1000 - Validation: 100%|██████████| 1/1 [00:00<00:00, 1128.11it/s]\n"
     ]
    },
    {
     "name": "stdout",
     "output_type": "stream",
     "text": [
      "Epoch 201/1000 - Train Loss: 0.0647 - Val Loss: 0.0464\n"
     ]
    },
    {
     "name": "stderr",
     "output_type": "stream",
     "text": [
      "Epoch 202/1000 - Training: 100%|██████████| 7/7 [00:00<00:00, 379.03it/s]\n",
      "Epoch 202/1000 - Validation: 100%|██████████| 1/1 [00:00<00:00, 804.74it/s]\n"
     ]
    },
    {
     "name": "stdout",
     "output_type": "stream",
     "text": [
      "Epoch 202/1000 - Train Loss: 0.0677 - Val Loss: 0.0217\n"
     ]
    },
    {
     "name": "stderr",
     "output_type": "stream",
     "text": [
      "Epoch 203/1000 - Training: 100%|██████████| 7/7 [00:00<00:00, 364.30it/s]\n",
      "Epoch 203/1000 - Validation: 100%|██████████| 1/1 [00:00<00:00, 861.61it/s]\n"
     ]
    },
    {
     "name": "stdout",
     "output_type": "stream",
     "text": [
      "Epoch 203/1000 - Train Loss: 0.0854 - Val Loss: 0.0497\n"
     ]
    },
    {
     "name": "stderr",
     "output_type": "stream",
     "text": [
      "Epoch 204/1000 - Training: 100%|██████████| 7/7 [00:00<00:00, 365.73it/s]\n",
      "Epoch 204/1000 - Validation: 100%|██████████| 1/1 [00:00<00:00, 798.76it/s]\n"
     ]
    },
    {
     "name": "stdout",
     "output_type": "stream",
     "text": [
      "Epoch 204/1000 - Train Loss: 0.0698 - Val Loss: 0.0252\n"
     ]
    },
    {
     "name": "stderr",
     "output_type": "stream",
     "text": [
      "Epoch 205/1000 - Training: 100%|██████████| 7/7 [00:00<00:00, 358.77it/s]\n",
      "Epoch 205/1000 - Validation: 100%|██████████| 1/1 [00:00<00:00, 965.32it/s]\n"
     ]
    },
    {
     "name": "stdout",
     "output_type": "stream",
     "text": [
      "Epoch 205/1000 - Train Loss: 0.0566 - Val Loss: 0.0313\n"
     ]
    },
    {
     "name": "stderr",
     "output_type": "stream",
     "text": [
      "Epoch 206/1000 - Training: 100%|██████████| 7/7 [00:00<00:00, 358.12it/s]\n",
      "Epoch 206/1000 - Validation: 100%|██████████| 1/1 [00:00<00:00, 901.23it/s]\n"
     ]
    },
    {
     "name": "stdout",
     "output_type": "stream",
     "text": [
      "Epoch 206/1000 - Train Loss: 0.0566 - Val Loss: 0.0552\n"
     ]
    },
    {
     "name": "stderr",
     "output_type": "stream",
     "text": [
      "Epoch 207/1000 - Training: 100%|██████████| 7/7 [00:00<00:00, 377.20it/s]\n",
      "Epoch 207/1000 - Validation: 100%|██████████| 1/1 [00:00<00:00, 829.08it/s]\n"
     ]
    },
    {
     "name": "stdout",
     "output_type": "stream",
     "text": [
      "Epoch 207/1000 - Train Loss: 0.0658 - Val Loss: 0.0389\n"
     ]
    },
    {
     "name": "stderr",
     "output_type": "stream",
     "text": [
      "Epoch 208/1000 - Training: 100%|██████████| 7/7 [00:00<00:00, 370.45it/s]\n",
      "Epoch 208/1000 - Validation: 100%|██████████| 1/1 [00:00<00:00, 1007.28it/s]\n"
     ]
    },
    {
     "name": "stdout",
     "output_type": "stream",
     "text": [
      "Epoch 208/1000 - Train Loss: 0.0595 - Val Loss: 0.0525\n"
     ]
    },
    {
     "name": "stderr",
     "output_type": "stream",
     "text": [
      "Epoch 209/1000 - Training: 100%|██████████| 7/7 [00:00<00:00, 374.54it/s]\n",
      "Epoch 209/1000 - Validation: 100%|██████████| 1/1 [00:00<00:00, 826.46it/s]\n"
     ]
    },
    {
     "name": "stdout",
     "output_type": "stream",
     "text": [
      "Epoch 209/1000 - Train Loss: 0.0617 - Val Loss: 0.0424\n"
     ]
    },
    {
     "name": "stderr",
     "output_type": "stream",
     "text": [
      "Epoch 210/1000 - Training: 100%|██████████| 7/7 [00:00<00:00, 371.70it/s]\n",
      "Epoch 210/1000 - Validation: 100%|██████████| 1/1 [00:00<00:00, 979.29it/s]\n"
     ]
    },
    {
     "name": "stdout",
     "output_type": "stream",
     "text": [
      "Epoch 210/1000 - Train Loss: 0.0746 - Val Loss: 0.0555\n"
     ]
    },
    {
     "name": "stderr",
     "output_type": "stream",
     "text": [
      "Epoch 211/1000 - Training: 100%|██████████| 7/7 [00:00<00:00, 373.18it/s]\n",
      "Epoch 211/1000 - Validation: 100%|██████████| 1/1 [00:00<00:00, 895.26it/s]\n"
     ]
    },
    {
     "name": "stdout",
     "output_type": "stream",
     "text": [
      "Epoch 211/1000 - Train Loss: 0.0610 - Val Loss: 0.0367\n"
     ]
    },
    {
     "name": "stderr",
     "output_type": "stream",
     "text": [
      "Epoch 212/1000 - Training: 100%|██████████| 7/7 [00:00<00:00, 365.99it/s]\n",
      "Epoch 212/1000 - Validation: 100%|██████████| 1/1 [00:00<00:00, 893.55it/s]\n"
     ]
    },
    {
     "name": "stdout",
     "output_type": "stream",
     "text": [
      "Epoch 212/1000 - Train Loss: 0.0789 - Val Loss: 0.0465\n"
     ]
    },
    {
     "name": "stderr",
     "output_type": "stream",
     "text": [
      "Epoch 213/1000 - Training: 100%|██████████| 7/7 [00:00<00:00, 370.04it/s]\n",
      "Epoch 213/1000 - Validation: 100%|██████████| 1/1 [00:00<00:00, 876.55it/s]\n"
     ]
    },
    {
     "name": "stdout",
     "output_type": "stream",
     "text": [
      "Epoch 213/1000 - Train Loss: 0.0595 - Val Loss: 0.0232\n"
     ]
    },
    {
     "name": "stderr",
     "output_type": "stream",
     "text": [
      "Epoch 214/1000 - Training: 100%|██████████| 7/7 [00:00<00:00, 373.54it/s]\n",
      "Epoch 214/1000 - Validation: 100%|██████████| 1/1 [00:00<00:00, 1013.85it/s]\n"
     ]
    },
    {
     "name": "stdout",
     "output_type": "stream",
     "text": [
      "Epoch 214/1000 - Train Loss: 0.0710 - Val Loss: 0.0479\n"
     ]
    },
    {
     "name": "stderr",
     "output_type": "stream",
     "text": [
      "Epoch 215/1000 - Training: 100%|██████████| 7/7 [00:00<00:00, 372.96it/s]\n",
      "Epoch 215/1000 - Validation: 100%|██████████| 1/1 [00:00<00:00, 877.84it/s]\n"
     ]
    },
    {
     "name": "stdout",
     "output_type": "stream",
     "text": [
      "Epoch 215/1000 - Train Loss: 0.0705 - Val Loss: 0.0370\n"
     ]
    },
    {
     "name": "stderr",
     "output_type": "stream",
     "text": [
      "Epoch 216/1000 - Training: 100%|██████████| 7/7 [00:00<00:00, 368.83it/s]\n",
      "Epoch 216/1000 - Validation: 100%|██████████| 1/1 [00:00<00:00, 956.08it/s]\n"
     ]
    },
    {
     "name": "stdout",
     "output_type": "stream",
     "text": [
      "Epoch 216/1000 - Train Loss: 0.0730 - Val Loss: 0.0472\n"
     ]
    },
    {
     "name": "stderr",
     "output_type": "stream",
     "text": [
      "Epoch 217/1000 - Training: 100%|██████████| 7/7 [00:00<00:00, 371.38it/s]\n",
      "Epoch 217/1000 - Validation: 100%|██████████| 1/1 [00:00<00:00, 1119.08it/s]\n"
     ]
    },
    {
     "name": "stdout",
     "output_type": "stream",
     "text": [
      "Epoch 217/1000 - Train Loss: 0.0594 - Val Loss: 0.0361\n"
     ]
    },
    {
     "name": "stderr",
     "output_type": "stream",
     "text": [
      "Epoch 218/1000 - Training: 100%|██████████| 7/7 [00:00<00:00, 374.21it/s]\n",
      "Epoch 218/1000 - Validation: 100%|██████████| 1/1 [00:00<00:00, 921.42it/s]\n"
     ]
    },
    {
     "name": "stdout",
     "output_type": "stream",
     "text": [
      "Epoch 218/1000 - Train Loss: 0.0681 - Val Loss: 0.0590\n"
     ]
    },
    {
     "name": "stderr",
     "output_type": "stream",
     "text": [
      "Epoch 219/1000 - Training: 100%|██████████| 7/7 [00:00<00:00, 365.46it/s]\n",
      "Epoch 219/1000 - Validation: 100%|██████████| 1/1 [00:00<00:00, 944.66it/s]\n"
     ]
    },
    {
     "name": "stdout",
     "output_type": "stream",
     "text": [
      "Epoch 219/1000 - Train Loss: 0.0648 - Val Loss: 0.0326\n"
     ]
    },
    {
     "name": "stderr",
     "output_type": "stream",
     "text": [
      "Epoch 220/1000 - Training: 100%|██████████| 7/7 [00:00<00:00, 376.06it/s]\n",
      "Epoch 220/1000 - Validation: 100%|██████████| 1/1 [00:00<00:00, 889.94it/s]\n"
     ]
    },
    {
     "name": "stdout",
     "output_type": "stream",
     "text": [
      "Epoch 220/1000 - Train Loss: 0.0735 - Val Loss: 0.0564\n"
     ]
    },
    {
     "name": "stderr",
     "output_type": "stream",
     "text": [
      "Epoch 221/1000 - Training: 100%|██████████| 7/7 [00:00<00:00, 366.44it/s]\n",
      "Epoch 221/1000 - Validation: 100%|██████████| 1/1 [00:00<00:00, 843.25it/s]\n"
     ]
    },
    {
     "name": "stdout",
     "output_type": "stream",
     "text": [
      "Epoch 221/1000 - Train Loss: 0.0552 - Val Loss: 0.0285\n"
     ]
    },
    {
     "name": "stderr",
     "output_type": "stream",
     "text": [
      "Epoch 222/1000 - Training: 100%|██████████| 7/7 [00:00<00:00, 368.61it/s]\n",
      "Epoch 222/1000 - Validation: 100%|██████████| 1/1 [00:00<00:00, 831.38it/s]\n"
     ]
    },
    {
     "name": "stdout",
     "output_type": "stream",
     "text": [
      "Epoch 222/1000 - Train Loss: 0.0560 - Val Loss: 0.0335\n"
     ]
    },
    {
     "name": "stderr",
     "output_type": "stream",
     "text": [
      "Epoch 223/1000 - Training: 100%|██████████| 7/7 [00:00<00:00, 364.97it/s]\n",
      "Epoch 223/1000 - Validation: 100%|██████████| 1/1 [00:00<00:00, 1000.55it/s]\n"
     ]
    },
    {
     "name": "stdout",
     "output_type": "stream",
     "text": [
      "Epoch 223/1000 - Train Loss: 0.0722 - Val Loss: 0.0206\n"
     ]
    },
    {
     "name": "stderr",
     "output_type": "stream",
     "text": [
      "Epoch 224/1000 - Training: 100%|██████████| 7/7 [00:00<00:00, 371.16it/s]\n",
      "Epoch 224/1000 - Validation: 100%|██████████| 1/1 [00:00<00:00, 990.39it/s]\n"
     ]
    },
    {
     "name": "stdout",
     "output_type": "stream",
     "text": [
      "Epoch 224/1000 - Train Loss: 0.0673 - Val Loss: 0.0423\n"
     ]
    },
    {
     "name": "stderr",
     "output_type": "stream",
     "text": [
      "Epoch 225/1000 - Training: 100%|██████████| 7/7 [00:00<00:00, 373.49it/s]\n",
      "Epoch 225/1000 - Validation: 100%|██████████| 1/1 [00:00<00:00, 937.07it/s]\n"
     ]
    },
    {
     "name": "stdout",
     "output_type": "stream",
     "text": [
      "Epoch 225/1000 - Train Loss: 0.0689 - Val Loss: 0.0232\n"
     ]
    },
    {
     "name": "stderr",
     "output_type": "stream",
     "text": [
      "Epoch 226/1000 - Training: 100%|██████████| 7/7 [00:00<00:00, 369.57it/s]\n",
      "Epoch 226/1000 - Validation: 100%|██████████| 1/1 [00:00<00:00, 968.89it/s]\n"
     ]
    },
    {
     "name": "stdout",
     "output_type": "stream",
     "text": [
      "Epoch 226/1000 - Train Loss: 0.0600 - Val Loss: 0.0366\n"
     ]
    },
    {
     "name": "stderr",
     "output_type": "stream",
     "text": [
      "Epoch 227/1000 - Training: 100%|██████████| 7/7 [00:00<00:00, 373.28it/s]\n",
      "Epoch 227/1000 - Validation: 100%|██████████| 1/1 [00:00<00:00, 715.51it/s]\n"
     ]
    },
    {
     "name": "stdout",
     "output_type": "stream",
     "text": [
      "Epoch 227/1000 - Train Loss: 0.0576 - Val Loss: 0.0234\n"
     ]
    },
    {
     "name": "stderr",
     "output_type": "stream",
     "text": [
      "Epoch 228/1000 - Training: 100%|██████████| 7/7 [00:00<00:00, 365.57it/s]\n",
      "Epoch 228/1000 - Validation: 100%|██████████| 1/1 [00:00<00:00, 807.37it/s]\n"
     ]
    },
    {
     "name": "stdout",
     "output_type": "stream",
     "text": [
      "Epoch 228/1000 - Train Loss: 0.0628 - Val Loss: 0.0312\n"
     ]
    },
    {
     "name": "stderr",
     "output_type": "stream",
     "text": [
      "Epoch 229/1000 - Training: 100%|██████████| 7/7 [00:00<00:00, 366.27it/s]\n",
      "Epoch 229/1000 - Validation: 100%|██████████| 1/1 [00:00<00:00, 840.54it/s]\n"
     ]
    },
    {
     "name": "stdout",
     "output_type": "stream",
     "text": [
      "Epoch 229/1000 - Train Loss: 0.0845 - Val Loss: 0.0245\n"
     ]
    },
    {
     "name": "stderr",
     "output_type": "stream",
     "text": [
      "Epoch 230/1000 - Training: 100%|██████████| 7/7 [00:00<00:00, 367.75it/s]\n",
      "Epoch 230/1000 - Validation: 100%|██████████| 1/1 [00:00<00:00, 1126.59it/s]\n"
     ]
    },
    {
     "name": "stdout",
     "output_type": "stream",
     "text": [
      "Epoch 230/1000 - Train Loss: 0.0630 - Val Loss: 0.0380\n"
     ]
    },
    {
     "name": "stderr",
     "output_type": "stream",
     "text": [
      "Epoch 231/1000 - Training: 100%|██████████| 7/7 [00:00<00:00, 368.85it/s]\n",
      "Epoch 231/1000 - Validation: 100%|██████████| 1/1 [00:00<00:00, 857.38it/s]\n"
     ]
    },
    {
     "name": "stdout",
     "output_type": "stream",
     "text": [
      "Epoch 231/1000 - Train Loss: 0.0699 - Val Loss: 0.0346\n"
     ]
    },
    {
     "name": "stderr",
     "output_type": "stream",
     "text": [
      "Epoch 232/1000 - Training: 100%|██████████| 7/7 [00:00<00:00, 351.05it/s]\n",
      "Epoch 232/1000 - Validation: 100%|██████████| 1/1 [00:00<00:00, 833.53it/s]\n"
     ]
    },
    {
     "name": "stdout",
     "output_type": "stream",
     "text": [
      "Epoch 232/1000 - Train Loss: 0.0622 - Val Loss: 0.0627\n"
     ]
    },
    {
     "name": "stderr",
     "output_type": "stream",
     "text": [
      "Epoch 233/1000 - Training: 100%|██████████| 7/7 [00:00<00:00, 356.49it/s]\n",
      "Epoch 233/1000 - Validation: 100%|██████████| 1/1 [00:00<00:00, 820.00it/s]\n"
     ]
    },
    {
     "name": "stdout",
     "output_type": "stream",
     "text": [
      "Epoch 233/1000 - Train Loss: 0.0572 - Val Loss: 0.0436\n"
     ]
    },
    {
     "name": "stderr",
     "output_type": "stream",
     "text": [
      "Epoch 234/1000 - Training: 100%|██████████| 7/7 [00:00<00:00, 366.22it/s]\n",
      "Epoch 234/1000 - Validation: 100%|██████████| 1/1 [00:00<00:00, 877.84it/s]\n"
     ]
    },
    {
     "name": "stdout",
     "output_type": "stream",
     "text": [
      "Epoch 234/1000 - Train Loss: 0.0641 - Val Loss: 0.0378\n"
     ]
    },
    {
     "name": "stderr",
     "output_type": "stream",
     "text": [
      "Epoch 235/1000 - Training: 100%|██████████| 7/7 [00:00<00:00, 314.09it/s]\n",
      "Epoch 235/1000 - Validation: 100%|██████████| 1/1 [00:00<00:00, 1099.42it/s]\n"
     ]
    },
    {
     "name": "stdout",
     "output_type": "stream",
     "text": [
      "Epoch 235/1000 - Train Loss: 0.0612 - Val Loss: 0.0439\n"
     ]
    },
    {
     "name": "stderr",
     "output_type": "stream",
     "text": [
      "Epoch 236/1000 - Training: 100%|██████████| 7/7 [00:00<00:00, 372.86it/s]\n",
      "Epoch 236/1000 - Validation: 100%|██████████| 1/1 [00:00<00:00, 1104.05it/s]\n"
     ]
    },
    {
     "name": "stdout",
     "output_type": "stream",
     "text": [
      "Epoch 236/1000 - Train Loss: 0.0645 - Val Loss: 0.0277\n"
     ]
    },
    {
     "name": "stderr",
     "output_type": "stream",
     "text": [
      "Epoch 237/1000 - Training: 100%|██████████| 7/7 [00:00<00:00, 321.74it/s]\n",
      "Epoch 237/1000 - Validation: 100%|██████████| 1/1 [00:00<00:00, 853.89it/s]\n"
     ]
    },
    {
     "name": "stdout",
     "output_type": "stream",
     "text": [
      "Epoch 237/1000 - Train Loss: 0.0748 - Val Loss: 0.0677\n"
     ]
    },
    {
     "name": "stderr",
     "output_type": "stream",
     "text": [
      "Epoch 238/1000 - Training: 100%|██████████| 7/7 [00:00<00:00, 366.98it/s]\n",
      "Epoch 238/1000 - Validation: 100%|██████████| 1/1 [00:00<00:00, 959.58it/s]\n"
     ]
    },
    {
     "name": "stdout",
     "output_type": "stream",
     "text": [
      "Epoch 238/1000 - Train Loss: 0.0701 - Val Loss: 0.0241\n"
     ]
    },
    {
     "name": "stderr",
     "output_type": "stream",
     "text": [
      "Epoch 239/1000 - Training: 100%|██████████| 7/7 [00:00<00:00, 365.94it/s]\n",
      "Epoch 239/1000 - Validation: 100%|██████████| 1/1 [00:00<00:00, 800.44it/s]\n"
     ]
    },
    {
     "name": "stdout",
     "output_type": "stream",
     "text": [
      "Epoch 239/1000 - Train Loss: 0.0795 - Val Loss: 0.0502\n"
     ]
    },
    {
     "name": "stderr",
     "output_type": "stream",
     "text": [
      "Epoch 240/1000 - Training: 100%|██████████| 7/7 [00:00<00:00, 373.02it/s]\n",
      "Epoch 240/1000 - Validation: 100%|██████████| 1/1 [00:00<00:00, 823.22it/s]\n"
     ]
    },
    {
     "name": "stdout",
     "output_type": "stream",
     "text": [
      "Epoch 240/1000 - Train Loss: 0.0774 - Val Loss: 0.0165\n"
     ]
    },
    {
     "name": "stderr",
     "output_type": "stream",
     "text": [
      "Epoch 241/1000 - Training: 100%|██████████| 7/7 [00:00<00:00, 362.85it/s]\n",
      "Epoch 241/1000 - Validation: 100%|██████████| 1/1 [00:00<00:00, 972.93it/s]\n"
     ]
    },
    {
     "name": "stdout",
     "output_type": "stream",
     "text": [
      "Epoch 241/1000 - Train Loss: 0.0647 - Val Loss: 0.0349\n"
     ]
    },
    {
     "name": "stderr",
     "output_type": "stream",
     "text": [
      "Epoch 242/1000 - Training: 100%|██████████| 7/7 [00:00<00:00, 379.26it/s]\n",
      "Epoch 242/1000 - Validation: 100%|██████████| 1/1 [00:00<00:00, 860.72it/s]\n"
     ]
    },
    {
     "name": "stdout",
     "output_type": "stream",
     "text": [
      "Epoch 242/1000 - Train Loss: 0.0545 - Val Loss: 0.0195\n"
     ]
    },
    {
     "name": "stderr",
     "output_type": "stream",
     "text": [
      "Epoch 243/1000 - Training: 100%|██████████| 7/7 [00:00<00:00, 362.40it/s]\n",
      "Epoch 243/1000 - Validation: 100%|██████████| 1/1 [00:00<00:00, 849.39it/s]\n"
     ]
    },
    {
     "name": "stdout",
     "output_type": "stream",
     "text": [
      "Epoch 243/1000 - Train Loss: 0.0582 - Val Loss: 0.0517\n"
     ]
    },
    {
     "name": "stderr",
     "output_type": "stream",
     "text": [
      "Epoch 244/1000 - Training: 100%|██████████| 7/7 [00:00<00:00, 366.56it/s]\n",
      "Epoch 244/1000 - Validation: 100%|██████████| 1/1 [00:00<00:00, 878.39it/s]\n"
     ]
    },
    {
     "name": "stdout",
     "output_type": "stream",
     "text": [
      "Epoch 244/1000 - Train Loss: 0.0663 - Val Loss: 0.0169\n"
     ]
    },
    {
     "name": "stderr",
     "output_type": "stream",
     "text": [
      "Epoch 245/1000 - Training: 100%|██████████| 7/7 [00:00<00:00, 375.80it/s]\n",
      "Epoch 245/1000 - Validation: 100%|██████████| 1/1 [00:00<00:00, 967.10it/s]\n"
     ]
    },
    {
     "name": "stdout",
     "output_type": "stream",
     "text": [
      "Epoch 245/1000 - Train Loss: 0.0700 - Val Loss: 0.0542\n"
     ]
    },
    {
     "name": "stderr",
     "output_type": "stream",
     "text": [
      "Epoch 246/1000 - Training: 100%|██████████| 7/7 [00:00<00:00, 373.14it/s]\n",
      "Epoch 246/1000 - Validation: 100%|██████████| 1/1 [00:00<00:00, 889.75it/s]\n"
     ]
    },
    {
     "name": "stdout",
     "output_type": "stream",
     "text": [
      "Epoch 246/1000 - Train Loss: 0.0724 - Val Loss: 0.0229\n"
     ]
    },
    {
     "name": "stderr",
     "output_type": "stream",
     "text": [
      "Epoch 247/1000 - Training: 100%|██████████| 7/7 [00:00<00:00, 368.29it/s]\n",
      "Epoch 247/1000 - Validation: 100%|██████████| 1/1 [00:00<00:00, 861.61it/s]\n"
     ]
    },
    {
     "name": "stdout",
     "output_type": "stream",
     "text": [
      "Epoch 247/1000 - Train Loss: 0.0573 - Val Loss: 0.0455\n"
     ]
    },
    {
     "name": "stderr",
     "output_type": "stream",
     "text": [
      "Epoch 248/1000 - Training: 100%|██████████| 7/7 [00:00<00:00, 365.67it/s]\n",
      "Epoch 248/1000 - Validation: 100%|██████████| 1/1 [00:00<00:00, 857.20it/s]\n"
     ]
    },
    {
     "name": "stdout",
     "output_type": "stream",
     "text": [
      "Epoch 248/1000 - Train Loss: 0.0650 - Val Loss: 0.0275\n"
     ]
    },
    {
     "name": "stderr",
     "output_type": "stream",
     "text": [
      "Epoch 249/1000 - Training: 100%|██████████| 7/7 [00:00<00:00, 364.93it/s]\n",
      "Epoch 249/1000 - Validation: 100%|██████████| 1/1 [00:00<00:00, 914.99it/s]\n"
     ]
    },
    {
     "name": "stdout",
     "output_type": "stream",
     "text": [
      "Epoch 249/1000 - Train Loss: 0.0609 - Val Loss: 0.0212\n"
     ]
    },
    {
     "name": "stderr",
     "output_type": "stream",
     "text": [
      "Epoch 250/1000 - Training: 100%|██████████| 7/7 [00:00<00:00, 370.24it/s]\n",
      "Epoch 250/1000 - Validation: 100%|██████████| 1/1 [00:00<00:00, 983.42it/s]\n"
     ]
    },
    {
     "name": "stdout",
     "output_type": "stream",
     "text": [
      "Epoch 250/1000 - Train Loss: 0.0628 - Val Loss: 0.0404\n"
     ]
    },
    {
     "name": "stderr",
     "output_type": "stream",
     "text": [
      "Epoch 251/1000 - Training: 100%|██████████| 7/7 [00:00<00:00, 372.51it/s]\n",
      "Epoch 251/1000 - Validation: 100%|██████████| 1/1 [00:00<00:00, 949.80it/s]\n"
     ]
    },
    {
     "name": "stdout",
     "output_type": "stream",
     "text": [
      "Epoch 251/1000 - Train Loss: 0.0639 - Val Loss: 0.0224\n"
     ]
    },
    {
     "name": "stderr",
     "output_type": "stream",
     "text": [
      "Epoch 252/1000 - Training: 100%|██████████| 7/7 [00:00<00:00, 373.63it/s]\n",
      "Epoch 252/1000 - Validation: 100%|██████████| 1/1 [00:00<00:00, 860.55it/s]\n"
     ]
    },
    {
     "name": "stdout",
     "output_type": "stream",
     "text": [
      "Epoch 252/1000 - Train Loss: 0.0753 - Val Loss: 0.0553\n"
     ]
    },
    {
     "name": "stderr",
     "output_type": "stream",
     "text": [
      "Epoch 253/1000 - Training: 100%|██████████| 7/7 [00:00<00:00, 368.67it/s]\n",
      "Epoch 253/1000 - Validation: 100%|██████████| 1/1 [00:00<00:00, 771.58it/s]\n"
     ]
    },
    {
     "name": "stdout",
     "output_type": "stream",
     "text": [
      "Epoch 253/1000 - Train Loss: 0.0619 - Val Loss: 0.0262\n"
     ]
    },
    {
     "name": "stderr",
     "output_type": "stream",
     "text": [
      "Epoch 254/1000 - Training: 100%|██████████| 7/7 [00:00<00:00, 368.82it/s]\n",
      "Epoch 254/1000 - Validation: 100%|██████████| 1/1 [00:00<00:00, 1168.00it/s]\n"
     ]
    },
    {
     "name": "stdout",
     "output_type": "stream",
     "text": [
      "Epoch 254/1000 - Train Loss: 0.0725 - Val Loss: 0.0302\n"
     ]
    },
    {
     "name": "stderr",
     "output_type": "stream",
     "text": [
      "Epoch 255/1000 - Training: 100%|██████████| 7/7 [00:00<00:00, 372.50it/s]\n",
      "Epoch 255/1000 - Validation: 100%|██████████| 1/1 [00:00<00:00, 1150.39it/s]\n"
     ]
    },
    {
     "name": "stdout",
     "output_type": "stream",
     "text": [
      "Epoch 255/1000 - Train Loss: 0.0596 - Val Loss: 0.0257\n"
     ]
    },
    {
     "name": "stderr",
     "output_type": "stream",
     "text": [
      "Epoch 256/1000 - Training: 100%|██████████| 7/7 [00:00<00:00, 371.44it/s]\n",
      "Epoch 256/1000 - Validation: 100%|██████████| 1/1 [00:00<00:00, 844.77it/s]\n"
     ]
    },
    {
     "name": "stdout",
     "output_type": "stream",
     "text": [
      "Epoch 256/1000 - Train Loss: 0.0566 - Val Loss: 0.0316\n"
     ]
    },
    {
     "name": "stderr",
     "output_type": "stream",
     "text": [
      "Epoch 257/1000 - Training: 100%|██████████| 7/7 [00:00<00:00, 368.44it/s]\n",
      "Epoch 257/1000 - Validation: 100%|██████████| 1/1 [00:00<00:00, 1140.69it/s]\n"
     ]
    },
    {
     "name": "stdout",
     "output_type": "stream",
     "text": [
      "Epoch 257/1000 - Train Loss: 0.0573 - Val Loss: 0.0391\n"
     ]
    },
    {
     "name": "stderr",
     "output_type": "stream",
     "text": [
      "Epoch 258/1000 - Training: 100%|██████████| 7/7 [00:00<00:00, 371.42it/s]\n",
      "Epoch 258/1000 - Validation: 100%|██████████| 1/1 [00:00<00:00, 991.33it/s]\n"
     ]
    },
    {
     "name": "stdout",
     "output_type": "stream",
     "text": [
      "Epoch 258/1000 - Train Loss: 0.0640 - Val Loss: 0.0255\n"
     ]
    },
    {
     "name": "stderr",
     "output_type": "stream",
     "text": [
      "Epoch 259/1000 - Training: 100%|██████████| 7/7 [00:00<00:00, 376.19it/s]\n",
      "Epoch 259/1000 - Validation: 100%|██████████| 1/1 [00:00<00:00, 867.67it/s]\n"
     ]
    },
    {
     "name": "stdout",
     "output_type": "stream",
     "text": [
      "Epoch 259/1000 - Train Loss: 0.0606 - Val Loss: 0.0471\n"
     ]
    },
    {
     "name": "stderr",
     "output_type": "stream",
     "text": [
      "Epoch 260/1000 - Training: 100%|██████████| 7/7 [00:00<00:00, 369.37it/s]\n",
      "Epoch 260/1000 - Validation: 100%|██████████| 1/1 [00:00<00:00, 772.72it/s]\n"
     ]
    },
    {
     "name": "stdout",
     "output_type": "stream",
     "text": [
      "Epoch 260/1000 - Train Loss: 0.0778 - Val Loss: 0.0265\n"
     ]
    },
    {
     "name": "stderr",
     "output_type": "stream",
     "text": [
      "Epoch 261/1000 - Training: 100%|██████████| 7/7 [00:00<00:00, 369.96it/s]\n",
      "Epoch 261/1000 - Validation: 100%|██████████| 1/1 [00:00<00:00, 925.08it/s]\n"
     ]
    },
    {
     "name": "stdout",
     "output_type": "stream",
     "text": [
      "Epoch 261/1000 - Train Loss: 0.0665 - Val Loss: 0.0337\n"
     ]
    },
    {
     "name": "stderr",
     "output_type": "stream",
     "text": [
      "Epoch 262/1000 - Training: 100%|██████████| 7/7 [00:00<00:00, 370.03it/s]\n",
      "Epoch 262/1000 - Validation: 100%|██████████| 1/1 [00:00<00:00, 1131.76it/s]\n"
     ]
    },
    {
     "name": "stdout",
     "output_type": "stream",
     "text": [
      "Epoch 262/1000 - Train Loss: 0.0677 - Val Loss: 0.0335\n"
     ]
    },
    {
     "name": "stderr",
     "output_type": "stream",
     "text": [
      "Epoch 263/1000 - Training: 100%|██████████| 7/7 [00:00<00:00, 372.51it/s]\n",
      "Epoch 263/1000 - Validation: 100%|██████████| 1/1 [00:00<00:00, 903.94it/s]\n"
     ]
    },
    {
     "name": "stdout",
     "output_type": "stream",
     "text": [
      "Epoch 263/1000 - Train Loss: 0.0544 - Val Loss: 0.0485\n"
     ]
    },
    {
     "name": "stderr",
     "output_type": "stream",
     "text": [
      "Epoch 264/1000 - Training: 100%|██████████| 7/7 [00:00<00:00, 369.37it/s]\n",
      "Epoch 264/1000 - Validation: 100%|██████████| 1/1 [00:00<00:00, 872.18it/s]\n"
     ]
    },
    {
     "name": "stdout",
     "output_type": "stream",
     "text": [
      "Epoch 264/1000 - Train Loss: 0.0713 - Val Loss: 0.0339\n"
     ]
    },
    {
     "name": "stderr",
     "output_type": "stream",
     "text": [
      "Epoch 265/1000 - Training: 100%|██████████| 7/7 [00:00<00:00, 368.15it/s]\n",
      "Epoch 265/1000 - Validation: 100%|██████████| 1/1 [00:00<00:00, 864.80it/s]\n"
     ]
    },
    {
     "name": "stdout",
     "output_type": "stream",
     "text": [
      "Epoch 265/1000 - Train Loss: 0.0591 - Val Loss: 0.0387\n"
     ]
    },
    {
     "name": "stderr",
     "output_type": "stream",
     "text": [
      "Epoch 266/1000 - Training: 100%|██████████| 7/7 [00:00<00:00, 367.80it/s]\n",
      "Epoch 266/1000 - Validation: 100%|██████████| 1/1 [00:00<00:00, 808.31it/s]\n"
     ]
    },
    {
     "name": "stdout",
     "output_type": "stream",
     "text": [
      "Epoch 266/1000 - Train Loss: 0.0626 - Val Loss: 0.0263\n"
     ]
    },
    {
     "name": "stderr",
     "output_type": "stream",
     "text": [
      "Epoch 267/1000 - Training: 100%|██████████| 7/7 [00:00<00:00, 370.12it/s]\n",
      "Epoch 267/1000 - Validation: 100%|██████████| 1/1 [00:00<00:00, 1153.23it/s]\n"
     ]
    },
    {
     "name": "stdout",
     "output_type": "stream",
     "text": [
      "Epoch 267/1000 - Train Loss: 0.0505 - Val Loss: 0.0347\n"
     ]
    },
    {
     "name": "stderr",
     "output_type": "stream",
     "text": [
      "Epoch 268/1000 - Training: 100%|██████████| 7/7 [00:00<00:00, 371.96it/s]\n",
      "Epoch 268/1000 - Validation: 100%|██████████| 1/1 [00:00<00:00, 851.81it/s]\n"
     ]
    },
    {
     "name": "stdout",
     "output_type": "stream",
     "text": [
      "Epoch 268/1000 - Train Loss: 0.0702 - Val Loss: 0.0243\n"
     ]
    },
    {
     "name": "stderr",
     "output_type": "stream",
     "text": [
      "Epoch 269/1000 - Training: 100%|██████████| 7/7 [00:00<00:00, 374.88it/s]\n",
      "Epoch 269/1000 - Validation: 100%|██████████| 1/1 [00:00<00:00, 866.77it/s]\n"
     ]
    },
    {
     "name": "stdout",
     "output_type": "stream",
     "text": [
      "Epoch 269/1000 - Train Loss: 0.0617 - Val Loss: 0.0377\n"
     ]
    },
    {
     "name": "stderr",
     "output_type": "stream",
     "text": [
      "Epoch 270/1000 - Training: 100%|██████████| 7/7 [00:00<00:00, 375.84it/s]\n",
      "Epoch 270/1000 - Validation: 100%|██████████| 1/1 [00:00<00:00, 860.37it/s]\n"
     ]
    },
    {
     "name": "stdout",
     "output_type": "stream",
     "text": [
      "Epoch 270/1000 - Train Loss: 0.0628 - Val Loss: 0.0269\n"
     ]
    },
    {
     "name": "stderr",
     "output_type": "stream",
     "text": [
      "Epoch 271/1000 - Training: 100%|██████████| 7/7 [00:00<00:00, 377.40it/s]\n",
      "Epoch 271/1000 - Validation: 100%|██████████| 1/1 [00:00<00:00, 1141.31it/s]\n"
     ]
    },
    {
     "name": "stdout",
     "output_type": "stream",
     "text": [
      "Epoch 271/1000 - Train Loss: 0.0664 - Val Loss: 0.0585\n"
     ]
    },
    {
     "name": "stderr",
     "output_type": "stream",
     "text": [
      "Epoch 272/1000 - Training: 100%|██████████| 7/7 [00:00<00:00, 373.87it/s]\n",
      "Epoch 272/1000 - Validation: 100%|██████████| 1/1 [00:00<00:00, 860.55it/s]\n"
     ]
    },
    {
     "name": "stdout",
     "output_type": "stream",
     "text": [
      "Epoch 272/1000 - Train Loss: 0.0594 - Val Loss: 0.0268\n"
     ]
    },
    {
     "name": "stderr",
     "output_type": "stream",
     "text": [
      "Epoch 273/1000 - Training: 100%|██████████| 7/7 [00:00<00:00, 372.14it/s]\n",
      "Epoch 273/1000 - Validation: 100%|██████████| 1/1 [00:00<00:00, 858.78it/s]\n"
     ]
    },
    {
     "name": "stdout",
     "output_type": "stream",
     "text": [
      "Epoch 273/1000 - Train Loss: 0.0609 - Val Loss: 0.0236\n"
     ]
    },
    {
     "name": "stderr",
     "output_type": "stream",
     "text": [
      "Epoch 274/1000 - Training: 100%|██████████| 7/7 [00:00<00:00, 368.66it/s]\n",
      "Epoch 274/1000 - Validation: 100%|██████████| 1/1 [00:00<00:00, 905.90it/s]\n"
     ]
    },
    {
     "name": "stdout",
     "output_type": "stream",
     "text": [
      "Epoch 274/1000 - Train Loss: 0.0542 - Val Loss: 0.0255\n"
     ]
    },
    {
     "name": "stderr",
     "output_type": "stream",
     "text": [
      "Epoch 275/1000 - Training: 100%|██████████| 7/7 [00:00<00:00, 369.86it/s]\n",
      "Epoch 275/1000 - Validation: 100%|██████████| 1/1 [00:00<00:00, 1134.52it/s]\n"
     ]
    },
    {
     "name": "stdout",
     "output_type": "stream",
     "text": [
      "Epoch 275/1000 - Train Loss: 0.0670 - Val Loss: 0.0332\n"
     ]
    },
    {
     "name": "stderr",
     "output_type": "stream",
     "text": [
      "Epoch 276/1000 - Training: 100%|██████████| 7/7 [00:00<00:00, 373.80it/s]\n",
      "Epoch 276/1000 - Validation: 100%|██████████| 1/1 [00:00<00:00, 828.91it/s]\n"
     ]
    },
    {
     "name": "stdout",
     "output_type": "stream",
     "text": [
      "Epoch 276/1000 - Train Loss: 0.0569 - Val Loss: 0.0239\n"
     ]
    },
    {
     "name": "stderr",
     "output_type": "stream",
     "text": [
      "Epoch 277/1000 - Training: 100%|██████████| 7/7 [00:00<00:00, 370.62it/s]\n",
      "Epoch 277/1000 - Validation: 100%|██████████| 1/1 [00:00<00:00, 1015.57it/s]\n"
     ]
    },
    {
     "name": "stdout",
     "output_type": "stream",
     "text": [
      "Epoch 277/1000 - Train Loss: 0.0634 - Val Loss: 0.0197\n"
     ]
    },
    {
     "name": "stderr",
     "output_type": "stream",
     "text": [
      "Epoch 278/1000 - Training: 100%|██████████| 7/7 [00:00<00:00, 372.55it/s]\n",
      "Epoch 278/1000 - Validation: 100%|██████████| 1/1 [00:00<00:00, 831.54it/s]\n"
     ]
    },
    {
     "name": "stdout",
     "output_type": "stream",
     "text": [
      "Epoch 278/1000 - Train Loss: 0.0766 - Val Loss: 0.0296\n"
     ]
    },
    {
     "name": "stderr",
     "output_type": "stream",
     "text": [
      "Epoch 279/1000 - Training: 100%|██████████| 7/7 [00:00<00:00, 369.98it/s]\n",
      "Epoch 279/1000 - Validation: 100%|██████████| 1/1 [00:00<00:00, 1134.21it/s]\n"
     ]
    },
    {
     "name": "stdout",
     "output_type": "stream",
     "text": [
      "Epoch 279/1000 - Train Loss: 0.0473 - Val Loss: 0.0353\n"
     ]
    },
    {
     "name": "stderr",
     "output_type": "stream",
     "text": [
      "Epoch 280/1000 - Training: 100%|██████████| 7/7 [00:00<00:00, 371.81it/s]\n",
      "Epoch 280/1000 - Validation: 100%|██████████| 1/1 [00:00<00:00, 928.97it/s]\n"
     ]
    },
    {
     "name": "stdout",
     "output_type": "stream",
     "text": [
      "Epoch 280/1000 - Train Loss: 0.0637 - Val Loss: 0.0287\n"
     ]
    },
    {
     "name": "stderr",
     "output_type": "stream",
     "text": [
      "Epoch 281/1000 - Training: 100%|██████████| 7/7 [00:00<00:00, 371.43it/s]\n",
      "Epoch 281/1000 - Validation: 100%|██████████| 1/1 [00:00<00:00, 896.41it/s]\n"
     ]
    },
    {
     "name": "stdout",
     "output_type": "stream",
     "text": [
      "Epoch 281/1000 - Train Loss: 0.0538 - Val Loss: 0.0292\n"
     ]
    },
    {
     "name": "stderr",
     "output_type": "stream",
     "text": [
      "Epoch 282/1000 - Training: 100%|██████████| 7/7 [00:00<00:00, 372.43it/s]\n",
      "Epoch 282/1000 - Validation: 100%|██████████| 1/1 [00:00<00:00, 955.20it/s]\n"
     ]
    },
    {
     "name": "stdout",
     "output_type": "stream",
     "text": [
      "Epoch 282/1000 - Train Loss: 0.0625 - Val Loss: 0.0601\n"
     ]
    },
    {
     "name": "stderr",
     "output_type": "stream",
     "text": [
      "Epoch 283/1000 - Training: 100%|██████████| 7/7 [00:00<00:00, 370.62it/s]\n",
      "Epoch 283/1000 - Validation: 100%|██████████| 1/1 [00:00<00:00, 783.25it/s]\n"
     ]
    },
    {
     "name": "stdout",
     "output_type": "stream",
     "text": [
      "Epoch 283/1000 - Train Loss: 0.0630 - Val Loss: 0.0213\n"
     ]
    },
    {
     "name": "stderr",
     "output_type": "stream",
     "text": [
      "Epoch 284/1000 - Training: 100%|██████████| 7/7 [00:00<00:00, 367.66it/s]\n",
      "Epoch 284/1000 - Validation: 100%|██████████| 1/1 [00:00<00:00, 948.94it/s]\n"
     ]
    },
    {
     "name": "stdout",
     "output_type": "stream",
     "text": [
      "Epoch 284/1000 - Train Loss: 0.0491 - Val Loss: 0.0293\n"
     ]
    },
    {
     "name": "stderr",
     "output_type": "stream",
     "text": [
      "Epoch 285/1000 - Training: 100%|██████████| 7/7 [00:00<00:00, 379.35it/s]\n",
      "Epoch 285/1000 - Validation: 100%|██████████| 1/1 [00:00<00:00, 939.58it/s]\n"
     ]
    },
    {
     "name": "stdout",
     "output_type": "stream",
     "text": [
      "Epoch 285/1000 - Train Loss: 0.0548 - Val Loss: 0.0334\n"
     ]
    },
    {
     "name": "stderr",
     "output_type": "stream",
     "text": [
      "Epoch 286/1000 - Training: 100%|██████████| 7/7 [00:00<00:00, 372.61it/s]\n",
      "Epoch 286/1000 - Validation: 100%|██████████| 1/1 [00:00<00:00, 823.87it/s]\n"
     ]
    },
    {
     "name": "stdout",
     "output_type": "stream",
     "text": [
      "Epoch 286/1000 - Train Loss: 0.0510 - Val Loss: 0.0342\n"
     ]
    },
    {
     "name": "stderr",
     "output_type": "stream",
     "text": [
      "Epoch 287/1000 - Training: 100%|██████████| 7/7 [00:00<00:00, 370.98it/s]\n",
      "Epoch 287/1000 - Validation: 100%|██████████| 1/1 [00:00<00:00, 863.56it/s]\n"
     ]
    },
    {
     "name": "stdout",
     "output_type": "stream",
     "text": [
      "Epoch 287/1000 - Train Loss: 0.0552 - Val Loss: 0.0338\n"
     ]
    },
    {
     "name": "stderr",
     "output_type": "stream",
     "text": [
      "Epoch 288/1000 - Training: 100%|██████████| 7/7 [00:00<00:00, 364.93it/s]\n",
      "Epoch 288/1000 - Validation: 100%|██████████| 1/1 [00:00<00:00, 874.54it/s]\n"
     ]
    },
    {
     "name": "stdout",
     "output_type": "stream",
     "text": [
      "Epoch 288/1000 - Train Loss: 0.0651 - Val Loss: 0.0226\n"
     ]
    },
    {
     "name": "stderr",
     "output_type": "stream",
     "text": [
      "Epoch 289/1000 - Training: 100%|██████████| 7/7 [00:00<00:00, 366.72it/s]\n",
      "Epoch 289/1000 - Validation: 100%|██████████| 1/1 [00:00<00:00, 971.13it/s]\n"
     ]
    },
    {
     "name": "stdout",
     "output_type": "stream",
     "text": [
      "Epoch 289/1000 - Train Loss: 0.0588 - Val Loss: 0.0256\n"
     ]
    },
    {
     "name": "stderr",
     "output_type": "stream",
     "text": [
      "Epoch 290/1000 - Training: 100%|██████████| 7/7 [00:00<00:00, 368.82it/s]\n",
      "Epoch 290/1000 - Validation: 100%|██████████| 1/1 [00:00<00:00, 819.36it/s]\n"
     ]
    },
    {
     "name": "stdout",
     "output_type": "stream",
     "text": [
      "Epoch 290/1000 - Train Loss: 0.0583 - Val Loss: 0.0294\n"
     ]
    },
    {
     "name": "stderr",
     "output_type": "stream",
     "text": [
      "Epoch 291/1000 - Training: 100%|██████████| 7/7 [00:00<00:00, 369.65it/s]\n",
      "Epoch 291/1000 - Validation: 100%|██████████| 1/1 [00:00<00:00, 836.52it/s]\n"
     ]
    },
    {
     "name": "stdout",
     "output_type": "stream",
     "text": [
      "Epoch 291/1000 - Train Loss: 0.0554 - Val Loss: 0.0536\n"
     ]
    },
    {
     "name": "stderr",
     "output_type": "stream",
     "text": [
      "Epoch 292/1000 - Training: 100%|██████████| 7/7 [00:00<00:00, 371.43it/s]\n",
      "Epoch 292/1000 - Validation: 100%|██████████| 1/1 [00:00<00:00, 858.26it/s]\n"
     ]
    },
    {
     "name": "stdout",
     "output_type": "stream",
     "text": [
      "Epoch 292/1000 - Train Loss: 0.0648 - Val Loss: 0.0355\n"
     ]
    },
    {
     "name": "stderr",
     "output_type": "stream",
     "text": [
      "Epoch 293/1000 - Training: 100%|██████████| 7/7 [00:00<00:00, 370.49it/s]\n",
      "Epoch 293/1000 - Validation: 100%|██████████| 1/1 [00:00<00:00, 799.22it/s]\n"
     ]
    },
    {
     "name": "stdout",
     "output_type": "stream",
     "text": [
      "Epoch 293/1000 - Train Loss: 0.0553 - Val Loss: 0.0595\n"
     ]
    },
    {
     "name": "stderr",
     "output_type": "stream",
     "text": [
      "Epoch 294/1000 - Training: 100%|██████████| 7/7 [00:00<00:00, 364.97it/s]\n",
      "Epoch 294/1000 - Validation: 100%|██████████| 1/1 [00:00<00:00, 860.19it/s]\n"
     ]
    },
    {
     "name": "stdout",
     "output_type": "stream",
     "text": [
      "Epoch 294/1000 - Train Loss: 0.0550 - Val Loss: 0.0236\n"
     ]
    },
    {
     "name": "stderr",
     "output_type": "stream",
     "text": [
      "Epoch 295/1000 - Training: 100%|██████████| 7/7 [00:00<00:00, 368.13it/s]\n",
      "Epoch 295/1000 - Validation: 100%|██████████| 1/1 [00:00<00:00, 1130.24it/s]\n"
     ]
    },
    {
     "name": "stdout",
     "output_type": "stream",
     "text": [
      "Epoch 295/1000 - Train Loss: 0.0554 - Val Loss: 0.0299\n"
     ]
    },
    {
     "name": "stderr",
     "output_type": "stream",
     "text": [
      "Epoch 296/1000 - Training: 100%|██████████| 7/7 [00:00<00:00, 369.82it/s]\n",
      "Epoch 296/1000 - Validation: 100%|██████████| 1/1 [00:00<00:00, 1155.46it/s]\n"
     ]
    },
    {
     "name": "stdout",
     "output_type": "stream",
     "text": [
      "Epoch 296/1000 - Train Loss: 0.0561 - Val Loss: 0.0360\n"
     ]
    },
    {
     "name": "stderr",
     "output_type": "stream",
     "text": [
      "Epoch 297/1000 - Training: 100%|██████████| 7/7 [00:00<00:00, 372.67it/s]\n",
      "Epoch 297/1000 - Validation: 100%|██████████| 1/1 [00:00<00:00, 1121.47it/s]\n"
     ]
    },
    {
     "name": "stdout",
     "output_type": "stream",
     "text": [
      "Epoch 297/1000 - Train Loss: 0.0543 - Val Loss: 0.0213\n"
     ]
    },
    {
     "name": "stderr",
     "output_type": "stream",
     "text": [
      "Epoch 298/1000 - Training: 100%|██████████| 7/7 [00:00<00:00, 379.22it/s]\n",
      "Epoch 298/1000 - Validation: 100%|██████████| 1/1 [00:00<00:00, 838.19it/s]\n"
     ]
    },
    {
     "name": "stdout",
     "output_type": "stream",
     "text": [
      "Epoch 298/1000 - Train Loss: 0.0618 - Val Loss: 0.0530\n"
     ]
    },
    {
     "name": "stderr",
     "output_type": "stream",
     "text": [
      "Epoch 299/1000 - Training: 100%|██████████| 7/7 [00:00<00:00, 373.78it/s]\n",
      "Epoch 299/1000 - Validation: 100%|██████████| 1/1 [00:00<00:00, 1104.64it/s]\n"
     ]
    },
    {
     "name": "stdout",
     "output_type": "stream",
     "text": [
      "Epoch 299/1000 - Train Loss: 0.0643 - Val Loss: 0.0233\n"
     ]
    },
    {
     "name": "stderr",
     "output_type": "stream",
     "text": [
      "Epoch 300/1000 - Training: 100%|██████████| 7/7 [00:00<00:00, 366.01it/s]\n",
      "Epoch 300/1000 - Validation: 100%|██████████| 1/1 [00:00<00:00, 958.26it/s]\n"
     ]
    },
    {
     "name": "stdout",
     "output_type": "stream",
     "text": [
      "Epoch 300/1000 - Train Loss: 0.0490 - Val Loss: 0.0412\n"
     ]
    },
    {
     "name": "stderr",
     "output_type": "stream",
     "text": [
      "Epoch 301/1000 - Training: 100%|██████████| 7/7 [00:00<00:00, 366.85it/s]\n",
      "Epoch 301/1000 - Validation: 100%|██████████| 1/1 [00:00<00:00, 876.92it/s]\n"
     ]
    },
    {
     "name": "stdout",
     "output_type": "stream",
     "text": [
      "Epoch 301/1000 - Train Loss: 0.0674 - Val Loss: 0.0216\n"
     ]
    },
    {
     "name": "stderr",
     "output_type": "stream",
     "text": [
      "Epoch 302/1000 - Training: 100%|██████████| 7/7 [00:00<00:00, 365.43it/s]\n",
      "Epoch 302/1000 - Validation: 100%|██████████| 1/1 [00:00<00:00, 1137.28it/s]\n"
     ]
    },
    {
     "name": "stdout",
     "output_type": "stream",
     "text": [
      "Epoch 302/1000 - Train Loss: 0.0546 - Val Loss: 0.0302\n"
     ]
    },
    {
     "name": "stderr",
     "output_type": "stream",
     "text": [
      "Epoch 303/1000 - Training: 100%|██████████| 7/7 [00:00<00:00, 371.00it/s]\n",
      "Epoch 303/1000 - Validation: 100%|██████████| 1/1 [00:00<00:00, 808.31it/s]\n"
     ]
    },
    {
     "name": "stdout",
     "output_type": "stream",
     "text": [
      "Epoch 303/1000 - Train Loss: 0.0503 - Val Loss: 0.0452\n"
     ]
    },
    {
     "name": "stderr",
     "output_type": "stream",
     "text": [
      "Epoch 304/1000 - Training: 100%|██████████| 7/7 [00:00<00:00, 367.38it/s]\n",
      "Epoch 304/1000 - Validation: 100%|██████████| 1/1 [00:00<00:00, 871.27it/s]\n"
     ]
    },
    {
     "name": "stdout",
     "output_type": "stream",
     "text": [
      "Epoch 304/1000 - Train Loss: 0.0560 - Val Loss: 0.0238\n"
     ]
    },
    {
     "name": "stderr",
     "output_type": "stream",
     "text": [
      "Epoch 305/1000 - Training: 100%|██████████| 7/7 [00:00<00:00, 366.72it/s]\n",
      "Epoch 305/1000 - Validation: 100%|██████████| 1/1 [00:00<00:00, 1134.21it/s]\n"
     ]
    },
    {
     "name": "stdout",
     "output_type": "stream",
     "text": [
      "Epoch 305/1000 - Train Loss: 0.0597 - Val Loss: 0.0263\n"
     ]
    },
    {
     "name": "stderr",
     "output_type": "stream",
     "text": [
      "Epoch 306/1000 - Training: 100%|██████████| 7/7 [00:00<00:00, 370.54it/s]\n",
      "Epoch 306/1000 - Validation: 100%|██████████| 1/1 [00:00<00:00, 1011.65it/s]\n"
     ]
    },
    {
     "name": "stdout",
     "output_type": "stream",
     "text": [
      "Epoch 306/1000 - Train Loss: 0.0576 - Val Loss: 0.0228\n"
     ]
    },
    {
     "name": "stderr",
     "output_type": "stream",
     "text": [
      "Epoch 307/1000 - Training: 100%|██████████| 7/7 [00:00<00:00, 370.05it/s]\n",
      "Epoch 307/1000 - Validation: 100%|██████████| 1/1 [00:00<00:00, 1049.10it/s]\n"
     ]
    },
    {
     "name": "stdout",
     "output_type": "stream",
     "text": [
      "Epoch 307/1000 - Train Loss: 0.0575 - Val Loss: 0.0688\n"
     ]
    },
    {
     "name": "stderr",
     "output_type": "stream",
     "text": [
      "Epoch 308/1000 - Training: 100%|██████████| 7/7 [00:00<00:00, 366.63it/s]\n",
      "Epoch 308/1000 - Validation: 100%|██████████| 1/1 [00:00<00:00, 1017.29it/s]\n"
     ]
    },
    {
     "name": "stdout",
     "output_type": "stream",
     "text": [
      "Epoch 308/1000 - Train Loss: 0.0570 - Val Loss: 0.0242\n"
     ]
    },
    {
     "name": "stderr",
     "output_type": "stream",
     "text": [
      "Epoch 309/1000 - Training: 100%|██████████| 7/7 [00:00<00:00, 369.46it/s]\n",
      "Epoch 309/1000 - Validation: 100%|██████████| 1/1 [00:00<00:00, 1170.94it/s]\n"
     ]
    },
    {
     "name": "stdout",
     "output_type": "stream",
     "text": [
      "Epoch 309/1000 - Train Loss: 0.0610 - Val Loss: 0.0342\n"
     ]
    },
    {
     "name": "stderr",
     "output_type": "stream",
     "text": [
      "Epoch 310/1000 - Training: 100%|██████████| 7/7 [00:00<00:00, 370.69it/s]\n",
      "Epoch 310/1000 - Validation: 100%|██████████| 1/1 [00:00<00:00, 1052.52it/s]\n"
     ]
    },
    {
     "name": "stdout",
     "output_type": "stream",
     "text": [
      "Epoch 310/1000 - Train Loss: 0.0541 - Val Loss: 0.0289\n"
     ]
    },
    {
     "name": "stderr",
     "output_type": "stream",
     "text": [
      "Epoch 311/1000 - Training: 100%|██████████| 7/7 [00:00<00:00, 375.62it/s]\n",
      "Epoch 311/1000 - Validation: 100%|██████████| 1/1 [00:00<00:00, 1059.44it/s]\n"
     ]
    },
    {
     "name": "stdout",
     "output_type": "stream",
     "text": [
      "Epoch 311/1000 - Train Loss: 0.0636 - Val Loss: 0.0221\n"
     ]
    },
    {
     "name": "stderr",
     "output_type": "stream",
     "text": [
      "Epoch 312/1000 - Training: 100%|██████████| 7/7 [00:00<00:00, 376.75it/s]\n",
      "Epoch 312/1000 - Validation: 100%|██████████| 1/1 [00:00<00:00, 1013.61it/s]\n"
     ]
    },
    {
     "name": "stdout",
     "output_type": "stream",
     "text": [
      "Epoch 312/1000 - Train Loss: 0.0567 - Val Loss: 0.0286\n"
     ]
    },
    {
     "name": "stderr",
     "output_type": "stream",
     "text": [
      "Epoch 313/1000 - Training: 100%|██████████| 7/7 [00:00<00:00, 370.29it/s]\n",
      "Epoch 313/1000 - Validation: 100%|██████████| 1/1 [00:00<00:00, 1154.50it/s]\n"
     ]
    },
    {
     "name": "stdout",
     "output_type": "stream",
     "text": [
      "Epoch 313/1000 - Train Loss: 0.0474 - Val Loss: 0.0444\n"
     ]
    },
    {
     "name": "stderr",
     "output_type": "stream",
     "text": [
      "Epoch 314/1000 - Training: 100%|██████████| 7/7 [00:00<00:00, 371.50it/s]\n",
      "Epoch 314/1000 - Validation: 100%|██████████| 1/1 [00:00<00:00, 896.41it/s]\n"
     ]
    },
    {
     "name": "stdout",
     "output_type": "stream",
     "text": [
      "Epoch 314/1000 - Train Loss: 0.0644 - Val Loss: 0.0368\n"
     ]
    },
    {
     "name": "stderr",
     "output_type": "stream",
     "text": [
      "Epoch 315/1000 - Training: 100%|██████████| 7/7 [00:00<00:00, 372.65it/s]\n",
      "Epoch 315/1000 - Validation: 100%|██████████| 1/1 [00:00<00:00, 1197.35it/s]\n"
     ]
    },
    {
     "name": "stdout",
     "output_type": "stream",
     "text": [
      "Epoch 315/1000 - Train Loss: 0.0538 - Val Loss: 0.0432\n"
     ]
    },
    {
     "name": "stderr",
     "output_type": "stream",
     "text": [
      "Epoch 316/1000 - Training: 100%|██████████| 7/7 [00:00<00:00, 370.80it/s]\n",
      "Epoch 316/1000 - Validation: 100%|██████████| 1/1 [00:00<00:00, 1161.86it/s]\n"
     ]
    },
    {
     "name": "stdout",
     "output_type": "stream",
     "text": [
      "Epoch 316/1000 - Train Loss: 0.0587 - Val Loss: 0.0286\n"
     ]
    },
    {
     "name": "stderr",
     "output_type": "stream",
     "text": [
      "Epoch 317/1000 - Training: 100%|██████████| 7/7 [00:00<00:00, 373.18it/s]\n",
      "Epoch 317/1000 - Validation: 100%|██████████| 1/1 [00:00<00:00, 1019.52it/s]\n"
     ]
    },
    {
     "name": "stdout",
     "output_type": "stream",
     "text": [
      "Epoch 317/1000 - Train Loss: 0.0552 - Val Loss: 0.0571\n"
     ]
    },
    {
     "name": "stderr",
     "output_type": "stream",
     "text": [
      "Epoch 318/1000 - Training: 100%|██████████| 7/7 [00:00<00:00, 372.16it/s]\n",
      "Epoch 318/1000 - Validation: 100%|██████████| 1/1 [00:00<00:00, 1182.16it/s]\n"
     ]
    },
    {
     "name": "stdout",
     "output_type": "stream",
     "text": [
      "Epoch 318/1000 - Train Loss: 0.0746 - Val Loss: 0.0291\n"
     ]
    },
    {
     "name": "stderr",
     "output_type": "stream",
     "text": [
      "Epoch 319/1000 - Training: 100%|██████████| 7/7 [00:00<00:00, 373.09it/s]\n",
      "Epoch 319/1000 - Validation: 100%|██████████| 1/1 [00:00<00:00, 1011.16it/s]\n"
     ]
    },
    {
     "name": "stdout",
     "output_type": "stream",
     "text": [
      "Epoch 319/1000 - Train Loss: 0.0675 - Val Loss: 0.0720\n"
     ]
    },
    {
     "name": "stderr",
     "output_type": "stream",
     "text": [
      "Epoch 320/1000 - Training: 100%|██████████| 7/7 [00:00<00:00, 372.41it/s]\n",
      "Epoch 320/1000 - Validation: 100%|██████████| 1/1 [00:00<00:00, 1022.25it/s]\n"
     ]
    },
    {
     "name": "stdout",
     "output_type": "stream",
     "text": [
      "Epoch 320/1000 - Train Loss: 0.0705 - Val Loss: 0.0221\n"
     ]
    },
    {
     "name": "stderr",
     "output_type": "stream",
     "text": [
      "Epoch 321/1000 - Training: 100%|██████████| 7/7 [00:00<00:00, 372.26it/s]\n",
      "Epoch 321/1000 - Validation: 100%|██████████| 1/1 [00:00<00:00, 1000.07it/s]\n"
     ]
    },
    {
     "name": "stdout",
     "output_type": "stream",
     "text": [
      "Epoch 321/1000 - Train Loss: 0.0560 - Val Loss: 0.0346\n"
     ]
    },
    {
     "name": "stderr",
     "output_type": "stream",
     "text": [
      "Epoch 322/1000 - Training: 100%|██████████| 7/7 [00:00<00:00, 371.79it/s]\n",
      "Epoch 322/1000 - Validation: 100%|██████████| 1/1 [00:00<00:00, 995.09it/s]\n"
     ]
    },
    {
     "name": "stdout",
     "output_type": "stream",
     "text": [
      "Epoch 322/1000 - Train Loss: 0.0536 - Val Loss: 0.0242\n"
     ]
    },
    {
     "name": "stderr",
     "output_type": "stream",
     "text": [
      "Epoch 323/1000 - Training: 100%|██████████| 7/7 [00:00<00:00, 371.37it/s]\n",
      "Epoch 323/1000 - Validation: 100%|██████████| 1/1 [00:00<00:00, 1153.55it/s]\n"
     ]
    },
    {
     "name": "stdout",
     "output_type": "stream",
     "text": [
      "Epoch 323/1000 - Train Loss: 0.0537 - Val Loss: 0.0357\n"
     ]
    },
    {
     "name": "stderr",
     "output_type": "stream",
     "text": [
      "Epoch 324/1000 - Training: 100%|██████████| 7/7 [00:00<00:00, 314.61it/s]\n",
      "Epoch 324/1000 - Validation: 100%|██████████| 1/1 [00:00<00:00, 950.23it/s]\n"
     ]
    },
    {
     "name": "stdout",
     "output_type": "stream",
     "text": [
      "Epoch 324/1000 - Train Loss: 0.0648 - Val Loss: 0.0314\n"
     ]
    },
    {
     "name": "stderr",
     "output_type": "stream",
     "text": [
      "Epoch 325/1000 - Training: 100%|██████████| 7/7 [00:00<00:00, 372.34it/s]\n",
      "Epoch 325/1000 - Validation: 100%|██████████| 1/1 [00:00<00:00, 900.65it/s]\n"
     ]
    },
    {
     "name": "stdout",
     "output_type": "stream",
     "text": [
      "Epoch 325/1000 - Train Loss: 0.0541 - Val Loss: 0.0313\n"
     ]
    },
    {
     "name": "stderr",
     "output_type": "stream",
     "text": [
      "Epoch 326/1000 - Training: 100%|██████████| 7/7 [00:00<00:00, 330.32it/s]\n",
      "Epoch 326/1000 - Validation: 100%|██████████| 1/1 [00:00<00:00, 1001.27it/s]\n"
     ]
    },
    {
     "name": "stdout",
     "output_type": "stream",
     "text": [
      "Epoch 326/1000 - Train Loss: 0.0615 - Val Loss: 0.0221\n"
     ]
    },
    {
     "name": "stderr",
     "output_type": "stream",
     "text": [
      "Epoch 327/1000 - Training: 100%|██████████| 7/7 [00:00<00:00, 373.67it/s]\n",
      "Epoch 327/1000 - Validation: 100%|██████████| 1/1 [00:00<00:00, 897.56it/s]\n"
     ]
    },
    {
     "name": "stdout",
     "output_type": "stream",
     "text": [
      "Epoch 327/1000 - Train Loss: 0.0476 - Val Loss: 0.0442\n"
     ]
    },
    {
     "name": "stderr",
     "output_type": "stream",
     "text": [
      "Epoch 328/1000 - Training: 100%|██████████| 7/7 [00:00<00:00, 374.46it/s]\n",
      "Epoch 328/1000 - Validation: 100%|██████████| 1/1 [00:00<00:00, 972.03it/s]\n"
     ]
    },
    {
     "name": "stdout",
     "output_type": "stream",
     "text": [
      "Epoch 328/1000 - Train Loss: 0.0482 - Val Loss: 0.0230\n"
     ]
    },
    {
     "name": "stderr",
     "output_type": "stream",
     "text": [
      "Epoch 329/1000 - Training: 100%|██████████| 7/7 [00:00<00:00, 374.17it/s]\n",
      "Epoch 329/1000 - Validation: 100%|██████████| 1/1 [00:00<00:00, 874.54it/s]\n"
     ]
    },
    {
     "name": "stdout",
     "output_type": "stream",
     "text": [
      "Epoch 329/1000 - Train Loss: 0.0623 - Val Loss: 0.0480\n"
     ]
    },
    {
     "name": "stderr",
     "output_type": "stream",
     "text": [
      "Epoch 330/1000 - Training: 100%|██████████| 7/7 [00:00<00:00, 330.20it/s]\n",
      "Epoch 330/1000 - Validation: 100%|██████████| 1/1 [00:00<00:00, 866.05it/s]\n"
     ]
    },
    {
     "name": "stdout",
     "output_type": "stream",
     "text": [
      "Epoch 330/1000 - Train Loss: 0.0572 - Val Loss: 0.0207\n"
     ]
    },
    {
     "name": "stderr",
     "output_type": "stream",
     "text": [
      "Epoch 331/1000 - Training: 100%|██████████| 7/7 [00:00<00:00, 372.23it/s]\n",
      "Epoch 331/1000 - Validation: 100%|██████████| 1/1 [00:00<00:00, 868.03it/s]\n"
     ]
    },
    {
     "name": "stdout",
     "output_type": "stream",
     "text": [
      "Epoch 331/1000 - Train Loss: 0.0453 - Val Loss: 0.0373\n"
     ]
    },
    {
     "name": "stderr",
     "output_type": "stream",
     "text": [
      "Epoch 332/1000 - Training: 100%|██████████| 7/7 [00:00<00:00, 371.91it/s]\n",
      "Epoch 332/1000 - Validation: 100%|██████████| 1/1 [00:00<00:00, 956.29it/s]\n"
     ]
    },
    {
     "name": "stdout",
     "output_type": "stream",
     "text": [
      "Epoch 332/1000 - Train Loss: 0.0670 - Val Loss: 0.0275\n"
     ]
    },
    {
     "name": "stderr",
     "output_type": "stream",
     "text": [
      "Epoch 333/1000 - Training: 100%|██████████| 7/7 [00:00<00:00, 373.64it/s]\n",
      "Epoch 333/1000 - Validation: 100%|██████████| 1/1 [00:00<00:00, 866.41it/s]\n"
     ]
    },
    {
     "name": "stdout",
     "output_type": "stream",
     "text": [
      "Epoch 333/1000 - Train Loss: 0.0574 - Val Loss: 0.0268\n"
     ]
    },
    {
     "name": "stderr",
     "output_type": "stream",
     "text": [
      "Epoch 334/1000 - Training: 100%|██████████| 7/7 [00:00<00:00, 368.46it/s]\n",
      "Epoch 334/1000 - Validation: 100%|██████████| 1/1 [00:00<00:00, 960.89it/s]\n"
     ]
    },
    {
     "name": "stdout",
     "output_type": "stream",
     "text": [
      "Epoch 334/1000 - Train Loss: 0.0540 - Val Loss: 0.0614\n"
     ]
    },
    {
     "name": "stderr",
     "output_type": "stream",
     "text": [
      "Epoch 335/1000 - Training: 100%|██████████| 7/7 [00:00<00:00, 370.84it/s]\n",
      "Epoch 335/1000 - Validation: 100%|██████████| 1/1 [00:00<00:00, 952.82it/s]\n"
     ]
    },
    {
     "name": "stdout",
     "output_type": "stream",
     "text": [
      "Epoch 335/1000 - Train Loss: 0.0534 - Val Loss: 0.0274\n"
     ]
    },
    {
     "name": "stderr",
     "output_type": "stream",
     "text": [
      "Epoch 336/1000 - Training: 100%|██████████| 7/7 [00:00<00:00, 371.52it/s]\n",
      "Epoch 336/1000 - Validation: 100%|██████████| 1/1 [00:00<00:00, 861.25it/s]\n"
     ]
    },
    {
     "name": "stdout",
     "output_type": "stream",
     "text": [
      "Epoch 336/1000 - Train Loss: 0.0579 - Val Loss: 0.0429\n"
     ]
    },
    {
     "name": "stderr",
     "output_type": "stream",
     "text": [
      "Epoch 337/1000 - Training: 100%|██████████| 7/7 [00:00<00:00, 366.56it/s]\n",
      "Epoch 337/1000 - Validation: 100%|██████████| 1/1 [00:00<00:00, 803.35it/s]\n"
     ]
    },
    {
     "name": "stdout",
     "output_type": "stream",
     "text": [
      "Epoch 337/1000 - Train Loss: 0.0573 - Val Loss: 0.0270\n"
     ]
    },
    {
     "name": "stderr",
     "output_type": "stream",
     "text": [
      "Epoch 338/1000 - Training: 100%|██████████| 7/7 [00:00<00:00, 369.58it/s]\n",
      "Epoch 338/1000 - Validation: 100%|██████████| 1/1 [00:00<00:00, 996.75it/s]\n"
     ]
    },
    {
     "name": "stdout",
     "output_type": "stream",
     "text": [
      "Epoch 338/1000 - Train Loss: 0.0571 - Val Loss: 0.0487\n"
     ]
    },
    {
     "name": "stderr",
     "output_type": "stream",
     "text": [
      "Epoch 339/1000 - Training: 100%|██████████| 7/7 [00:00<00:00, 371.75it/s]\n",
      "Epoch 339/1000 - Validation: 100%|██████████| 1/1 [00:00<00:00, 816.81it/s]\n"
     ]
    },
    {
     "name": "stdout",
     "output_type": "stream",
     "text": [
      "Epoch 339/1000 - Train Loss: 0.0560 - Val Loss: 0.0219\n"
     ]
    },
    {
     "name": "stderr",
     "output_type": "stream",
     "text": [
      "Epoch 340/1000 - Training: 100%|██████████| 7/7 [00:00<00:00, 364.35it/s]\n",
      "Epoch 340/1000 - Validation: 100%|██████████| 1/1 [00:00<00:00, 699.52it/s]\n"
     ]
    },
    {
     "name": "stdout",
     "output_type": "stream",
     "text": [
      "Epoch 340/1000 - Train Loss: 0.0609 - Val Loss: 0.0505\n"
     ]
    },
    {
     "name": "stderr",
     "output_type": "stream",
     "text": [
      "Epoch 341/1000 - Training: 100%|██████████| 7/7 [00:00<00:00, 363.08it/s]\n",
      "Epoch 341/1000 - Validation: 100%|██████████| 1/1 [00:00<00:00, 861.78it/s]\n"
     ]
    },
    {
     "name": "stdout",
     "output_type": "stream",
     "text": [
      "Epoch 341/1000 - Train Loss: 0.0544 - Val Loss: 0.0290\n"
     ]
    },
    {
     "name": "stderr",
     "output_type": "stream",
     "text": [
      "Epoch 342/1000 - Training: 100%|██████████| 7/7 [00:00<00:00, 365.53it/s]\n",
      "Epoch 342/1000 - Validation: 100%|██████████| 1/1 [00:00<00:00, 985.04it/s]\n"
     ]
    },
    {
     "name": "stdout",
     "output_type": "stream",
     "text": [
      "Epoch 342/1000 - Train Loss: 0.0611 - Val Loss: 0.0458\n"
     ]
    },
    {
     "name": "stderr",
     "output_type": "stream",
     "text": [
      "Epoch 343/1000 - Training: 100%|██████████| 7/7 [00:00<00:00, 369.19it/s]\n",
      "Epoch 343/1000 - Validation: 100%|██████████| 1/1 [00:00<00:00, 855.98it/s]\n"
     ]
    },
    {
     "name": "stdout",
     "output_type": "stream",
     "text": [
      "Epoch 343/1000 - Train Loss: 0.0453 - Val Loss: 0.0322\n"
     ]
    },
    {
     "name": "stderr",
     "output_type": "stream",
     "text": [
      "Epoch 344/1000 - Training: 100%|██████████| 7/7 [00:00<00:00, 366.68it/s]\n",
      "Epoch 344/1000 - Validation: 100%|██████████| 1/1 [00:00<00:00, 912.00it/s]\n"
     ]
    },
    {
     "name": "stdout",
     "output_type": "stream",
     "text": [
      "Epoch 344/1000 - Train Loss: 0.0531 - Val Loss: 0.0270\n"
     ]
    },
    {
     "name": "stderr",
     "output_type": "stream",
     "text": [
      "Epoch 345/1000 - Training: 100%|██████████| 7/7 [00:00<00:00, 373.23it/s]\n",
      "Epoch 345/1000 - Validation: 100%|██████████| 1/1 [00:00<00:00, 876.55it/s]\n"
     ]
    },
    {
     "name": "stdout",
     "output_type": "stream",
     "text": [
      "Epoch 345/1000 - Train Loss: 0.0496 - Val Loss: 0.0289\n"
     ]
    },
    {
     "name": "stderr",
     "output_type": "stream",
     "text": [
      "Epoch 346/1000 - Training: 100%|██████████| 7/7 [00:00<00:00, 367.67it/s]\n",
      "Epoch 346/1000 - Validation: 100%|██████████| 1/1 [00:00<00:00, 908.84it/s]\n"
     ]
    },
    {
     "name": "stdout",
     "output_type": "stream",
     "text": [
      "Epoch 346/1000 - Train Loss: 0.0440 - Val Loss: 0.0267\n"
     ]
    },
    {
     "name": "stderr",
     "output_type": "stream",
     "text": [
      "Epoch 347/1000 - Training: 100%|██████████| 7/7 [00:00<00:00, 368.37it/s]\n",
      "Epoch 347/1000 - Validation: 100%|██████████| 1/1 [00:00<00:00, 979.06it/s]\n"
     ]
    },
    {
     "name": "stdout",
     "output_type": "stream",
     "text": [
      "Epoch 347/1000 - Train Loss: 0.0508 - Val Loss: 0.0247\n"
     ]
    },
    {
     "name": "stderr",
     "output_type": "stream",
     "text": [
      "Epoch 348/1000 - Training: 100%|██████████| 7/7 [00:00<00:00, 370.25it/s]\n",
      "Epoch 348/1000 - Validation: 100%|██████████| 1/1 [00:00<00:00, 836.35it/s]\n"
     ]
    },
    {
     "name": "stdout",
     "output_type": "stream",
     "text": [
      "Epoch 348/1000 - Train Loss: 0.0596 - Val Loss: 0.0246\n"
     ]
    },
    {
     "name": "stderr",
     "output_type": "stream",
     "text": [
      "Epoch 349/1000 - Training: 100%|██████████| 7/7 [00:00<00:00, 368.20it/s]\n",
      "Epoch 349/1000 - Validation: 100%|██████████| 1/1 [00:00<00:00, 913.19it/s]\n"
     ]
    },
    {
     "name": "stdout",
     "output_type": "stream",
     "text": [
      "Epoch 349/1000 - Train Loss: 0.0561 - Val Loss: 0.0370\n"
     ]
    },
    {
     "name": "stderr",
     "output_type": "stream",
     "text": [
      "Epoch 350/1000 - Training: 100%|██████████| 7/7 [00:00<00:00, 371.44it/s]\n",
      "Epoch 350/1000 - Validation: 100%|██████████| 1/1 [00:00<00:00, 1002.46it/s]\n"
     ]
    },
    {
     "name": "stdout",
     "output_type": "stream",
     "text": [
      "Epoch 350/1000 - Train Loss: 0.0521 - Val Loss: 0.0409\n"
     ]
    },
    {
     "name": "stderr",
     "output_type": "stream",
     "text": [
      "Epoch 351/1000 - Training: 100%|██████████| 7/7 [00:00<00:00, 372.43it/s]\n",
      "Epoch 351/1000 - Validation: 100%|██████████| 1/1 [00:00<00:00, 867.31it/s]\n"
     ]
    },
    {
     "name": "stdout",
     "output_type": "stream",
     "text": [
      "Epoch 351/1000 - Train Loss: 0.0598 - Val Loss: 0.0292\n"
     ]
    },
    {
     "name": "stderr",
     "output_type": "stream",
     "text": [
      "Epoch 352/1000 - Training: 100%|██████████| 7/7 [00:00<00:00, 368.58it/s]\n",
      "Epoch 352/1000 - Validation: 100%|██████████| 1/1 [00:00<00:00, 1142.55it/s]\n"
     ]
    },
    {
     "name": "stdout",
     "output_type": "stream",
     "text": [
      "Epoch 352/1000 - Train Loss: 0.0475 - Val Loss: 0.0302\n"
     ]
    },
    {
     "name": "stderr",
     "output_type": "stream",
     "text": [
      "Epoch 353/1000 - Training: 100%|██████████| 7/7 [00:00<00:00, 369.69it/s]\n",
      "Epoch 353/1000 - Validation: 100%|██████████| 1/1 [00:00<00:00, 1023.00it/s]\n"
     ]
    },
    {
     "name": "stdout",
     "output_type": "stream",
     "text": [
      "Epoch 353/1000 - Train Loss: 0.0519 - Val Loss: 0.0485\n"
     ]
    },
    {
     "name": "stderr",
     "output_type": "stream",
     "text": [
      "Epoch 354/1000 - Training: 100%|██████████| 7/7 [00:00<00:00, 372.25it/s]\n",
      "Epoch 354/1000 - Validation: 100%|██████████| 1/1 [00:00<00:00, 981.58it/s]\n"
     ]
    },
    {
     "name": "stdout",
     "output_type": "stream",
     "text": [
      "Epoch 354/1000 - Train Loss: 0.0465 - Val Loss: 0.0546\n"
     ]
    },
    {
     "name": "stderr",
     "output_type": "stream",
     "text": [
      "Epoch 355/1000 - Training: 100%|██████████| 7/7 [00:00<00:00, 316.00it/s]\n",
      "Epoch 355/1000 - Validation: 100%|██████████| 1/1 [00:00<00:00, 824.84it/s]\n"
     ]
    },
    {
     "name": "stdout",
     "output_type": "stream",
     "text": [
      "Epoch 355/1000 - Train Loss: 0.0553 - Val Loss: 0.0554\n"
     ]
    },
    {
     "name": "stderr",
     "output_type": "stream",
     "text": [
      "Epoch 356/1000 - Training: 100%|██████████| 7/7 [00:00<00:00, 369.68it/s]\n",
      "Epoch 356/1000 - Validation: 100%|██████████| 1/1 [00:00<00:00, 975.42it/s]\n"
     ]
    },
    {
     "name": "stdout",
     "output_type": "stream",
     "text": [
      "Epoch 356/1000 - Train Loss: 0.0549 - Val Loss: 0.0202\n"
     ]
    },
    {
     "name": "stderr",
     "output_type": "stream",
     "text": [
      "Epoch 357/1000 - Training: 100%|██████████| 7/7 [00:00<00:00, 367.32it/s]\n",
      "Epoch 357/1000 - Validation: 100%|██████████| 1/1 [00:00<00:00, 990.16it/s]\n"
     ]
    },
    {
     "name": "stdout",
     "output_type": "stream",
     "text": [
      "Epoch 357/1000 - Train Loss: 0.0512 - Val Loss: 0.0272\n"
     ]
    },
    {
     "name": "stderr",
     "output_type": "stream",
     "text": [
      "Epoch 358/1000 - Training: 100%|██████████| 7/7 [00:00<00:00, 371.08it/s]\n",
      "Epoch 358/1000 - Validation: 100%|██████████| 1/1 [00:00<00:00, 816.97it/s]\n"
     ]
    },
    {
     "name": "stdout",
     "output_type": "stream",
     "text": [
      "Epoch 358/1000 - Train Loss: 0.0630 - Val Loss: 0.0184\n"
     ]
    },
    {
     "name": "stderr",
     "output_type": "stream",
     "text": [
      "Epoch 359/1000 - Training: 100%|██████████| 7/7 [00:00<00:00, 368.98it/s]\n",
      "Epoch 359/1000 - Validation: 100%|██████████| 1/1 [00:00<00:00, 952.60it/s]\n"
     ]
    },
    {
     "name": "stdout",
     "output_type": "stream",
     "text": [
      "Epoch 359/1000 - Train Loss: 0.0682 - Val Loss: 0.0321\n"
     ]
    },
    {
     "name": "stderr",
     "output_type": "stream",
     "text": [
      "Epoch 360/1000 - Training: 100%|██████████| 7/7 [00:00<00:00, 372.80it/s]\n",
      "Epoch 360/1000 - Validation: 100%|██████████| 1/1 [00:00<00:00, 898.14it/s]\n"
     ]
    },
    {
     "name": "stdout",
     "output_type": "stream",
     "text": [
      "Epoch 360/1000 - Train Loss: 0.0498 - Val Loss: 0.0252\n"
     ]
    },
    {
     "name": "stderr",
     "output_type": "stream",
     "text": [
      "Epoch 361/1000 - Training: 100%|██████████| 7/7 [00:00<00:00, 364.84it/s]\n",
      "Epoch 361/1000 - Validation: 100%|██████████| 1/1 [00:00<00:00, 932.90it/s]\n"
     ]
    },
    {
     "name": "stdout",
     "output_type": "stream",
     "text": [
      "Epoch 361/1000 - Train Loss: 0.0632 - Val Loss: 0.0472\n"
     ]
    },
    {
     "name": "stderr",
     "output_type": "stream",
     "text": [
      "Epoch 362/1000 - Training: 100%|██████████| 7/7 [00:00<00:00, 372.13it/s]\n",
      "Epoch 362/1000 - Validation: 100%|██████████| 1/1 [00:00<00:00, 874.00it/s]\n"
     ]
    },
    {
     "name": "stdout",
     "output_type": "stream",
     "text": [
      "Epoch 362/1000 - Train Loss: 0.0629 - Val Loss: 0.0420\n"
     ]
    },
    {
     "name": "stderr",
     "output_type": "stream",
     "text": [
      "Epoch 363/1000 - Training: 100%|██████████| 7/7 [00:00<00:00, 369.36it/s]\n",
      "Epoch 363/1000 - Validation: 100%|██████████| 1/1 [00:00<00:00, 1002.22it/s]\n"
     ]
    },
    {
     "name": "stdout",
     "output_type": "stream",
     "text": [
      "Epoch 363/1000 - Train Loss: 0.0623 - Val Loss: 0.0295\n"
     ]
    },
    {
     "name": "stderr",
     "output_type": "stream",
     "text": [
      "Epoch 364/1000 - Training: 100%|██████████| 7/7 [00:00<00:00, 374.75it/s]\n",
      "Epoch 364/1000 - Validation: 100%|██████████| 1/1 [00:00<00:00, 838.36it/s]\n"
     ]
    },
    {
     "name": "stdout",
     "output_type": "stream",
     "text": [
      "Epoch 364/1000 - Train Loss: 0.0633 - Val Loss: 0.0256\n"
     ]
    },
    {
     "name": "stderr",
     "output_type": "stream",
     "text": [
      "Epoch 365/1000 - Training: 100%|██████████| 7/7 [00:00<00:00, 365.17it/s]\n",
      "Epoch 365/1000 - Validation: 100%|██████████| 1/1 [00:00<00:00, 852.67it/s]\n"
     ]
    },
    {
     "name": "stdout",
     "output_type": "stream",
     "text": [
      "Epoch 365/1000 - Train Loss: 0.0484 - Val Loss: 0.0299\n"
     ]
    },
    {
     "name": "stderr",
     "output_type": "stream",
     "text": [
      "Epoch 366/1000 - Training: 100%|██████████| 7/7 [00:00<00:00, 367.72it/s]\n",
      "Epoch 366/1000 - Validation: 100%|██████████| 1/1 [00:00<00:00, 886.75it/s]\n"
     ]
    },
    {
     "name": "stdout",
     "output_type": "stream",
     "text": [
      "Epoch 366/1000 - Train Loss: 0.0496 - Val Loss: 0.0252\n"
     ]
    },
    {
     "name": "stderr",
     "output_type": "stream",
     "text": [
      "Epoch 367/1000 - Training: 100%|██████████| 7/7 [00:00<00:00, 369.02it/s]\n",
      "Epoch 367/1000 - Validation: 100%|██████████| 1/1 [00:00<00:00, 1042.84it/s]\n"
     ]
    },
    {
     "name": "stdout",
     "output_type": "stream",
     "text": [
      "Epoch 367/1000 - Train Loss: 0.0586 - Val Loss: 0.0299\n"
     ]
    },
    {
     "name": "stderr",
     "output_type": "stream",
     "text": [
      "Epoch 368/1000 - Training: 100%|██████████| 7/7 [00:00<00:00, 370.50it/s]\n",
      "Epoch 368/1000 - Validation: 100%|██████████| 1/1 [00:00<00:00, 808.46it/s]\n"
     ]
    },
    {
     "name": "stdout",
     "output_type": "stream",
     "text": [
      "Epoch 368/1000 - Train Loss: 0.0546 - Val Loss: 0.0311\n"
     ]
    },
    {
     "name": "stderr",
     "output_type": "stream",
     "text": [
      "Epoch 369/1000 - Training: 100%|██████████| 7/7 [00:00<00:00, 368.95it/s]\n",
      "Epoch 369/1000 - Validation: 100%|██████████| 1/1 [00:00<00:00, 1014.34it/s]\n"
     ]
    },
    {
     "name": "stdout",
     "output_type": "stream",
     "text": [
      "Epoch 369/1000 - Train Loss: 0.0446 - Val Loss: 0.0187\n"
     ]
    },
    {
     "name": "stderr",
     "output_type": "stream",
     "text": [
      "Epoch 370/1000 - Training: 100%|██████████| 7/7 [00:00<00:00, 372.41it/s]\n",
      "Epoch 370/1000 - Validation: 100%|██████████| 1/1 [00:00<00:00, 856.50it/s]\n"
     ]
    },
    {
     "name": "stdout",
     "output_type": "stream",
     "text": [
      "Epoch 370/1000 - Train Loss: 0.0497 - Val Loss: 0.0373\n"
     ]
    },
    {
     "name": "stderr",
     "output_type": "stream",
     "text": [
      "Epoch 371/1000 - Training: 100%|██████████| 7/7 [00:00<00:00, 370.15it/s]\n",
      "Epoch 371/1000 - Validation: 100%|██████████| 1/1 [00:00<00:00, 988.06it/s]\n"
     ]
    },
    {
     "name": "stdout",
     "output_type": "stream",
     "text": [
      "Epoch 371/1000 - Train Loss: 0.0566 - Val Loss: 0.0212\n"
     ]
    },
    {
     "name": "stderr",
     "output_type": "stream",
     "text": [
      "Epoch 372/1000 - Training: 100%|██████████| 7/7 [00:00<00:00, 371.67it/s]\n",
      "Epoch 372/1000 - Validation: 100%|██████████| 1/1 [00:00<00:00, 881.16it/s]\n"
     ]
    },
    {
     "name": "stdout",
     "output_type": "stream",
     "text": [
      "Epoch 372/1000 - Train Loss: 0.0499 - Val Loss: 0.0375\n"
     ]
    },
    {
     "name": "stderr",
     "output_type": "stream",
     "text": [
      "Epoch 373/1000 - Training: 100%|██████████| 7/7 [00:00<00:00, 371.60it/s]\n",
      "Epoch 373/1000 - Validation: 100%|██████████| 1/1 [00:00<00:00, 871.27it/s]\n"
     ]
    },
    {
     "name": "stdout",
     "output_type": "stream",
     "text": [
      "Epoch 373/1000 - Train Loss: 0.0476 - Val Loss: 0.0196\n"
     ]
    },
    {
     "name": "stderr",
     "output_type": "stream",
     "text": [
      "Epoch 374/1000 - Training: 100%|██████████| 7/7 [00:00<00:00, 369.91it/s]\n",
      "Epoch 374/1000 - Validation: 100%|██████████| 1/1 [00:00<00:00, 1008.49it/s]\n"
     ]
    },
    {
     "name": "stdout",
     "output_type": "stream",
     "text": [
      "Epoch 374/1000 - Train Loss: 0.0669 - Val Loss: 0.0433\n"
     ]
    },
    {
     "name": "stderr",
     "output_type": "stream",
     "text": [
      "Epoch 375/1000 - Training: 100%|██████████| 7/7 [00:00<00:00, 373.68it/s]\n",
      "Epoch 375/1000 - Validation: 100%|██████████| 1/1 [00:00<00:00, 868.39it/s]\n"
     ]
    },
    {
     "name": "stdout",
     "output_type": "stream",
     "text": [
      "Epoch 375/1000 - Train Loss: 0.0483 - Val Loss: 0.0249\n"
     ]
    },
    {
     "name": "stderr",
     "output_type": "stream",
     "text": [
      "Epoch 376/1000 - Training: 100%|██████████| 7/7 [00:00<00:00, 368.37it/s]\n",
      "Epoch 376/1000 - Validation: 100%|██████████| 1/1 [00:00<00:00, 1144.73it/s]\n"
     ]
    },
    {
     "name": "stdout",
     "output_type": "stream",
     "text": [
      "Epoch 376/1000 - Train Loss: 0.0476 - Val Loss: 0.0219\n"
     ]
    },
    {
     "name": "stderr",
     "output_type": "stream",
     "text": [
      "Epoch 377/1000 - Training: 100%|██████████| 7/7 [00:00<00:00, 371.18it/s]\n",
      "Epoch 377/1000 - Validation: 100%|██████████| 1/1 [00:00<00:00, 875.09it/s]\n"
     ]
    },
    {
     "name": "stdout",
     "output_type": "stream",
     "text": [
      "Epoch 377/1000 - Train Loss: 0.0451 - Val Loss: 0.0306\n"
     ]
    },
    {
     "name": "stderr",
     "output_type": "stream",
     "text": [
      "Epoch 378/1000 - Training: 100%|██████████| 7/7 [00:00<00:00, 374.84it/s]\n",
      "Epoch 378/1000 - Validation: 100%|██████████| 1/1 [00:00<00:00, 949.37it/s]\n"
     ]
    },
    {
     "name": "stdout",
     "output_type": "stream",
     "text": [
      "Epoch 378/1000 - Train Loss: 0.0537 - Val Loss: 0.0279\n"
     ]
    },
    {
     "name": "stderr",
     "output_type": "stream",
     "text": [
      "Epoch 379/1000 - Training: 100%|██████████| 7/7 [00:00<00:00, 371.14it/s]\n",
      "Epoch 379/1000 - Validation: 100%|██████████| 1/1 [00:00<00:00, 865.88it/s]\n"
     ]
    },
    {
     "name": "stdout",
     "output_type": "stream",
     "text": [
      "Epoch 379/1000 - Train Loss: 0.0523 - Val Loss: 0.0334\n"
     ]
    },
    {
     "name": "stderr",
     "output_type": "stream",
     "text": [
      "Epoch 380/1000 - Training: 100%|██████████| 7/7 [00:00<00:00, 367.95it/s]\n",
      "Epoch 380/1000 - Validation: 100%|██████████| 1/1 [00:00<00:00, 926.10it/s]\n"
     ]
    },
    {
     "name": "stdout",
     "output_type": "stream",
     "text": [
      "Epoch 380/1000 - Train Loss: 0.0483 - Val Loss: 0.0296\n"
     ]
    },
    {
     "name": "stderr",
     "output_type": "stream",
     "text": [
      "Epoch 381/1000 - Training: 100%|██████████| 7/7 [00:00<00:00, 369.54it/s]\n",
      "Epoch 381/1000 - Validation: 100%|██████████| 1/1 [00:00<00:00, 882.27it/s]\n"
     ]
    },
    {
     "name": "stdout",
     "output_type": "stream",
     "text": [
      "Epoch 381/1000 - Train Loss: 0.0547 - Val Loss: 0.0282\n"
     ]
    },
    {
     "name": "stderr",
     "output_type": "stream",
     "text": [
      "Epoch 382/1000 - Training: 100%|██████████| 7/7 [00:00<00:00, 369.92it/s]\n",
      "Epoch 382/1000 - Validation: 100%|██████████| 1/1 [00:00<00:00, 934.14it/s]\n"
     ]
    },
    {
     "name": "stdout",
     "output_type": "stream",
     "text": [
      "Epoch 382/1000 - Train Loss: 0.0481 - Val Loss: 0.0245\n"
     ]
    },
    {
     "name": "stderr",
     "output_type": "stream",
     "text": [
      "Epoch 383/1000 - Training: 100%|██████████| 7/7 [00:00<00:00, 375.75it/s]\n",
      "Epoch 383/1000 - Validation: 100%|██████████| 1/1 [00:00<00:00, 888.81it/s]\n"
     ]
    },
    {
     "name": "stdout",
     "output_type": "stream",
     "text": [
      "Epoch 383/1000 - Train Loss: 0.0551 - Val Loss: 0.0204\n"
     ]
    },
    {
     "name": "stderr",
     "output_type": "stream",
     "text": [
      "Epoch 384/1000 - Training: 100%|██████████| 7/7 [00:00<00:00, 367.48it/s]\n",
      "Epoch 384/1000 - Validation: 100%|██████████| 1/1 [00:00<00:00, 1160.25it/s]\n"
     ]
    },
    {
     "name": "stdout",
     "output_type": "stream",
     "text": [
      "Epoch 384/1000 - Train Loss: 0.0576 - Val Loss: 0.0428\n"
     ]
    },
    {
     "name": "stderr",
     "output_type": "stream",
     "text": [
      "Epoch 385/1000 - Training: 100%|██████████| 7/7 [00:00<00:00, 366.53it/s]\n",
      "Epoch 385/1000 - Validation: 100%|██████████| 1/1 [00:00<00:00, 990.62it/s]\n"
     ]
    },
    {
     "name": "stdout",
     "output_type": "stream",
     "text": [
      "Epoch 385/1000 - Train Loss: 0.0519 - Val Loss: 0.0189\n"
     ]
    },
    {
     "name": "stderr",
     "output_type": "stream",
     "text": [
      "Epoch 386/1000 - Training: 100%|██████████| 7/7 [00:00<00:00, 368.32it/s]\n",
      "Epoch 386/1000 - Validation: 100%|██████████| 1/1 [00:00<00:00, 853.19it/s]\n"
     ]
    },
    {
     "name": "stdout",
     "output_type": "stream",
     "text": [
      "Epoch 386/1000 - Train Loss: 0.0512 - Val Loss: 0.0333\n"
     ]
    },
    {
     "name": "stderr",
     "output_type": "stream",
     "text": [
      "Epoch 387/1000 - Training: 100%|██████████| 7/7 [00:00<00:00, 364.27it/s]\n",
      "Epoch 387/1000 - Validation: 100%|██████████| 1/1 [00:00<00:00, 897.56it/s]\n"
     ]
    },
    {
     "name": "stdout",
     "output_type": "stream",
     "text": [
      "Epoch 387/1000 - Train Loss: 0.0588 - Val Loss: 0.0236\n"
     ]
    },
    {
     "name": "stderr",
     "output_type": "stream",
     "text": [
      "Epoch 388/1000 - Training: 100%|██████████| 7/7 [00:00<00:00, 365.75it/s]\n",
      "Epoch 388/1000 - Validation: 100%|██████████| 1/1 [00:00<00:00, 987.82it/s]\n"
     ]
    },
    {
     "name": "stdout",
     "output_type": "stream",
     "text": [
      "Epoch 388/1000 - Train Loss: 0.0617 - Val Loss: 0.0424\n"
     ]
    },
    {
     "name": "stderr",
     "output_type": "stream",
     "text": [
      "Epoch 389/1000 - Training: 100%|██████████| 7/7 [00:00<00:00, 368.79it/s]\n",
      "Epoch 389/1000 - Validation: 100%|██████████| 1/1 [00:00<00:00, 872.18it/s]\n"
     ]
    },
    {
     "name": "stdout",
     "output_type": "stream",
     "text": [
      "Epoch 389/1000 - Train Loss: 0.0528 - Val Loss: 0.0197\n"
     ]
    },
    {
     "name": "stderr",
     "output_type": "stream",
     "text": [
      "Epoch 390/1000 - Training: 100%|██████████| 7/7 [00:00<00:00, 367.17it/s]\n",
      "Epoch 390/1000 - Validation: 100%|██████████| 1/1 [00:00<00:00, 964.21it/s]\n"
     ]
    },
    {
     "name": "stdout",
     "output_type": "stream",
     "text": [
      "Epoch 390/1000 - Train Loss: 0.0501 - Val Loss: 0.0359\n"
     ]
    },
    {
     "name": "stderr",
     "output_type": "stream",
     "text": [
      "Epoch 391/1000 - Training: 100%|██████████| 7/7 [00:00<00:00, 369.77it/s]\n",
      "Epoch 391/1000 - Validation: 100%|██████████| 1/1 [00:00<00:00, 803.66it/s]\n"
     ]
    },
    {
     "name": "stdout",
     "output_type": "stream",
     "text": [
      "Epoch 391/1000 - Train Loss: 0.0513 - Val Loss: 0.0170\n"
     ]
    },
    {
     "name": "stderr",
     "output_type": "stream",
     "text": [
      "Epoch 392/1000 - Training: 100%|██████████| 7/7 [00:00<00:00, 363.14it/s]\n",
      "Epoch 392/1000 - Validation: 100%|██████████| 1/1 [00:00<00:00, 971.35it/s]\n"
     ]
    },
    {
     "name": "stdout",
     "output_type": "stream",
     "text": [
      "Epoch 392/1000 - Train Loss: 0.0569 - Val Loss: 0.0436\n"
     ]
    },
    {
     "name": "stderr",
     "output_type": "stream",
     "text": [
      "Epoch 393/1000 - Training: 100%|██████████| 7/7 [00:00<00:00, 365.81it/s]\n",
      "Epoch 393/1000 - Validation: 100%|██████████| 1/1 [00:00<00:00, 865.34it/s]\n"
     ]
    },
    {
     "name": "stdout",
     "output_type": "stream",
     "text": [
      "Epoch 393/1000 - Train Loss: 0.0475 - Val Loss: 0.0210\n"
     ]
    },
    {
     "name": "stderr",
     "output_type": "stream",
     "text": [
      "Epoch 394/1000 - Training: 100%|██████████| 7/7 [00:00<00:00, 340.64it/s]\n",
      "Epoch 394/1000 - Validation: 100%|██████████| 1/1 [00:00<00:00, 663.87it/s]\n"
     ]
    },
    {
     "name": "stdout",
     "output_type": "stream",
     "text": [
      "Epoch 394/1000 - Train Loss: 0.0607 - Val Loss: 0.0677\n"
     ]
    },
    {
     "name": "stderr",
     "output_type": "stream",
     "text": [
      "Epoch 395/1000 - Training: 100%|██████████| 7/7 [00:00<00:00, 272.44it/s]\n",
      "Epoch 395/1000 - Validation: 100%|██████████| 1/1 [00:00<00:00, 912.20it/s]\n"
     ]
    },
    {
     "name": "stdout",
     "output_type": "stream",
     "text": [
      "Epoch 395/1000 - Train Loss: 0.0523 - Val Loss: 0.0177\n"
     ]
    },
    {
     "name": "stderr",
     "output_type": "stream",
     "text": [
      "Epoch 396/1000 - Training: 100%|██████████| 7/7 [00:00<00:00, 259.36it/s]\n",
      "Epoch 396/1000 - Validation: 100%|██████████| 1/1 [00:00<00:00, 806.13it/s]\n"
     ]
    },
    {
     "name": "stdout",
     "output_type": "stream",
     "text": [
      "Epoch 396/1000 - Train Loss: 0.0538 - Val Loss: 0.0209\n"
     ]
    },
    {
     "name": "stderr",
     "output_type": "stream",
     "text": [
      "Epoch 397/1000 - Training: 100%|██████████| 7/7 [00:00<00:00, 297.48it/s]\n",
      "Epoch 397/1000 - Validation: 100%|██████████| 1/1 [00:00<00:00, 803.97it/s]\n"
     ]
    },
    {
     "name": "stdout",
     "output_type": "stream",
     "text": [
      "Epoch 397/1000 - Train Loss: 0.0488 - Val Loss: 0.0218\n"
     ]
    },
    {
     "name": "stderr",
     "output_type": "stream",
     "text": [
      "Epoch 398/1000 - Training: 100%|██████████| 7/7 [00:00<00:00, 297.61it/s]\n",
      "Epoch 398/1000 - Validation: 100%|██████████| 1/1 [00:00<00:00, 956.08it/s]\n"
     ]
    },
    {
     "name": "stdout",
     "output_type": "stream",
     "text": [
      "Epoch 398/1000 - Train Loss: 0.0464 - Val Loss: 0.0223\n"
     ]
    },
    {
     "name": "stderr",
     "output_type": "stream",
     "text": [
      "Epoch 399/1000 - Training: 100%|██████████| 7/7 [00:00<00:00, 301.13it/s]\n",
      "Epoch 399/1000 - Validation: 100%|██████████| 1/1 [00:00<00:00, 849.39it/s]\n"
     ]
    },
    {
     "name": "stdout",
     "output_type": "stream",
     "text": [
      "Epoch 399/1000 - Train Loss: 0.0473 - Val Loss: 0.0269\n"
     ]
    },
    {
     "name": "stderr",
     "output_type": "stream",
     "text": [
      "Epoch 400/1000 - Training: 100%|██████████| 7/7 [00:00<00:00, 288.15it/s]\n",
      "Epoch 400/1000 - Validation: 100%|██████████| 1/1 [00:00<00:00, 907.86it/s]\n"
     ]
    },
    {
     "name": "stdout",
     "output_type": "stream",
     "text": [
      "Epoch 400/1000 - Train Loss: 0.0534 - Val Loss: 0.0312\n"
     ]
    },
    {
     "name": "stderr",
     "output_type": "stream",
     "text": [
      "Epoch 401/1000 - Training: 100%|██████████| 7/7 [00:00<00:00, 299.55it/s]\n",
      "Epoch 401/1000 - Validation: 100%|██████████| 1/1 [00:00<00:00, 755.73it/s]\n"
     ]
    },
    {
     "name": "stdout",
     "output_type": "stream",
     "text": [
      "Epoch 401/1000 - Train Loss: 0.0551 - Val Loss: 0.0267\n"
     ]
    },
    {
     "name": "stderr",
     "output_type": "stream",
     "text": [
      "Epoch 402/1000 - Training: 100%|██████████| 7/7 [00:00<00:00, 303.03it/s]\n",
      "Epoch 402/1000 - Validation: 100%|██████████| 1/1 [00:00<00:00, 783.40it/s]\n"
     ]
    },
    {
     "name": "stdout",
     "output_type": "stream",
     "text": [
      "Epoch 402/1000 - Train Loss: 0.0513 - Val Loss: 0.0411\n"
     ]
    },
    {
     "name": "stderr",
     "output_type": "stream",
     "text": [
      "Epoch 403/1000 - Training: 100%|██████████| 7/7 [00:00<00:00, 301.65it/s]\n",
      "Epoch 403/1000 - Validation: 100%|██████████| 1/1 [00:00<00:00, 784.72it/s]\n"
     ]
    },
    {
     "name": "stdout",
     "output_type": "stream",
     "text": [
      "Epoch 403/1000 - Train Loss: 0.0562 - Val Loss: 0.0172\n"
     ]
    },
    {
     "name": "stderr",
     "output_type": "stream",
     "text": [
      "Epoch 404/1000 - Training: 100%|██████████| 7/7 [00:00<00:00, 301.43it/s]\n",
      "Epoch 404/1000 - Validation: 100%|██████████| 1/1 [00:00<00:00, 795.73it/s]\n"
     ]
    },
    {
     "name": "stdout",
     "output_type": "stream",
     "text": [
      "Epoch 404/1000 - Train Loss: 0.0484 - Val Loss: 0.0310\n"
     ]
    },
    {
     "name": "stderr",
     "output_type": "stream",
     "text": [
      "Epoch 405/1000 - Training: 100%|██████████| 7/7 [00:00<00:00, 300.93it/s]\n",
      "Epoch 405/1000 - Validation: 100%|██████████| 1/1 [00:00<00:00, 778.16it/s]\n"
     ]
    },
    {
     "name": "stdout",
     "output_type": "stream",
     "text": [
      "Epoch 405/1000 - Train Loss: 0.0610 - Val Loss: 0.0228\n"
     ]
    },
    {
     "name": "stderr",
     "output_type": "stream",
     "text": [
      "Epoch 406/1000 - Training: 100%|██████████| 7/7 [00:00<00:00, 304.28it/s]\n",
      "Epoch 406/1000 - Validation: 100%|██████████| 1/1 [00:00<00:00, 738.17it/s]\n"
     ]
    },
    {
     "name": "stdout",
     "output_type": "stream",
     "text": [
      "Epoch 406/1000 - Train Loss: 0.0504 - Val Loss: 0.0215\n"
     ]
    },
    {
     "name": "stderr",
     "output_type": "stream",
     "text": [
      "Epoch 407/1000 - Training: 100%|██████████| 7/7 [00:00<00:00, 303.37it/s]\n",
      "Epoch 407/1000 - Validation: 100%|██████████| 1/1 [00:00<00:00, 821.93it/s]\n"
     ]
    },
    {
     "name": "stdout",
     "output_type": "stream",
     "text": [
      "Epoch 407/1000 - Train Loss: 0.0639 - Val Loss: 0.0279\n"
     ]
    },
    {
     "name": "stderr",
     "output_type": "stream",
     "text": [
      "Epoch 408/1000 - Training: 100%|██████████| 7/7 [00:00<00:00, 307.60it/s]\n",
      "Epoch 408/1000 - Validation: 100%|██████████| 1/1 [00:00<00:00, 708.14it/s]\n"
     ]
    },
    {
     "name": "stdout",
     "output_type": "stream",
     "text": [
      "Epoch 408/1000 - Train Loss: 0.0455 - Val Loss: 0.0306\n"
     ]
    },
    {
     "name": "stderr",
     "output_type": "stream",
     "text": [
      "Epoch 409/1000 - Training: 100%|██████████| 7/7 [00:00<00:00, 262.34it/s]\n",
      "Epoch 409/1000 - Validation: 100%|██████████| 1/1 [00:00<00:00, 584.25it/s]\n"
     ]
    },
    {
     "name": "stdout",
     "output_type": "stream",
     "text": [
      "Epoch 409/1000 - Train Loss: 0.0506 - Val Loss: 0.0510\n"
     ]
    },
    {
     "name": "stderr",
     "output_type": "stream",
     "text": [
      "Epoch 410/1000 - Training: 100%|██████████| 7/7 [00:00<00:00, 314.53it/s]\n",
      "Epoch 410/1000 - Validation: 100%|██████████| 1/1 [00:00<00:00, 853.54it/s]\n"
     ]
    },
    {
     "name": "stdout",
     "output_type": "stream",
     "text": [
      "Epoch 410/1000 - Train Loss: 0.0439 - Val Loss: 0.0234\n"
     ]
    },
    {
     "name": "stderr",
     "output_type": "stream",
     "text": [
      "Epoch 411/1000 - Training: 100%|██████████| 7/7 [00:00<00:00, 315.90it/s]\n",
      "Epoch 411/1000 - Validation: 100%|██████████| 1/1 [00:00<00:00, 859.49it/s]\n"
     ]
    },
    {
     "name": "stdout",
     "output_type": "stream",
     "text": [
      "Epoch 411/1000 - Train Loss: 0.0595 - Val Loss: 0.0349\n"
     ]
    },
    {
     "name": "stderr",
     "output_type": "stream",
     "text": [
      "Epoch 412/1000 - Training: 100%|██████████| 7/7 [00:00<00:00, 288.12it/s]\n",
      "Epoch 412/1000 - Validation: 100%|██████████| 1/1 [00:00<00:00, 962.88it/s]\n"
     ]
    },
    {
     "name": "stdout",
     "output_type": "stream",
     "text": [
      "Epoch 412/1000 - Train Loss: 0.0533 - Val Loss: 0.0238\n"
     ]
    },
    {
     "name": "stderr",
     "output_type": "stream",
     "text": [
      "Epoch 413/1000 - Training: 100%|██████████| 7/7 [00:00<00:00, 353.94it/s]\n",
      "Epoch 413/1000 - Validation: 100%|██████████| 1/1 [00:00<00:00, 956.95it/s]\n"
     ]
    },
    {
     "name": "stdout",
     "output_type": "stream",
     "text": [
      "Epoch 413/1000 - Train Loss: 0.0562 - Val Loss: 0.0262\n"
     ]
    },
    {
     "name": "stderr",
     "output_type": "stream",
     "text": [
      "Epoch 414/1000 - Training: 100%|██████████| 7/7 [00:00<00:00, 356.88it/s]\n",
      "Epoch 414/1000 - Validation: 100%|██████████| 1/1 [00:00<00:00, 1012.63it/s]\n"
     ]
    },
    {
     "name": "stdout",
     "output_type": "stream",
     "text": [
      "Epoch 414/1000 - Train Loss: 0.0441 - Val Loss: 0.0242\n"
     ]
    },
    {
     "name": "stderr",
     "output_type": "stream",
     "text": [
      "Epoch 415/1000 - Training: 100%|██████████| 7/7 [00:00<00:00, 359.29it/s]\n",
      "Epoch 415/1000 - Validation: 100%|██████████| 1/1 [00:00<00:00, 1021.01it/s]\n"
     ]
    },
    {
     "name": "stdout",
     "output_type": "stream",
     "text": [
      "Epoch 415/1000 - Train Loss: 0.0447 - Val Loss: 0.0278\n"
     ]
    },
    {
     "name": "stderr",
     "output_type": "stream",
     "text": [
      "Epoch 416/1000 - Training: 100%|██████████| 7/7 [00:00<00:00, 293.62it/s]\n",
      "Epoch 416/1000 - Validation: 100%|██████████| 1/1 [00:00<00:00, 746.32it/s]\n"
     ]
    },
    {
     "name": "stdout",
     "output_type": "stream",
     "text": [
      "Epoch 416/1000 - Train Loss: 0.0505 - Val Loss: 0.0259\n"
     ]
    },
    {
     "name": "stderr",
     "output_type": "stream",
     "text": [
      "Epoch 417/1000 - Training: 100%|██████████| 7/7 [00:00<00:00, 267.49it/s]\n",
      "Epoch 417/1000 - Validation: 100%|██████████| 1/1 [00:00<00:00, 760.39it/s]\n"
     ]
    },
    {
     "name": "stdout",
     "output_type": "stream",
     "text": [
      "Epoch 417/1000 - Train Loss: 0.0589 - Val Loss: 0.0190\n"
     ]
    },
    {
     "name": "stderr",
     "output_type": "stream",
     "text": [
      "Epoch 418/1000 - Training: 100%|██████████| 7/7 [00:00<00:00, 268.23it/s]\n",
      "Epoch 418/1000 - Validation: 100%|██████████| 1/1 [00:00<00:00, 757.78it/s]\n"
     ]
    },
    {
     "name": "stdout",
     "output_type": "stream",
     "text": [
      "Epoch 418/1000 - Train Loss: 0.0557 - Val Loss: 0.0253\n"
     ]
    },
    {
     "name": "stderr",
     "output_type": "stream",
     "text": [
      "Epoch 419/1000 - Training: 100%|██████████| 7/7 [00:00<00:00, 270.45it/s]\n",
      "Epoch 419/1000 - Validation: 100%|██████████| 1/1 [00:00<00:00, 781.94it/s]\n"
     ]
    },
    {
     "name": "stdout",
     "output_type": "stream",
     "text": [
      "Epoch 419/1000 - Train Loss: 0.0536 - Val Loss: 0.0274\n"
     ]
    },
    {
     "name": "stderr",
     "output_type": "stream",
     "text": [
      "Epoch 420/1000 - Training: 100%|██████████| 7/7 [00:00<00:00, 316.24it/s]\n",
      "Epoch 420/1000 - Validation: 100%|██████████| 1/1 [00:00<00:00, 962.88it/s]\n"
     ]
    },
    {
     "name": "stdout",
     "output_type": "stream",
     "text": [
      "Epoch 420/1000 - Train Loss: 0.0445 - Val Loss: 0.0329\n"
     ]
    },
    {
     "name": "stderr",
     "output_type": "stream",
     "text": [
      "Epoch 421/1000 - Training: 100%|██████████| 7/7 [00:00<00:00, 259.87it/s]\n",
      "Epoch 421/1000 - Validation: 100%|██████████| 1/1 [00:00<00:00, 1019.27it/s]\n"
     ]
    },
    {
     "name": "stdout",
     "output_type": "stream",
     "text": [
      "Epoch 421/1000 - Train Loss: 0.0537 - Val Loss: 0.0201\n"
     ]
    },
    {
     "name": "stderr",
     "output_type": "stream",
     "text": [
      "Epoch 422/1000 - Training: 100%|██████████| 7/7 [00:00<00:00, 356.24it/s]\n",
      "Epoch 422/1000 - Validation: 100%|██████████| 1/1 [00:00<00:00, 872.72it/s]\n"
     ]
    },
    {
     "name": "stdout",
     "output_type": "stream",
     "text": [
      "Epoch 422/1000 - Train Loss: 0.0584 - Val Loss: 0.0249\n"
     ]
    },
    {
     "name": "stderr",
     "output_type": "stream",
     "text": [
      "Epoch 423/1000 - Training: 100%|██████████| 7/7 [00:00<00:00, 348.03it/s]\n",
      "Epoch 423/1000 - Validation: 100%|██████████| 1/1 [00:00<00:00, 1009.46it/s]\n"
     ]
    },
    {
     "name": "stdout",
     "output_type": "stream",
     "text": [
      "Epoch 423/1000 - Train Loss: 0.0433 - Val Loss: 0.0201\n"
     ]
    },
    {
     "name": "stderr",
     "output_type": "stream",
     "text": [
      "Epoch 424/1000 - Training: 100%|██████████| 7/7 [00:00<00:00, 358.36it/s]\n",
      "Epoch 424/1000 - Validation: 100%|██████████| 1/1 [00:00<00:00, 1037.42it/s]\n"
     ]
    },
    {
     "name": "stdout",
     "output_type": "stream",
     "text": [
      "Epoch 424/1000 - Train Loss: 0.0537 - Val Loss: 0.0271\n"
     ]
    },
    {
     "name": "stderr",
     "output_type": "stream",
     "text": [
      "Epoch 425/1000 - Training: 100%|██████████| 7/7 [00:00<00:00, 276.79it/s]\n",
      "Epoch 425/1000 - Validation: 100%|██████████| 1/1 [00:00<00:00, 980.66it/s]\n"
     ]
    },
    {
     "name": "stdout",
     "output_type": "stream",
     "text": [
      "Epoch 425/1000 - Train Loss: 0.0483 - Val Loss: 0.0229\n"
     ]
    },
    {
     "name": "stderr",
     "output_type": "stream",
     "text": [
      "Epoch 426/1000 - Training: 100%|██████████| 7/7 [00:00<00:00, 352.50it/s]\n",
      "Epoch 426/1000 - Validation: 100%|██████████| 1/1 [00:00<00:00, 1008.73it/s]\n"
     ]
    },
    {
     "name": "stdout",
     "output_type": "stream",
     "text": [
      "Epoch 426/1000 - Train Loss: 0.0647 - Val Loss: 0.0439\n"
     ]
    },
    {
     "name": "stderr",
     "output_type": "stream",
     "text": [
      "Epoch 427/1000 - Training: 100%|██████████| 7/7 [00:00<00:00, 344.58it/s]\n",
      "Epoch 427/1000 - Validation: 100%|██████████| 1/1 [00:00<00:00, 1018.78it/s]\n"
     ]
    },
    {
     "name": "stdout",
     "output_type": "stream",
     "text": [
      "Epoch 427/1000 - Train Loss: 0.0506 - Val Loss: 0.0306\n"
     ]
    },
    {
     "name": "stderr",
     "output_type": "stream",
     "text": [
      "Epoch 428/1000 - Training: 100%|██████████| 7/7 [00:00<00:00, 343.00it/s]\n",
      "Epoch 428/1000 - Validation: 100%|██████████| 1/1 [00:00<00:00, 1003.18it/s]\n"
     ]
    },
    {
     "name": "stdout",
     "output_type": "stream",
     "text": [
      "Epoch 428/1000 - Train Loss: 0.0473 - Val Loss: 0.0338\n"
     ]
    },
    {
     "name": "stderr",
     "output_type": "stream",
     "text": [
      "Epoch 429/1000 - Training: 100%|██████████| 7/7 [00:00<00:00, 363.10it/s]\n",
      "Epoch 429/1000 - Validation: 100%|██████████| 1/1 [00:00<00:00, 904.53it/s]\n"
     ]
    },
    {
     "name": "stdout",
     "output_type": "stream",
     "text": [
      "Epoch 429/1000 - Train Loss: 0.0423 - Val Loss: 0.0285\n"
     ]
    },
    {
     "name": "stderr",
     "output_type": "stream",
     "text": [
      "Epoch 430/1000 - Training: 100%|██████████| 7/7 [00:00<00:00, 276.58it/s]\n",
      "Epoch 430/1000 - Validation: 100%|██████████| 1/1 [00:00<00:00, 1128.41it/s]\n"
     ]
    },
    {
     "name": "stdout",
     "output_type": "stream",
     "text": [
      "Epoch 430/1000 - Train Loss: 0.0472 - Val Loss: 0.0340\n"
     ]
    },
    {
     "name": "stderr",
     "output_type": "stream",
     "text": [
      "Epoch 431/1000 - Training: 100%|██████████| 7/7 [00:00<00:00, 347.42it/s]\n",
      "Epoch 431/1000 - Validation: 100%|██████████| 1/1 [00:00<00:00, 933.94it/s]\n"
     ]
    },
    {
     "name": "stdout",
     "output_type": "stream",
     "text": [
      "Epoch 431/1000 - Train Loss: 0.0570 - Val Loss: 0.0397\n"
     ]
    },
    {
     "name": "stderr",
     "output_type": "stream",
     "text": [
      "Epoch 432/1000 - Training: 100%|██████████| 7/7 [00:00<00:00, 351.39it/s]\n",
      "Epoch 432/1000 - Validation: 100%|██████████| 1/1 [00:00<00:00, 1150.70it/s]\n"
     ]
    },
    {
     "name": "stdout",
     "output_type": "stream",
     "text": [
      "Epoch 432/1000 - Train Loss: 0.0462 - Val Loss: 0.0217\n"
     ]
    },
    {
     "name": "stderr",
     "output_type": "stream",
     "text": [
      "Epoch 433/1000 - Training: 100%|██████████| 7/7 [00:00<00:00, 356.76it/s]\n",
      "Epoch 433/1000 - Validation: 100%|██████████| 1/1 [00:00<00:00, 979.29it/s]\n"
     ]
    },
    {
     "name": "stdout",
     "output_type": "stream",
     "text": [
      "Epoch 433/1000 - Train Loss: 0.0501 - Val Loss: 0.0433\n"
     ]
    },
    {
     "name": "stderr",
     "output_type": "stream",
     "text": [
      "Epoch 434/1000 - Training: 100%|██████████| 7/7 [00:00<00:00, 356.62it/s]\n",
      "Epoch 434/1000 - Validation: 100%|██████████| 1/1 [00:00<00:00, 851.98it/s]\n"
     ]
    },
    {
     "name": "stdout",
     "output_type": "stream",
     "text": [
      "Epoch 434/1000 - Train Loss: 0.0489 - Val Loss: 0.0203\n"
     ]
    },
    {
     "name": "stderr",
     "output_type": "stream",
     "text": [
      "Epoch 435/1000 - Training: 100%|██████████| 7/7 [00:00<00:00, 336.09it/s]\n",
      "Epoch 435/1000 - Validation: 100%|██████████| 1/1 [00:00<00:00, 879.49it/s]\n"
     ]
    },
    {
     "name": "stdout",
     "output_type": "stream",
     "text": [
      "Epoch 435/1000 - Train Loss: 0.0425 - Val Loss: 0.0203\n"
     ]
    },
    {
     "name": "stderr",
     "output_type": "stream",
     "text": [
      "Epoch 436/1000 - Training: 100%|██████████| 7/7 [00:00<00:00, 316.85it/s]\n",
      "Epoch 436/1000 - Validation: 100%|██████████| 1/1 [00:00<00:00, 936.86it/s]\n"
     ]
    },
    {
     "name": "stdout",
     "output_type": "stream",
     "text": [
      "Epoch 436/1000 - Train Loss: 0.0494 - Val Loss: 0.0297\n"
     ]
    },
    {
     "name": "stderr",
     "output_type": "stream",
     "text": [
      "Epoch 437/1000 - Training: 100%|██████████| 7/7 [00:00<00:00, 308.99it/s]\n",
      "Epoch 437/1000 - Validation: 100%|██████████| 1/1 [00:00<00:00, 974.51it/s]\n"
     ]
    },
    {
     "name": "stdout",
     "output_type": "stream",
     "text": [
      "Epoch 437/1000 - Train Loss: 0.0512 - Val Loss: 0.0224\n"
     ]
    },
    {
     "name": "stderr",
     "output_type": "stream",
     "text": [
      "Epoch 438/1000 - Training: 100%|██████████| 7/7 [00:00<00:00, 312.84it/s]\n",
      "Epoch 438/1000 - Validation: 100%|██████████| 1/1 [00:00<00:00, 798.15it/s]\n"
     ]
    },
    {
     "name": "stdout",
     "output_type": "stream",
     "text": [
      "Epoch 438/1000 - Train Loss: 0.0469 - Val Loss: 0.0370\n"
     ]
    },
    {
     "name": "stderr",
     "output_type": "stream",
     "text": [
      "Epoch 439/1000 - Training: 100%|██████████| 7/7 [00:00<00:00, 303.59it/s]\n",
      "Epoch 439/1000 - Validation: 100%|██████████| 1/1 [00:00<00:00, 872.90it/s]\n"
     ]
    },
    {
     "name": "stdout",
     "output_type": "stream",
     "text": [
      "Epoch 439/1000 - Train Loss: 0.0494 - Val Loss: 0.0253\n"
     ]
    },
    {
     "name": "stderr",
     "output_type": "stream",
     "text": [
      "Epoch 440/1000 - Training: 100%|██████████| 7/7 [00:00<00:00, 310.24it/s]\n",
      "Epoch 440/1000 - Validation: 100%|██████████| 1/1 [00:00<00:00, 1159.61it/s]\n"
     ]
    },
    {
     "name": "stdout",
     "output_type": "stream",
     "text": [
      "Epoch 440/1000 - Train Loss: 0.0477 - Val Loss: 0.0262\n"
     ]
    },
    {
     "name": "stderr",
     "output_type": "stream",
     "text": [
      "Epoch 441/1000 - Training: 100%|██████████| 7/7 [00:00<00:00, 320.11it/s]\n",
      "Epoch 441/1000 - Validation: 100%|██████████| 1/1 [00:00<00:00, 975.19it/s]\n"
     ]
    },
    {
     "name": "stdout",
     "output_type": "stream",
     "text": [
      "Epoch 441/1000 - Train Loss: 0.0452 - Val Loss: 0.0225\n"
     ]
    },
    {
     "name": "stderr",
     "output_type": "stream",
     "text": [
      "Epoch 442/1000 - Training: 100%|██████████| 7/7 [00:00<00:00, 359.34it/s]\n",
      "Epoch 442/1000 - Validation: 100%|██████████| 1/1 [00:00<00:00, 869.29it/s]\n"
     ]
    },
    {
     "name": "stdout",
     "output_type": "stream",
     "text": [
      "Epoch 442/1000 - Train Loss: 0.0496 - Val Loss: 0.0342\n"
     ]
    },
    {
     "name": "stderr",
     "output_type": "stream",
     "text": [
      "Epoch 443/1000 - Training: 100%|██████████| 7/7 [00:00<00:00, 355.43it/s]\n",
      "Epoch 443/1000 - Validation: 100%|██████████| 1/1 [00:00<00:00, 695.23it/s]\n"
     ]
    },
    {
     "name": "stdout",
     "output_type": "stream",
     "text": [
      "Epoch 443/1000 - Train Loss: 0.0523 - Val Loss: 0.0177\n"
     ]
    },
    {
     "name": "stderr",
     "output_type": "stream",
     "text": [
      "Epoch 444/1000 - Training: 100%|██████████| 7/7 [00:00<00:00, 343.43it/s]\n",
      "Epoch 444/1000 - Validation: 100%|██████████| 1/1 [00:00<00:00, 834.85it/s]\n"
     ]
    },
    {
     "name": "stdout",
     "output_type": "stream",
     "text": [
      "Epoch 444/1000 - Train Loss: 0.0512 - Val Loss: 0.0290\n"
     ]
    },
    {
     "name": "stderr",
     "output_type": "stream",
     "text": [
      "Epoch 445/1000 - Training: 100%|██████████| 7/7 [00:00<00:00, 347.68it/s]\n",
      "Epoch 445/1000 - Validation: 100%|██████████| 1/1 [00:00<00:00, 901.42it/s]\n"
     ]
    },
    {
     "name": "stdout",
     "output_type": "stream",
     "text": [
      "Epoch 445/1000 - Train Loss: 0.0479 - Val Loss: 0.0134\n"
     ]
    },
    {
     "name": "stderr",
     "output_type": "stream",
     "text": [
      "Epoch 446/1000 - Training: 100%|██████████| 7/7 [00:00<00:00, 348.12it/s]\n",
      "Epoch 446/1000 - Validation: 100%|██████████| 1/1 [00:00<00:00, 917.19it/s]\n"
     ]
    },
    {
     "name": "stdout",
     "output_type": "stream",
     "text": [
      "Epoch 446/1000 - Train Loss: 0.0484 - Val Loss: 0.0299\n"
     ]
    },
    {
     "name": "stderr",
     "output_type": "stream",
     "text": [
      "Epoch 447/1000 - Training: 100%|██████████| 7/7 [00:00<00:00, 353.30it/s]\n",
      "Epoch 447/1000 - Validation: 100%|██████████| 1/1 [00:00<00:00, 944.24it/s]\n"
     ]
    },
    {
     "name": "stdout",
     "output_type": "stream",
     "text": [
      "Epoch 447/1000 - Train Loss: 0.0369 - Val Loss: 0.0197\n"
     ]
    },
    {
     "name": "stderr",
     "output_type": "stream",
     "text": [
      "Epoch 448/1000 - Training: 100%|██████████| 7/7 [00:00<00:00, 355.91it/s]\n",
      "Epoch 448/1000 - Validation: 100%|██████████| 1/1 [00:00<00:00, 1140.69it/s]\n"
     ]
    },
    {
     "name": "stdout",
     "output_type": "stream",
     "text": [
      "Epoch 448/1000 - Train Loss: 0.0431 - Val Loss: 0.0251\n"
     ]
    },
    {
     "name": "stderr",
     "output_type": "stream",
     "text": [
      "Epoch 449/1000 - Training: 100%|██████████| 7/7 [00:00<00:00, 355.90it/s]\n",
      "Epoch 449/1000 - Validation: 100%|██████████| 1/1 [00:00<00:00, 862.32it/s]\n"
     ]
    },
    {
     "name": "stdout",
     "output_type": "stream",
     "text": [
      "Epoch 449/1000 - Train Loss: 0.0457 - Val Loss: 0.0296\n"
     ]
    },
    {
     "name": "stderr",
     "output_type": "stream",
     "text": [
      "Epoch 450/1000 - Training: 100%|██████████| 7/7 [00:00<00:00, 348.99it/s]\n",
      "Epoch 450/1000 - Validation: 100%|██████████| 1/1 [00:00<00:00, 1159.29it/s]\n"
     ]
    },
    {
     "name": "stdout",
     "output_type": "stream",
     "text": [
      "Epoch 450/1000 - Train Loss: 0.0393 - Val Loss: 0.0310\n"
     ]
    },
    {
     "name": "stderr",
     "output_type": "stream",
     "text": [
      "Epoch 451/1000 - Training: 100%|██████████| 7/7 [00:00<00:00, 362.13it/s]\n",
      "Epoch 451/1000 - Validation: 100%|██████████| 1/1 [00:00<00:00, 802.43it/s]\n"
     ]
    },
    {
     "name": "stdout",
     "output_type": "stream",
     "text": [
      "Epoch 451/1000 - Train Loss: 0.0487 - Val Loss: 0.0267\n"
     ]
    },
    {
     "name": "stderr",
     "output_type": "stream",
     "text": [
      "Epoch 452/1000 - Training: 100%|██████████| 7/7 [00:00<00:00, 351.30it/s]\n",
      "Epoch 452/1000 - Validation: 100%|██████████| 1/1 [00:00<00:00, 865.34it/s]\n"
     ]
    },
    {
     "name": "stdout",
     "output_type": "stream",
     "text": [
      "Epoch 452/1000 - Train Loss: 0.0433 - Val Loss: 0.0291\n"
     ]
    },
    {
     "name": "stderr",
     "output_type": "stream",
     "text": [
      "Epoch 453/1000 - Training: 100%|██████████| 7/7 [00:00<00:00, 355.17it/s]\n",
      "Epoch 453/1000 - Validation: 100%|██████████| 1/1 [00:00<00:00, 797.55it/s]\n"
     ]
    },
    {
     "name": "stdout",
     "output_type": "stream",
     "text": [
      "Epoch 453/1000 - Train Loss: 0.0533 - Val Loss: 0.0353\n"
     ]
    },
    {
     "name": "stderr",
     "output_type": "stream",
     "text": [
      "Epoch 454/1000 - Training: 100%|██████████| 7/7 [00:00<00:00, 359.42it/s]\n",
      "Epoch 454/1000 - Validation: 100%|██████████| 1/1 [00:00<00:00, 855.46it/s]\n"
     ]
    },
    {
     "name": "stdout",
     "output_type": "stream",
     "text": [
      "Epoch 454/1000 - Train Loss: 0.0445 - Val Loss: 0.0234\n"
     ]
    },
    {
     "name": "stderr",
     "output_type": "stream",
     "text": [
      "Epoch 455/1000 - Training: 100%|██████████| 7/7 [00:00<00:00, 319.13it/s]\n",
      "Epoch 455/1000 - Validation: 100%|██████████| 1/1 [00:00<00:00, 970.01it/s]\n"
     ]
    },
    {
     "name": "stdout",
     "output_type": "stream",
     "text": [
      "Epoch 455/1000 - Train Loss: 0.0576 - Val Loss: 0.0270\n"
     ]
    },
    {
     "name": "stderr",
     "output_type": "stream",
     "text": [
      "Epoch 456/1000 - Training: 100%|██████████| 7/7 [00:00<00:00, 362.13it/s]\n",
      "Epoch 456/1000 - Validation: 100%|██████████| 1/1 [00:00<00:00, 839.20it/s]\n"
     ]
    },
    {
     "name": "stdout",
     "output_type": "stream",
     "text": [
      "Epoch 456/1000 - Train Loss: 0.0502 - Val Loss: 0.0224\n"
     ]
    },
    {
     "name": "stderr",
     "output_type": "stream",
     "text": [
      "Epoch 457/1000 - Training: 100%|██████████| 7/7 [00:00<00:00, 354.49it/s]\n",
      "Epoch 457/1000 - Validation: 100%|██████████| 1/1 [00:00<00:00, 809.71it/s]\n"
     ]
    },
    {
     "name": "stdout",
     "output_type": "stream",
     "text": [
      "Epoch 457/1000 - Train Loss: 0.0537 - Val Loss: 0.0315\n"
     ]
    },
    {
     "name": "stderr",
     "output_type": "stream",
     "text": [
      "Epoch 458/1000 - Training: 100%|██████████| 7/7 [00:00<00:00, 355.57it/s]\n",
      "Epoch 458/1000 - Validation: 100%|██████████| 1/1 [00:00<00:00, 829.73it/s]\n"
     ]
    },
    {
     "name": "stdout",
     "output_type": "stream",
     "text": [
      "Epoch 458/1000 - Train Loss: 0.0451 - Val Loss: 0.0213\n"
     ]
    },
    {
     "name": "stderr",
     "output_type": "stream",
     "text": [
      "Epoch 459/1000 - Training: 100%|██████████| 7/7 [00:00<00:00, 334.73it/s]\n",
      "Epoch 459/1000 - Validation: 100%|██████████| 1/1 [00:00<00:00, 985.50it/s]\n"
     ]
    },
    {
     "name": "stdout",
     "output_type": "stream",
     "text": [
      "Epoch 459/1000 - Train Loss: 0.0475 - Val Loss: 0.0260\n"
     ]
    },
    {
     "name": "stderr",
     "output_type": "stream",
     "text": [
      "Epoch 460/1000 - Training: 100%|██████████| 7/7 [00:00<00:00, 364.58it/s]\n",
      "Epoch 460/1000 - Validation: 100%|██████████| 1/1 [00:00<00:00, 813.48it/s]\n"
     ]
    },
    {
     "name": "stdout",
     "output_type": "stream",
     "text": [
      "Epoch 460/1000 - Train Loss: 0.0483 - Val Loss: 0.0208\n"
     ]
    },
    {
     "name": "stderr",
     "output_type": "stream",
     "text": [
      "Epoch 461/1000 - Training: 100%|██████████| 7/7 [00:00<00:00, 356.60it/s]\n",
      "Epoch 461/1000 - Validation: 100%|██████████| 1/1 [00:00<00:00, 789.14it/s]\n"
     ]
    },
    {
     "name": "stdout",
     "output_type": "stream",
     "text": [
      "Epoch 461/1000 - Train Loss: 0.0441 - Val Loss: 0.0303\n"
     ]
    },
    {
     "name": "stderr",
     "output_type": "stream",
     "text": [
      "Epoch 462/1000 - Training: 100%|██████████| 7/7 [00:00<00:00, 352.51it/s]\n",
      "Epoch 462/1000 - Validation: 100%|██████████| 1/1 [00:00<00:00, 867.85it/s]\n"
     ]
    },
    {
     "name": "stdout",
     "output_type": "stream",
     "text": [
      "Epoch 462/1000 - Train Loss: 0.0508 - Val Loss: 0.0231\n"
     ]
    },
    {
     "name": "stderr",
     "output_type": "stream",
     "text": [
      "Epoch 463/1000 - Training: 100%|██████████| 7/7 [00:00<00:00, 357.32it/s]\n",
      "Epoch 463/1000 - Validation: 100%|██████████| 1/1 [00:00<00:00, 764.27it/s]\n"
     ]
    },
    {
     "name": "stdout",
     "output_type": "stream",
     "text": [
      "Epoch 463/1000 - Train Loss: 0.0499 - Val Loss: 0.0295\n"
     ]
    },
    {
     "name": "stderr",
     "output_type": "stream",
     "text": [
      "Epoch 464/1000 - Training: 100%|██████████| 7/7 [00:00<00:00, 352.88it/s]\n",
      "Epoch 464/1000 - Validation: 100%|██████████| 1/1 [00:00<00:00, 837.35it/s]\n"
     ]
    },
    {
     "name": "stdout",
     "output_type": "stream",
     "text": [
      "Epoch 464/1000 - Train Loss: 0.0343 - Val Loss: 0.0333\n"
     ]
    },
    {
     "name": "stderr",
     "output_type": "stream",
     "text": [
      "Epoch 465/1000 - Training: 100%|██████████| 7/7 [00:00<00:00, 351.42it/s]\n",
      "Epoch 465/1000 - Validation: 100%|██████████| 1/1 [00:00<00:00, 811.43it/s]\n"
     ]
    },
    {
     "name": "stdout",
     "output_type": "stream",
     "text": [
      "Epoch 465/1000 - Train Loss: 0.0418 - Val Loss: 0.0248\n"
     ]
    },
    {
     "name": "stderr",
     "output_type": "stream",
     "text": [
      "Epoch 466/1000 - Training: 100%|██████████| 7/7 [00:00<00:00, 358.29it/s]\n",
      "Epoch 466/1000 - Validation: 100%|██████████| 1/1 [00:00<00:00, 804.28it/s]\n"
     ]
    },
    {
     "name": "stdout",
     "output_type": "stream",
     "text": [
      "Epoch 466/1000 - Train Loss: 0.0390 - Val Loss: 0.0412\n"
     ]
    },
    {
     "name": "stderr",
     "output_type": "stream",
     "text": [
      "Epoch 467/1000 - Training: 100%|██████████| 7/7 [00:00<00:00, 354.36it/s]\n",
      "Epoch 467/1000 - Validation: 100%|██████████| 1/1 [00:00<00:00, 848.02it/s]\n"
     ]
    },
    {
     "name": "stdout",
     "output_type": "stream",
     "text": [
      "Epoch 467/1000 - Train Loss: 0.0443 - Val Loss: 0.0237\n"
     ]
    },
    {
     "name": "stderr",
     "output_type": "stream",
     "text": [
      "Epoch 468/1000 - Training: 100%|██████████| 7/7 [00:00<00:00, 350.74it/s]\n",
      "Epoch 468/1000 - Validation: 100%|██████████| 1/1 [00:00<00:00, 783.54it/s]\n"
     ]
    },
    {
     "name": "stdout",
     "output_type": "stream",
     "text": [
      "Epoch 468/1000 - Train Loss: 0.0423 - Val Loss: 0.0380\n"
     ]
    },
    {
     "name": "stderr",
     "output_type": "stream",
     "text": [
      "Epoch 469/1000 - Training: 100%|██████████| 7/7 [00:00<00:00, 350.26it/s]\n",
      "Epoch 469/1000 - Validation: 100%|██████████| 1/1 [00:00<00:00, 827.61it/s]\n"
     ]
    },
    {
     "name": "stdout",
     "output_type": "stream",
     "text": [
      "Epoch 469/1000 - Train Loss: 0.0479 - Val Loss: 0.0504\n"
     ]
    },
    {
     "name": "stderr",
     "output_type": "stream",
     "text": [
      "Epoch 470/1000 - Training: 100%|██████████| 7/7 [00:00<00:00, 350.10it/s]\n",
      "Epoch 470/1000 - Validation: 100%|██████████| 1/1 [00:00<00:00, 907.66it/s]\n"
     ]
    },
    {
     "name": "stdout",
     "output_type": "stream",
     "text": [
      "Epoch 470/1000 - Train Loss: 0.0562 - Val Loss: 0.0215\n"
     ]
    },
    {
     "name": "stderr",
     "output_type": "stream",
     "text": [
      "Epoch 471/1000 - Training: 100%|██████████| 7/7 [00:00<00:00, 352.38it/s]\n",
      "Epoch 471/1000 - Validation: 100%|██████████| 1/1 [00:00<00:00, 927.12it/s]\n"
     ]
    },
    {
     "name": "stdout",
     "output_type": "stream",
     "text": [
      "Epoch 471/1000 - Train Loss: 0.0465 - Val Loss: 0.0322\n"
     ]
    },
    {
     "name": "stderr",
     "output_type": "stream",
     "text": [
      "Epoch 472/1000 - Training: 100%|██████████| 7/7 [00:00<00:00, 357.22it/s]\n",
      "Epoch 472/1000 - Validation: 100%|██████████| 1/1 [00:00<00:00, 1163.79it/s]\n"
     ]
    },
    {
     "name": "stdout",
     "output_type": "stream",
     "text": [
      "Epoch 472/1000 - Train Loss: 0.0459 - Val Loss: 0.0349\n"
     ]
    },
    {
     "name": "stderr",
     "output_type": "stream",
     "text": [
      "Epoch 473/1000 - Training: 100%|██████████| 7/7 [00:00<00:00, 358.16it/s]\n",
      "Epoch 473/1000 - Validation: 100%|██████████| 1/1 [00:00<00:00, 1029.02it/s]\n"
     ]
    },
    {
     "name": "stdout",
     "output_type": "stream",
     "text": [
      "Epoch 473/1000 - Train Loss: 0.0453 - Val Loss: 0.0266\n"
     ]
    },
    {
     "name": "stderr",
     "output_type": "stream",
     "text": [
      "Epoch 474/1000 - Training: 100%|██████████| 7/7 [00:00<00:00, 355.73it/s]\n",
      "Epoch 474/1000 - Validation: 100%|██████████| 1/1 [00:00<00:00, 869.47it/s]\n"
     ]
    },
    {
     "name": "stdout",
     "output_type": "stream",
     "text": [
      "Epoch 474/1000 - Train Loss: 0.0453 - Val Loss: 0.0319\n"
     ]
    },
    {
     "name": "stderr",
     "output_type": "stream",
     "text": [
      "Epoch 475/1000 - Training: 100%|██████████| 7/7 [00:00<00:00, 283.57it/s]\n",
      "Epoch 475/1000 - Validation: 100%|██████████| 1/1 [00:00<00:00, 962.88it/s]\n"
     ]
    },
    {
     "name": "stdout",
     "output_type": "stream",
     "text": [
      "Epoch 475/1000 - Train Loss: 0.0438 - Val Loss: 0.0232\n"
     ]
    },
    {
     "name": "stderr",
     "output_type": "stream",
     "text": [
      "Epoch 476/1000 - Training: 100%|██████████| 7/7 [00:00<00:00, 348.48it/s]\n",
      "Epoch 476/1000 - Validation: 100%|██████████| 1/1 [00:00<00:00, 953.25it/s]\n"
     ]
    },
    {
     "name": "stdout",
     "output_type": "stream",
     "text": [
      "Epoch 476/1000 - Train Loss: 0.0495 - Val Loss: 0.0499\n"
     ]
    },
    {
     "name": "stderr",
     "output_type": "stream",
     "text": [
      "Epoch 477/1000 - Training: 100%|██████████| 7/7 [00:00<00:00, 352.92it/s]\n",
      "Epoch 477/1000 - Validation: 100%|██████████| 1/1 [00:00<00:00, 1117.88it/s]\n"
     ]
    },
    {
     "name": "stdout",
     "output_type": "stream",
     "text": [
      "Epoch 477/1000 - Train Loss: 0.0463 - Val Loss: 0.0233\n"
     ]
    },
    {
     "name": "stderr",
     "output_type": "stream",
     "text": [
      "Epoch 478/1000 - Training: 100%|██████████| 7/7 [00:00<00:00, 353.35it/s]\n",
      "Epoch 478/1000 - Validation: 100%|██████████| 1/1 [00:00<00:00, 909.83it/s]\n"
     ]
    },
    {
     "name": "stdout",
     "output_type": "stream",
     "text": [
      "Epoch 478/1000 - Train Loss: 0.0451 - Val Loss: 0.0370\n"
     ]
    },
    {
     "name": "stderr",
     "output_type": "stream",
     "text": [
      "Epoch 479/1000 - Training: 100%|██████████| 7/7 [00:00<00:00, 266.80it/s]\n",
      "Epoch 479/1000 - Validation: 100%|██████████| 1/1 [00:00<00:00, 371.87it/s]\n"
     ]
    },
    {
     "name": "stdout",
     "output_type": "stream",
     "text": [
      "Epoch 479/1000 - Train Loss: 0.0436 - Val Loss: 0.0267\n"
     ]
    },
    {
     "name": "stderr",
     "output_type": "stream",
     "text": [
      "Epoch 480/1000 - Training: 100%|██████████| 7/7 [00:00<00:00, 363.35it/s]\n",
      "Epoch 480/1000 - Validation: 100%|██████████| 1/1 [00:00<00:00, 1122.67it/s]\n"
     ]
    },
    {
     "name": "stdout",
     "output_type": "stream",
     "text": [
      "Epoch 480/1000 - Train Loss: 0.0508 - Val Loss: 0.0272\n"
     ]
    },
    {
     "name": "stderr",
     "output_type": "stream",
     "text": [
      "Epoch 481/1000 - Training: 100%|██████████| 7/7 [00:00<00:00, 367.72it/s]\n",
      "Epoch 481/1000 - Validation: 100%|██████████| 1/1 [00:00<00:00, 868.39it/s]\n"
     ]
    },
    {
     "name": "stdout",
     "output_type": "stream",
     "text": [
      "Epoch 481/1000 - Train Loss: 0.0466 - Val Loss: 0.0268\n"
     ]
    },
    {
     "name": "stderr",
     "output_type": "stream",
     "text": [
      "Epoch 482/1000 - Training: 100%|██████████| 7/7 [00:00<00:00, 365.47it/s]\n",
      "Epoch 482/1000 - Validation: 100%|██████████| 1/1 [00:00<00:00, 790.48it/s]\n"
     ]
    },
    {
     "name": "stdout",
     "output_type": "stream",
     "text": [
      "Epoch 482/1000 - Train Loss: 0.0475 - Val Loss: 0.0557\n"
     ]
    },
    {
     "name": "stderr",
     "output_type": "stream",
     "text": [
      "Epoch 483/1000 - Training: 100%|██████████| 7/7 [00:00<00:00, 251.51it/s]\n",
      "Epoch 483/1000 - Validation: 100%|██████████| 1/1 [00:00<00:00, 1100.87it/s]\n"
     ]
    },
    {
     "name": "stdout",
     "output_type": "stream",
     "text": [
      "Epoch 483/1000 - Train Loss: 0.0488 - Val Loss: 0.0292\n"
     ]
    },
    {
     "name": "stderr",
     "output_type": "stream",
     "text": [
      "Epoch 484/1000 - Training: 100%|██████████| 7/7 [00:00<00:00, 349.64it/s]\n",
      "Epoch 484/1000 - Validation: 100%|██████████| 1/1 [00:00<00:00, 977.92it/s]\n"
     ]
    },
    {
     "name": "stdout",
     "output_type": "stream",
     "text": [
      "Epoch 484/1000 - Train Loss: 0.0383 - Val Loss: 0.0469\n"
     ]
    },
    {
     "name": "stderr",
     "output_type": "stream",
     "text": [
      "Epoch 485/1000 - Training: 100%|██████████| 7/7 [00:00<00:00, 349.89it/s]\n",
      "Epoch 485/1000 - Validation: 100%|██████████| 1/1 [00:00<00:00, 1154.18it/s]\n"
     ]
    },
    {
     "name": "stdout",
     "output_type": "stream",
     "text": [
      "Epoch 485/1000 - Train Loss: 0.0437 - Val Loss: 0.0330\n"
     ]
    },
    {
     "name": "stderr",
     "output_type": "stream",
     "text": [
      "Epoch 486/1000 - Training: 100%|██████████| 7/7 [00:00<00:00, 354.09it/s]\n",
      "Epoch 486/1000 - Validation: 100%|██████████| 1/1 [00:00<00:00, 997.22it/s]\n"
     ]
    },
    {
     "name": "stdout",
     "output_type": "stream",
     "text": [
      "Epoch 486/1000 - Train Loss: 0.0435 - Val Loss: 0.0233\n"
     ]
    },
    {
     "name": "stderr",
     "output_type": "stream",
     "text": [
      "Epoch 487/1000 - Training: 100%|██████████| 7/7 [00:00<00:00, 265.43it/s]\n",
      "Epoch 487/1000 - Validation: 100%|██████████| 1/1 [00:00<00:00, 1017.54it/s]\n"
     ]
    },
    {
     "name": "stdout",
     "output_type": "stream",
     "text": [
      "Epoch 487/1000 - Train Loss: 0.0477 - Val Loss: 0.0265\n"
     ]
    },
    {
     "name": "stderr",
     "output_type": "stream",
     "text": [
      "Epoch 488/1000 - Training: 100%|██████████| 7/7 [00:00<00:00, 345.15it/s]\n",
      "Epoch 488/1000 - Validation: 100%|██████████| 1/1 [00:00<00:00, 1018.53it/s]\n"
     ]
    },
    {
     "name": "stdout",
     "output_type": "stream",
     "text": [
      "Epoch 488/1000 - Train Loss: 0.0427 - Val Loss: 0.0341\n"
     ]
    },
    {
     "name": "stderr",
     "output_type": "stream",
     "text": [
      "Epoch 489/1000 - Training: 100%|██████████| 7/7 [00:00<00:00, 350.31it/s]\n",
      "Epoch 489/1000 - Validation: 100%|██████████| 1/1 [00:00<00:00, 957.82it/s]\n"
     ]
    },
    {
     "name": "stdout",
     "output_type": "stream",
     "text": [
      "Epoch 489/1000 - Train Loss: 0.0522 - Val Loss: 0.0597\n"
     ]
    },
    {
     "name": "stderr",
     "output_type": "stream",
     "text": [
      "Epoch 490/1000 - Training: 100%|██████████| 7/7 [00:00<00:00, 349.03it/s]\n",
      "Epoch 490/1000 - Validation: 100%|██████████| 1/1 [00:00<00:00, 892.98it/s]\n"
     ]
    },
    {
     "name": "stdout",
     "output_type": "stream",
     "text": [
      "Epoch 490/1000 - Train Loss: 0.0316 - Val Loss: 0.0249\n"
     ]
    },
    {
     "name": "stderr",
     "output_type": "stream",
     "text": [
      "Epoch 491/1000 - Training: 100%|██████████| 7/7 [00:00<00:00, 260.24it/s]\n",
      "Epoch 491/1000 - Validation: 100%|██████████| 1/1 [00:00<00:00, 1140.38it/s]\n"
     ]
    },
    {
     "name": "stdout",
     "output_type": "stream",
     "text": [
      "Epoch 491/1000 - Train Loss: 0.0442 - Val Loss: 0.0271\n"
     ]
    },
    {
     "name": "stderr",
     "output_type": "stream",
     "text": [
      "Epoch 492/1000 - Training: 100%|██████████| 7/7 [00:00<00:00, 360.44it/s]\n",
      "Epoch 492/1000 - Validation: 100%|██████████| 1/1 [00:00<00:00, 1159.29it/s]\n"
     ]
    },
    {
     "name": "stdout",
     "output_type": "stream",
     "text": [
      "Epoch 492/1000 - Train Loss: 0.0395 - Val Loss: 0.0217\n"
     ]
    },
    {
     "name": "stderr",
     "output_type": "stream",
     "text": [
      "Epoch 493/1000 - Training: 100%|██████████| 7/7 [00:00<00:00, 275.81it/s]\n",
      "Epoch 493/1000 - Validation: 100%|██████████| 1/1 [00:00<00:00, 1181.16it/s]\n"
     ]
    },
    {
     "name": "stdout",
     "output_type": "stream",
     "text": [
      "Epoch 493/1000 - Train Loss: 0.0436 - Val Loss: 0.0200\n"
     ]
    },
    {
     "name": "stderr",
     "output_type": "stream",
     "text": [
      "Epoch 494/1000 - Training: 100%|██████████| 7/7 [00:00<00:00, 308.80it/s]\n",
      "Epoch 494/1000 - Validation: 100%|██████████| 1/1 [00:00<00:00, 961.78it/s]\n"
     ]
    },
    {
     "name": "stdout",
     "output_type": "stream",
     "text": [
      "Epoch 494/1000 - Train Loss: 0.0480 - Val Loss: 0.0268\n"
     ]
    },
    {
     "name": "stderr",
     "output_type": "stream",
     "text": [
      "Epoch 495/1000 - Training: 100%|██████████| 7/7 [00:00<00:00, 318.13it/s]\n",
      "Epoch 495/1000 - Validation: 100%|██████████| 1/1 [00:00<00:00, 840.37it/s]\n"
     ]
    },
    {
     "name": "stdout",
     "output_type": "stream",
     "text": [
      "Epoch 495/1000 - Train Loss: 0.0431 - Val Loss: 0.0398\n"
     ]
    },
    {
     "name": "stderr",
     "output_type": "stream",
     "text": [
      "Epoch 496/1000 - Training: 100%|██████████| 7/7 [00:00<00:00, 319.10it/s]\n",
      "Epoch 496/1000 - Validation: 100%|██████████| 1/1 [00:00<00:00, 768.61it/s]\n"
     ]
    },
    {
     "name": "stdout",
     "output_type": "stream",
     "text": [
      "Epoch 496/1000 - Train Loss: 0.0521 - Val Loss: 0.0230\n"
     ]
    },
    {
     "name": "stderr",
     "output_type": "stream",
     "text": [
      "Epoch 497/1000 - Training: 100%|██████████| 7/7 [00:00<00:00, 291.96it/s]\n",
      "Epoch 497/1000 - Validation: 100%|██████████| 1/1 [00:00<00:00, 850.60it/s]\n"
     ]
    },
    {
     "name": "stdout",
     "output_type": "stream",
     "text": [
      "Epoch 497/1000 - Train Loss: 0.0442 - Val Loss: 0.0266\n"
     ]
    },
    {
     "name": "stderr",
     "output_type": "stream",
     "text": [
      "Epoch 498/1000 - Training: 100%|██████████| 7/7 [00:00<00:00, 320.63it/s]\n",
      "Epoch 498/1000 - Validation: 100%|██████████| 1/1 [00:00<00:00, 854.76it/s]\n"
     ]
    },
    {
     "name": "stdout",
     "output_type": "stream",
     "text": [
      "Epoch 498/1000 - Train Loss: 0.0486 - Val Loss: 0.0411\n"
     ]
    },
    {
     "name": "stderr",
     "output_type": "stream",
     "text": [
      "Epoch 499/1000 - Training: 100%|██████████| 7/7 [00:00<00:00, 320.54it/s]\n",
      "Epoch 499/1000 - Validation: 100%|██████████| 1/1 [00:00<00:00, 746.58it/s]\n"
     ]
    },
    {
     "name": "stdout",
     "output_type": "stream",
     "text": [
      "Epoch 499/1000 - Train Loss: 0.0520 - Val Loss: 0.0156\n"
     ]
    },
    {
     "name": "stderr",
     "output_type": "stream",
     "text": [
      "Epoch 500/1000 - Training: 100%|██████████| 7/7 [00:00<00:00, 324.87it/s]\n",
      "Epoch 500/1000 - Validation: 100%|██████████| 1/1 [00:00<00:00, 760.53it/s]\n"
     ]
    },
    {
     "name": "stdout",
     "output_type": "stream",
     "text": [
      "Epoch 500/1000 - Train Loss: 0.0464 - Val Loss: 0.0336\n"
     ]
    },
    {
     "name": "stderr",
     "output_type": "stream",
     "text": [
      "Epoch 501/1000 - Training: 100%|██████████| 7/7 [00:00<00:00, 320.87it/s]\n",
      "Epoch 501/1000 - Validation: 100%|██████████| 1/1 [00:00<00:00, 817.60it/s]\n"
     ]
    },
    {
     "name": "stdout",
     "output_type": "stream",
     "text": [
      "Epoch 501/1000 - Train Loss: 0.0498 - Val Loss: 0.0114\n"
     ]
    },
    {
     "name": "stderr",
     "output_type": "stream",
     "text": [
      "Epoch 502/1000 - Training: 100%|██████████| 7/7 [00:00<00:00, 302.41it/s]\n",
      "Epoch 502/1000 - Validation: 100%|██████████| 1/1 [00:00<00:00, 699.98it/s]\n"
     ]
    },
    {
     "name": "stdout",
     "output_type": "stream",
     "text": [
      "Epoch 502/1000 - Train Loss: 0.0563 - Val Loss: 0.0200\n"
     ]
    },
    {
     "name": "stderr",
     "output_type": "stream",
     "text": [
      "Epoch 503/1000 - Training: 100%|██████████| 7/7 [00:00<00:00, 318.25it/s]\n",
      "Epoch 503/1000 - Validation: 100%|██████████| 1/1 [00:00<00:00, 832.20it/s]\n"
     ]
    },
    {
     "name": "stdout",
     "output_type": "stream",
     "text": [
      "Epoch 503/1000 - Train Loss: 0.0496 - Val Loss: 0.0166\n"
     ]
    },
    {
     "name": "stderr",
     "output_type": "stream",
     "text": [
      "Epoch 504/1000 - Training: 100%|██████████| 7/7 [00:00<00:00, 316.99it/s]\n",
      "Epoch 504/1000 - Validation: 100%|██████████| 1/1 [00:00<00:00, 698.93it/s]\n"
     ]
    },
    {
     "name": "stdout",
     "output_type": "stream",
     "text": [
      "Epoch 504/1000 - Train Loss: 0.0475 - Val Loss: 0.0342\n"
     ]
    },
    {
     "name": "stderr",
     "output_type": "stream",
     "text": [
      "Epoch 505/1000 - Training: 100%|██████████| 7/7 [00:00<00:00, 316.26it/s]\n",
      "Epoch 505/1000 - Validation: 100%|██████████| 1/1 [00:00<00:00, 998.64it/s]\n"
     ]
    },
    {
     "name": "stdout",
     "output_type": "stream",
     "text": [
      "Epoch 505/1000 - Train Loss: 0.0424 - Val Loss: 0.0262\n"
     ]
    },
    {
     "name": "stderr",
     "output_type": "stream",
     "text": [
      "Epoch 506/1000 - Training: 100%|██████████| 7/7 [00:00<00:00, 318.07it/s]\n",
      "Epoch 506/1000 - Validation: 100%|██████████| 1/1 [00:00<00:00, 960.67it/s]\n"
     ]
    },
    {
     "name": "stdout",
     "output_type": "stream",
     "text": [
      "Epoch 506/1000 - Train Loss: 0.0408 - Val Loss: 0.0298\n"
     ]
    },
    {
     "name": "stderr",
     "output_type": "stream",
     "text": [
      "Epoch 507/1000 - Training: 100%|██████████| 7/7 [00:00<00:00, 317.81it/s]\n",
      "Epoch 507/1000 - Validation: 100%|██████████| 1/1 [00:00<00:00, 775.29it/s]\n"
     ]
    },
    {
     "name": "stdout",
     "output_type": "stream",
     "text": [
      "Epoch 507/1000 - Train Loss: 0.0413 - Val Loss: 0.0336\n"
     ]
    },
    {
     "name": "stderr",
     "output_type": "stream",
     "text": [
      "Epoch 508/1000 - Training: 100%|██████████| 7/7 [00:00<00:00, 317.92it/s]\n",
      "Epoch 508/1000 - Validation: 100%|██████████| 1/1 [00:00<00:00, 771.44it/s]\n"
     ]
    },
    {
     "name": "stdout",
     "output_type": "stream",
     "text": [
      "Epoch 508/1000 - Train Loss: 0.0344 - Val Loss: 0.0411\n"
     ]
    },
    {
     "name": "stderr",
     "output_type": "stream",
     "text": [
      "Epoch 509/1000 - Training: 100%|██████████| 7/7 [00:00<00:00, 319.40it/s]\n",
      "Epoch 509/1000 - Validation: 100%|██████████| 1/1 [00:00<00:00, 850.60it/s]\n"
     ]
    },
    {
     "name": "stdout",
     "output_type": "stream",
     "text": [
      "Epoch 509/1000 - Train Loss: 0.0385 - Val Loss: 0.0296\n"
     ]
    },
    {
     "name": "stderr",
     "output_type": "stream",
     "text": [
      "Epoch 510/1000 - Training: 100%|██████████| 7/7 [00:00<00:00, 315.80it/s]\n",
      "Epoch 510/1000 - Validation: 100%|██████████| 1/1 [00:00<00:00, 774.71it/s]\n"
     ]
    },
    {
     "name": "stdout",
     "output_type": "stream",
     "text": [
      "Epoch 510/1000 - Train Loss: 0.0489 - Val Loss: 0.0349\n"
     ]
    },
    {
     "name": "stderr",
     "output_type": "stream",
     "text": [
      "Epoch 511/1000 - Training: 100%|██████████| 7/7 [00:00<00:00, 318.47it/s]\n",
      "Epoch 511/1000 - Validation: 100%|██████████| 1/1 [00:00<00:00, 761.08it/s]\n"
     ]
    },
    {
     "name": "stdout",
     "output_type": "stream",
     "text": [
      "Epoch 511/1000 - Train Loss: 0.0424 - Val Loss: 0.0218\n"
     ]
    },
    {
     "name": "stderr",
     "output_type": "stream",
     "text": [
      "Epoch 512/1000 - Training: 100%|██████████| 7/7 [00:00<00:00, 318.94it/s]\n",
      "Epoch 512/1000 - Validation: 100%|██████████| 1/1 [00:00<00:00, 836.02it/s]\n"
     ]
    },
    {
     "name": "stdout",
     "output_type": "stream",
     "text": [
      "Epoch 512/1000 - Train Loss: 0.0539 - Val Loss: 0.0388\n"
     ]
    },
    {
     "name": "stderr",
     "output_type": "stream",
     "text": [
      "Epoch 513/1000 - Training: 100%|██████████| 7/7 [00:00<00:00, 316.07it/s]\n",
      "Epoch 513/1000 - Validation: 100%|██████████| 1/1 [00:00<00:00, 767.77it/s]\n"
     ]
    },
    {
     "name": "stdout",
     "output_type": "stream",
     "text": [
      "Epoch 513/1000 - Train Loss: 0.0479 - Val Loss: 0.0242\n"
     ]
    },
    {
     "name": "stderr",
     "output_type": "stream",
     "text": [
      "Epoch 514/1000 - Training: 100%|██████████| 7/7 [00:00<00:00, 318.18it/s]\n",
      "Epoch 514/1000 - Validation: 100%|██████████| 1/1 [00:00<00:00, 816.17it/s]\n"
     ]
    },
    {
     "name": "stdout",
     "output_type": "stream",
     "text": [
      "Epoch 514/1000 - Train Loss: 0.0554 - Val Loss: 0.0287\n"
     ]
    },
    {
     "name": "stderr",
     "output_type": "stream",
     "text": [
      "Epoch 515/1000 - Training: 100%|██████████| 7/7 [00:00<00:00, 315.76it/s]\n",
      "Epoch 515/1000 - Validation: 100%|██████████| 1/1 [00:00<00:00, 951.09it/s]\n"
     ]
    },
    {
     "name": "stdout",
     "output_type": "stream",
     "text": [
      "Epoch 515/1000 - Train Loss: 0.0429 - Val Loss: 0.0232\n"
     ]
    },
    {
     "name": "stderr",
     "output_type": "stream",
     "text": [
      "Epoch 516/1000 - Training: 100%|██████████| 7/7 [00:00<00:00, 314.98it/s]\n",
      "Epoch 516/1000 - Validation: 100%|██████████| 1/1 [00:00<00:00, 766.78it/s]\n"
     ]
    },
    {
     "name": "stdout",
     "output_type": "stream",
     "text": [
      "Epoch 516/1000 - Train Loss: 0.0437 - Val Loss: 0.0297\n"
     ]
    },
    {
     "name": "stderr",
     "output_type": "stream",
     "text": [
      "Epoch 517/1000 - Training: 100%|██████████| 7/7 [00:00<00:00, 315.21it/s]\n",
      "Epoch 517/1000 - Validation: 100%|██████████| 1/1 [00:00<00:00, 766.36it/s]\n"
     ]
    },
    {
     "name": "stdout",
     "output_type": "stream",
     "text": [
      "Epoch 517/1000 - Train Loss: 0.0392 - Val Loss: 0.0268\n"
     ]
    },
    {
     "name": "stderr",
     "output_type": "stream",
     "text": [
      "Epoch 518/1000 - Training: 100%|██████████| 7/7 [00:00<00:00, 317.06it/s]\n",
      "Epoch 518/1000 - Validation: 100%|██████████| 1/1 [00:00<00:00, 808.31it/s]\n"
     ]
    },
    {
     "name": "stdout",
     "output_type": "stream",
     "text": [
      "Epoch 518/1000 - Train Loss: 0.0398 - Val Loss: 0.0242\n"
     ]
    },
    {
     "name": "stderr",
     "output_type": "stream",
     "text": [
      "Epoch 519/1000 - Training: 100%|██████████| 7/7 [00:00<00:00, 317.98it/s]\n",
      "Epoch 519/1000 - Validation: 100%|██████████| 1/1 [00:00<00:00, 889.57it/s]\n"
     ]
    },
    {
     "name": "stdout",
     "output_type": "stream",
     "text": [
      "Epoch 519/1000 - Train Loss: 0.0457 - Val Loss: 0.0405\n"
     ]
    },
    {
     "name": "stderr",
     "output_type": "stream",
     "text": [
      "Epoch 520/1000 - Training: 100%|██████████| 7/7 [00:00<00:00, 318.10it/s]\n",
      "Epoch 520/1000 - Validation: 100%|██████████| 1/1 [00:00<00:00, 731.61it/s]\n"
     ]
    },
    {
     "name": "stdout",
     "output_type": "stream",
     "text": [
      "Epoch 520/1000 - Train Loss: 0.0477 - Val Loss: 0.0240\n"
     ]
    },
    {
     "name": "stderr",
     "output_type": "stream",
     "text": [
      "Epoch 521/1000 - Training: 100%|██████████| 7/7 [00:00<00:00, 314.40it/s]\n",
      "Epoch 521/1000 - Validation: 100%|██████████| 1/1 [00:00<00:00, 978.38it/s]\n"
     ]
    },
    {
     "name": "stdout",
     "output_type": "stream",
     "text": [
      "Epoch 521/1000 - Train Loss: 0.0383 - Val Loss: 0.0355\n"
     ]
    },
    {
     "name": "stderr",
     "output_type": "stream",
     "text": [
      "Epoch 522/1000 - Training: 100%|██████████| 7/7 [00:00<00:00, 313.69it/s]\n",
      "Epoch 522/1000 - Validation: 100%|██████████| 1/1 [00:00<00:00, 823.70it/s]\n"
     ]
    },
    {
     "name": "stdout",
     "output_type": "stream",
     "text": [
      "Epoch 522/1000 - Train Loss: 0.0452 - Val Loss: 0.0258\n"
     ]
    },
    {
     "name": "stderr",
     "output_type": "stream",
     "text": [
      "Epoch 523/1000 - Training: 100%|██████████| 7/7 [00:00<00:00, 317.37it/s]\n",
      "Epoch 523/1000 - Validation: 100%|██████████| 1/1 [00:00<00:00, 977.24it/s]\n"
     ]
    },
    {
     "name": "stdout",
     "output_type": "stream",
     "text": [
      "Epoch 523/1000 - Train Loss: 0.0441 - Val Loss: 0.0325\n"
     ]
    },
    {
     "name": "stderr",
     "output_type": "stream",
     "text": [
      "Epoch 524/1000 - Training: 100%|██████████| 7/7 [00:00<00:00, 316.10it/s]\n",
      "Epoch 524/1000 - Validation: 100%|██████████| 1/1 [00:00<00:00, 827.77it/s]\n"
     ]
    },
    {
     "name": "stdout",
     "output_type": "stream",
     "text": [
      "Epoch 524/1000 - Train Loss: 0.0435 - Val Loss: 0.0248\n"
     ]
    },
    {
     "name": "stderr",
     "output_type": "stream",
     "text": [
      "Epoch 525/1000 - Training: 100%|██████████| 7/7 [00:00<00:00, 316.60it/s]\n",
      "Epoch 525/1000 - Validation: 100%|██████████| 1/1 [00:00<00:00, 756.55it/s]\n"
     ]
    },
    {
     "name": "stdout",
     "output_type": "stream",
     "text": [
      "Epoch 525/1000 - Train Loss: 0.0425 - Val Loss: 0.0226\n"
     ]
    },
    {
     "name": "stderr",
     "output_type": "stream",
     "text": [
      "Epoch 526/1000 - Training: 100%|██████████| 7/7 [00:00<00:00, 317.71it/s]\n",
      "Epoch 526/1000 - Validation: 100%|██████████| 1/1 [00:00<00:00, 751.40it/s]\n"
     ]
    },
    {
     "name": "stdout",
     "output_type": "stream",
     "text": [
      "Epoch 526/1000 - Train Loss: 0.0370 - Val Loss: 0.0193\n"
     ]
    },
    {
     "name": "stderr",
     "output_type": "stream",
     "text": [
      "Epoch 527/1000 - Training: 100%|██████████| 7/7 [00:00<00:00, 317.63it/s]\n",
      "Epoch 527/1000 - Validation: 100%|██████████| 1/1 [00:00<00:00, 746.72it/s]\n"
     ]
    },
    {
     "name": "stdout",
     "output_type": "stream",
     "text": [
      "Epoch 527/1000 - Train Loss: 0.0392 - Val Loss: 0.0149\n"
     ]
    },
    {
     "name": "stderr",
     "output_type": "stream",
     "text": [
      "Epoch 528/1000 - Training: 100%|██████████| 7/7 [00:00<00:00, 318.05it/s]\n",
      "Epoch 528/1000 - Validation: 100%|██████████| 1/1 [00:00<00:00, 868.21it/s]\n"
     ]
    },
    {
     "name": "stdout",
     "output_type": "stream",
     "text": [
      "Epoch 528/1000 - Train Loss: 0.0453 - Val Loss: 0.0145\n"
     ]
    },
    {
     "name": "stderr",
     "output_type": "stream",
     "text": [
      "Epoch 529/1000 - Training: 100%|██████████| 7/7 [00:00<00:00, 312.65it/s]\n",
      "Epoch 529/1000 - Validation: 100%|██████████| 1/1 [00:00<00:00, 883.57it/s]\n"
     ]
    },
    {
     "name": "stdout",
     "output_type": "stream",
     "text": [
      "Epoch 529/1000 - Train Loss: 0.0391 - Val Loss: 0.0194\n"
     ]
    },
    {
     "name": "stderr",
     "output_type": "stream",
     "text": [
      "Epoch 530/1000 - Training: 100%|██████████| 7/7 [00:00<00:00, 306.18it/s]\n",
      "Epoch 530/1000 - Validation: 100%|██████████| 1/1 [00:00<00:00, 739.34it/s]\n"
     ]
    },
    {
     "name": "stdout",
     "output_type": "stream",
     "text": [
      "Epoch 530/1000 - Train Loss: 0.0497 - Val Loss: 0.0280\n"
     ]
    },
    {
     "name": "stderr",
     "output_type": "stream",
     "text": [
      "Epoch 531/1000 - Training: 100%|██████████| 7/7 [00:00<00:00, 320.81it/s]\n",
      "Epoch 531/1000 - Validation: 100%|██████████| 1/1 [00:00<00:00, 751.53it/s]\n"
     ]
    },
    {
     "name": "stdout",
     "output_type": "stream",
     "text": [
      "Epoch 531/1000 - Train Loss: 0.0388 - Val Loss: 0.0334\n"
     ]
    },
    {
     "name": "stderr",
     "output_type": "stream",
     "text": [
      "Epoch 532/1000 - Training: 100%|██████████| 7/7 [00:00<00:00, 267.20it/s]\n",
      "Epoch 532/1000 - Validation: 100%|██████████| 1/1 [00:00<00:00, 959.58it/s]\n"
     ]
    },
    {
     "name": "stdout",
     "output_type": "stream",
     "text": [
      "Epoch 532/1000 - Train Loss: 0.0375 - Val Loss: 0.0243\n"
     ]
    },
    {
     "name": "stderr",
     "output_type": "stream",
     "text": [
      "Epoch 533/1000 - Training: 100%|██████████| 7/7 [00:00<00:00, 302.25it/s]\n",
      "Epoch 533/1000 - Validation: 100%|██████████| 1/1 [00:00<00:00, 856.50it/s]\n"
     ]
    },
    {
     "name": "stdout",
     "output_type": "stream",
     "text": [
      "Epoch 533/1000 - Train Loss: 0.0391 - Val Loss: 0.0232\n"
     ]
    },
    {
     "name": "stderr",
     "output_type": "stream",
     "text": [
      "Epoch 534/1000 - Training: 100%|██████████| 7/7 [00:00<00:00, 302.14it/s]\n",
      "Epoch 534/1000 - Validation: 100%|██████████| 1/1 [00:00<00:00, 857.03it/s]\n"
     ]
    },
    {
     "name": "stdout",
     "output_type": "stream",
     "text": [
      "Epoch 534/1000 - Train Loss: 0.0344 - Val Loss: 0.0192\n"
     ]
    },
    {
     "name": "stderr",
     "output_type": "stream",
     "text": [
      "Epoch 535/1000 - Training: 100%|██████████| 7/7 [00:00<00:00, 302.87it/s]\n",
      "Epoch 535/1000 - Validation: 100%|██████████| 1/1 [00:00<00:00, 873.63it/s]\n"
     ]
    },
    {
     "name": "stdout",
     "output_type": "stream",
     "text": [
      "Epoch 535/1000 - Train Loss: 0.0414 - Val Loss: 0.0329\n"
     ]
    },
    {
     "name": "stderr",
     "output_type": "stream",
     "text": [
      "Epoch 536/1000 - Training: 100%|██████████| 7/7 [00:00<00:00, 303.51it/s]\n",
      "Epoch 536/1000 - Validation: 100%|██████████| 1/1 [00:00<00:00, 572.60it/s]\n"
     ]
    },
    {
     "name": "stdout",
     "output_type": "stream",
     "text": [
      "Epoch 536/1000 - Train Loss: 0.0440 - Val Loss: 0.0301\n"
     ]
    },
    {
     "name": "stderr",
     "output_type": "stream",
     "text": [
      "Epoch 537/1000 - Training: 100%|██████████| 7/7 [00:00<00:00, 290.17it/s]\n",
      "Epoch 537/1000 - Validation: 100%|██████████| 1/1 [00:00<00:00, 571.90it/s]\n"
     ]
    },
    {
     "name": "stdout",
     "output_type": "stream",
     "text": [
      "Epoch 537/1000 - Train Loss: 0.0410 - Val Loss: 0.0315\n"
     ]
    },
    {
     "name": "stderr",
     "output_type": "stream",
     "text": [
      "Epoch 538/1000 - Training: 100%|██████████| 7/7 [00:00<00:00, 288.45it/s]\n",
      "Epoch 538/1000 - Validation: 100%|██████████| 1/1 [00:00<00:00, 652.71it/s]\n"
     ]
    },
    {
     "name": "stdout",
     "output_type": "stream",
     "text": [
      "Epoch 538/1000 - Train Loss: 0.0517 - Val Loss: 0.0277\n"
     ]
    },
    {
     "name": "stderr",
     "output_type": "stream",
     "text": [
      "Epoch 539/1000 - Training: 100%|██████████| 7/7 [00:00<00:00, 290.96it/s]\n",
      "Epoch 539/1000 - Validation: 100%|██████████| 1/1 [00:00<00:00, 663.55it/s]\n"
     ]
    },
    {
     "name": "stdout",
     "output_type": "stream",
     "text": [
      "Epoch 539/1000 - Train Loss: 0.0443 - Val Loss: 0.0327\n"
     ]
    },
    {
     "name": "stderr",
     "output_type": "stream",
     "text": [
      "Epoch 540/1000 - Training: 100%|██████████| 7/7 [00:00<00:00, 238.85it/s]\n",
      "Epoch 540/1000 - Validation: 100%|██████████| 1/1 [00:00<00:00, 1075.74it/s]\n"
     ]
    },
    {
     "name": "stdout",
     "output_type": "stream",
     "text": [
      "Epoch 540/1000 - Train Loss: 0.0442 - Val Loss: 0.0207\n"
     ]
    },
    {
     "name": "stderr",
     "output_type": "stream",
     "text": [
      "Epoch 541/1000 - Training: 100%|██████████| 7/7 [00:00<00:00, 257.56it/s]\n",
      "Epoch 541/1000 - Validation: 100%|██████████| 1/1 [00:00<00:00, 778.89it/s]\n"
     ]
    },
    {
     "name": "stdout",
     "output_type": "stream",
     "text": [
      "Epoch 541/1000 - Train Loss: 0.0461 - Val Loss: 0.0570\n"
     ]
    },
    {
     "name": "stderr",
     "output_type": "stream",
     "text": [
      "Epoch 542/1000 - Training: 100%|██████████| 7/7 [00:00<00:00, 312.20it/s]\n",
      "Epoch 542/1000 - Validation: 100%|██████████| 1/1 [00:00<00:00, 847.68it/s]\n"
     ]
    },
    {
     "name": "stdout",
     "output_type": "stream",
     "text": [
      "Epoch 542/1000 - Train Loss: 0.0473 - Val Loss: 0.0345\n"
     ]
    },
    {
     "name": "stderr",
     "output_type": "stream",
     "text": [
      "Epoch 543/1000 - Training: 100%|██████████| 7/7 [00:00<00:00, 314.88it/s]\n",
      "Epoch 543/1000 - Validation: 100%|██████████| 1/1 [00:00<00:00, 734.81it/s]\n"
     ]
    },
    {
     "name": "stdout",
     "output_type": "stream",
     "text": [
      "Epoch 543/1000 - Train Loss: 0.0458 - Val Loss: 0.0218\n"
     ]
    },
    {
     "name": "stderr",
     "output_type": "stream",
     "text": [
      "Epoch 544/1000 - Training: 100%|██████████| 7/7 [00:00<00:00, 314.58it/s]\n",
      "Epoch 544/1000 - Validation: 100%|██████████| 1/1 [00:00<00:00, 937.27it/s]\n"
     ]
    },
    {
     "name": "stdout",
     "output_type": "stream",
     "text": [
      "Epoch 544/1000 - Train Loss: 0.0367 - Val Loss: 0.0188\n"
     ]
    },
    {
     "name": "stderr",
     "output_type": "stream",
     "text": [
      "Epoch 545/1000 - Training: 100%|██████████| 7/7 [00:00<00:00, 293.42it/s]\n",
      "Epoch 545/1000 - Validation: 100%|██████████| 1/1 [00:00<00:00, 933.31it/s]\n"
     ]
    },
    {
     "name": "stdout",
     "output_type": "stream",
     "text": [
      "Epoch 545/1000 - Train Loss: 0.0466 - Val Loss: 0.0165\n"
     ]
    },
    {
     "name": "stderr",
     "output_type": "stream",
     "text": [
      "Epoch 546/1000 - Training: 100%|██████████| 7/7 [00:00<00:00, 314.97it/s]\n",
      "Epoch 546/1000 - Validation: 100%|██████████| 1/1 [00:00<00:00, 694.77it/s]\n"
     ]
    },
    {
     "name": "stdout",
     "output_type": "stream",
     "text": [
      "Epoch 546/1000 - Train Loss: 0.0525 - Val Loss: 0.0289\n"
     ]
    },
    {
     "name": "stderr",
     "output_type": "stream",
     "text": [
      "Epoch 547/1000 - Training: 100%|██████████| 7/7 [00:00<00:00, 316.07it/s]\n",
      "Epoch 547/1000 - Validation: 100%|██████████| 1/1 [00:00<00:00, 978.61it/s]\n"
     ]
    },
    {
     "name": "stdout",
     "output_type": "stream",
     "text": [
      "Epoch 547/1000 - Train Loss: 0.0382 - Val Loss: 0.0369\n"
     ]
    },
    {
     "name": "stderr",
     "output_type": "stream",
     "text": [
      "Epoch 548/1000 - Training: 100%|██████████| 7/7 [00:00<00:00, 320.20it/s]\n",
      "Epoch 548/1000 - Validation: 100%|██████████| 1/1 [00:00<00:00, 736.36it/s]\n"
     ]
    },
    {
     "name": "stdout",
     "output_type": "stream",
     "text": [
      "Epoch 548/1000 - Train Loss: 0.0360 - Val Loss: 0.0304\n"
     ]
    },
    {
     "name": "stderr",
     "output_type": "stream",
     "text": [
      "Epoch 549/1000 - Training: 100%|██████████| 7/7 [00:00<00:00, 312.76it/s]\n",
      "Epoch 549/1000 - Validation: 100%|██████████| 1/1 [00:00<00:00, 723.03it/s]\n"
     ]
    },
    {
     "name": "stdout",
     "output_type": "stream",
     "text": [
      "Epoch 549/1000 - Train Loss: 0.0439 - Val Loss: 0.0322\n"
     ]
    },
    {
     "name": "stderr",
     "output_type": "stream",
     "text": [
      "Epoch 550/1000 - Training: 100%|██████████| 7/7 [00:00<00:00, 316.16it/s]\n",
      "Epoch 550/1000 - Validation: 100%|██████████| 1/1 [00:00<00:00, 840.04it/s]\n"
     ]
    },
    {
     "name": "stdout",
     "output_type": "stream",
     "text": [
      "Epoch 550/1000 - Train Loss: 0.0418 - Val Loss: 0.0212\n"
     ]
    },
    {
     "name": "stderr",
     "output_type": "stream",
     "text": [
      "Epoch 551/1000 - Training: 100%|██████████| 7/7 [00:00<00:00, 316.21it/s]\n",
      "Epoch 551/1000 - Validation: 100%|██████████| 1/1 [00:00<00:00, 845.11it/s]\n"
     ]
    },
    {
     "name": "stdout",
     "output_type": "stream",
     "text": [
      "Epoch 551/1000 - Train Loss: 0.0408 - Val Loss: 0.0320\n"
     ]
    },
    {
     "name": "stderr",
     "output_type": "stream",
     "text": [
      "Epoch 552/1000 - Training: 100%|██████████| 7/7 [00:00<00:00, 318.66it/s]\n",
      "Epoch 552/1000 - Validation: 100%|██████████| 1/1 [00:00<00:00, 752.75it/s]\n"
     ]
    },
    {
     "name": "stdout",
     "output_type": "stream",
     "text": [
      "Epoch 552/1000 - Train Loss: 0.0424 - Val Loss: 0.0296\n"
     ]
    },
    {
     "name": "stderr",
     "output_type": "stream",
     "text": [
      "Epoch 553/1000 - Training: 100%|██████████| 7/7 [00:00<00:00, 317.60it/s]\n",
      "Epoch 553/1000 - Validation: 100%|██████████| 1/1 [00:00<00:00, 792.28it/s]\n"
     ]
    },
    {
     "name": "stdout",
     "output_type": "stream",
     "text": [
      "Epoch 553/1000 - Train Loss: 0.0408 - Val Loss: 0.0249\n"
     ]
    },
    {
     "name": "stderr",
     "output_type": "stream",
     "text": [
      "Epoch 554/1000 - Training: 100%|██████████| 7/7 [00:00<00:00, 320.93it/s]\n",
      "Epoch 554/1000 - Validation: 100%|██████████| 1/1 [00:00<00:00, 729.32it/s]\n"
     ]
    },
    {
     "name": "stdout",
     "output_type": "stream",
     "text": [
      "Epoch 554/1000 - Train Loss: 0.0440 - Val Loss: 0.0288\n"
     ]
    },
    {
     "name": "stderr",
     "output_type": "stream",
     "text": [
      "Epoch 555/1000 - Training: 100%|██████████| 7/7 [00:00<00:00, 316.79it/s]\n",
      "Epoch 555/1000 - Validation: 100%|██████████| 1/1 [00:00<00:00, 839.36it/s]\n"
     ]
    },
    {
     "name": "stdout",
     "output_type": "stream",
     "text": [
      "Epoch 555/1000 - Train Loss: 0.0392 - Val Loss: 0.0293\n"
     ]
    },
    {
     "name": "stderr",
     "output_type": "stream",
     "text": [
      "Epoch 556/1000 - Training: 100%|██████████| 7/7 [00:00<00:00, 320.36it/s]\n",
      "Epoch 556/1000 - Validation: 100%|██████████| 1/1 [00:00<00:00, 731.99it/s]\n"
     ]
    },
    {
     "name": "stdout",
     "output_type": "stream",
     "text": [
      "Epoch 556/1000 - Train Loss: 0.0361 - Val Loss: 0.0301\n"
     ]
    },
    {
     "name": "stderr",
     "output_type": "stream",
     "text": [
      "Epoch 557/1000 - Training: 100%|██████████| 7/7 [00:00<00:00, 317.73it/s]\n",
      "Epoch 557/1000 - Validation: 100%|██████████| 1/1 [00:00<00:00, 993.20it/s]\n"
     ]
    },
    {
     "name": "stdout",
     "output_type": "stream",
     "text": [
      "Epoch 557/1000 - Train Loss: 0.0300 - Val Loss: 0.0246\n"
     ]
    },
    {
     "name": "stderr",
     "output_type": "stream",
     "text": [
      "Epoch 558/1000 - Training: 100%|██████████| 7/7 [00:00<00:00, 315.87it/s]\n",
      "Epoch 558/1000 - Validation: 100%|██████████| 1/1 [00:00<00:00, 814.43it/s]\n"
     ]
    },
    {
     "name": "stdout",
     "output_type": "stream",
     "text": [
      "Epoch 558/1000 - Train Loss: 0.0370 - Val Loss: 0.0352\n"
     ]
    },
    {
     "name": "stderr",
     "output_type": "stream",
     "text": [
      "Epoch 559/1000 - Training: 100%|██████████| 7/7 [00:00<00:00, 318.85it/s]\n",
      "Epoch 559/1000 - Validation: 100%|██████████| 1/1 [00:00<00:00, 758.46it/s]\n"
     ]
    },
    {
     "name": "stdout",
     "output_type": "stream",
     "text": [
      "Epoch 559/1000 - Train Loss: 0.0468 - Val Loss: 0.0212\n"
     ]
    },
    {
     "name": "stderr",
     "output_type": "stream",
     "text": [
      "Epoch 560/1000 - Training: 100%|██████████| 7/7 [00:00<00:00, 316.76it/s]\n",
      "Epoch 560/1000 - Validation: 100%|██████████| 1/1 [00:00<00:00, 840.21it/s]\n"
     ]
    },
    {
     "name": "stdout",
     "output_type": "stream",
     "text": [
      "Epoch 560/1000 - Train Loss: 0.0361 - Val Loss: 0.0334\n"
     ]
    },
    {
     "name": "stderr",
     "output_type": "stream",
     "text": [
      "Epoch 561/1000 - Training: 100%|██████████| 7/7 [00:00<00:00, 318.65it/s]\n",
      "Epoch 561/1000 - Validation: 100%|██████████| 1/1 [00:00<00:00, 709.22it/s]\n"
     ]
    },
    {
     "name": "stdout",
     "output_type": "stream",
     "text": [
      "Epoch 561/1000 - Train Loss: 0.0413 - Val Loss: 0.0211\n"
     ]
    },
    {
     "name": "stderr",
     "output_type": "stream",
     "text": [
      "Epoch 562/1000 - Training: 100%|██████████| 7/7 [00:00<00:00, 318.20it/s]\n",
      "Epoch 562/1000 - Validation: 100%|██████████| 1/1 [00:00<00:00, 962.44it/s]\n"
     ]
    },
    {
     "name": "stdout",
     "output_type": "stream",
     "text": [
      "Epoch 562/1000 - Train Loss: 0.0372 - Val Loss: 0.0347\n"
     ]
    },
    {
     "name": "stderr",
     "output_type": "stream",
     "text": [
      "Epoch 563/1000 - Training: 100%|██████████| 7/7 [00:00<00:00, 307.42it/s]\n",
      "Epoch 563/1000 - Validation: 100%|██████████| 1/1 [00:00<00:00, 838.02it/s]\n"
     ]
    },
    {
     "name": "stdout",
     "output_type": "stream",
     "text": [
      "Epoch 563/1000 - Train Loss: 0.0367 - Val Loss: 0.0337\n"
     ]
    },
    {
     "name": "stderr",
     "output_type": "stream",
     "text": [
      "Epoch 564/1000 - Training: 100%|██████████| 7/7 [00:00<00:00, 316.37it/s]\n",
      "Epoch 564/1000 - Validation: 100%|██████████| 1/1 [00:00<00:00, 911.81it/s]\n"
     ]
    },
    {
     "name": "stdout",
     "output_type": "stream",
     "text": [
      "Epoch 564/1000 - Train Loss: 0.0378 - Val Loss: 0.0351\n"
     ]
    },
    {
     "name": "stderr",
     "output_type": "stream",
     "text": [
      "Epoch 565/1000 - Training: 100%|██████████| 7/7 [00:00<00:00, 310.73it/s]\n",
      "Epoch 565/1000 - Validation: 100%|██████████| 1/1 [00:00<00:00, 836.19it/s]\n"
     ]
    },
    {
     "name": "stdout",
     "output_type": "stream",
     "text": [
      "Epoch 565/1000 - Train Loss: 0.0317 - Val Loss: 0.0386\n"
     ]
    },
    {
     "name": "stderr",
     "output_type": "stream",
     "text": [
      "Epoch 566/1000 - Training: 100%|██████████| 7/7 [00:00<00:00, 263.97it/s]\n",
      "Epoch 566/1000 - Validation: 100%|██████████| 1/1 [00:00<00:00, 951.31it/s]\n"
     ]
    },
    {
     "name": "stdout",
     "output_type": "stream",
     "text": [
      "Epoch 566/1000 - Train Loss: 0.0439 - Val Loss: 0.0230\n"
     ]
    },
    {
     "name": "stderr",
     "output_type": "stream",
     "text": [
      "Epoch 567/1000 - Training: 100%|██████████| 7/7 [00:00<00:00, 320.64it/s]\n",
      "Epoch 567/1000 - Validation: 100%|██████████| 1/1 [00:00<00:00, 751.80it/s]\n"
     ]
    },
    {
     "name": "stdout",
     "output_type": "stream",
     "text": [
      "Epoch 567/1000 - Train Loss: 0.0343 - Val Loss: 0.0271\n"
     ]
    },
    {
     "name": "stderr",
     "output_type": "stream",
     "text": [
      "Epoch 568/1000 - Training: 100%|██████████| 7/7 [00:00<00:00, 235.49it/s]\n",
      "Epoch 568/1000 - Validation: 100%|██████████| 1/1 [00:00<00:00, 932.48it/s]\n"
     ]
    },
    {
     "name": "stdout",
     "output_type": "stream",
     "text": [
      "Epoch 568/1000 - Train Loss: 0.0335 - Val Loss: 0.0202\n"
     ]
    },
    {
     "name": "stderr",
     "output_type": "stream",
     "text": [
      "Epoch 569/1000 - Training: 100%|██████████| 7/7 [00:00<00:00, 319.13it/s]\n",
      "Epoch 569/1000 - Validation: 100%|██████████| 1/1 [00:00<00:00, 1046.22it/s]\n"
     ]
    },
    {
     "name": "stdout",
     "output_type": "stream",
     "text": [
      "Epoch 569/1000 - Train Loss: 0.0431 - Val Loss: 0.0455\n"
     ]
    },
    {
     "name": "stderr",
     "output_type": "stream",
     "text": [
      "Epoch 570/1000 - Training: 100%|██████████| 7/7 [00:00<00:00, 307.25it/s]\n",
      "Epoch 570/1000 - Validation: 100%|██████████| 1/1 [00:00<00:00, 1097.99it/s]\n"
     ]
    },
    {
     "name": "stdout",
     "output_type": "stream",
     "text": [
      "Epoch 570/1000 - Train Loss: 0.0440 - Val Loss: 0.0246\n"
     ]
    },
    {
     "name": "stderr",
     "output_type": "stream",
     "text": [
      "Epoch 571/1000 - Training: 100%|██████████| 7/7 [00:00<00:00, 346.18it/s]\n",
      "Epoch 571/1000 - Validation: 100%|██████████| 1/1 [00:00<00:00, 839.36it/s]\n"
     ]
    },
    {
     "name": "stdout",
     "output_type": "stream",
     "text": [
      "Epoch 571/1000 - Train Loss: 0.0376 - Val Loss: 0.0490\n"
     ]
    },
    {
     "name": "stderr",
     "output_type": "stream",
     "text": [
      "Epoch 572/1000 - Training: 100%|██████████| 7/7 [00:00<00:00, 301.69it/s]\n",
      "Epoch 572/1000 - Validation: 100%|██████████| 1/1 [00:00<00:00, 879.86it/s]\n"
     ]
    },
    {
     "name": "stdout",
     "output_type": "stream",
     "text": [
      "Epoch 572/1000 - Train Loss: 0.0394 - Val Loss: 0.0229\n"
     ]
    },
    {
     "name": "stderr",
     "output_type": "stream",
     "text": [
      "Epoch 573/1000 - Training: 100%|██████████| 7/7 [00:00<00:00, 348.47it/s]\n",
      "Epoch 573/1000 - Validation: 100%|██████████| 1/1 [00:00<00:00, 945.51it/s]\n"
     ]
    },
    {
     "name": "stdout",
     "output_type": "stream",
     "text": [
      "Epoch 573/1000 - Train Loss: 0.0464 - Val Loss: 0.0420\n"
     ]
    },
    {
     "name": "stderr",
     "output_type": "stream",
     "text": [
      "Epoch 574/1000 - Training: 100%|██████████| 7/7 [00:00<00:00, 359.56it/s]\n",
      "Epoch 574/1000 - Validation: 100%|██████████| 1/1 [00:00<00:00, 1004.62it/s]\n"
     ]
    },
    {
     "name": "stdout",
     "output_type": "stream",
     "text": [
      "Epoch 574/1000 - Train Loss: 0.0388 - Val Loss: 0.0198\n"
     ]
    },
    {
     "name": "stderr",
     "output_type": "stream",
     "text": [
      "Epoch 575/1000 - Training: 100%|██████████| 7/7 [00:00<00:00, 352.34it/s]\n",
      "Epoch 575/1000 - Validation: 100%|██████████| 1/1 [00:00<00:00, 829.73it/s]\n"
     ]
    },
    {
     "name": "stdout",
     "output_type": "stream",
     "text": [
      "Epoch 575/1000 - Train Loss: 0.0423 - Val Loss: 0.0454\n"
     ]
    },
    {
     "name": "stderr",
     "output_type": "stream",
     "text": [
      "Epoch 576/1000 - Training: 100%|██████████| 7/7 [00:00<00:00, 344.05it/s]\n",
      "Epoch 576/1000 - Validation: 100%|██████████| 1/1 [00:00<00:00, 842.74it/s]\n"
     ]
    },
    {
     "name": "stdout",
     "output_type": "stream",
     "text": [
      "Epoch 576/1000 - Train Loss: 0.0457 - Val Loss: 0.0175\n"
     ]
    },
    {
     "name": "stderr",
     "output_type": "stream",
     "text": [
      "Epoch 577/1000 - Training: 100%|██████████| 7/7 [00:00<00:00, 352.04it/s]\n",
      "Epoch 577/1000 - Validation: 100%|██████████| 1/1 [00:00<00:00, 825.16it/s]\n"
     ]
    },
    {
     "name": "stdout",
     "output_type": "stream",
     "text": [
      "Epoch 577/1000 - Train Loss: 0.0439 - Val Loss: 0.0178\n"
     ]
    },
    {
     "name": "stderr",
     "output_type": "stream",
     "text": [
      "Epoch 578/1000 - Training: 100%|██████████| 7/7 [00:00<00:00, 262.90it/s]\n",
      "Epoch 578/1000 - Validation: 100%|██████████| 1/1 [00:00<00:00, 623.97it/s]\n"
     ]
    },
    {
     "name": "stdout",
     "output_type": "stream",
     "text": [
      "Epoch 578/1000 - Train Loss: 0.0386 - Val Loss: 0.0235\n"
     ]
    },
    {
     "name": "stderr",
     "output_type": "stream",
     "text": [
      "Epoch 579/1000 - Training: 100%|██████████| 7/7 [00:00<00:00, 265.93it/s]\n",
      "Epoch 579/1000 - Validation: 100%|██████████| 1/1 [00:00<00:00, 600.99it/s]\n"
     ]
    },
    {
     "name": "stdout",
     "output_type": "stream",
     "text": [
      "Epoch 579/1000 - Train Loss: 0.0315 - Val Loss: 0.0285\n"
     ]
    },
    {
     "name": "stderr",
     "output_type": "stream",
     "text": [
      "Epoch 580/1000 - Training: 100%|██████████| 7/7 [00:00<00:00, 353.18it/s]\n",
      "Epoch 580/1000 - Validation: 100%|██████████| 1/1 [00:00<00:00, 1020.51it/s]\n"
     ]
    },
    {
     "name": "stdout",
     "output_type": "stream",
     "text": [
      "Epoch 580/1000 - Train Loss: 0.0454 - Val Loss: 0.0465\n"
     ]
    },
    {
     "name": "stderr",
     "output_type": "stream",
     "text": [
      "Epoch 581/1000 - Training: 100%|██████████| 7/7 [00:00<00:00, 355.80it/s]\n",
      "Epoch 581/1000 - Validation: 100%|██████████| 1/1 [00:00<00:00, 1019.77it/s]\n"
     ]
    },
    {
     "name": "stdout",
     "output_type": "stream",
     "text": [
      "Epoch 581/1000 - Train Loss: 0.0382 - Val Loss: 0.0251\n"
     ]
    },
    {
     "name": "stderr",
     "output_type": "stream",
     "text": [
      "Epoch 582/1000 - Training: 100%|██████████| 7/7 [00:00<00:00, 354.11it/s]\n",
      "Epoch 582/1000 - Validation: 100%|██████████| 1/1 [00:00<00:00, 1033.33it/s]\n"
     ]
    },
    {
     "name": "stdout",
     "output_type": "stream",
     "text": [
      "Epoch 582/1000 - Train Loss: 0.0471 - Val Loss: 0.0380\n"
     ]
    },
    {
     "name": "stderr",
     "output_type": "stream",
     "text": [
      "Epoch 583/1000 - Training: 100%|██████████| 7/7 [00:00<00:00, 354.66it/s]\n",
      "Epoch 583/1000 - Validation: 100%|██████████| 1/1 [00:00<00:00, 955.86it/s]\n"
     ]
    },
    {
     "name": "stdout",
     "output_type": "stream",
     "text": [
      "Epoch 583/1000 - Train Loss: 0.0396 - Val Loss: 0.0359\n"
     ]
    },
    {
     "name": "stderr",
     "output_type": "stream",
     "text": [
      "Epoch 584/1000 - Training: 100%|██████████| 7/7 [00:00<00:00, 353.41it/s]\n",
      "Epoch 584/1000 - Validation: 100%|██████████| 1/1 [00:00<00:00, 1012.87it/s]\n"
     ]
    },
    {
     "name": "stdout",
     "output_type": "stream",
     "text": [
      "Epoch 584/1000 - Train Loss: 0.0469 - Val Loss: 0.0252\n"
     ]
    },
    {
     "name": "stderr",
     "output_type": "stream",
     "text": [
      "Epoch 585/1000 - Training: 100%|██████████| 7/7 [00:00<00:00, 269.28it/s]\n",
      "Epoch 585/1000 - Validation: 100%|██████████| 1/1 [00:00<00:00, 826.46it/s]\n"
     ]
    },
    {
     "name": "stdout",
     "output_type": "stream",
     "text": [
      "Epoch 585/1000 - Train Loss: 0.0371 - Val Loss: 0.0319\n"
     ]
    },
    {
     "name": "stderr",
     "output_type": "stream",
     "text": [
      "Epoch 586/1000 - Training: 100%|██████████| 7/7 [00:00<00:00, 360.33it/s]\n",
      "Epoch 586/1000 - Validation: 100%|██████████| 1/1 [00:00<00:00, 977.92it/s]\n"
     ]
    },
    {
     "name": "stdout",
     "output_type": "stream",
     "text": [
      "Epoch 586/1000 - Train Loss: 0.0412 - Val Loss: 0.0211\n"
     ]
    },
    {
     "name": "stderr",
     "output_type": "stream",
     "text": [
      "Epoch 587/1000 - Training: 100%|██████████| 7/7 [00:00<00:00, 367.43it/s]\n",
      "Epoch 587/1000 - Validation: 100%|██████████| 1/1 [00:00<00:00, 846.48it/s]\n"
     ]
    },
    {
     "name": "stdout",
     "output_type": "stream",
     "text": [
      "Epoch 587/1000 - Train Loss: 0.0436 - Val Loss: 0.0265\n"
     ]
    },
    {
     "name": "stderr",
     "output_type": "stream",
     "text": [
      "Epoch 588/1000 - Training: 100%|██████████| 7/7 [00:00<00:00, 367.86it/s]\n",
      "Epoch 588/1000 - Validation: 100%|██████████| 1/1 [00:00<00:00, 805.67it/s]\n"
     ]
    },
    {
     "name": "stdout",
     "output_type": "stream",
     "text": [
      "Epoch 588/1000 - Train Loss: 0.0454 - Val Loss: 0.0203\n"
     ]
    },
    {
     "name": "stderr",
     "output_type": "stream",
     "text": [
      "Epoch 589/1000 - Training: 100%|██████████| 7/7 [00:00<00:00, 367.37it/s]\n",
      "Epoch 589/1000 - Validation: 100%|██████████| 1/1 [00:00<00:00, 925.69it/s]\n"
     ]
    },
    {
     "name": "stdout",
     "output_type": "stream",
     "text": [
      "Epoch 589/1000 - Train Loss: 0.0391 - Val Loss: 0.0327\n"
     ]
    },
    {
     "name": "stderr",
     "output_type": "stream",
     "text": [
      "Epoch 590/1000 - Training: 100%|██████████| 7/7 [00:00<00:00, 258.48it/s]\n",
      "Epoch 590/1000 - Validation: 100%|██████████| 1/1 [00:00<00:00, 1021.26it/s]\n"
     ]
    },
    {
     "name": "stdout",
     "output_type": "stream",
     "text": [
      "Epoch 590/1000 - Train Loss: 0.0421 - Val Loss: 0.0243\n"
     ]
    },
    {
     "name": "stderr",
     "output_type": "stream",
     "text": [
      "Epoch 591/1000 - Training: 100%|██████████| 7/7 [00:00<00:00, 365.06it/s]\n",
      "Epoch 591/1000 - Validation: 100%|██████████| 1/1 [00:00<00:00, 765.66it/s]\n"
     ]
    },
    {
     "name": "stdout",
     "output_type": "stream",
     "text": [
      "Epoch 591/1000 - Train Loss: 0.0415 - Val Loss: 0.0213\n"
     ]
    },
    {
     "name": "stderr",
     "output_type": "stream",
     "text": [
      "Epoch 592/1000 - Training: 100%|██████████| 7/7 [00:00<00:00, 363.10it/s]\n",
      "Epoch 592/1000 - Validation: 100%|██████████| 1/1 [00:00<00:00, 954.12it/s]\n"
     ]
    },
    {
     "name": "stdout",
     "output_type": "stream",
     "text": [
      "Epoch 592/1000 - Train Loss: 0.0433 - Val Loss: 0.0384\n"
     ]
    },
    {
     "name": "stderr",
     "output_type": "stream",
     "text": [
      "Epoch 593/1000 - Training: 100%|██████████| 7/7 [00:00<00:00, 368.99it/s]\n",
      "Epoch 593/1000 - Validation: 100%|██████████| 1/1 [00:00<00:00, 994.38it/s]\n"
     ]
    },
    {
     "name": "stdout",
     "output_type": "stream",
     "text": [
      "Epoch 593/1000 - Train Loss: 0.0464 - Val Loss: 0.0180\n"
     ]
    },
    {
     "name": "stderr",
     "output_type": "stream",
     "text": [
      "Epoch 594/1000 - Training: 100%|██████████| 7/7 [00:00<00:00, 370.67it/s]\n",
      "Epoch 594/1000 - Validation: 100%|██████████| 1/1 [00:00<00:00, 796.79it/s]\n"
     ]
    },
    {
     "name": "stdout",
     "output_type": "stream",
     "text": [
      "Epoch 594/1000 - Train Loss: 0.0441 - Val Loss: 0.0257\n"
     ]
    },
    {
     "name": "stderr",
     "output_type": "stream",
     "text": [
      "Epoch 595/1000 - Training: 100%|██████████| 7/7 [00:00<00:00, 365.96it/s]\n",
      "Epoch 595/1000 - Validation: 100%|██████████| 1/1 [00:00<00:00, 1123.88it/s]\n"
     ]
    },
    {
     "name": "stdout",
     "output_type": "stream",
     "text": [
      "Epoch 595/1000 - Train Loss: 0.0327 - Val Loss: 0.0174\n"
     ]
    },
    {
     "name": "stderr",
     "output_type": "stream",
     "text": [
      "Epoch 596/1000 - Training: 100%|██████████| 7/7 [00:00<00:00, 369.62it/s]\n",
      "Epoch 596/1000 - Validation: 100%|██████████| 1/1 [00:00<00:00, 968.89it/s]\n"
     ]
    },
    {
     "name": "stdout",
     "output_type": "stream",
     "text": [
      "Epoch 596/1000 - Train Loss: 0.0511 - Val Loss: 0.0227\n"
     ]
    },
    {
     "name": "stderr",
     "output_type": "stream",
     "text": [
      "Epoch 597/1000 - Training: 100%|██████████| 7/7 [00:00<00:00, 378.44it/s]\n",
      "Epoch 597/1000 - Validation: 100%|██████████| 1/1 [00:00<00:00, 963.54it/s]\n"
     ]
    },
    {
     "name": "stdout",
     "output_type": "stream",
     "text": [
      "Epoch 597/1000 - Train Loss: 0.0355 - Val Loss: 0.0201\n"
     ]
    },
    {
     "name": "stderr",
     "output_type": "stream",
     "text": [
      "Epoch 598/1000 - Training: 100%|██████████| 7/7 [00:00<00:00, 369.05it/s]\n",
      "Epoch 598/1000 - Validation: 100%|██████████| 1/1 [00:00<00:00, 1138.52it/s]\n"
     ]
    },
    {
     "name": "stdout",
     "output_type": "stream",
     "text": [
      "Epoch 598/1000 - Train Loss: 0.0420 - Val Loss: 0.0195\n"
     ]
    },
    {
     "name": "stderr",
     "output_type": "stream",
     "text": [
      "Epoch 599/1000 - Training: 100%|██████████| 7/7 [00:00<00:00, 366.99it/s]\n",
      "Epoch 599/1000 - Validation: 100%|██████████| 1/1 [00:00<00:00, 1000.07it/s]\n"
     ]
    },
    {
     "name": "stdout",
     "output_type": "stream",
     "text": [
      "Epoch 599/1000 - Train Loss: 0.0455 - Val Loss: 0.0257\n"
     ]
    },
    {
     "name": "stderr",
     "output_type": "stream",
     "text": [
      "Epoch 600/1000 - Training: 100%|██████████| 7/7 [00:00<00:00, 366.48it/s]\n",
      "Epoch 600/1000 - Validation: 100%|██████████| 1/1 [00:00<00:00, 919.20it/s]\n"
     ]
    },
    {
     "name": "stdout",
     "output_type": "stream",
     "text": [
      "Epoch 600/1000 - Train Loss: 0.0383 - Val Loss: 0.0368\n"
     ]
    },
    {
     "name": "stderr",
     "output_type": "stream",
     "text": [
      "Epoch 601/1000 - Training: 100%|██████████| 7/7 [00:00<00:00, 364.68it/s]\n",
      "Epoch 601/1000 - Validation: 100%|██████████| 1/1 [00:00<00:00, 873.63it/s]\n"
     ]
    },
    {
     "name": "stdout",
     "output_type": "stream",
     "text": [
      "Epoch 601/1000 - Train Loss: 0.0339 - Val Loss: 0.0223\n"
     ]
    },
    {
     "name": "stderr",
     "output_type": "stream",
     "text": [
      "Epoch 602/1000 - Training: 100%|██████████| 7/7 [00:00<00:00, 268.20it/s]\n",
      "Epoch 602/1000 - Validation: 100%|██████████| 1/1 [00:00<00:00, 1069.70it/s]\n"
     ]
    },
    {
     "name": "stdout",
     "output_type": "stream",
     "text": [
      "Epoch 602/1000 - Train Loss: 0.0379 - Val Loss: 0.0267\n"
     ]
    },
    {
     "name": "stderr",
     "output_type": "stream",
     "text": [
      "Epoch 603/1000 - Training: 100%|██████████| 7/7 [00:00<00:00, 354.35it/s]\n",
      "Epoch 603/1000 - Validation: 100%|██████████| 1/1 [00:00<00:00, 822.90it/s]\n"
     ]
    },
    {
     "name": "stdout",
     "output_type": "stream",
     "text": [
      "Epoch 603/1000 - Train Loss: 0.0466 - Val Loss: 0.0192\n"
     ]
    },
    {
     "name": "stderr",
     "output_type": "stream",
     "text": [
      "Epoch 604/1000 - Training: 100%|██████████| 7/7 [00:00<00:00, 360.61it/s]\n",
      "Epoch 604/1000 - Validation: 100%|██████████| 1/1 [00:00<00:00, 952.39it/s]\n"
     ]
    },
    {
     "name": "stdout",
     "output_type": "stream",
     "text": [
      "Epoch 604/1000 - Train Loss: 0.0441 - Val Loss: 0.0176\n"
     ]
    },
    {
     "name": "stderr",
     "output_type": "stream",
     "text": [
      "Epoch 605/1000 - Training: 100%|██████████| 7/7 [00:00<00:00, 363.31it/s]\n",
      "Epoch 605/1000 - Validation: 100%|██████████| 1/1 [00:00<00:00, 992.50it/s]\n"
     ]
    },
    {
     "name": "stdout",
     "output_type": "stream",
     "text": [
      "Epoch 605/1000 - Train Loss: 0.0478 - Val Loss: 0.0338\n"
     ]
    },
    {
     "name": "stderr",
     "output_type": "stream",
     "text": [
      "Epoch 606/1000 - Training: 100%|██████████| 7/7 [00:00<00:00, 364.63it/s]\n",
      "Epoch 606/1000 - Validation: 100%|██████████| 1/1 [00:00<00:00, 824.68it/s]\n"
     ]
    },
    {
     "name": "stdout",
     "output_type": "stream",
     "text": [
      "Epoch 606/1000 - Train Loss: 0.0459 - Val Loss: 0.0189\n"
     ]
    },
    {
     "name": "stderr",
     "output_type": "stream",
     "text": [
      "Epoch 607/1000 - Training: 100%|██████████| 7/7 [00:00<00:00, 360.43it/s]\n",
      "Epoch 607/1000 - Validation: 100%|██████████| 1/1 [00:00<00:00, 532.75it/s]\n"
     ]
    },
    {
     "name": "stdout",
     "output_type": "stream",
     "text": [
      "Epoch 607/1000 - Train Loss: 0.0430 - Val Loss: 0.0458\n"
     ]
    },
    {
     "name": "stderr",
     "output_type": "stream",
     "text": [
      "Epoch 608/1000 - Training: 100%|██████████| 7/7 [00:00<00:00, 263.43it/s]\n",
      "Epoch 608/1000 - Validation: 100%|██████████| 1/1 [00:00<00:00, 805.51it/s]\n"
     ]
    },
    {
     "name": "stdout",
     "output_type": "stream",
     "text": [
      "Epoch 608/1000 - Train Loss: 0.0426 - Val Loss: 0.0185\n"
     ]
    },
    {
     "name": "stderr",
     "output_type": "stream",
     "text": [
      "Epoch 609/1000 - Training: 100%|██████████| 7/7 [00:00<00:00, 315.11it/s]\n",
      "Epoch 609/1000 - Validation: 100%|██████████| 1/1 [00:00<00:00, 832.04it/s]\n"
     ]
    },
    {
     "name": "stdout",
     "output_type": "stream",
     "text": [
      "Epoch 609/1000 - Train Loss: 0.0375 - Val Loss: 0.0283\n"
     ]
    },
    {
     "name": "stderr",
     "output_type": "stream",
     "text": [
      "Epoch 610/1000 - Training: 100%|██████████| 7/7 [00:00<00:00, 319.08it/s]\n",
      "Epoch 610/1000 - Validation: 100%|██████████| 1/1 [00:00<00:00, 818.56it/s]\n"
     ]
    },
    {
     "name": "stdout",
     "output_type": "stream",
     "text": [
      "Epoch 610/1000 - Train Loss: 0.0323 - Val Loss: 0.0149\n"
     ]
    },
    {
     "name": "stderr",
     "output_type": "stream",
     "text": [
      "Epoch 611/1000 - Training: 100%|██████████| 7/7 [00:00<00:00, 318.85it/s]\n",
      "Epoch 611/1000 - Validation: 100%|██████████| 1/1 [00:00<00:00, 770.59it/s]\n"
     ]
    },
    {
     "name": "stdout",
     "output_type": "stream",
     "text": [
      "Epoch 611/1000 - Train Loss: 0.0440 - Val Loss: 0.0203\n"
     ]
    },
    {
     "name": "stderr",
     "output_type": "stream",
     "text": [
      "Epoch 612/1000 - Training: 100%|██████████| 7/7 [00:00<00:00, 206.57it/s]\n",
      "Epoch 612/1000 - Validation: 100%|██████████| 1/1 [00:00<00:00, 730.97it/s]\n"
     ]
    },
    {
     "name": "stdout",
     "output_type": "stream",
     "text": [
      "Epoch 612/1000 - Train Loss: 0.0430 - Val Loss: 0.0227\n"
     ]
    },
    {
     "name": "stderr",
     "output_type": "stream",
     "text": [
      "Epoch 613/1000 - Training: 100%|██████████| 7/7 [00:00<00:00, 309.54it/s]\n",
      "Epoch 613/1000 - Validation: 100%|██████████| 1/1 [00:00<00:00, 712.47it/s]\n"
     ]
    },
    {
     "name": "stdout",
     "output_type": "stream",
     "text": [
      "Epoch 613/1000 - Train Loss: 0.0345 - Val Loss: 0.0279\n"
     ]
    },
    {
     "name": "stderr",
     "output_type": "stream",
     "text": [
      "Epoch 614/1000 - Training: 100%|██████████| 7/7 [00:00<00:00, 284.66it/s]\n",
      "Epoch 614/1000 - Validation: 100%|██████████| 1/1 [00:00<00:00, 949.58it/s]\n"
     ]
    },
    {
     "name": "stdout",
     "output_type": "stream",
     "text": [
      "Epoch 614/1000 - Train Loss: 0.0409 - Val Loss: 0.0188\n"
     ]
    },
    {
     "name": "stderr",
     "output_type": "stream",
     "text": [
      "Epoch 615/1000 - Training: 100%|██████████| 7/7 [00:00<00:00, 314.42it/s]\n",
      "Epoch 615/1000 - Validation: 100%|██████████| 1/1 [00:00<00:00, 921.83it/s]\n"
     ]
    },
    {
     "name": "stdout",
     "output_type": "stream",
     "text": [
      "Epoch 615/1000 - Train Loss: 0.0344 - Val Loss: 0.0210\n"
     ]
    },
    {
     "name": "stderr",
     "output_type": "stream",
     "text": [
      "Epoch 616/1000 - Training: 100%|██████████| 7/7 [00:00<00:00, 246.61it/s]\n",
      "Epoch 616/1000 - Validation: 100%|██████████| 1/1 [00:00<00:00, 842.91it/s]\n"
     ]
    },
    {
     "name": "stdout",
     "output_type": "stream",
     "text": [
      "Epoch 616/1000 - Train Loss: 0.0365 - Val Loss: 0.0319\n"
     ]
    },
    {
     "name": "stderr",
     "output_type": "stream",
     "text": [
      "Epoch 617/1000 - Training: 100%|██████████| 7/7 [00:00<00:00, 303.85it/s]\n",
      "Epoch 617/1000 - Validation: 100%|██████████| 1/1 [00:00<00:00, 841.38it/s]\n"
     ]
    },
    {
     "name": "stdout",
     "output_type": "stream",
     "text": [
      "Epoch 617/1000 - Train Loss: 0.0377 - Val Loss: 0.0183\n"
     ]
    },
    {
     "name": "stderr",
     "output_type": "stream",
     "text": [
      "Epoch 618/1000 - Training: 100%|██████████| 7/7 [00:00<00:00, 303.45it/s]\n",
      "Epoch 618/1000 - Validation: 100%|██████████| 1/1 [00:00<00:00, 863.03it/s]\n"
     ]
    },
    {
     "name": "stdout",
     "output_type": "stream",
     "text": [
      "Epoch 618/1000 - Train Loss: 0.0409 - Val Loss: 0.0439\n"
     ]
    },
    {
     "name": "stderr",
     "output_type": "stream",
     "text": [
      "Epoch 619/1000 - Training: 100%|██████████| 7/7 [00:00<00:00, 303.66it/s]\n",
      "Epoch 619/1000 - Validation: 100%|██████████| 1/1 [00:00<00:00, 857.20it/s]\n"
     ]
    },
    {
     "name": "stdout",
     "output_type": "stream",
     "text": [
      "Epoch 619/1000 - Train Loss: 0.0420 - Val Loss: 0.0197\n"
     ]
    },
    {
     "name": "stderr",
     "output_type": "stream",
     "text": [
      "Epoch 620/1000 - Training: 100%|██████████| 7/7 [00:00<00:00, 301.26it/s]\n",
      "Epoch 620/1000 - Validation: 100%|██████████| 1/1 [00:00<00:00, 823.70it/s]\n"
     ]
    },
    {
     "name": "stdout",
     "output_type": "stream",
     "text": [
      "Epoch 620/1000 - Train Loss: 0.0298 - Val Loss: 0.0338\n"
     ]
    },
    {
     "name": "stderr",
     "output_type": "stream",
     "text": [
      "Epoch 621/1000 - Training: 100%|██████████| 7/7 [00:00<00:00, 287.86it/s]\n",
      "Epoch 621/1000 - Validation: 100%|██████████| 1/1 [00:00<00:00, 849.39it/s]\n"
     ]
    },
    {
     "name": "stdout",
     "output_type": "stream",
     "text": [
      "Epoch 621/1000 - Train Loss: 0.0374 - Val Loss: 0.0289\n"
     ]
    },
    {
     "name": "stderr",
     "output_type": "stream",
     "text": [
      "Epoch 622/1000 - Training: 100%|██████████| 7/7 [00:00<00:00, 302.11it/s]\n",
      "Epoch 622/1000 - Validation: 100%|██████████| 1/1 [00:00<00:00, 753.96it/s]\n"
     ]
    },
    {
     "name": "stdout",
     "output_type": "stream",
     "text": [
      "Epoch 622/1000 - Train Loss: 0.0328 - Val Loss: 0.0363\n"
     ]
    },
    {
     "name": "stderr",
     "output_type": "stream",
     "text": [
      "Epoch 623/1000 - Training: 100%|██████████| 7/7 [00:00<00:00, 304.92it/s]\n",
      "Epoch 623/1000 - Validation: 100%|██████████| 1/1 [00:00<00:00, 841.72it/s]\n"
     ]
    },
    {
     "name": "stdout",
     "output_type": "stream",
     "text": [
      "Epoch 623/1000 - Train Loss: 0.0397 - Val Loss: 0.0263\n"
     ]
    },
    {
     "name": "stderr",
     "output_type": "stream",
     "text": [
      "Epoch 624/1000 - Training: 100%|██████████| 7/7 [00:00<00:00, 305.49it/s]\n",
      "Epoch 624/1000 - Validation: 100%|██████████| 1/1 [00:00<00:00, 853.54it/s]\n"
     ]
    },
    {
     "name": "stdout",
     "output_type": "stream",
     "text": [
      "Epoch 624/1000 - Train Loss: 0.0334 - Val Loss: 0.0501\n"
     ]
    },
    {
     "name": "stderr",
     "output_type": "stream",
     "text": [
      "Epoch 625/1000 - Training: 100%|██████████| 7/7 [00:00<00:00, 311.66it/s]\n",
      "Epoch 625/1000 - Validation: 100%|██████████| 1/1 [00:00<00:00, 840.04it/s]\n"
     ]
    },
    {
     "name": "stdout",
     "output_type": "stream",
     "text": [
      "Epoch 625/1000 - Train Loss: 0.0407 - Val Loss: 0.0314\n"
     ]
    },
    {
     "name": "stderr",
     "output_type": "stream",
     "text": [
      "Epoch 626/1000 - Training: 100%|██████████| 7/7 [00:00<00:00, 302.93it/s]\n",
      "Epoch 626/1000 - Validation: 100%|██████████| 1/1 [00:00<00:00, 735.07it/s]\n"
     ]
    },
    {
     "name": "stdout",
     "output_type": "stream",
     "text": [
      "Epoch 626/1000 - Train Loss: 0.0315 - Val Loss: 0.0391\n"
     ]
    },
    {
     "name": "stderr",
     "output_type": "stream",
     "text": [
      "Epoch 627/1000 - Training: 100%|██████████| 7/7 [00:00<00:00, 303.13it/s]\n",
      "Epoch 627/1000 - Validation: 100%|██████████| 1/1 [00:00<00:00, 721.91it/s]\n"
     ]
    },
    {
     "name": "stdout",
     "output_type": "stream",
     "text": [
      "Epoch 627/1000 - Train Loss: 0.0385 - Val Loss: 0.0357\n"
     ]
    },
    {
     "name": "stderr",
     "output_type": "stream",
     "text": [
      "Epoch 628/1000 - Training: 100%|██████████| 7/7 [00:00<00:00, 308.96it/s]\n",
      "Epoch 628/1000 - Validation: 100%|██████████| 1/1 [00:00<00:00, 851.64it/s]\n"
     ]
    },
    {
     "name": "stdout",
     "output_type": "stream",
     "text": [
      "Epoch 628/1000 - Train Loss: 0.0407 - Val Loss: 0.0293\n"
     ]
    },
    {
     "name": "stderr",
     "output_type": "stream",
     "text": [
      "Epoch 629/1000 - Training: 100%|██████████| 7/7 [00:00<00:00, 303.67it/s]\n",
      "Epoch 629/1000 - Validation: 100%|██████████| 1/1 [00:00<00:00, 831.71it/s]\n"
     ]
    },
    {
     "name": "stdout",
     "output_type": "stream",
     "text": [
      "Epoch 629/1000 - Train Loss: 0.0388 - Val Loss: 0.0239\n"
     ]
    },
    {
     "name": "stderr",
     "output_type": "stream",
     "text": [
      "Epoch 630/1000 - Training: 100%|██████████| 7/7 [00:00<00:00, 302.89it/s]\n",
      "Epoch 630/1000 - Validation: 100%|██████████| 1/1 [00:00<00:00, 943.81it/s]\n"
     ]
    },
    {
     "name": "stdout",
     "output_type": "stream",
     "text": [
      "Epoch 630/1000 - Train Loss: 0.0398 - Val Loss: 0.0218\n"
     ]
    },
    {
     "name": "stderr",
     "output_type": "stream",
     "text": [
      "Epoch 631/1000 - Training: 100%|██████████| 7/7 [00:00<00:00, 308.47it/s]\n",
      "Epoch 631/1000 - Validation: 100%|██████████| 1/1 [00:00<00:00, 756.41it/s]\n"
     ]
    },
    {
     "name": "stdout",
     "output_type": "stream",
     "text": [
      "Epoch 631/1000 - Train Loss: 0.0442 - Val Loss: 0.0236\n"
     ]
    },
    {
     "name": "stderr",
     "output_type": "stream",
     "text": [
      "Epoch 632/1000 - Training: 100%|██████████| 7/7 [00:00<00:00, 306.83it/s]\n",
      "Epoch 632/1000 - Validation: 100%|██████████| 1/1 [00:00<00:00, 827.28it/s]\n"
     ]
    },
    {
     "name": "stdout",
     "output_type": "stream",
     "text": [
      "Epoch 632/1000 - Train Loss: 0.0444 - Val Loss: 0.0210\n"
     ]
    },
    {
     "name": "stderr",
     "output_type": "stream",
     "text": [
      "Epoch 633/1000 - Training: 100%|██████████| 7/7 [00:00<00:00, 308.41it/s]\n",
      "Epoch 633/1000 - Validation: 100%|██████████| 1/1 [00:00<00:00, 954.99it/s]\n"
     ]
    },
    {
     "name": "stdout",
     "output_type": "stream",
     "text": [
      "Epoch 633/1000 - Train Loss: 0.0445 - Val Loss: 0.0319\n"
     ]
    },
    {
     "name": "stderr",
     "output_type": "stream",
     "text": [
      "Epoch 634/1000 - Training: 100%|██████████| 7/7 [00:00<00:00, 305.77it/s]\n",
      "Epoch 634/1000 - Validation: 100%|██████████| 1/1 [00:00<00:00, 879.49it/s]\n"
     ]
    },
    {
     "name": "stdout",
     "output_type": "stream",
     "text": [
      "Epoch 634/1000 - Train Loss: 0.0428 - Val Loss: 0.0321\n"
     ]
    },
    {
     "name": "stderr",
     "output_type": "stream",
     "text": [
      "Epoch 635/1000 - Training: 100%|██████████| 7/7 [00:00<00:00, 308.59it/s]\n",
      "Epoch 635/1000 - Validation: 100%|██████████| 1/1 [00:00<00:00, 752.07it/s]\n"
     ]
    },
    {
     "name": "stdout",
     "output_type": "stream",
     "text": [
      "Epoch 635/1000 - Train Loss: 0.0401 - Val Loss: 0.0457\n"
     ]
    },
    {
     "name": "stderr",
     "output_type": "stream",
     "text": [
      "Epoch 636/1000 - Training: 100%|██████████| 7/7 [00:00<00:00, 287.60it/s]\n",
      "Epoch 636/1000 - Validation: 100%|██████████| 1/1 [00:00<00:00, 811.75it/s]\n"
     ]
    },
    {
     "name": "stdout",
     "output_type": "stream",
     "text": [
      "Epoch 636/1000 - Train Loss: 0.0419 - Val Loss: 0.0292\n"
     ]
    },
    {
     "name": "stderr",
     "output_type": "stream",
     "text": [
      "Epoch 637/1000 - Training: 100%|██████████| 7/7 [00:00<00:00, 311.90it/s]\n",
      "Epoch 637/1000 - Validation: 100%|██████████| 1/1 [00:00<00:00, 694.08it/s]\n"
     ]
    },
    {
     "name": "stdout",
     "output_type": "stream",
     "text": [
      "Epoch 637/1000 - Train Loss: 0.0347 - Val Loss: 0.0264\n"
     ]
    },
    {
     "name": "stderr",
     "output_type": "stream",
     "text": [
      "Epoch 638/1000 - Training: 100%|██████████| 7/7 [00:00<00:00, 306.10it/s]\n",
      "Epoch 638/1000 - Validation: 100%|██████████| 1/1 [00:00<00:00, 695.00it/s]\n"
     ]
    },
    {
     "name": "stdout",
     "output_type": "stream",
     "text": [
      "Epoch 638/1000 - Train Loss: 0.0340 - Val Loss: 0.0230\n"
     ]
    },
    {
     "name": "stderr",
     "output_type": "stream",
     "text": [
      "Epoch 639/1000 - Training: 100%|██████████| 7/7 [00:00<00:00, 280.12it/s]\n",
      "Epoch 639/1000 - Validation: 100%|██████████| 1/1 [00:00<00:00, 791.68it/s]\n"
     ]
    },
    {
     "name": "stdout",
     "output_type": "stream",
     "text": [
      "Epoch 639/1000 - Train Loss: 0.0405 - Val Loss: 0.0337\n"
     ]
    },
    {
     "name": "stderr",
     "output_type": "stream",
     "text": [
      "Epoch 640/1000 - Training: 100%|██████████| 7/7 [00:00<00:00, 364.79it/s]\n",
      "Epoch 640/1000 - Validation: 100%|██████████| 1/1 [00:00<00:00, 1136.67it/s]\n"
     ]
    },
    {
     "name": "stdout",
     "output_type": "stream",
     "text": [
      "Epoch 640/1000 - Train Loss: 0.0251 - Val Loss: 0.0351\n"
     ]
    },
    {
     "name": "stderr",
     "output_type": "stream",
     "text": [
      "Epoch 641/1000 - Training: 100%|██████████| 7/7 [00:00<00:00, 367.48it/s]\n",
      "Epoch 641/1000 - Validation: 100%|██████████| 1/1 [00:00<00:00, 772.01it/s]\n"
     ]
    },
    {
     "name": "stdout",
     "output_type": "stream",
     "text": [
      "Epoch 641/1000 - Train Loss: 0.0338 - Val Loss: 0.0354\n"
     ]
    },
    {
     "name": "stderr",
     "output_type": "stream",
     "text": [
      "Epoch 642/1000 - Training: 100%|██████████| 7/7 [00:00<00:00, 366.15it/s]\n",
      "Epoch 642/1000 - Validation: 100%|██████████| 1/1 [00:00<00:00, 813.01it/s]\n"
     ]
    },
    {
     "name": "stdout",
     "output_type": "stream",
     "text": [
      "Epoch 642/1000 - Train Loss: 0.0391 - Val Loss: 0.0214\n"
     ]
    },
    {
     "name": "stderr",
     "output_type": "stream",
     "text": [
      "Epoch 643/1000 - Training: 100%|██████████| 7/7 [00:00<00:00, 361.12it/s]\n",
      "Epoch 643/1000 - Validation: 100%|██████████| 1/1 [00:00<00:00, 799.37it/s]\n"
     ]
    },
    {
     "name": "stdout",
     "output_type": "stream",
     "text": [
      "Epoch 643/1000 - Train Loss: 0.0432 - Val Loss: 0.0217\n"
     ]
    },
    {
     "name": "stderr",
     "output_type": "stream",
     "text": [
      "Epoch 644/1000 - Training: 100%|██████████| 7/7 [00:00<00:00, 353.48it/s]\n",
      "Epoch 644/1000 - Validation: 100%|██████████| 1/1 [00:00<00:00, 738.56it/s]\n"
     ]
    },
    {
     "name": "stdout",
     "output_type": "stream",
     "text": [
      "Epoch 644/1000 - Train Loss: 0.0405 - Val Loss: 0.0250\n"
     ]
    },
    {
     "name": "stderr",
     "output_type": "stream",
     "text": [
      "Epoch 645/1000 - Training: 100%|██████████| 7/7 [00:00<00:00, 359.00it/s]\n",
      "Epoch 645/1000 - Validation: 100%|██████████| 1/1 [00:00<00:00, 924.47it/s]\n"
     ]
    },
    {
     "name": "stdout",
     "output_type": "stream",
     "text": [
      "Epoch 645/1000 - Train Loss: 0.0332 - Val Loss: 0.0186\n"
     ]
    },
    {
     "name": "stderr",
     "output_type": "stream",
     "text": [
      "Epoch 646/1000 - Training: 100%|██████████| 7/7 [00:00<00:00, 362.78it/s]\n",
      "Epoch 646/1000 - Validation: 100%|██████████| 1/1 [00:00<00:00, 853.89it/s]\n"
     ]
    },
    {
     "name": "stdout",
     "output_type": "stream",
     "text": [
      "Epoch 646/1000 - Train Loss: 0.0436 - Val Loss: 0.0227\n"
     ]
    },
    {
     "name": "stderr",
     "output_type": "stream",
     "text": [
      "Epoch 647/1000 - Training: 100%|██████████| 7/7 [00:00<00:00, 271.35it/s]\n",
      "Epoch 647/1000 - Validation: 100%|██████████| 1/1 [00:00<00:00, 970.23it/s]\n"
     ]
    },
    {
     "name": "stdout",
     "output_type": "stream",
     "text": [
      "Epoch 647/1000 - Train Loss: 0.0396 - Val Loss: 0.0239\n"
     ]
    },
    {
     "name": "stderr",
     "output_type": "stream",
     "text": [
      "Epoch 648/1000 - Training: 100%|██████████| 7/7 [00:00<00:00, 362.07it/s]\n",
      "Epoch 648/1000 - Validation: 100%|██████████| 1/1 [00:00<00:00, 860.19it/s]\n"
     ]
    },
    {
     "name": "stdout",
     "output_type": "stream",
     "text": [
      "Epoch 648/1000 - Train Loss: 0.0335 - Val Loss: 0.0273\n"
     ]
    },
    {
     "name": "stderr",
     "output_type": "stream",
     "text": [
      "Epoch 649/1000 - Training: 100%|██████████| 7/7 [00:00<00:00, 328.72it/s]\n",
      "Epoch 649/1000 - Validation: 100%|██████████| 1/1 [00:00<00:00, 734.17it/s]\n"
     ]
    },
    {
     "name": "stdout",
     "output_type": "stream",
     "text": [
      "Epoch 649/1000 - Train Loss: 0.0373 - Val Loss: 0.0182\n"
     ]
    },
    {
     "name": "stderr",
     "output_type": "stream",
     "text": [
      "Epoch 650/1000 - Training: 100%|██████████| 7/7 [00:00<00:00, 257.58it/s]\n",
      "Epoch 650/1000 - Validation: 100%|██████████| 1/1 [00:00<00:00, 820.96it/s]\n"
     ]
    },
    {
     "name": "stdout",
     "output_type": "stream",
     "text": [
      "Epoch 650/1000 - Train Loss: 0.0466 - Val Loss: 0.0197\n"
     ]
    },
    {
     "name": "stderr",
     "output_type": "stream",
     "text": [
      "Epoch 651/1000 - Training: 100%|██████████| 7/7 [00:00<00:00, 296.62it/s]\n",
      "Epoch 651/1000 - Validation: 100%|██████████| 1/1 [00:00<00:00, 855.63it/s]\n"
     ]
    },
    {
     "name": "stdout",
     "output_type": "stream",
     "text": [
      "Epoch 651/1000 - Train Loss: 0.0333 - Val Loss: 0.0158\n"
     ]
    },
    {
     "name": "stderr",
     "output_type": "stream",
     "text": [
      "Epoch 652/1000 - Training: 100%|██████████| 7/7 [00:00<00:00, 297.09it/s]\n",
      "Epoch 652/1000 - Validation: 100%|██████████| 1/1 [00:00<00:00, 536.97it/s]\n"
     ]
    },
    {
     "name": "stdout",
     "output_type": "stream",
     "text": [
      "Epoch 652/1000 - Train Loss: 0.0373 - Val Loss: 0.0171\n"
     ]
    },
    {
     "name": "stderr",
     "output_type": "stream",
     "text": [
      "Epoch 653/1000 - Training: 100%|██████████| 7/7 [00:00<00:00, 296.63it/s]\n",
      "Epoch 653/1000 - Validation: 100%|██████████| 1/1 [00:00<00:00, 1151.65it/s]\n"
     ]
    },
    {
     "name": "stdout",
     "output_type": "stream",
     "text": [
      "Epoch 653/1000 - Train Loss: 0.0355 - Val Loss: 0.0141\n"
     ]
    },
    {
     "name": "stderr",
     "output_type": "stream",
     "text": [
      "Epoch 654/1000 - Training: 100%|██████████| 7/7 [00:00<00:00, 360.89it/s]\n",
      "Epoch 654/1000 - Validation: 100%|██████████| 1/1 [00:00<00:00, 992.26it/s]\n"
     ]
    },
    {
     "name": "stdout",
     "output_type": "stream",
     "text": [
      "Epoch 654/1000 - Train Loss: 0.0361 - Val Loss: 0.0319\n"
     ]
    },
    {
     "name": "stderr",
     "output_type": "stream",
     "text": [
      "Epoch 655/1000 - Training: 100%|██████████| 7/7 [00:00<00:00, 367.06it/s]\n",
      "Epoch 655/1000 - Validation: 100%|██████████| 1/1 [00:00<00:00, 1148.81it/s]\n"
     ]
    },
    {
     "name": "stdout",
     "output_type": "stream",
     "text": [
      "Epoch 655/1000 - Train Loss: 0.0391 - Val Loss: 0.0187\n"
     ]
    },
    {
     "name": "stderr",
     "output_type": "stream",
     "text": [
      "Epoch 656/1000 - Training: 100%|██████████| 7/7 [00:00<00:00, 371.14it/s]\n",
      "Epoch 656/1000 - Validation: 100%|██████████| 1/1 [00:00<00:00, 517.62it/s]\n"
     ]
    },
    {
     "name": "stdout",
     "output_type": "stream",
     "text": [
      "Epoch 656/1000 - Train Loss: 0.0308 - Val Loss: 0.0330\n"
     ]
    },
    {
     "name": "stderr",
     "output_type": "stream",
     "text": [
      "Epoch 657/1000 - Training: 100%|██████████| 7/7 [00:00<00:00, 208.80it/s]\n",
      "Epoch 657/1000 - Validation: 100%|██████████| 1/1 [00:00<00:00, 570.19it/s]\n"
     ]
    },
    {
     "name": "stdout",
     "output_type": "stream",
     "text": [
      "Epoch 657/1000 - Train Loss: 0.0419 - Val Loss: 0.0186\n"
     ]
    },
    {
     "name": "stderr",
     "output_type": "stream",
     "text": [
      "Epoch 658/1000 - Training: 100%|██████████| 7/7 [00:00<00:00, 210.45it/s]\n",
      "Epoch 658/1000 - Validation: 100%|██████████| 1/1 [00:00<00:00, 503.76it/s]\n"
     ]
    },
    {
     "name": "stdout",
     "output_type": "stream",
     "text": [
      "Epoch 658/1000 - Train Loss: 0.0335 - Val Loss: 0.0196\n"
     ]
    },
    {
     "name": "stderr",
     "output_type": "stream",
     "text": [
      "Epoch 659/1000 - Training: 100%|██████████| 7/7 [00:00<00:00, 235.41it/s]\n",
      "Epoch 659/1000 - Validation: 100%|██████████| 1/1 [00:00<00:00, 716.49it/s]\n"
     ]
    },
    {
     "name": "stdout",
     "output_type": "stream",
     "text": [
      "Epoch 659/1000 - Train Loss: 0.0337 - Val Loss: 0.0206\n"
     ]
    },
    {
     "name": "stderr",
     "output_type": "stream",
     "text": [
      "Epoch 660/1000 - Training: 100%|██████████| 7/7 [00:00<00:00, 320.70it/s]\n",
      "Epoch 660/1000 - Validation: 100%|██████████| 1/1 [00:00<00:00, 857.38it/s]\n"
     ]
    },
    {
     "name": "stdout",
     "output_type": "stream",
     "text": [
      "Epoch 660/1000 - Train Loss: 0.0401 - Val Loss: 0.0127\n"
     ]
    },
    {
     "name": "stderr",
     "output_type": "stream",
     "text": [
      "Epoch 661/1000 - Training: 100%|██████████| 7/7 [00:00<00:00, 321.40it/s]\n",
      "Epoch 661/1000 - Validation: 100%|██████████| 1/1 [00:00<00:00, 1013.12it/s]\n"
     ]
    },
    {
     "name": "stdout",
     "output_type": "stream",
     "text": [
      "Epoch 661/1000 - Train Loss: 0.0443 - Val Loss: 0.0323\n"
     ]
    },
    {
     "name": "stderr",
     "output_type": "stream",
     "text": [
      "Epoch 662/1000 - Training: 100%|██████████| 7/7 [00:00<00:00, 322.39it/s]\n",
      "Epoch 662/1000 - Validation: 100%|██████████| 1/1 [00:00<00:00, 840.04it/s]\n"
     ]
    },
    {
     "name": "stdout",
     "output_type": "stream",
     "text": [
      "Epoch 662/1000 - Train Loss: 0.0350 - Val Loss: 0.0170\n"
     ]
    },
    {
     "name": "stderr",
     "output_type": "stream",
     "text": [
      "Epoch 663/1000 - Training: 100%|██████████| 7/7 [00:00<00:00, 322.82it/s]\n",
      "Epoch 663/1000 - Validation: 100%|██████████| 1/1 [00:00<00:00, 779.61it/s]\n"
     ]
    },
    {
     "name": "stdout",
     "output_type": "stream",
     "text": [
      "Epoch 663/1000 - Train Loss: 0.0356 - Val Loss: 0.0198\n"
     ]
    },
    {
     "name": "stderr",
     "output_type": "stream",
     "text": [
      "Epoch 664/1000 - Training: 100%|██████████| 7/7 [00:00<00:00, 322.29it/s]\n",
      "Epoch 664/1000 - Validation: 100%|██████████| 1/1 [00:00<00:00, 798.15it/s]\n"
     ]
    },
    {
     "name": "stdout",
     "output_type": "stream",
     "text": [
      "Epoch 664/1000 - Train Loss: 0.0375 - Val Loss: 0.0260\n"
     ]
    },
    {
     "name": "stderr",
     "output_type": "stream",
     "text": [
      "Epoch 665/1000 - Training: 100%|██████████| 7/7 [00:00<00:00, 324.67it/s]\n",
      "Epoch 665/1000 - Validation: 100%|██████████| 1/1 [00:00<00:00, 741.70it/s]\n"
     ]
    },
    {
     "name": "stdout",
     "output_type": "stream",
     "text": [
      "Epoch 665/1000 - Train Loss: 0.0412 - Val Loss: 0.0219\n"
     ]
    },
    {
     "name": "stderr",
     "output_type": "stream",
     "text": [
      "Epoch 666/1000 - Training: 100%|██████████| 7/7 [00:00<00:00, 322.99it/s]\n",
      "Epoch 666/1000 - Validation: 100%|██████████| 1/1 [00:00<00:00, 876.92it/s]\n"
     ]
    },
    {
     "name": "stdout",
     "output_type": "stream",
     "text": [
      "Epoch 666/1000 - Train Loss: 0.0305 - Val Loss: 0.0196\n"
     ]
    },
    {
     "name": "stderr",
     "output_type": "stream",
     "text": [
      "Epoch 667/1000 - Training: 100%|██████████| 7/7 [00:00<00:00, 319.70it/s]\n",
      "Epoch 667/1000 - Validation: 100%|██████████| 1/1 [00:00<00:00, 821.61it/s]\n"
     ]
    },
    {
     "name": "stdout",
     "output_type": "stream",
     "text": [
      "Epoch 667/1000 - Train Loss: 0.0362 - Val Loss: 0.0239\n"
     ]
    },
    {
     "name": "stderr",
     "output_type": "stream",
     "text": [
      "Epoch 668/1000 - Training: 100%|██████████| 7/7 [00:00<00:00, 322.48it/s]\n",
      "Epoch 668/1000 - Validation: 100%|██████████| 1/1 [00:00<00:00, 773.71it/s]\n"
     ]
    },
    {
     "name": "stdout",
     "output_type": "stream",
     "text": [
      "Epoch 668/1000 - Train Loss: 0.0372 - Val Loss: 0.0165\n"
     ]
    },
    {
     "name": "stderr",
     "output_type": "stream",
     "text": [
      "Epoch 669/1000 - Training: 100%|██████████| 7/7 [00:00<00:00, 322.80it/s]\n",
      "Epoch 669/1000 - Validation: 100%|██████████| 1/1 [00:00<00:00, 977.69it/s]\n"
     ]
    },
    {
     "name": "stdout",
     "output_type": "stream",
     "text": [
      "Epoch 669/1000 - Train Loss: 0.0383 - Val Loss: 0.0301\n"
     ]
    },
    {
     "name": "stderr",
     "output_type": "stream",
     "text": [
      "Epoch 670/1000 - Training: 100%|██████████| 7/7 [00:00<00:00, 303.55it/s]\n",
      "Epoch 670/1000 - Validation: 100%|██████████| 1/1 [00:00<00:00, 727.55it/s]\n"
     ]
    },
    {
     "name": "stdout",
     "output_type": "stream",
     "text": [
      "Epoch 670/1000 - Train Loss: 0.0381 - Val Loss: 0.0159\n"
     ]
    },
    {
     "name": "stderr",
     "output_type": "stream",
     "text": [
      "Epoch 671/1000 - Training: 100%|██████████| 7/7 [00:00<00:00, 313.68it/s]\n",
      "Epoch 671/1000 - Validation: 100%|██████████| 1/1 [00:00<00:00, 839.36it/s]\n"
     ]
    },
    {
     "name": "stdout",
     "output_type": "stream",
     "text": [
      "Epoch 671/1000 - Train Loss: 0.0449 - Val Loss: 0.0339\n"
     ]
    },
    {
     "name": "stderr",
     "output_type": "stream",
     "text": [
      "Epoch 672/1000 - Training: 100%|██████████| 7/7 [00:00<00:00, 311.47it/s]\n",
      "Epoch 672/1000 - Validation: 100%|██████████| 1/1 [00:00<00:00, 739.34it/s]\n"
     ]
    },
    {
     "name": "stdout",
     "output_type": "stream",
     "text": [
      "Epoch 672/1000 - Train Loss: 0.0332 - Val Loss: 0.0220\n"
     ]
    },
    {
     "name": "stderr",
     "output_type": "stream",
     "text": [
      "Epoch 673/1000 - Training: 100%|██████████| 7/7 [00:00<00:00, 312.10it/s]\n",
      "Epoch 673/1000 - Validation: 100%|██████████| 1/1 [00:00<00:00, 758.19it/s]\n"
     ]
    },
    {
     "name": "stdout",
     "output_type": "stream",
     "text": [
      "Epoch 673/1000 - Train Loss: 0.0318 - Val Loss: 0.0270\n"
     ]
    },
    {
     "name": "stderr",
     "output_type": "stream",
     "text": [
      "Epoch 674/1000 - Training: 100%|██████████| 7/7 [00:00<00:00, 308.41it/s]\n",
      "Epoch 674/1000 - Validation: 100%|██████████| 1/1 [00:00<00:00, 830.39it/s]\n"
     ]
    },
    {
     "name": "stdout",
     "output_type": "stream",
     "text": [
      "Epoch 674/1000 - Train Loss: 0.0407 - Val Loss: 0.0173\n"
     ]
    },
    {
     "name": "stderr",
     "output_type": "stream",
     "text": [
      "Epoch 675/1000 - Training: 100%|██████████| 7/7 [00:00<00:00, 309.44it/s]\n",
      "Epoch 675/1000 - Validation: 100%|██████████| 1/1 [00:00<00:00, 874.00it/s]\n"
     ]
    },
    {
     "name": "stdout",
     "output_type": "stream",
     "text": [
      "Epoch 675/1000 - Train Loss: 0.0317 - Val Loss: 0.0209\n"
     ]
    },
    {
     "name": "stderr",
     "output_type": "stream",
     "text": [
      "Epoch 676/1000 - Training: 100%|██████████| 7/7 [00:00<00:00, 313.74it/s]\n",
      "Epoch 676/1000 - Validation: 100%|██████████| 1/1 [00:00<00:00, 774.86it/s]\n"
     ]
    },
    {
     "name": "stdout",
     "output_type": "stream",
     "text": [
      "Epoch 676/1000 - Train Loss: 0.0314 - Val Loss: 0.0192\n"
     ]
    },
    {
     "name": "stderr",
     "output_type": "stream",
     "text": [
      "Epoch 677/1000 - Training: 100%|██████████| 7/7 [00:00<00:00, 319.37it/s]\n",
      "Epoch 677/1000 - Validation: 100%|██████████| 1/1 [00:00<00:00, 766.22it/s]\n"
     ]
    },
    {
     "name": "stdout",
     "output_type": "stream",
     "text": [
      "Epoch 677/1000 - Train Loss: 0.0358 - Val Loss: 0.0191\n"
     ]
    },
    {
     "name": "stderr",
     "output_type": "stream",
     "text": [
      "Epoch 678/1000 - Training: 100%|██████████| 7/7 [00:00<00:00, 311.81it/s]\n",
      "Epoch 678/1000 - Validation: 100%|██████████| 1/1 [00:00<00:00, 853.19it/s]\n"
     ]
    },
    {
     "name": "stdout",
     "output_type": "stream",
     "text": [
      "Epoch 678/1000 - Train Loss: 0.0371 - Val Loss: 0.0238\n"
     ]
    },
    {
     "name": "stderr",
     "output_type": "stream",
     "text": [
      "Epoch 679/1000 - Training: 100%|██████████| 7/7 [00:00<00:00, 313.19it/s]\n",
      "Epoch 679/1000 - Validation: 100%|██████████| 1/1 [00:00<00:00, 751.53it/s]\n"
     ]
    },
    {
     "name": "stdout",
     "output_type": "stream",
     "text": [
      "Epoch 679/1000 - Train Loss: 0.0375 - Val Loss: 0.0166\n"
     ]
    },
    {
     "name": "stderr",
     "output_type": "stream",
     "text": [
      "Epoch 680/1000 - Training: 100%|██████████| 7/7 [00:00<00:00, 316.80it/s]\n",
      "Epoch 680/1000 - Validation: 100%|██████████| 1/1 [00:00<00:00, 972.93it/s]\n"
     ]
    },
    {
     "name": "stdout",
     "output_type": "stream",
     "text": [
      "Epoch 680/1000 - Train Loss: 0.0379 - Val Loss: 0.0176\n"
     ]
    },
    {
     "name": "stderr",
     "output_type": "stream",
     "text": [
      "Epoch 681/1000 - Training: 100%|██████████| 7/7 [00:00<00:00, 307.87it/s]\n",
      "Epoch 681/1000 - Validation: 100%|██████████| 1/1 [00:00<00:00, 968.89it/s]\n"
     ]
    },
    {
     "name": "stdout",
     "output_type": "stream",
     "text": [
      "Epoch 681/1000 - Train Loss: 0.0283 - Val Loss: 0.0263\n"
     ]
    },
    {
     "name": "stderr",
     "output_type": "stream",
     "text": [
      "Epoch 682/1000 - Training: 100%|██████████| 7/7 [00:00<00:00, 310.26it/s]\n",
      "Epoch 682/1000 - Validation: 100%|██████████| 1/1 [00:00<00:00, 728.18it/s]\n"
     ]
    },
    {
     "name": "stdout",
     "output_type": "stream",
     "text": [
      "Epoch 682/1000 - Train Loss: 0.0343 - Val Loss: 0.0230\n"
     ]
    },
    {
     "name": "stderr",
     "output_type": "stream",
     "text": [
      "Epoch 683/1000 - Training: 100%|██████████| 7/7 [00:00<00:00, 308.60it/s]\n",
      "Epoch 683/1000 - Validation: 100%|██████████| 1/1 [00:00<00:00, 695.34it/s]\n"
     ]
    },
    {
     "name": "stdout",
     "output_type": "stream",
     "text": [
      "Epoch 683/1000 - Train Loss: 0.0344 - Val Loss: 0.0173\n"
     ]
    },
    {
     "name": "stderr",
     "output_type": "stream",
     "text": [
      "Epoch 684/1000 - Training: 100%|██████████| 7/7 [00:00<00:00, 305.55it/s]\n",
      "Epoch 684/1000 - Validation: 100%|██████████| 1/1 [00:00<00:00, 838.69it/s]\n"
     ]
    },
    {
     "name": "stdout",
     "output_type": "stream",
     "text": [
      "Epoch 684/1000 - Train Loss: 0.0320 - Val Loss: 0.0339\n"
     ]
    },
    {
     "name": "stderr",
     "output_type": "stream",
     "text": [
      "Epoch 685/1000 - Training: 100%|██████████| 7/7 [00:00<00:00, 306.16it/s]\n",
      "Epoch 685/1000 - Validation: 100%|██████████| 1/1 [00:00<00:00, 836.02it/s]\n"
     ]
    },
    {
     "name": "stdout",
     "output_type": "stream",
     "text": [
      "Epoch 685/1000 - Train Loss: 0.0294 - Val Loss: 0.0177\n"
     ]
    },
    {
     "name": "stderr",
     "output_type": "stream",
     "text": [
      "Epoch 686/1000 - Training: 100%|██████████| 7/7 [00:00<00:00, 309.38it/s]\n",
      "Epoch 686/1000 - Validation: 100%|██████████| 1/1 [00:00<00:00, 869.65it/s]\n"
     ]
    },
    {
     "name": "stdout",
     "output_type": "stream",
     "text": [
      "Epoch 686/1000 - Train Loss: 0.0338 - Val Loss: 0.0372\n"
     ]
    },
    {
     "name": "stderr",
     "output_type": "stream",
     "text": [
      "Epoch 687/1000 - Training: 100%|██████████| 7/7 [00:00<00:00, 313.75it/s]\n",
      "Epoch 687/1000 - Validation: 100%|██████████| 1/1 [00:00<00:00, 685.12it/s]\n"
     ]
    },
    {
     "name": "stdout",
     "output_type": "stream",
     "text": [
      "Epoch 687/1000 - Train Loss: 0.0366 - Val Loss: 0.0178\n"
     ]
    },
    {
     "name": "stderr",
     "output_type": "stream",
     "text": [
      "Epoch 688/1000 - Training: 100%|██████████| 7/7 [00:00<00:00, 306.17it/s]\n",
      "Epoch 688/1000 - Validation: 100%|██████████| 1/1 [00:00<00:00, 652.20it/s]\n"
     ]
    },
    {
     "name": "stdout",
     "output_type": "stream",
     "text": [
      "Epoch 688/1000 - Train Loss: 0.0366 - Val Loss: 0.0364\n"
     ]
    },
    {
     "name": "stderr",
     "output_type": "stream",
     "text": [
      "Epoch 689/1000 - Training: 100%|██████████| 7/7 [00:00<00:00, 308.68it/s]\n",
      "Epoch 689/1000 - Validation: 100%|██████████| 1/1 [00:00<00:00, 827.77it/s]\n"
     ]
    },
    {
     "name": "stdout",
     "output_type": "stream",
     "text": [
      "Epoch 689/1000 - Train Loss: 0.0384 - Val Loss: 0.0227\n"
     ]
    },
    {
     "name": "stderr",
     "output_type": "stream",
     "text": [
      "Epoch 690/1000 - Training: 100%|██████████| 7/7 [00:00<00:00, 307.45it/s]\n",
      "Epoch 690/1000 - Validation: 100%|██████████| 1/1 [00:00<00:00, 822.74it/s]\n"
     ]
    },
    {
     "name": "stdout",
     "output_type": "stream",
     "text": [
      "Epoch 690/1000 - Train Loss: 0.0285 - Val Loss: 0.0431\n"
     ]
    },
    {
     "name": "stderr",
     "output_type": "stream",
     "text": [
      "Epoch 691/1000 - Training: 100%|██████████| 7/7 [00:00<00:00, 312.96it/s]\n",
      "Epoch 691/1000 - Validation: 100%|██████████| 1/1 [00:00<00:00, 707.42it/s]\n"
     ]
    },
    {
     "name": "stdout",
     "output_type": "stream",
     "text": [
      "Epoch 691/1000 - Train Loss: 0.0318 - Val Loss: 0.0263\n"
     ]
    },
    {
     "name": "stderr",
     "output_type": "stream",
     "text": [
      "Epoch 692/1000 - Training: 100%|██████████| 7/7 [00:00<00:00, 311.13it/s]\n",
      "Epoch 692/1000 - Validation: 100%|██████████| 1/1 [00:00<00:00, 710.18it/s]\n"
     ]
    },
    {
     "name": "stdout",
     "output_type": "stream",
     "text": [
      "Epoch 692/1000 - Train Loss: 0.0342 - Val Loss: 0.0361\n"
     ]
    },
    {
     "name": "stderr",
     "output_type": "stream",
     "text": [
      "Epoch 693/1000 - Training: 100%|██████████| 7/7 [00:00<00:00, 310.30it/s]\n",
      "Epoch 693/1000 - Validation: 100%|██████████| 1/1 [00:00<00:00, 728.30it/s]\n"
     ]
    },
    {
     "name": "stdout",
     "output_type": "stream",
     "text": [
      "Epoch 693/1000 - Train Loss: 0.0385 - Val Loss: 0.0209\n"
     ]
    },
    {
     "name": "stderr",
     "output_type": "stream",
     "text": [
      "Epoch 694/1000 - Training: 100%|██████████| 7/7 [00:00<00:00, 311.06it/s]\n",
      "Epoch 694/1000 - Validation: 100%|██████████| 1/1 [00:00<00:00, 949.58it/s]\n"
     ]
    },
    {
     "name": "stdout",
     "output_type": "stream",
     "text": [
      "Epoch 694/1000 - Train Loss: 0.0352 - Val Loss: 0.0550\n"
     ]
    },
    {
     "name": "stderr",
     "output_type": "stream",
     "text": [
      "Epoch 695/1000 - Training: 100%|██████████| 7/7 [00:00<00:00, 308.76it/s]\n",
      "Epoch 695/1000 - Validation: 100%|██████████| 1/1 [00:00<00:00, 855.81it/s]\n"
     ]
    },
    {
     "name": "stdout",
     "output_type": "stream",
     "text": [
      "Epoch 695/1000 - Train Loss: 0.0418 - Val Loss: 0.0210\n"
     ]
    },
    {
     "name": "stderr",
     "output_type": "stream",
     "text": [
      "Epoch 696/1000 - Training: 100%|██████████| 7/7 [00:00<00:00, 313.52it/s]\n",
      "Epoch 696/1000 - Validation: 100%|██████████| 1/1 [00:00<00:00, 759.15it/s]\n"
     ]
    },
    {
     "name": "stdout",
     "output_type": "stream",
     "text": [
      "Epoch 696/1000 - Train Loss: 0.0374 - Val Loss: 0.0454\n"
     ]
    },
    {
     "name": "stderr",
     "output_type": "stream",
     "text": [
      "Epoch 697/1000 - Training: 100%|██████████| 7/7 [00:00<00:00, 311.40it/s]\n",
      "Epoch 697/1000 - Validation: 100%|██████████| 1/1 [00:00<00:00, 829.90it/s]\n"
     ]
    },
    {
     "name": "stdout",
     "output_type": "stream",
     "text": [
      "Epoch 697/1000 - Train Loss: 0.0401 - Val Loss: 0.0255\n"
     ]
    },
    {
     "name": "stderr",
     "output_type": "stream",
     "text": [
      "Epoch 698/1000 - Training: 100%|██████████| 7/7 [00:00<00:00, 312.61it/s]\n",
      "Epoch 698/1000 - Validation: 100%|██████████| 1/1 [00:00<00:00, 711.38it/s]\n"
     ]
    },
    {
     "name": "stdout",
     "output_type": "stream",
     "text": [
      "Epoch 698/1000 - Train Loss: 0.0298 - Val Loss: 0.0483\n"
     ]
    },
    {
     "name": "stderr",
     "output_type": "stream",
     "text": [
      "Epoch 699/1000 - Training: 100%|██████████| 7/7 [00:00<00:00, 316.75it/s]\n",
      "Epoch 699/1000 - Validation: 100%|██████████| 1/1 [00:00<00:00, 953.90it/s]\n"
     ]
    },
    {
     "name": "stdout",
     "output_type": "stream",
     "text": [
      "Epoch 699/1000 - Train Loss: 0.0374 - Val Loss: 0.0246\n"
     ]
    },
    {
     "name": "stderr",
     "output_type": "stream",
     "text": [
      "Epoch 700/1000 - Training: 100%|██████████| 7/7 [00:00<00:00, 311.71it/s]\n",
      "Epoch 700/1000 - Validation: 100%|██████████| 1/1 [00:00<00:00, 840.21it/s]\n"
     ]
    },
    {
     "name": "stdout",
     "output_type": "stream",
     "text": [
      "Epoch 700/1000 - Train Loss: 0.0358 - Val Loss: 0.0346\n"
     ]
    },
    {
     "name": "stderr",
     "output_type": "stream",
     "text": [
      "Epoch 701/1000 - Training: 100%|██████████| 7/7 [00:00<00:00, 313.44it/s]\n",
      "Epoch 701/1000 - Validation: 100%|██████████| 1/1 [00:00<00:00, 850.60it/s]\n"
     ]
    },
    {
     "name": "stdout",
     "output_type": "stream",
     "text": [
      "Epoch 701/1000 - Train Loss: 0.0389 - Val Loss: 0.0213\n"
     ]
    },
    {
     "name": "stderr",
     "output_type": "stream",
     "text": [
      "Epoch 702/1000 - Training: 100%|██████████| 7/7 [00:00<00:00, 317.15it/s]\n",
      "Epoch 702/1000 - Validation: 100%|██████████| 1/1 [00:00<00:00, 968.66it/s]\n"
     ]
    },
    {
     "name": "stdout",
     "output_type": "stream",
     "text": [
      "Epoch 702/1000 - Train Loss: 0.0359 - Val Loss: 0.0302\n"
     ]
    },
    {
     "name": "stderr",
     "output_type": "stream",
     "text": [
      "Epoch 703/1000 - Training: 100%|██████████| 7/7 [00:00<00:00, 311.59it/s]\n",
      "Epoch 703/1000 - Validation: 100%|██████████| 1/1 [00:00<00:00, 700.22it/s]\n"
     ]
    },
    {
     "name": "stdout",
     "output_type": "stream",
     "text": [
      "Epoch 703/1000 - Train Loss: 0.0294 - Val Loss: 0.0216\n"
     ]
    },
    {
     "name": "stderr",
     "output_type": "stream",
     "text": [
      "Epoch 704/1000 - Training: 100%|██████████| 7/7 [00:00<00:00, 309.83it/s]\n",
      "Epoch 704/1000 - Validation: 100%|██████████| 1/1 [00:00<00:00, 734.43it/s]\n"
     ]
    },
    {
     "name": "stdout",
     "output_type": "stream",
     "text": [
      "Epoch 704/1000 - Train Loss: 0.0343 - Val Loss: 0.0298\n"
     ]
    },
    {
     "name": "stderr",
     "output_type": "stream",
     "text": [
      "Epoch 705/1000 - Training: 100%|██████████| 7/7 [00:00<00:00, 310.99it/s]\n",
      "Epoch 705/1000 - Validation: 100%|██████████| 1/1 [00:00<00:00, 720.05it/s]\n"
     ]
    },
    {
     "name": "stdout",
     "output_type": "stream",
     "text": [
      "Epoch 705/1000 - Train Loss: 0.0384 - Val Loss: 0.0231\n"
     ]
    },
    {
     "name": "stderr",
     "output_type": "stream",
     "text": [
      "Epoch 706/1000 - Training: 100%|██████████| 7/7 [00:00<00:00, 311.30it/s]\n",
      "Epoch 706/1000 - Validation: 100%|██████████| 1/1 [00:00<00:00, 866.59it/s]\n"
     ]
    },
    {
     "name": "stdout",
     "output_type": "stream",
     "text": [
      "Epoch 706/1000 - Train Loss: 0.0388 - Val Loss: 0.0313\n"
     ]
    },
    {
     "name": "stderr",
     "output_type": "stream",
     "text": [
      "Epoch 707/1000 - Training: 100%|██████████| 7/7 [00:00<00:00, 314.15it/s]\n",
      "Epoch 707/1000 - Validation: 100%|██████████| 1/1 [00:00<00:00, 704.45it/s]\n"
     ]
    },
    {
     "name": "stdout",
     "output_type": "stream",
     "text": [
      "Epoch 707/1000 - Train Loss: 0.0380 - Val Loss: 0.0198\n"
     ]
    },
    {
     "name": "stderr",
     "output_type": "stream",
     "text": [
      "Epoch 708/1000 - Training: 100%|██████████| 7/7 [00:00<00:00, 310.41it/s]\n",
      "Epoch 708/1000 - Validation: 100%|██████████| 1/1 [00:00<00:00, 705.40it/s]\n"
     ]
    },
    {
     "name": "stdout",
     "output_type": "stream",
     "text": [
      "Epoch 708/1000 - Train Loss: 0.0438 - Val Loss: 0.0288\n"
     ]
    },
    {
     "name": "stderr",
     "output_type": "stream",
     "text": [
      "Epoch 709/1000 - Training: 100%|██████████| 7/7 [00:00<00:00, 312.20it/s]\n",
      "Epoch 709/1000 - Validation: 100%|██████████| 1/1 [00:00<00:00, 883.57it/s]\n"
     ]
    },
    {
     "name": "stdout",
     "output_type": "stream",
     "text": [
      "Epoch 709/1000 - Train Loss: 0.0426 - Val Loss: 0.0226\n"
     ]
    },
    {
     "name": "stderr",
     "output_type": "stream",
     "text": [
      "Epoch 710/1000 - Training: 100%|██████████| 7/7 [00:00<00:00, 255.98it/s]\n",
      "Epoch 710/1000 - Validation: 100%|██████████| 1/1 [00:00<00:00, 1121.47it/s]\n"
     ]
    },
    {
     "name": "stdout",
     "output_type": "stream",
     "text": [
      "Epoch 710/1000 - Train Loss: 0.0382 - Val Loss: 0.0252\n"
     ]
    },
    {
     "name": "stderr",
     "output_type": "stream",
     "text": [
      "Epoch 711/1000 - Training: 100%|██████████| 7/7 [00:00<00:00, 356.36it/s]\n",
      "Epoch 711/1000 - Validation: 100%|██████████| 1/1 [00:00<00:00, 898.52it/s]\n"
     ]
    },
    {
     "name": "stdout",
     "output_type": "stream",
     "text": [
      "Epoch 711/1000 - Train Loss: 0.0328 - Val Loss: 0.0185\n"
     ]
    },
    {
     "name": "stderr",
     "output_type": "stream",
     "text": [
      "Epoch 712/1000 - Training: 100%|██████████| 7/7 [00:00<00:00, 361.46it/s]\n",
      "Epoch 712/1000 - Validation: 100%|██████████| 1/1 [00:00<00:00, 1150.39it/s]\n"
     ]
    },
    {
     "name": "stdout",
     "output_type": "stream",
     "text": [
      "Epoch 712/1000 - Train Loss: 0.0391 - Val Loss: 0.0212\n"
     ]
    },
    {
     "name": "stderr",
     "output_type": "stream",
     "text": [
      "Epoch 713/1000 - Training: 100%|██████████| 7/7 [00:00<00:00, 360.57it/s]\n",
      "Epoch 713/1000 - Validation: 100%|██████████| 1/1 [00:00<00:00, 898.33it/s]\n"
     ]
    },
    {
     "name": "stdout",
     "output_type": "stream",
     "text": [
      "Epoch 713/1000 - Train Loss: 0.0325 - Val Loss: 0.0225\n"
     ]
    },
    {
     "name": "stderr",
     "output_type": "stream",
     "text": [
      "Epoch 714/1000 - Training: 100%|██████████| 7/7 [00:00<00:00, 355.32it/s]\n",
      "Epoch 714/1000 - Validation: 100%|██████████| 1/1 [00:00<00:00, 896.41it/s]\n"
     ]
    },
    {
     "name": "stdout",
     "output_type": "stream",
     "text": [
      "Epoch 714/1000 - Train Loss: 0.0382 - Val Loss: 0.0374\n"
     ]
    },
    {
     "name": "stderr",
     "output_type": "stream",
     "text": [
      "Epoch 715/1000 - Training: 100%|██████████| 7/7 [00:00<00:00, 343.67it/s]\n",
      "Epoch 715/1000 - Validation: 100%|██████████| 1/1 [00:00<00:00, 812.85it/s]\n"
     ]
    },
    {
     "name": "stdout",
     "output_type": "stream",
     "text": [
      "Epoch 715/1000 - Train Loss: 0.0418 - Val Loss: 0.0273\n"
     ]
    },
    {
     "name": "stderr",
     "output_type": "stream",
     "text": [
      "Epoch 716/1000 - Training: 100%|██████████| 7/7 [00:00<00:00, 369.45it/s]\n",
      "Epoch 716/1000 - Validation: 100%|██████████| 1/1 [00:00<00:00, 1176.52it/s]\n"
     ]
    },
    {
     "name": "stdout",
     "output_type": "stream",
     "text": [
      "Epoch 716/1000 - Train Loss: 0.0395 - Val Loss: 0.0258\n"
     ]
    },
    {
     "name": "stderr",
     "output_type": "stream",
     "text": [
      "Epoch 717/1000 - Training: 100%|██████████| 7/7 [00:00<00:00, 366.54it/s]\n",
      "Epoch 717/1000 - Validation: 100%|██████████| 1/1 [00:00<00:00, 1181.16it/s]\n"
     ]
    },
    {
     "name": "stdout",
     "output_type": "stream",
     "text": [
      "Epoch 717/1000 - Train Loss: 0.0328 - Val Loss: 0.0292\n"
     ]
    },
    {
     "name": "stderr",
     "output_type": "stream",
     "text": [
      "Epoch 718/1000 - Training: 100%|██████████| 7/7 [00:00<00:00, 370.97it/s]\n",
      "Epoch 718/1000 - Validation: 100%|██████████| 1/1 [00:00<00:00, 882.83it/s]\n"
     ]
    },
    {
     "name": "stdout",
     "output_type": "stream",
     "text": [
      "Epoch 718/1000 - Train Loss: 0.0361 - Val Loss: 0.0273\n"
     ]
    },
    {
     "name": "stderr",
     "output_type": "stream",
     "text": [
      "Epoch 719/1000 - Training: 100%|██████████| 7/7 [00:00<00:00, 368.17it/s]\n",
      "Epoch 719/1000 - Validation: 100%|██████████| 1/1 [00:00<00:00, 1166.06it/s]\n"
     ]
    },
    {
     "name": "stdout",
     "output_type": "stream",
     "text": [
      "Epoch 719/1000 - Train Loss: 0.0361 - Val Loss: 0.0383\n"
     ]
    },
    {
     "name": "stderr",
     "output_type": "stream",
     "text": [
      "Epoch 720/1000 - Training: 100%|██████████| 7/7 [00:00<00:00, 367.76it/s]\n",
      "Epoch 720/1000 - Validation: 100%|██████████| 1/1 [00:00<00:00, 1194.96it/s]\n"
     ]
    },
    {
     "name": "stdout",
     "output_type": "stream",
     "text": [
      "Epoch 720/1000 - Train Loss: 0.0383 - Val Loss: 0.0219\n"
     ]
    },
    {
     "name": "stderr",
     "output_type": "stream",
     "text": [
      "Epoch 721/1000 - Training: 100%|██████████| 7/7 [00:00<00:00, 370.96it/s]\n",
      "Epoch 721/1000 - Validation: 100%|██████████| 1/1 [00:00<00:00, 882.83it/s]\n"
     ]
    },
    {
     "name": "stdout",
     "output_type": "stream",
     "text": [
      "Epoch 721/1000 - Train Loss: 0.0402 - Val Loss: 0.0258\n"
     ]
    },
    {
     "name": "stderr",
     "output_type": "stream",
     "text": [
      "Epoch 722/1000 - Training: 100%|██████████| 7/7 [00:00<00:00, 369.89it/s]\n",
      "Epoch 722/1000 - Validation: 100%|██████████| 1/1 [00:00<00:00, 957.60it/s]\n"
     ]
    },
    {
     "name": "stdout",
     "output_type": "stream",
     "text": [
      "Epoch 722/1000 - Train Loss: 0.0308 - Val Loss: 0.0196\n"
     ]
    },
    {
     "name": "stderr",
     "output_type": "stream",
     "text": [
      "Epoch 723/1000 - Training: 100%|██████████| 7/7 [00:00<00:00, 369.97it/s]\n",
      "Epoch 723/1000 - Validation: 100%|██████████| 1/1 [00:00<00:00, 1001.51it/s]\n"
     ]
    },
    {
     "name": "stdout",
     "output_type": "stream",
     "text": [
      "Epoch 723/1000 - Train Loss: 0.0330 - Val Loss: 0.0204\n"
     ]
    },
    {
     "name": "stderr",
     "output_type": "stream",
     "text": [
      "Epoch 724/1000 - Training: 100%|██████████| 7/7 [00:00<00:00, 282.96it/s]\n",
      "Epoch 724/1000 - Validation: 100%|██████████| 1/1 [00:00<00:00, 999.60it/s]\n"
     ]
    },
    {
     "name": "stdout",
     "output_type": "stream",
     "text": [
      "Epoch 724/1000 - Train Loss: 0.0360 - Val Loss: 0.0378\n"
     ]
    },
    {
     "name": "stderr",
     "output_type": "stream",
     "text": [
      "Epoch 725/1000 - Training: 100%|██████████| 7/7 [00:00<00:00, 355.81it/s]\n",
      "Epoch 725/1000 - Validation: 100%|██████████| 1/1 [00:00<00:00, 996.51it/s]\n"
     ]
    },
    {
     "name": "stdout",
     "output_type": "stream",
     "text": [
      "Epoch 725/1000 - Train Loss: 0.0355 - Val Loss: 0.0231\n"
     ]
    },
    {
     "name": "stderr",
     "output_type": "stream",
     "text": [
      "Epoch 726/1000 - Training: 100%|██████████| 7/7 [00:00<00:00, 353.30it/s]\n",
      "Epoch 726/1000 - Validation: 100%|██████████| 1/1 [00:00<00:00, 298.87it/s]\n"
     ]
    },
    {
     "name": "stdout",
     "output_type": "stream",
     "text": [
      "Epoch 726/1000 - Train Loss: 0.0434 - Val Loss: 0.0402\n"
     ]
    },
    {
     "name": "stderr",
     "output_type": "stream",
     "text": [
      "Epoch 727/1000 - Training: 100%|██████████| 7/7 [00:00<00:00, 305.45it/s]\n",
      "Epoch 727/1000 - Validation: 100%|██████████| 1/1 [00:00<00:00, 841.38it/s]\n"
     ]
    },
    {
     "name": "stdout",
     "output_type": "stream",
     "text": [
      "Epoch 727/1000 - Train Loss: 0.0347 - Val Loss: 0.0229\n"
     ]
    },
    {
     "name": "stderr",
     "output_type": "stream",
     "text": [
      "Epoch 728/1000 - Training: 100%|██████████| 7/7 [00:00<00:00, 308.82it/s]\n",
      "Epoch 728/1000 - Validation: 100%|██████████| 1/1 [00:00<00:00, 764.55it/s]\n"
     ]
    },
    {
     "name": "stdout",
     "output_type": "stream",
     "text": [
      "Epoch 728/1000 - Train Loss: 0.0328 - Val Loss: 0.0242\n"
     ]
    },
    {
     "name": "stderr",
     "output_type": "stream",
     "text": [
      "Epoch 729/1000 - Training: 100%|██████████| 7/7 [00:00<00:00, 305.99it/s]\n",
      "Epoch 729/1000 - Validation: 100%|██████████| 1/1 [00:00<00:00, 762.88it/s]\n"
     ]
    },
    {
     "name": "stdout",
     "output_type": "stream",
     "text": [
      "Epoch 729/1000 - Train Loss: 0.0344 - Val Loss: 0.0310\n"
     ]
    },
    {
     "name": "stderr",
     "output_type": "stream",
     "text": [
      "Epoch 730/1000 - Training: 100%|██████████| 7/7 [00:00<00:00, 302.08it/s]\n",
      "Epoch 730/1000 - Validation: 100%|██████████| 1/1 [00:00<00:00, 714.65it/s]\n"
     ]
    },
    {
     "name": "stdout",
     "output_type": "stream",
     "text": [
      "Epoch 730/1000 - Train Loss: 0.0297 - Val Loss: 0.0199\n"
     ]
    },
    {
     "name": "stderr",
     "output_type": "stream",
     "text": [
      "Epoch 731/1000 - Training: 100%|██████████| 7/7 [00:00<00:00, 325.19it/s]\n",
      "Epoch 731/1000 - Validation: 100%|██████████| 1/1 [00:00<00:00, 1116.10it/s]\n"
     ]
    },
    {
     "name": "stdout",
     "output_type": "stream",
     "text": [
      "Epoch 731/1000 - Train Loss: 0.0348 - Val Loss: 0.0587\n"
     ]
    },
    {
     "name": "stderr",
     "output_type": "stream",
     "text": [
      "Epoch 732/1000 - Training: 100%|██████████| 7/7 [00:00<00:00, 357.31it/s]\n",
      "Epoch 732/1000 - Validation: 100%|██████████| 1/1 [00:00<00:00, 841.89it/s]\n"
     ]
    },
    {
     "name": "stdout",
     "output_type": "stream",
     "text": [
      "Epoch 732/1000 - Train Loss: 0.0326 - Val Loss: 0.0200\n"
     ]
    },
    {
     "name": "stderr",
     "output_type": "stream",
     "text": [
      "Epoch 733/1000 - Training: 100%|██████████| 7/7 [00:00<00:00, 355.89it/s]\n",
      "Epoch 733/1000 - Validation: 100%|██████████| 1/1 [00:00<00:00, 861.96it/s]\n"
     ]
    },
    {
     "name": "stdout",
     "output_type": "stream",
     "text": [
      "Epoch 733/1000 - Train Loss: 0.0344 - Val Loss: 0.0508\n"
     ]
    },
    {
     "name": "stderr",
     "output_type": "stream",
     "text": [
      "Epoch 734/1000 - Training: 100%|██████████| 7/7 [00:00<00:00, 342.46it/s]\n",
      "Epoch 734/1000 - Validation: 100%|██████████| 1/1 [00:00<00:00, 811.91it/s]\n"
     ]
    },
    {
     "name": "stdout",
     "output_type": "stream",
     "text": [
      "Epoch 734/1000 - Train Loss: 0.0432 - Val Loss: 0.0205\n"
     ]
    },
    {
     "name": "stderr",
     "output_type": "stream",
     "text": [
      "Epoch 735/1000 - Training: 100%|██████████| 7/7 [00:00<00:00, 354.04it/s]\n",
      "Epoch 735/1000 - Validation: 100%|██████████| 1/1 [00:00<00:00, 801.36it/s]\n"
     ]
    },
    {
     "name": "stdout",
     "output_type": "stream",
     "text": [
      "Epoch 735/1000 - Train Loss: 0.0378 - Val Loss: 0.0266\n"
     ]
    },
    {
     "name": "stderr",
     "output_type": "stream",
     "text": [
      "Epoch 736/1000 - Training: 100%|██████████| 7/7 [00:00<00:00, 348.11it/s]\n",
      "Epoch 736/1000 - Validation: 100%|██████████| 1/1 [00:00<00:00, 799.07it/s]\n"
     ]
    },
    {
     "name": "stdout",
     "output_type": "stream",
     "text": [
      "Epoch 736/1000 - Train Loss: 0.0350 - Val Loss: 0.0231\n"
     ]
    },
    {
     "name": "stderr",
     "output_type": "stream",
     "text": [
      "Epoch 737/1000 - Training: 100%|██████████| 7/7 [00:00<00:00, 348.67it/s]\n",
      "Epoch 737/1000 - Validation: 100%|██████████| 1/1 [00:00<00:00, 868.03it/s]\n"
     ]
    },
    {
     "name": "stdout",
     "output_type": "stream",
     "text": [
      "Epoch 737/1000 - Train Loss: 0.0391 - Val Loss: 0.0315\n"
     ]
    },
    {
     "name": "stderr",
     "output_type": "stream",
     "text": [
      "Epoch 738/1000 - Training: 100%|██████████| 7/7 [00:00<00:00, 350.00it/s]\n",
      "Epoch 738/1000 - Validation: 100%|██████████| 1/1 [00:00<00:00, 864.63it/s]\n"
     ]
    },
    {
     "name": "stdout",
     "output_type": "stream",
     "text": [
      "Epoch 738/1000 - Train Loss: 0.0339 - Val Loss: 0.0240\n"
     ]
    },
    {
     "name": "stderr",
     "output_type": "stream",
     "text": [
      "Epoch 739/1000 - Training: 100%|██████████| 7/7 [00:00<00:00, 353.30it/s]\n",
      "Epoch 739/1000 - Validation: 100%|██████████| 1/1 [00:00<00:00, 870.37it/s]\n"
     ]
    },
    {
     "name": "stdout",
     "output_type": "stream",
     "text": [
      "Epoch 739/1000 - Train Loss: 0.0321 - Val Loss: 0.0252\n"
     ]
    },
    {
     "name": "stderr",
     "output_type": "stream",
     "text": [
      "Epoch 740/1000 - Training: 100%|██████████| 7/7 [00:00<00:00, 356.89it/s]\n",
      "Epoch 740/1000 - Validation: 100%|██████████| 1/1 [00:00<00:00, 875.09it/s]\n"
     ]
    },
    {
     "name": "stdout",
     "output_type": "stream",
     "text": [
      "Epoch 740/1000 - Train Loss: 0.0391 - Val Loss: 0.0232\n"
     ]
    },
    {
     "name": "stderr",
     "output_type": "stream",
     "text": [
      "Epoch 741/1000 - Training: 100%|██████████| 7/7 [00:00<00:00, 348.32it/s]\n",
      "Epoch 741/1000 - Validation: 100%|██████████| 1/1 [00:00<00:00, 856.16it/s]\n"
     ]
    },
    {
     "name": "stdout",
     "output_type": "stream",
     "text": [
      "Epoch 741/1000 - Train Loss: 0.0357 - Val Loss: 0.0352\n"
     ]
    },
    {
     "name": "stderr",
     "output_type": "stream",
     "text": [
      "Epoch 742/1000 - Training: 100%|██████████| 7/7 [00:00<00:00, 350.17it/s]\n",
      "Epoch 742/1000 - Validation: 100%|██████████| 1/1 [00:00<00:00, 900.65it/s]\n"
     ]
    },
    {
     "name": "stdout",
     "output_type": "stream",
     "text": [
      "Epoch 742/1000 - Train Loss: 0.0441 - Val Loss: 0.0277\n"
     ]
    },
    {
     "name": "stderr",
     "output_type": "stream",
     "text": [
      "Epoch 743/1000 - Training: 100%|██████████| 7/7 [00:00<00:00, 362.70it/s]\n",
      "Epoch 743/1000 - Validation: 100%|██████████| 1/1 [00:00<00:00, 944.66it/s]\n"
     ]
    },
    {
     "name": "stdout",
     "output_type": "stream",
     "text": [
      "Epoch 743/1000 - Train Loss: 0.0399 - Val Loss: 0.0291\n"
     ]
    },
    {
     "name": "stderr",
     "output_type": "stream",
     "text": [
      "Epoch 744/1000 - Training: 100%|██████████| 7/7 [00:00<00:00, 360.06it/s]\n",
      "Epoch 744/1000 - Validation: 100%|██████████| 1/1 [00:00<00:00, 958.48it/s]\n"
     ]
    },
    {
     "name": "stdout",
     "output_type": "stream",
     "text": [
      "Epoch 744/1000 - Train Loss: 0.0370 - Val Loss: 0.0235\n"
     ]
    },
    {
     "name": "stderr",
     "output_type": "stream",
     "text": [
      "Epoch 745/1000 - Training: 100%|██████████| 7/7 [00:00<00:00, 363.46it/s]\n",
      "Epoch 745/1000 - Validation: 100%|██████████| 1/1 [00:00<00:00, 866.05it/s]\n"
     ]
    },
    {
     "name": "stdout",
     "output_type": "stream",
     "text": [
      "Epoch 745/1000 - Train Loss: 0.0308 - Val Loss: 0.0348\n"
     ]
    },
    {
     "name": "stderr",
     "output_type": "stream",
     "text": [
      "Epoch 746/1000 - Training: 100%|██████████| 7/7 [00:00<00:00, 365.94it/s]\n",
      "Epoch 746/1000 - Validation: 100%|██████████| 1/1 [00:00<00:00, 860.55it/s]\n"
     ]
    },
    {
     "name": "stdout",
     "output_type": "stream",
     "text": [
      "Epoch 746/1000 - Train Loss: 0.0318 - Val Loss: 0.0238\n"
     ]
    },
    {
     "name": "stderr",
     "output_type": "stream",
     "text": [
      "Epoch 747/1000 - Training: 100%|██████████| 7/7 [00:00<00:00, 353.67it/s]\n",
      "Epoch 747/1000 - Validation: 100%|██████████| 1/1 [00:00<00:00, 888.62it/s]\n"
     ]
    },
    {
     "name": "stdout",
     "output_type": "stream",
     "text": [
      "Epoch 747/1000 - Train Loss: 0.0364 - Val Loss: 0.0251\n"
     ]
    },
    {
     "name": "stderr",
     "output_type": "stream",
     "text": [
      "Epoch 748/1000 - Training: 100%|██████████| 7/7 [00:00<00:00, 358.04it/s]\n",
      "Epoch 748/1000 - Validation: 100%|██████████| 1/1 [00:00<00:00, 847.68it/s]\n"
     ]
    },
    {
     "name": "stdout",
     "output_type": "stream",
     "text": [
      "Epoch 748/1000 - Train Loss: 0.0318 - Val Loss: 0.0179\n"
     ]
    },
    {
     "name": "stderr",
     "output_type": "stream",
     "text": [
      "Epoch 749/1000 - Training: 100%|██████████| 7/7 [00:00<00:00, 351.04it/s]\n",
      "Epoch 749/1000 - Validation: 100%|██████████| 1/1 [00:00<00:00, 862.49it/s]\n"
     ]
    },
    {
     "name": "stdout",
     "output_type": "stream",
     "text": [
      "Epoch 749/1000 - Train Loss: 0.0305 - Val Loss: 0.0196\n"
     ]
    },
    {
     "name": "stderr",
     "output_type": "stream",
     "text": [
      "Epoch 750/1000 - Training: 100%|██████████| 7/7 [00:00<00:00, 355.76it/s]\n",
      "Epoch 750/1000 - Validation: 100%|██████████| 1/1 [00:00<00:00, 812.85it/s]\n"
     ]
    },
    {
     "name": "stdout",
     "output_type": "stream",
     "text": [
      "Epoch 750/1000 - Train Loss: 0.0357 - Val Loss: 0.0229\n"
     ]
    },
    {
     "name": "stderr",
     "output_type": "stream",
     "text": [
      "Epoch 751/1000 - Training: 100%|██████████| 7/7 [00:00<00:00, 270.39it/s]\n",
      "Epoch 751/1000 - Validation: 100%|██████████| 1/1 [00:00<00:00, 1142.55it/s]\n"
     ]
    },
    {
     "name": "stdout",
     "output_type": "stream",
     "text": [
      "Epoch 751/1000 - Train Loss: 0.0299 - Val Loss: 0.0177\n"
     ]
    },
    {
     "name": "stderr",
     "output_type": "stream",
     "text": [
      "Epoch 752/1000 - Training: 100%|██████████| 7/7 [00:00<00:00, 352.44it/s]\n",
      "Epoch 752/1000 - Validation: 100%|██████████| 1/1 [00:00<00:00, 977.92it/s]\n"
     ]
    },
    {
     "name": "stdout",
     "output_type": "stream",
     "text": [
      "Epoch 752/1000 - Train Loss: 0.0322 - Val Loss: 0.0214\n"
     ]
    },
    {
     "name": "stderr",
     "output_type": "stream",
     "text": [
      "Epoch 753/1000 - Training: 100%|██████████| 7/7 [00:00<00:00, 353.24it/s]\n",
      "Epoch 753/1000 - Validation: 100%|██████████| 1/1 [00:00<00:00, 959.14it/s]\n"
     ]
    },
    {
     "name": "stdout",
     "output_type": "stream",
     "text": [
      "Epoch 753/1000 - Train Loss: 0.0332 - Val Loss: 0.0224\n"
     ]
    },
    {
     "name": "stderr",
     "output_type": "stream",
     "text": [
      "Epoch 754/1000 - Training: 100%|██████████| 7/7 [00:00<00:00, 352.81it/s]\n",
      "Epoch 754/1000 - Validation: 100%|██████████| 1/1 [00:00<00:00, 1162.18it/s]\n"
     ]
    },
    {
     "name": "stdout",
     "output_type": "stream",
     "text": [
      "Epoch 754/1000 - Train Loss: 0.0343 - Val Loss: 0.0199\n"
     ]
    },
    {
     "name": "stderr",
     "output_type": "stream",
     "text": [
      "Epoch 755/1000 - Training: 100%|██████████| 7/7 [00:00<00:00, 352.26it/s]\n",
      "Epoch 755/1000 - Validation: 100%|██████████| 1/1 [00:00<00:00, 1011.41it/s]\n"
     ]
    },
    {
     "name": "stdout",
     "output_type": "stream",
     "text": [
      "Epoch 755/1000 - Train Loss: 0.0327 - Val Loss: 0.0227\n"
     ]
    },
    {
     "name": "stderr",
     "output_type": "stream",
     "text": [
      "Epoch 756/1000 - Training: 100%|██████████| 7/7 [00:00<00:00, 359.66it/s]\n",
      "Epoch 756/1000 - Validation: 100%|██████████| 1/1 [00:00<00:00, 846.99it/s]\n"
     ]
    },
    {
     "name": "stdout",
     "output_type": "stream",
     "text": [
      "Epoch 756/1000 - Train Loss: 0.0284 - Val Loss: 0.0266\n"
     ]
    },
    {
     "name": "stderr",
     "output_type": "stream",
     "text": [
      "Epoch 757/1000 - Training: 100%|██████████| 7/7 [00:00<00:00, 352.52it/s]\n",
      "Epoch 757/1000 - Validation: 100%|██████████| 1/1 [00:00<00:00, 835.52it/s]\n"
     ]
    },
    {
     "name": "stdout",
     "output_type": "stream",
     "text": [
      "Epoch 757/1000 - Train Loss: 0.0320 - Val Loss: 0.0267\n"
     ]
    },
    {
     "name": "stderr",
     "output_type": "stream",
     "text": [
      "Epoch 758/1000 - Training: 100%|██████████| 7/7 [00:00<00:00, 353.81it/s]\n",
      "Epoch 758/1000 - Validation: 100%|██████████| 1/1 [00:00<00:00, 814.11it/s]\n"
     ]
    },
    {
     "name": "stdout",
     "output_type": "stream",
     "text": [
      "Epoch 758/1000 - Train Loss: 0.0299 - Val Loss: 0.0193\n"
     ]
    },
    {
     "name": "stderr",
     "output_type": "stream",
     "text": [
      "Epoch 759/1000 - Training: 100%|██████████| 7/7 [00:00<00:00, 356.76it/s]\n",
      "Epoch 759/1000 - Validation: 100%|██████████| 1/1 [00:00<00:00, 884.50it/s]\n"
     ]
    },
    {
     "name": "stdout",
     "output_type": "stream",
     "text": [
      "Epoch 759/1000 - Train Loss: 0.0288 - Val Loss: 0.0303\n"
     ]
    },
    {
     "name": "stderr",
     "output_type": "stream",
     "text": [
      "Epoch 760/1000 - Training: 100%|██████████| 7/7 [00:00<00:00, 357.34it/s]\n",
      "Epoch 760/1000 - Validation: 100%|██████████| 1/1 [00:00<00:00, 836.69it/s]\n"
     ]
    },
    {
     "name": "stdout",
     "output_type": "stream",
     "text": [
      "Epoch 760/1000 - Train Loss: 0.0293 - Val Loss: 0.0297\n"
     ]
    },
    {
     "name": "stderr",
     "output_type": "stream",
     "text": [
      "Epoch 761/1000 - Training: 100%|██████████| 7/7 [00:00<00:00, 355.87it/s]\n",
      "Epoch 761/1000 - Validation: 100%|██████████| 1/1 [00:00<00:00, 910.02it/s]\n"
     ]
    },
    {
     "name": "stdout",
     "output_type": "stream",
     "text": [
      "Epoch 761/1000 - Train Loss: 0.0313 - Val Loss: 0.0279\n"
     ]
    },
    {
     "name": "stderr",
     "output_type": "stream",
     "text": [
      "Epoch 762/1000 - Training: 100%|██████████| 7/7 [00:00<00:00, 356.52it/s]\n",
      "Epoch 762/1000 - Validation: 100%|██████████| 1/1 [00:00<00:00, 972.03it/s]\n"
     ]
    },
    {
     "name": "stdout",
     "output_type": "stream",
     "text": [
      "Epoch 762/1000 - Train Loss: 0.0280 - Val Loss: 0.0269\n"
     ]
    },
    {
     "name": "stderr",
     "output_type": "stream",
     "text": [
      "Epoch 763/1000 - Training: 100%|██████████| 7/7 [00:00<00:00, 361.60it/s]\n",
      "Epoch 763/1000 - Validation: 100%|██████████| 1/1 [00:00<00:00, 1185.84it/s]\n"
     ]
    },
    {
     "name": "stdout",
     "output_type": "stream",
     "text": [
      "Epoch 763/1000 - Train Loss: 0.0277 - Val Loss: 0.0172\n"
     ]
    },
    {
     "name": "stderr",
     "output_type": "stream",
     "text": [
      "Epoch 764/1000 - Training: 100%|██████████| 7/7 [00:00<00:00, 363.76it/s]\n",
      "Epoch 764/1000 - Validation: 100%|██████████| 1/1 [00:00<00:00, 985.97it/s]\n"
     ]
    },
    {
     "name": "stdout",
     "output_type": "stream",
     "text": [
      "Epoch 764/1000 - Train Loss: 0.0315 - Val Loss: 0.0386\n"
     ]
    },
    {
     "name": "stderr",
     "output_type": "stream",
     "text": [
      "Epoch 765/1000 - Training: 100%|██████████| 7/7 [00:00<00:00, 359.42it/s]\n",
      "Epoch 765/1000 - Validation: 100%|██████████| 1/1 [00:00<00:00, 993.44it/s]\n"
     ]
    },
    {
     "name": "stdout",
     "output_type": "stream",
     "text": [
      "Epoch 765/1000 - Train Loss: 0.0408 - Val Loss: 0.0173\n"
     ]
    },
    {
     "name": "stderr",
     "output_type": "stream",
     "text": [
      "Epoch 766/1000 - Training: 100%|██████████| 7/7 [00:00<00:00, 358.73it/s]\n",
      "Epoch 766/1000 - Validation: 100%|██████████| 1/1 [00:00<00:00, 1020.02it/s]\n"
     ]
    },
    {
     "name": "stdout",
     "output_type": "stream",
     "text": [
      "Epoch 766/1000 - Train Loss: 0.0388 - Val Loss: 0.0397\n"
     ]
    },
    {
     "name": "stderr",
     "output_type": "stream",
     "text": [
      "Epoch 767/1000 - Training: 100%|██████████| 7/7 [00:00<00:00, 359.32it/s]\n",
      "Epoch 767/1000 - Validation: 100%|██████████| 1/1 [00:00<00:00, 863.03it/s]\n"
     ]
    },
    {
     "name": "stdout",
     "output_type": "stream",
     "text": [
      "Epoch 767/1000 - Train Loss: 0.0319 - Val Loss: 0.0241\n"
     ]
    },
    {
     "name": "stderr",
     "output_type": "stream",
     "text": [
      "Epoch 768/1000 - Training: 100%|██████████| 7/7 [00:00<00:00, 360.39it/s]\n",
      "Epoch 768/1000 - Validation: 100%|██████████| 1/1 [00:00<00:00, 863.38it/s]\n"
     ]
    },
    {
     "name": "stdout",
     "output_type": "stream",
     "text": [
      "Epoch 768/1000 - Train Loss: 0.0348 - Val Loss: 0.0200\n"
     ]
    },
    {
     "name": "stderr",
     "output_type": "stream",
     "text": [
      "Epoch 769/1000 - Training: 100%|██████████| 7/7 [00:00<00:00, 359.45it/s]\n",
      "Epoch 769/1000 - Validation: 100%|██████████| 1/1 [00:00<00:00, 814.74it/s]\n"
     ]
    },
    {
     "name": "stdout",
     "output_type": "stream",
     "text": [
      "Epoch 769/1000 - Train Loss: 0.0272 - Val Loss: 0.0149\n"
     ]
    },
    {
     "name": "stderr",
     "output_type": "stream",
     "text": [
      "Epoch 770/1000 - Training: 100%|██████████| 7/7 [00:00<00:00, 357.86it/s]\n",
      "Epoch 770/1000 - Validation: 100%|██████████| 1/1 [00:00<00:00, 868.39it/s]\n"
     ]
    },
    {
     "name": "stdout",
     "output_type": "stream",
     "text": [
      "Epoch 770/1000 - Train Loss: 0.0266 - Val Loss: 0.0287\n"
     ]
    },
    {
     "name": "stderr",
     "output_type": "stream",
     "text": [
      "Epoch 771/1000 - Training: 100%|██████████| 7/7 [00:00<00:00, 356.72it/s]\n",
      "Epoch 771/1000 - Validation: 100%|██████████| 1/1 [00:00<00:00, 653.11it/s]\n"
     ]
    },
    {
     "name": "stdout",
     "output_type": "stream",
     "text": [
      "Epoch 771/1000 - Train Loss: 0.0372 - Val Loss: 0.0157\n"
     ]
    },
    {
     "name": "stderr",
     "output_type": "stream",
     "text": [
      "Epoch 772/1000 - Training: 100%|██████████| 7/7 [00:00<00:00, 357.44it/s]\n",
      "Epoch 772/1000 - Validation: 100%|██████████| 1/1 [00:00<00:00, 844.77it/s]\n"
     ]
    },
    {
     "name": "stdout",
     "output_type": "stream",
     "text": [
      "Epoch 772/1000 - Train Loss: 0.0297 - Val Loss: 0.0253\n"
     ]
    },
    {
     "name": "stderr",
     "output_type": "stream",
     "text": [
      "Epoch 773/1000 - Training: 100%|██████████| 7/7 [00:00<00:00, 359.45it/s]\n",
      "Epoch 773/1000 - Validation: 100%|██████████| 1/1 [00:00<00:00, 915.59it/s]\n"
     ]
    },
    {
     "name": "stdout",
     "output_type": "stream",
     "text": [
      "Epoch 773/1000 - Train Loss: 0.0331 - Val Loss: 0.0306\n"
     ]
    },
    {
     "name": "stderr",
     "output_type": "stream",
     "text": [
      "Epoch 774/1000 - Training: 100%|██████████| 7/7 [00:00<00:00, 357.74it/s]\n",
      "Epoch 774/1000 - Validation: 100%|██████████| 1/1 [00:00<00:00, 769.88it/s]\n"
     ]
    },
    {
     "name": "stdout",
     "output_type": "stream",
     "text": [
      "Epoch 774/1000 - Train Loss: 0.0312 - Val Loss: 0.0431\n"
     ]
    },
    {
     "name": "stderr",
     "output_type": "stream",
     "text": [
      "Epoch 775/1000 - Training: 100%|██████████| 7/7 [00:00<00:00, 358.28it/s]\n",
      "Epoch 775/1000 - Validation: 100%|██████████| 1/1 [00:00<00:00, 928.77it/s]\n"
     ]
    },
    {
     "name": "stdout",
     "output_type": "stream",
     "text": [
      "Epoch 775/1000 - Train Loss: 0.0320 - Val Loss: 0.0244\n"
     ]
    },
    {
     "name": "stderr",
     "output_type": "stream",
     "text": [
      "Epoch 776/1000 - Training: 100%|██████████| 7/7 [00:00<00:00, 353.98it/s]\n",
      "Epoch 776/1000 - Validation: 100%|██████████| 1/1 [00:00<00:00, 959.14it/s]\n"
     ]
    },
    {
     "name": "stdout",
     "output_type": "stream",
     "text": [
      "Epoch 776/1000 - Train Loss: 0.0329 - Val Loss: 0.0229\n"
     ]
    },
    {
     "name": "stderr",
     "output_type": "stream",
     "text": [
      "Epoch 777/1000 - Training: 100%|██████████| 7/7 [00:00<00:00, 355.47it/s]\n",
      "Epoch 777/1000 - Validation: 100%|██████████| 1/1 [00:00<00:00, 913.79it/s]\n"
     ]
    },
    {
     "name": "stdout",
     "output_type": "stream",
     "text": [
      "Epoch 777/1000 - Train Loss: 0.0287 - Val Loss: 0.0405\n"
     ]
    },
    {
     "name": "stderr",
     "output_type": "stream",
     "text": [
      "Epoch 778/1000 - Training: 100%|██████████| 7/7 [00:00<00:00, 355.80it/s]\n",
      "Epoch 778/1000 - Validation: 100%|██████████| 1/1 [00:00<00:00, 870.37it/s]\n"
     ]
    },
    {
     "name": "stdout",
     "output_type": "stream",
     "text": [
      "Epoch 778/1000 - Train Loss: 0.0308 - Val Loss: 0.0224\n"
     ]
    },
    {
     "name": "stderr",
     "output_type": "stream",
     "text": [
      "Epoch 779/1000 - Training: 100%|██████████| 7/7 [00:00<00:00, 357.81it/s]\n",
      "Epoch 779/1000 - Validation: 100%|██████████| 1/1 [00:00<00:00, 856.85it/s]\n"
     ]
    },
    {
     "name": "stdout",
     "output_type": "stream",
     "text": [
      "Epoch 779/1000 - Train Loss: 0.0318 - Val Loss: 0.0234\n"
     ]
    },
    {
     "name": "stderr",
     "output_type": "stream",
     "text": [
      "Epoch 780/1000 - Training: 100%|██████████| 7/7 [00:00<00:00, 353.03it/s]\n",
      "Epoch 780/1000 - Validation: 100%|██████████| 1/1 [00:00<00:00, 937.48it/s]\n"
     ]
    },
    {
     "name": "stdout",
     "output_type": "stream",
     "text": [
      "Epoch 780/1000 - Train Loss: 0.0292 - Val Loss: 0.0197\n"
     ]
    },
    {
     "name": "stderr",
     "output_type": "stream",
     "text": [
      "Epoch 781/1000 - Training: 100%|██████████| 7/7 [00:00<00:00, 354.83it/s]\n",
      "Epoch 781/1000 - Validation: 100%|██████████| 1/1 [00:00<00:00, 981.81it/s]\n"
     ]
    },
    {
     "name": "stdout",
     "output_type": "stream",
     "text": [
      "Epoch 781/1000 - Train Loss: 0.0233 - Val Loss: 0.0385\n"
     ]
    },
    {
     "name": "stderr",
     "output_type": "stream",
     "text": [
      "Epoch 782/1000 - Training: 100%|██████████| 7/7 [00:00<00:00, 355.25it/s]\n",
      "Epoch 782/1000 - Validation: 100%|██████████| 1/1 [00:00<00:00, 992.97it/s]\n"
     ]
    },
    {
     "name": "stdout",
     "output_type": "stream",
     "text": [
      "Epoch 782/1000 - Train Loss: 0.0321 - Val Loss: 0.0222\n"
     ]
    },
    {
     "name": "stderr",
     "output_type": "stream",
     "text": [
      "Epoch 783/1000 - Training: 100%|██████████| 7/7 [00:00<00:00, 357.40it/s]\n",
      "Epoch 783/1000 - Validation: 100%|██████████| 1/1 [00:00<00:00, 981.81it/s]\n"
     ]
    },
    {
     "name": "stdout",
     "output_type": "stream",
     "text": [
      "Epoch 783/1000 - Train Loss: 0.0319 - Val Loss: 0.0312\n"
     ]
    },
    {
     "name": "stderr",
     "output_type": "stream",
     "text": [
      "Epoch 784/1000 - Training: 100%|██████████| 7/7 [00:00<00:00, 362.18it/s]\n",
      "Epoch 784/1000 - Validation: 100%|██████████| 1/1 [00:00<00:00, 1004.38it/s]\n"
     ]
    },
    {
     "name": "stdout",
     "output_type": "stream",
     "text": [
      "Epoch 784/1000 - Train Loss: 0.0296 - Val Loss: 0.0235\n"
     ]
    },
    {
     "name": "stderr",
     "output_type": "stream",
     "text": [
      "Epoch 785/1000 - Training: 100%|██████████| 7/7 [00:00<00:00, 358.39it/s]\n",
      "Epoch 785/1000 - Validation: 100%|██████████| 1/1 [00:00<00:00, 940.85it/s]\n"
     ]
    },
    {
     "name": "stdout",
     "output_type": "stream",
     "text": [
      "Epoch 785/1000 - Train Loss: 0.0296 - Val Loss: 0.0257\n"
     ]
    },
    {
     "name": "stderr",
     "output_type": "stream",
     "text": [
      "Epoch 786/1000 - Training: 100%|██████████| 7/7 [00:00<00:00, 360.20it/s]\n",
      "Epoch 786/1000 - Validation: 100%|██████████| 1/1 [00:00<00:00, 808.15it/s]\n"
     ]
    },
    {
     "name": "stdout",
     "output_type": "stream",
     "text": [
      "Epoch 786/1000 - Train Loss: 0.0319 - Val Loss: 0.0307\n"
     ]
    },
    {
     "name": "stderr",
     "output_type": "stream",
     "text": [
      "Epoch 787/1000 - Training: 100%|██████████| 7/7 [00:00<00:00, 359.68it/s]\n",
      "Epoch 787/1000 - Validation: 100%|██████████| 1/1 [00:00<00:00, 867.67it/s]\n"
     ]
    },
    {
     "name": "stdout",
     "output_type": "stream",
     "text": [
      "Epoch 787/1000 - Train Loss: 0.0305 - Val Loss: 0.0274\n"
     ]
    },
    {
     "name": "stderr",
     "output_type": "stream",
     "text": [
      "Epoch 788/1000 - Training: 100%|██████████| 7/7 [00:00<00:00, 359.22it/s]\n",
      "Epoch 788/1000 - Validation: 100%|██████████| 1/1 [00:00<00:00, 904.14it/s]\n"
     ]
    },
    {
     "name": "stdout",
     "output_type": "stream",
     "text": [
      "Epoch 788/1000 - Train Loss: 0.0291 - Val Loss: 0.0264\n"
     ]
    },
    {
     "name": "stderr",
     "output_type": "stream",
     "text": [
      "Epoch 789/1000 - Training: 100%|██████████| 7/7 [00:00<00:00, 272.23it/s]\n",
      "Epoch 789/1000 - Validation: 100%|██████████| 1/1 [00:00<00:00, 1023.00it/s]\n"
     ]
    },
    {
     "name": "stdout",
     "output_type": "stream",
     "text": [
      "Epoch 789/1000 - Train Loss: 0.0347 - Val Loss: 0.0357\n"
     ]
    },
    {
     "name": "stderr",
     "output_type": "stream",
     "text": [
      "Epoch 790/1000 - Training: 100%|██████████| 7/7 [00:00<00:00, 353.95it/s]\n",
      "Epoch 790/1000 - Validation: 100%|██████████| 1/1 [00:00<00:00, 980.21it/s]\n"
     ]
    },
    {
     "name": "stdout",
     "output_type": "stream",
     "text": [
      "Epoch 790/1000 - Train Loss: 0.0299 - Val Loss: 0.0357\n"
     ]
    },
    {
     "name": "stderr",
     "output_type": "stream",
     "text": [
      "Epoch 791/1000 - Training: 100%|██████████| 7/7 [00:00<00:00, 357.44it/s]\n",
      "Epoch 791/1000 - Validation: 100%|██████████| 1/1 [00:00<00:00, 1002.94it/s]\n"
     ]
    },
    {
     "name": "stdout",
     "output_type": "stream",
     "text": [
      "Epoch 791/1000 - Train Loss: 0.0257 - Val Loss: 0.0272\n"
     ]
    },
    {
     "name": "stderr",
     "output_type": "stream",
     "text": [
      "Epoch 792/1000 - Training: 100%|██████████| 7/7 [00:00<00:00, 358.12it/s]\n",
      "Epoch 792/1000 - Validation: 100%|██████████| 1/1 [00:00<00:00, 976.33it/s]\n"
     ]
    },
    {
     "name": "stdout",
     "output_type": "stream",
     "text": [
      "Epoch 792/1000 - Train Loss: 0.0342 - Val Loss: 0.0275\n"
     ]
    },
    {
     "name": "stderr",
     "output_type": "stream",
     "text": [
      "Epoch 793/1000 - Training: 100%|██████████| 7/7 [00:00<00:00, 357.88it/s]\n",
      "Epoch 793/1000 - Validation: 100%|██████████| 1/1 [00:00<00:00, 887.31it/s]\n"
     ]
    },
    {
     "name": "stdout",
     "output_type": "stream",
     "text": [
      "Epoch 793/1000 - Train Loss: 0.0259 - Val Loss: 0.0271\n"
     ]
    },
    {
     "name": "stderr",
     "output_type": "stream",
     "text": [
      "Epoch 794/1000 - Training: 100%|██████████| 7/7 [00:00<00:00, 274.39it/s]\n",
      "Epoch 794/1000 - Validation: 100%|██████████| 1/1 [00:00<00:00, 936.02it/s]\n"
     ]
    },
    {
     "name": "stdout",
     "output_type": "stream",
     "text": [
      "Epoch 794/1000 - Train Loss: 0.0311 - Val Loss: 0.0287\n"
     ]
    },
    {
     "name": "stderr",
     "output_type": "stream",
     "text": [
      "Epoch 795/1000 - Training: 100%|██████████| 7/7 [00:00<00:00, 353.07it/s]\n",
      "Epoch 795/1000 - Validation: 100%|██████████| 1/1 [00:00<00:00, 963.54it/s]\n"
     ]
    },
    {
     "name": "stdout",
     "output_type": "stream",
     "text": [
      "Epoch 795/1000 - Train Loss: 0.0357 - Val Loss: 0.0308\n"
     ]
    },
    {
     "name": "stderr",
     "output_type": "stream",
     "text": [
      "Epoch 796/1000 - Training: 100%|██████████| 7/7 [00:00<00:00, 347.56it/s]\n",
      "Epoch 796/1000 - Validation: 100%|██████████| 1/1 [00:00<00:00, 992.50it/s]\n"
     ]
    },
    {
     "name": "stdout",
     "output_type": "stream",
     "text": [
      "Epoch 796/1000 - Train Loss: 0.0326 - Val Loss: 0.0271\n"
     ]
    },
    {
     "name": "stderr",
     "output_type": "stream",
     "text": [
      "Epoch 797/1000 - Training: 100%|██████████| 7/7 [00:00<00:00, 355.25it/s]\n",
      "Epoch 797/1000 - Validation: 100%|██████████| 1/1 [00:00<00:00, 926.71it/s]\n"
     ]
    },
    {
     "name": "stdout",
     "output_type": "stream",
     "text": [
      "Epoch 797/1000 - Train Loss: 0.0337 - Val Loss: 0.0331\n"
     ]
    },
    {
     "name": "stderr",
     "output_type": "stream",
     "text": [
      "Epoch 798/1000 - Training: 100%|██████████| 7/7 [00:00<00:00, 355.26it/s]\n",
      "Epoch 798/1000 - Validation: 100%|██████████| 1/1 [00:00<00:00, 821.12it/s]\n"
     ]
    },
    {
     "name": "stdout",
     "output_type": "stream",
     "text": [
      "Epoch 798/1000 - Train Loss: 0.0294 - Val Loss: 0.0337\n"
     ]
    },
    {
     "name": "stderr",
     "output_type": "stream",
     "text": [
      "Epoch 799/1000 - Training: 100%|██████████| 7/7 [00:00<00:00, 275.73it/s]\n",
      "Epoch 799/1000 - Validation: 100%|██████████| 1/1 [00:00<00:00, 996.98it/s]\n"
     ]
    },
    {
     "name": "stdout",
     "output_type": "stream",
     "text": [
      "Epoch 799/1000 - Train Loss: 0.0322 - Val Loss: 0.0295\n"
     ]
    },
    {
     "name": "stderr",
     "output_type": "stream",
     "text": [
      "Epoch 800/1000 - Training: 100%|██████████| 7/7 [00:00<00:00, 353.80it/s]\n",
      "Epoch 800/1000 - Validation: 100%|██████████| 1/1 [00:00<00:00, 1154.18it/s]\n"
     ]
    },
    {
     "name": "stdout",
     "output_type": "stream",
     "text": [
      "Epoch 800/1000 - Train Loss: 0.0324 - Val Loss: 0.0261\n"
     ]
    },
    {
     "name": "stderr",
     "output_type": "stream",
     "text": [
      "Epoch 801/1000 - Training: 100%|██████████| 7/7 [00:00<00:00, 352.45it/s]\n",
      "Epoch 801/1000 - Validation: 100%|██████████| 1/1 [00:00<00:00, 973.83it/s]\n"
     ]
    },
    {
     "name": "stdout",
     "output_type": "stream",
     "text": [
      "Epoch 801/1000 - Train Loss: 0.0300 - Val Loss: 0.0228\n"
     ]
    },
    {
     "name": "stderr",
     "output_type": "stream",
     "text": [
      "Epoch 802/1000 - Training: 100%|██████████| 7/7 [00:00<00:00, 352.69it/s]\n",
      "Epoch 802/1000 - Validation: 100%|██████████| 1/1 [00:00<00:00, 993.44it/s]\n"
     ]
    },
    {
     "name": "stdout",
     "output_type": "stream",
     "text": [
      "Epoch 802/1000 - Train Loss: 0.0268 - Val Loss: 0.0244\n"
     ]
    },
    {
     "name": "stderr",
     "output_type": "stream",
     "text": [
      "Epoch 803/1000 - Training: 100%|██████████| 7/7 [00:00<00:00, 355.20it/s]\n",
      "Epoch 803/1000 - Validation: 100%|██████████| 1/1 [00:00<00:00, 726.92it/s]\n"
     ]
    },
    {
     "name": "stdout",
     "output_type": "stream",
     "text": [
      "Epoch 803/1000 - Train Loss: 0.0277 - Val Loss: 0.0233\n"
     ]
    },
    {
     "name": "stderr",
     "output_type": "stream",
     "text": [
      "Epoch 804/1000 - Training: 100%|██████████| 7/7 [00:00<00:00, 300.04it/s]\n",
      "Epoch 804/1000 - Validation: 100%|██████████| 1/1 [00:00<00:00, 844.26it/s]\n"
     ]
    },
    {
     "name": "stdout",
     "output_type": "stream",
     "text": [
      "Epoch 804/1000 - Train Loss: 0.0251 - Val Loss: 0.0222\n"
     ]
    },
    {
     "name": "stderr",
     "output_type": "stream",
     "text": [
      "Epoch 805/1000 - Training: 100%|██████████| 7/7 [00:00<00:00, 308.52it/s]\n",
      "Epoch 805/1000 - Validation: 100%|██████████| 1/1 [00:00<00:00, 830.06it/s]\n"
     ]
    },
    {
     "name": "stdout",
     "output_type": "stream",
     "text": [
      "Epoch 805/1000 - Train Loss: 0.0281 - Val Loss: 0.0243\n"
     ]
    },
    {
     "name": "stderr",
     "output_type": "stream",
     "text": [
      "Epoch 806/1000 - Training: 100%|██████████| 7/7 [00:00<00:00, 307.55it/s]\n",
      "Epoch 806/1000 - Validation: 100%|██████████| 1/1 [00:00<00:00, 765.66it/s]\n"
     ]
    },
    {
     "name": "stdout",
     "output_type": "stream",
     "text": [
      "Epoch 806/1000 - Train Loss: 0.0262 - Val Loss: 0.0225\n"
     ]
    },
    {
     "name": "stderr",
     "output_type": "stream",
     "text": [
      "Epoch 807/1000 - Training: 100%|██████████| 7/7 [00:00<00:00, 242.64it/s]\n",
      "Epoch 807/1000 - Validation: 100%|██████████| 1/1 [00:00<00:00, 872.72it/s]\n"
     ]
    },
    {
     "name": "stdout",
     "output_type": "stream",
     "text": [
      "Epoch 807/1000 - Train Loss: 0.0352 - Val Loss: 0.0362\n"
     ]
    },
    {
     "name": "stderr",
     "output_type": "stream",
     "text": [
      "Epoch 808/1000 - Training: 100%|██████████| 7/7 [00:00<00:00, 305.26it/s]\n",
      "Epoch 808/1000 - Validation: 100%|██████████| 1/1 [00:00<00:00, 978.61it/s]\n"
     ]
    },
    {
     "name": "stdout",
     "output_type": "stream",
     "text": [
      "Epoch 808/1000 - Train Loss: 0.0347 - Val Loss: 0.0245\n"
     ]
    },
    {
     "name": "stderr",
     "output_type": "stream",
     "text": [
      "Epoch 809/1000 - Training: 100%|██████████| 7/7 [00:00<00:00, 305.37it/s]\n",
      "Epoch 809/1000 - Validation: 100%|██████████| 1/1 [00:00<00:00, 992.73it/s]\n"
     ]
    },
    {
     "name": "stdout",
     "output_type": "stream",
     "text": [
      "Epoch 809/1000 - Train Loss: 0.0315 - Val Loss: 0.0212\n"
     ]
    },
    {
     "name": "stderr",
     "output_type": "stream",
     "text": [
      "Epoch 810/1000 - Training: 100%|██████████| 7/7 [00:00<00:00, 310.11it/s]\n",
      "Epoch 810/1000 - Validation: 100%|██████████| 1/1 [00:00<00:00, 705.28it/s]\n"
     ]
    },
    {
     "name": "stdout",
     "output_type": "stream",
     "text": [
      "Epoch 810/1000 - Train Loss: 0.0321 - Val Loss: 0.0335\n"
     ]
    },
    {
     "name": "stderr",
     "output_type": "stream",
     "text": [
      "Epoch 811/1000 - Training: 100%|██████████| 7/7 [00:00<00:00, 323.08it/s]\n",
      "Epoch 811/1000 - Validation: 100%|██████████| 1/1 [00:00<00:00, 848.36it/s]\n"
     ]
    },
    {
     "name": "stdout",
     "output_type": "stream",
     "text": [
      "Epoch 811/1000 - Train Loss: 0.0291 - Val Loss: 0.0341\n"
     ]
    },
    {
     "name": "stderr",
     "output_type": "stream",
     "text": [
      "Epoch 812/1000 - Training: 100%|██████████| 7/7 [00:00<00:00, 326.16it/s]\n",
      "Epoch 812/1000 - Validation: 100%|██████████| 1/1 [00:00<00:00, 828.75it/s]\n"
     ]
    },
    {
     "name": "stdout",
     "output_type": "stream",
     "text": [
      "Epoch 812/1000 - Train Loss: 0.0303 - Val Loss: 0.0514\n"
     ]
    },
    {
     "name": "stderr",
     "output_type": "stream",
     "text": [
      "Epoch 813/1000 - Training: 100%|██████████| 7/7 [00:00<00:00, 320.92it/s]\n",
      "Epoch 813/1000 - Validation: 100%|██████████| 1/1 [00:00<00:00, 840.54it/s]\n"
     ]
    },
    {
     "name": "stdout",
     "output_type": "stream",
     "text": [
      "Epoch 813/1000 - Train Loss: 0.0317 - Val Loss: 0.0246\n"
     ]
    },
    {
     "name": "stderr",
     "output_type": "stream",
     "text": [
      "Epoch 814/1000 - Training: 100%|██████████| 7/7 [00:00<00:00, 324.48it/s]\n",
      "Epoch 814/1000 - Validation: 100%|██████████| 1/1 [00:00<00:00, 723.65it/s]\n"
     ]
    },
    {
     "name": "stdout",
     "output_type": "stream",
     "text": [
      "Epoch 814/1000 - Train Loss: 0.0298 - Val Loss: 0.0385\n"
     ]
    },
    {
     "name": "stderr",
     "output_type": "stream",
     "text": [
      "Epoch 815/1000 - Training: 100%|██████████| 7/7 [00:00<00:00, 322.01it/s]\n",
      "Epoch 815/1000 - Validation: 100%|██████████| 1/1 [00:00<00:00, 752.75it/s]\n"
     ]
    },
    {
     "name": "stdout",
     "output_type": "stream",
     "text": [
      "Epoch 815/1000 - Train Loss: 0.0227 - Val Loss: 0.0169\n"
     ]
    },
    {
     "name": "stderr",
     "output_type": "stream",
     "text": [
      "Epoch 816/1000 - Training: 100%|██████████| 7/7 [00:00<00:00, 322.83it/s]\n",
      "Epoch 816/1000 - Validation: 100%|██████████| 1/1 [00:00<00:00, 808.93it/s]\n"
     ]
    },
    {
     "name": "stdout",
     "output_type": "stream",
     "text": [
      "Epoch 816/1000 - Train Loss: 0.0334 - Val Loss: 0.0253\n"
     ]
    },
    {
     "name": "stderr",
     "output_type": "stream",
     "text": [
      "Epoch 817/1000 - Training: 100%|██████████| 7/7 [00:00<00:00, 318.97it/s]\n",
      "Epoch 817/1000 - Validation: 100%|██████████| 1/1 [00:00<00:00, 704.45it/s]\n"
     ]
    },
    {
     "name": "stdout",
     "output_type": "stream",
     "text": [
      "Epoch 817/1000 - Train Loss: 0.0304 - Val Loss: 0.0235\n"
     ]
    },
    {
     "name": "stderr",
     "output_type": "stream",
     "text": [
      "Epoch 818/1000 - Training: 100%|██████████| 7/7 [00:00<00:00, 317.45it/s]\n",
      "Epoch 818/1000 - Validation: 100%|██████████| 1/1 [00:00<00:00, 867.49it/s]\n"
     ]
    },
    {
     "name": "stdout",
     "output_type": "stream",
     "text": [
      "Epoch 818/1000 - Train Loss: 0.0279 - Val Loss: 0.0357\n"
     ]
    },
    {
     "name": "stderr",
     "output_type": "stream",
     "text": [
      "Epoch 819/1000 - Training: 100%|██████████| 7/7 [00:00<00:00, 319.71it/s]\n",
      "Epoch 819/1000 - Validation: 100%|██████████| 1/1 [00:00<00:00, 747.25it/s]\n"
     ]
    },
    {
     "name": "stdout",
     "output_type": "stream",
     "text": [
      "Epoch 819/1000 - Train Loss: 0.0313 - Val Loss: 0.0188\n"
     ]
    },
    {
     "name": "stderr",
     "output_type": "stream",
     "text": [
      "Epoch 820/1000 - Training: 100%|██████████| 7/7 [00:00<00:00, 316.21it/s]\n",
      "Epoch 820/1000 - Validation: 100%|██████████| 1/1 [00:00<00:00, 774.29it/s]\n"
     ]
    },
    {
     "name": "stdout",
     "output_type": "stream",
     "text": [
      "Epoch 820/1000 - Train Loss: 0.0289 - Val Loss: 0.0340\n"
     ]
    },
    {
     "name": "stderr",
     "output_type": "stream",
     "text": [
      "Epoch 821/1000 - Training: 100%|██████████| 7/7 [00:00<00:00, 312.23it/s]\n",
      "Epoch 821/1000 - Validation: 100%|██████████| 1/1 [00:00<00:00, 690.53it/s]\n"
     ]
    },
    {
     "name": "stdout",
     "output_type": "stream",
     "text": [
      "Epoch 821/1000 - Train Loss: 0.0314 - Val Loss: 0.0215\n"
     ]
    },
    {
     "name": "stderr",
     "output_type": "stream",
     "text": [
      "Epoch 822/1000 - Training: 100%|██████████| 7/7 [00:00<00:00, 298.19it/s]\n",
      "Epoch 822/1000 - Validation: 100%|██████████| 1/1 [00:00<00:00, 866.05it/s]\n"
     ]
    },
    {
     "name": "stdout",
     "output_type": "stream",
     "text": [
      "Epoch 822/1000 - Train Loss: 0.0344 - Val Loss: 0.0362\n"
     ]
    },
    {
     "name": "stderr",
     "output_type": "stream",
     "text": [
      "Epoch 823/1000 - Training: 100%|██████████| 7/7 [00:00<00:00, 313.61it/s]\n",
      "Epoch 823/1000 - Validation: 100%|██████████| 1/1 [00:00<00:00, 787.51it/s]\n"
     ]
    },
    {
     "name": "stdout",
     "output_type": "stream",
     "text": [
      "Epoch 823/1000 - Train Loss: 0.0373 - Val Loss: 0.0231\n"
     ]
    },
    {
     "name": "stderr",
     "output_type": "stream",
     "text": [
      "Epoch 824/1000 - Training: 100%|██████████| 7/7 [00:00<00:00, 310.73it/s]\n",
      "Epoch 824/1000 - Validation: 100%|██████████| 1/1 [00:00<00:00, 783.54it/s]\n"
     ]
    },
    {
     "name": "stdout",
     "output_type": "stream",
     "text": [
      "Epoch 824/1000 - Train Loss: 0.0309 - Val Loss: 0.0573\n"
     ]
    },
    {
     "name": "stderr",
     "output_type": "stream",
     "text": [
      "Epoch 825/1000 - Training: 100%|██████████| 7/7 [00:00<00:00, 303.27it/s]\n",
      "Epoch 825/1000 - Validation: 100%|██████████| 1/1 [00:00<00:00, 773.14it/s]\n"
     ]
    },
    {
     "name": "stdout",
     "output_type": "stream",
     "text": [
      "Epoch 825/1000 - Train Loss: 0.0293 - Val Loss: 0.0211\n"
     ]
    },
    {
     "name": "stderr",
     "output_type": "stream",
     "text": [
      "Epoch 826/1000 - Training: 100%|██████████| 7/7 [00:00<00:00, 300.52it/s]\n",
      "Epoch 826/1000 - Validation: 100%|██████████| 1/1 [00:00<00:00, 694.65it/s]\n"
     ]
    },
    {
     "name": "stdout",
     "output_type": "stream",
     "text": [
      "Epoch 826/1000 - Train Loss: 0.0299 - Val Loss: 0.0543\n"
     ]
    },
    {
     "name": "stderr",
     "output_type": "stream",
     "text": [
      "Epoch 827/1000 - Training: 100%|██████████| 7/7 [00:00<00:00, 301.91it/s]\n",
      "Epoch 827/1000 - Validation: 100%|██████████| 1/1 [00:00<00:00, 729.19it/s]\n"
     ]
    },
    {
     "name": "stdout",
     "output_type": "stream",
     "text": [
      "Epoch 827/1000 - Train Loss: 0.0352 - Val Loss: 0.0286\n"
     ]
    },
    {
     "name": "stderr",
     "output_type": "stream",
     "text": [
      "Epoch 828/1000 - Training: 100%|██████████| 7/7 [00:00<00:00, 307.51it/s]\n",
      "Epoch 828/1000 - Validation: 100%|██████████| 1/1 [00:00<00:00, 801.97it/s]\n"
     ]
    },
    {
     "name": "stdout",
     "output_type": "stream",
     "text": [
      "Epoch 828/1000 - Train Loss: 0.0259 - Val Loss: 0.0303\n"
     ]
    },
    {
     "name": "stderr",
     "output_type": "stream",
     "text": [
      "Epoch 829/1000 - Training: 100%|██████████| 7/7 [00:00<00:00, 307.38it/s]\n",
      "Epoch 829/1000 - Validation: 100%|██████████| 1/1 [00:00<00:00, 840.37it/s]\n"
     ]
    },
    {
     "name": "stdout",
     "output_type": "stream",
     "text": [
      "Epoch 829/1000 - Train Loss: 0.0246 - Val Loss: 0.0232\n"
     ]
    },
    {
     "name": "stderr",
     "output_type": "stream",
     "text": [
      "Epoch 830/1000 - Training: 100%|██████████| 7/7 [00:00<00:00, 226.76it/s]\n",
      "Epoch 830/1000 - Validation: 100%|██████████| 1/1 [00:00<00:00, 861.96it/s]\n"
     ]
    },
    {
     "name": "stdout",
     "output_type": "stream",
     "text": [
      "Epoch 830/1000 - Train Loss: 0.0278 - Val Loss: 0.0285\n"
     ]
    },
    {
     "name": "stderr",
     "output_type": "stream",
     "text": [
      "Epoch 831/1000 - Training: 100%|██████████| 7/7 [00:00<00:00, 286.30it/s]\n",
      "Epoch 831/1000 - Validation: 100%|██████████| 1/1 [00:00<00:00, 808.77it/s]\n"
     ]
    },
    {
     "name": "stdout",
     "output_type": "stream",
     "text": [
      "Epoch 831/1000 - Train Loss: 0.0296 - Val Loss: 0.0197\n"
     ]
    },
    {
     "name": "stderr",
     "output_type": "stream",
     "text": [
      "Epoch 832/1000 - Training: 100%|██████████| 7/7 [00:00<00:00, 290.32it/s]\n",
      "Epoch 832/1000 - Validation: 100%|██████████| 1/1 [00:00<00:00, 811.28it/s]\n"
     ]
    },
    {
     "name": "stdout",
     "output_type": "stream",
     "text": [
      "Epoch 832/1000 - Train Loss: 0.0324 - Val Loss: 0.0259\n"
     ]
    },
    {
     "name": "stderr",
     "output_type": "stream",
     "text": [
      "Epoch 833/1000 - Training: 100%|██████████| 7/7 [00:00<00:00, 233.98it/s]\n",
      "Epoch 833/1000 - Validation: 100%|██████████| 1/1 [00:00<00:00, 845.80it/s]\n"
     ]
    },
    {
     "name": "stdout",
     "output_type": "stream",
     "text": [
      "Epoch 833/1000 - Train Loss: 0.0333 - Val Loss: 0.0193\n"
     ]
    },
    {
     "name": "stderr",
     "output_type": "stream",
     "text": [
      "Epoch 834/1000 - Training: 100%|██████████| 7/7 [00:00<00:00, 251.12it/s]\n",
      "Epoch 834/1000 - Validation: 100%|██████████| 1/1 [00:00<00:00, 953.90it/s]\n"
     ]
    },
    {
     "name": "stdout",
     "output_type": "stream",
     "text": [
      "Epoch 834/1000 - Train Loss: 0.0352 - Val Loss: 0.0388\n"
     ]
    },
    {
     "name": "stderr",
     "output_type": "stream",
     "text": [
      "Epoch 835/1000 - Training: 100%|██████████| 7/7 [00:00<00:00, 301.30it/s]\n",
      "Epoch 835/1000 - Validation: 100%|██████████| 1/1 [00:00<00:00, 864.63it/s]\n"
     ]
    },
    {
     "name": "stdout",
     "output_type": "stream",
     "text": [
      "Epoch 835/1000 - Train Loss: 0.0342 - Val Loss: 0.0236\n"
     ]
    },
    {
     "name": "stderr",
     "output_type": "stream",
     "text": [
      "Epoch 836/1000 - Training: 100%|██████████| 7/7 [00:00<00:00, 307.53it/s]\n",
      "Epoch 836/1000 - Validation: 100%|██████████| 1/1 [00:00<00:00, 796.64it/s]\n"
     ]
    },
    {
     "name": "stdout",
     "output_type": "stream",
     "text": [
      "Epoch 836/1000 - Train Loss: 0.0314 - Val Loss: 0.0327\n"
     ]
    },
    {
     "name": "stderr",
     "output_type": "stream",
     "text": [
      "Epoch 837/1000 - Training: 100%|██████████| 7/7 [00:00<00:00, 287.66it/s]\n",
      "Epoch 837/1000 - Validation: 100%|██████████| 1/1 [00:00<00:00, 786.19it/s]\n"
     ]
    },
    {
     "name": "stdout",
     "output_type": "stream",
     "text": [
      "Epoch 837/1000 - Train Loss: 0.0264 - Val Loss: 0.0279\n"
     ]
    },
    {
     "name": "stderr",
     "output_type": "stream",
     "text": [
      "Epoch 838/1000 - Training: 100%|██████████| 7/7 [00:00<00:00, 298.66it/s]\n",
      "Epoch 838/1000 - Validation: 100%|██████████| 1/1 [00:00<00:00, 691.22it/s]\n"
     ]
    },
    {
     "name": "stdout",
     "output_type": "stream",
     "text": [
      "Epoch 838/1000 - Train Loss: 0.0244 - Val Loss: 0.0260\n"
     ]
    },
    {
     "name": "stderr",
     "output_type": "stream",
     "text": [
      "Epoch 839/1000 - Training: 100%|██████████| 7/7 [00:00<00:00, 301.10it/s]\n",
      "Epoch 839/1000 - Validation: 100%|██████████| 1/1 [00:00<00:00, 726.29it/s]\n"
     ]
    },
    {
     "name": "stdout",
     "output_type": "stream",
     "text": [
      "Epoch 839/1000 - Train Loss: 0.0312 - Val Loss: 0.0385\n"
     ]
    },
    {
     "name": "stderr",
     "output_type": "stream",
     "text": [
      "Epoch 840/1000 - Training: 100%|██████████| 7/7 [00:00<00:00, 231.81it/s]\n",
      "Epoch 840/1000 - Validation: 100%|██████████| 1/1 [00:00<00:00, 823.70it/s]\n"
     ]
    },
    {
     "name": "stdout",
     "output_type": "stream",
     "text": [
      "Epoch 840/1000 - Train Loss: 0.0380 - Val Loss: 0.0228\n"
     ]
    },
    {
     "name": "stderr",
     "output_type": "stream",
     "text": [
      "Epoch 841/1000 - Training: 100%|██████████| 7/7 [00:00<00:00, 300.41it/s]\n",
      "Epoch 841/1000 - Validation: 100%|██████████| 1/1 [00:00<00:00, 846.48it/s]\n"
     ]
    },
    {
     "name": "stdout",
     "output_type": "stream",
     "text": [
      "Epoch 841/1000 - Train Loss: 0.0421 - Val Loss: 0.0311\n"
     ]
    },
    {
     "name": "stderr",
     "output_type": "stream",
     "text": [
      "Epoch 842/1000 - Training: 100%|██████████| 7/7 [00:00<00:00, 300.78it/s]\n",
      "Epoch 842/1000 - Validation: 100%|██████████| 1/1 [00:00<00:00, 762.88it/s]\n"
     ]
    },
    {
     "name": "stdout",
     "output_type": "stream",
     "text": [
      "Epoch 842/1000 - Train Loss: 0.0294 - Val Loss: 0.0223\n"
     ]
    },
    {
     "name": "stderr",
     "output_type": "stream",
     "text": [
      "Epoch 843/1000 - Training: 100%|██████████| 7/7 [00:00<00:00, 241.39it/s]\n",
      "Epoch 843/1000 - Validation: 100%|██████████| 1/1 [00:00<00:00, 809.55it/s]\n"
     ]
    },
    {
     "name": "stdout",
     "output_type": "stream",
     "text": [
      "Epoch 843/1000 - Train Loss: 0.0277 - Val Loss: 0.0237\n"
     ]
    },
    {
     "name": "stderr",
     "output_type": "stream",
     "text": [
      "Epoch 844/1000 - Training: 100%|██████████| 7/7 [00:00<00:00, 296.52it/s]\n",
      "Epoch 844/1000 - Validation: 100%|██████████| 1/1 [00:00<00:00, 836.69it/s]\n"
     ]
    },
    {
     "name": "stdout",
     "output_type": "stream",
     "text": [
      "Epoch 844/1000 - Train Loss: 0.0311 - Val Loss: 0.0279\n"
     ]
    },
    {
     "name": "stderr",
     "output_type": "stream",
     "text": [
      "Epoch 845/1000 - Training: 100%|██████████| 7/7 [00:00<00:00, 260.22it/s]\n",
      "Epoch 845/1000 - Validation: 100%|██████████| 1/1 [00:00<00:00, 861.61it/s]\n"
     ]
    },
    {
     "name": "stdout",
     "output_type": "stream",
     "text": [
      "Epoch 845/1000 - Train Loss: 0.0272 - Val Loss: 0.0392\n"
     ]
    },
    {
     "name": "stderr",
     "output_type": "stream",
     "text": [
      "Epoch 846/1000 - Training: 100%|██████████| 7/7 [00:00<00:00, 320.56it/s]\n",
      "Epoch 846/1000 - Validation: 100%|██████████| 1/1 [00:00<00:00, 775.43it/s]\n"
     ]
    },
    {
     "name": "stdout",
     "output_type": "stream",
     "text": [
      "Epoch 846/1000 - Train Loss: 0.0346 - Val Loss: 0.0259\n"
     ]
    },
    {
     "name": "stderr",
     "output_type": "stream",
     "text": [
      "Epoch 847/1000 - Training: 100%|██████████| 7/7 [00:00<00:00, 319.86it/s]\n",
      "Epoch 847/1000 - Validation: 100%|██████████| 1/1 [00:00<00:00, 796.03it/s]\n"
     ]
    },
    {
     "name": "stdout",
     "output_type": "stream",
     "text": [
      "Epoch 847/1000 - Train Loss: 0.0359 - Val Loss: 0.0302\n"
     ]
    },
    {
     "name": "stderr",
     "output_type": "stream",
     "text": [
      "Epoch 848/1000 - Training: 100%|██████████| 7/7 [00:00<00:00, 323.00it/s]\n",
      "Epoch 848/1000 - Validation: 100%|██████████| 1/1 [00:00<00:00, 877.65it/s]\n"
     ]
    },
    {
     "name": "stdout",
     "output_type": "stream",
     "text": [
      "Epoch 848/1000 - Train Loss: 0.0337 - Val Loss: 0.0380\n"
     ]
    },
    {
     "name": "stderr",
     "output_type": "stream",
     "text": [
      "Epoch 849/1000 - Training: 100%|██████████| 7/7 [00:00<00:00, 323.53it/s]\n",
      "Epoch 849/1000 - Validation: 100%|██████████| 1/1 [00:00<00:00, 806.75it/s]\n"
     ]
    },
    {
     "name": "stdout",
     "output_type": "stream",
     "text": [
      "Epoch 849/1000 - Train Loss: 0.0267 - Val Loss: 0.0238\n"
     ]
    },
    {
     "name": "stderr",
     "output_type": "stream",
     "text": [
      "Epoch 850/1000 - Training: 100%|██████████| 7/7 [00:00<00:00, 249.82it/s]\n",
      "Epoch 850/1000 - Validation: 100%|██████████| 1/1 [00:00<00:00, 975.19it/s]\n"
     ]
    },
    {
     "name": "stdout",
     "output_type": "stream",
     "text": [
      "Epoch 850/1000 - Train Loss: 0.0258 - Val Loss: 0.0363\n"
     ]
    },
    {
     "name": "stderr",
     "output_type": "stream",
     "text": [
      "Epoch 851/1000 - Training: 100%|██████████| 7/7 [00:00<00:00, 325.10it/s]\n",
      "Epoch 851/1000 - Validation: 100%|██████████| 1/1 [00:00<00:00, 711.26it/s]\n"
     ]
    },
    {
     "name": "stdout",
     "output_type": "stream",
     "text": [
      "Epoch 851/1000 - Train Loss: 0.0301 - Val Loss: 0.0255\n"
     ]
    },
    {
     "name": "stderr",
     "output_type": "stream",
     "text": [
      "Epoch 852/1000 - Training: 100%|██████████| 7/7 [00:00<00:00, 323.86it/s]\n",
      "Epoch 852/1000 - Validation: 100%|██████████| 1/1 [00:00<00:00, 900.26it/s]\n"
     ]
    },
    {
     "name": "stdout",
     "output_type": "stream",
     "text": [
      "Epoch 852/1000 - Train Loss: 0.0298 - Val Loss: 0.0284\n"
     ]
    },
    {
     "name": "stderr",
     "output_type": "stream",
     "text": [
      "Epoch 853/1000 - Training: 100%|██████████| 7/7 [00:00<00:00, 323.04it/s]\n",
      "Epoch 853/1000 - Validation: 100%|██████████| 1/1 [00:00<00:00, 758.19it/s]\n"
     ]
    },
    {
     "name": "stdout",
     "output_type": "stream",
     "text": [
      "Epoch 853/1000 - Train Loss: 0.0253 - Val Loss: 0.0195\n"
     ]
    },
    {
     "name": "stderr",
     "output_type": "stream",
     "text": [
      "Epoch 854/1000 - Training: 100%|██████████| 7/7 [00:00<00:00, 229.84it/s]\n",
      "Epoch 854/1000 - Validation: 100%|██████████| 1/1 [00:00<00:00, 872.36it/s]\n"
     ]
    },
    {
     "name": "stdout",
     "output_type": "stream",
     "text": [
      "Epoch 854/1000 - Train Loss: 0.0242 - Val Loss: 0.0318\n"
     ]
    },
    {
     "name": "stderr",
     "output_type": "stream",
     "text": [
      "Epoch 855/1000 - Training: 100%|██████████| 7/7 [00:00<00:00, 314.55it/s]\n",
      "Epoch 855/1000 - Validation: 100%|██████████| 1/1 [00:00<00:00, 885.81it/s]\n"
     ]
    },
    {
     "name": "stdout",
     "output_type": "stream",
     "text": [
      "Epoch 855/1000 - Train Loss: 0.0314 - Val Loss: 0.0254\n"
     ]
    },
    {
     "name": "stderr",
     "output_type": "stream",
     "text": [
      "Epoch 856/1000 - Training: 100%|██████████| 7/7 [00:00<00:00, 311.75it/s]\n",
      "Epoch 856/1000 - Validation: 100%|██████████| 1/1 [00:00<00:00, 756.28it/s]\n"
     ]
    },
    {
     "name": "stdout",
     "output_type": "stream",
     "text": [
      "Epoch 856/1000 - Train Loss: 0.0323 - Val Loss: 0.0278\n"
     ]
    },
    {
     "name": "stderr",
     "output_type": "stream",
     "text": [
      "Epoch 857/1000 - Training: 100%|██████████| 7/7 [00:00<00:00, 308.98it/s]\n",
      "Epoch 857/1000 - Validation: 100%|██████████| 1/1 [00:00<00:00, 745.39it/s]\n"
     ]
    },
    {
     "name": "stdout",
     "output_type": "stream",
     "text": [
      "Epoch 857/1000 - Train Loss: 0.0296 - Val Loss: 0.0279\n"
     ]
    },
    {
     "name": "stderr",
     "output_type": "stream",
     "text": [
      "Epoch 858/1000 - Training: 100%|██████████| 7/7 [00:00<00:00, 309.31it/s]\n",
      "Epoch 858/1000 - Validation: 100%|██████████| 1/1 [00:00<00:00, 752.48it/s]\n"
     ]
    },
    {
     "name": "stdout",
     "output_type": "stream",
     "text": [
      "Epoch 858/1000 - Train Loss: 0.0252 - Val Loss: 0.0262\n"
     ]
    },
    {
     "name": "stderr",
     "output_type": "stream",
     "text": [
      "Epoch 859/1000 - Training: 100%|██████████| 7/7 [00:00<00:00, 306.87it/s]\n",
      "Epoch 859/1000 - Validation: 100%|██████████| 1/1 [00:00<00:00, 736.62it/s]\n"
     ]
    },
    {
     "name": "stdout",
     "output_type": "stream",
     "text": [
      "Epoch 859/1000 - Train Loss: 0.0273 - Val Loss: 0.0268\n"
     ]
    },
    {
     "name": "stderr",
     "output_type": "stream",
     "text": [
      "Epoch 860/1000 - Training: 100%|██████████| 7/7 [00:00<00:00, 218.14it/s]\n",
      "Epoch 860/1000 - Validation: 100%|██████████| 1/1 [00:00<00:00, 782.96it/s]\n"
     ]
    },
    {
     "name": "stdout",
     "output_type": "stream",
     "text": [
      "Epoch 860/1000 - Train Loss: 0.0276 - Val Loss: 0.0257\n"
     ]
    },
    {
     "name": "stderr",
     "output_type": "stream",
     "text": [
      "Epoch 861/1000 - Training: 100%|██████████| 7/7 [00:00<00:00, 306.18it/s]\n",
      "Epoch 861/1000 - Validation: 100%|██████████| 1/1 [00:00<00:00, 765.52it/s]\n"
     ]
    },
    {
     "name": "stdout",
     "output_type": "stream",
     "text": [
      "Epoch 861/1000 - Train Loss: 0.0228 - Val Loss: 0.0324\n"
     ]
    },
    {
     "name": "stderr",
     "output_type": "stream",
     "text": [
      "Epoch 862/1000 - Training: 100%|██████████| 7/7 [00:00<00:00, 305.94it/s]\n",
      "Epoch 862/1000 - Validation: 100%|██████████| 1/1 [00:00<00:00, 723.65it/s]\n"
     ]
    },
    {
     "name": "stdout",
     "output_type": "stream",
     "text": [
      "Epoch 862/1000 - Train Loss: 0.0231 - Val Loss: 0.0262\n"
     ]
    },
    {
     "name": "stderr",
     "output_type": "stream",
     "text": [
      "Epoch 863/1000 - Training: 100%|██████████| 7/7 [00:00<00:00, 303.61it/s]\n",
      "Epoch 863/1000 - Validation: 100%|██████████| 1/1 [00:00<00:00, 232.53it/s]\n"
     ]
    },
    {
     "name": "stdout",
     "output_type": "stream",
     "text": [
      "Epoch 863/1000 - Train Loss: 0.0286 - Val Loss: 0.0319\n"
     ]
    },
    {
     "name": "stderr",
     "output_type": "stream",
     "text": [
      "Epoch 864/1000 - Training: 100%|██████████| 7/7 [00:00<00:00, 311.92it/s]\n",
      "Epoch 864/1000 - Validation: 100%|██████████| 1/1 [00:00<00:00, 741.57it/s]\n"
     ]
    },
    {
     "name": "stdout",
     "output_type": "stream",
     "text": [
      "Epoch 864/1000 - Train Loss: 0.0276 - Val Loss: 0.0264\n"
     ]
    },
    {
     "name": "stderr",
     "output_type": "stream",
     "text": [
      "Epoch 865/1000 - Training: 100%|██████████| 7/7 [00:00<00:00, 281.39it/s]\n",
      "Epoch 865/1000 - Validation: 100%|██████████| 1/1 [00:00<00:00, 751.94it/s]\n"
     ]
    },
    {
     "name": "stdout",
     "output_type": "stream",
     "text": [
      "Epoch 865/1000 - Train Loss: 0.0222 - Val Loss: 0.0251\n"
     ]
    },
    {
     "name": "stderr",
     "output_type": "stream",
     "text": [
      "Epoch 866/1000 - Training: 100%|██████████| 7/7 [00:00<00:00, 301.69it/s]\n",
      "Epoch 866/1000 - Validation: 100%|██████████| 1/1 [00:00<00:00, 766.22it/s]\n"
     ]
    },
    {
     "name": "stdout",
     "output_type": "stream",
     "text": [
      "Epoch 866/1000 - Train Loss: 0.0319 - Val Loss: 0.0432\n"
     ]
    },
    {
     "name": "stderr",
     "output_type": "stream",
     "text": [
      "Epoch 867/1000 - Training: 100%|██████████| 7/7 [00:00<00:00, 303.05it/s]\n",
      "Epoch 867/1000 - Validation: 100%|██████████| 1/1 [00:00<00:00, 794.53it/s]\n"
     ]
    },
    {
     "name": "stdout",
     "output_type": "stream",
     "text": [
      "Epoch 867/1000 - Train Loss: 0.0339 - Val Loss: 0.0278\n"
     ]
    },
    {
     "name": "stderr",
     "output_type": "stream",
     "text": [
      "Epoch 868/1000 - Training: 100%|██████████| 7/7 [00:00<00:00, 272.04it/s]\n",
      "Epoch 868/1000 - Validation: 100%|██████████| 1/1 [00:00<00:00, 829.90it/s]\n"
     ]
    },
    {
     "name": "stdout",
     "output_type": "stream",
     "text": [
      "Epoch 868/1000 - Train Loss: 0.0287 - Val Loss: 0.0465\n"
     ]
    },
    {
     "name": "stderr",
     "output_type": "stream",
     "text": [
      "Epoch 869/1000 - Training: 100%|██████████| 7/7 [00:00<00:00, 304.59it/s]\n",
      "Epoch 869/1000 - Validation: 100%|██████████| 1/1 [00:00<00:00, 750.99it/s]\n"
     ]
    },
    {
     "name": "stdout",
     "output_type": "stream",
     "text": [
      "Epoch 869/1000 - Train Loss: 0.0310 - Val Loss: 0.0335\n"
     ]
    },
    {
     "name": "stderr",
     "output_type": "stream",
     "text": [
      "Epoch 870/1000 - Training: 100%|██████████| 7/7 [00:00<00:00, 264.51it/s]\n",
      "Epoch 870/1000 - Validation: 100%|██████████| 1/1 [00:00<00:00, 910.42it/s]\n"
     ]
    },
    {
     "name": "stdout",
     "output_type": "stream",
     "text": [
      "Epoch 870/1000 - Train Loss: 0.0276 - Val Loss: 0.0384\n"
     ]
    },
    {
     "name": "stderr",
     "output_type": "stream",
     "text": [
      "Epoch 871/1000 - Training: 100%|██████████| 7/7 [00:00<00:00, 301.66it/s]\n",
      "Epoch 871/1000 - Validation: 100%|██████████| 1/1 [00:00<00:00, 819.20it/s]\n"
     ]
    },
    {
     "name": "stdout",
     "output_type": "stream",
     "text": [
      "Epoch 871/1000 - Train Loss: 0.0264 - Val Loss: 0.0352\n"
     ]
    },
    {
     "name": "stderr",
     "output_type": "stream",
     "text": [
      "Epoch 872/1000 - Training: 100%|██████████| 7/7 [00:00<00:00, 301.32it/s]\n",
      "Epoch 872/1000 - Validation: 100%|██████████| 1/1 [00:00<00:00, 825.98it/s]\n"
     ]
    },
    {
     "name": "stdout",
     "output_type": "stream",
     "text": [
      "Epoch 872/1000 - Train Loss: 0.0239 - Val Loss: 0.0233\n"
     ]
    },
    {
     "name": "stderr",
     "output_type": "stream",
     "text": [
      "Epoch 873/1000 - Training: 100%|██████████| 7/7 [00:00<00:00, 305.24it/s]\n",
      "Epoch 873/1000 - Validation: 100%|██████████| 1/1 [00:00<00:00, 966.21it/s]\n"
     ]
    },
    {
     "name": "stdout",
     "output_type": "stream",
     "text": [
      "Epoch 873/1000 - Train Loss: 0.0277 - Val Loss: 0.0432\n"
     ]
    },
    {
     "name": "stderr",
     "output_type": "stream",
     "text": [
      "Epoch 874/1000 - Training: 100%|██████████| 7/7 [00:00<00:00, 309.00it/s]\n",
      "Epoch 874/1000 - Validation: 100%|██████████| 1/1 [00:00<00:00, 717.10it/s]\n"
     ]
    },
    {
     "name": "stdout",
     "output_type": "stream",
     "text": [
      "Epoch 874/1000 - Train Loss: 0.0259 - Val Loss: 0.0306\n"
     ]
    },
    {
     "name": "stderr",
     "output_type": "stream",
     "text": [
      "Epoch 875/1000 - Training: 100%|██████████| 7/7 [00:00<00:00, 306.30it/s]\n",
      "Epoch 875/1000 - Validation: 100%|██████████| 1/1 [00:00<00:00, 837.02it/s]\n"
     ]
    },
    {
     "name": "stdout",
     "output_type": "stream",
     "text": [
      "Epoch 875/1000 - Train Loss: 0.0286 - Val Loss: 0.0252\n"
     ]
    },
    {
     "name": "stderr",
     "output_type": "stream",
     "text": [
      "Epoch 876/1000 - Training: 100%|██████████| 7/7 [00:00<00:00, 305.54it/s]\n",
      "Epoch 876/1000 - Validation: 100%|██████████| 1/1 [00:00<00:00, 842.57it/s]\n"
     ]
    },
    {
     "name": "stdout",
     "output_type": "stream",
     "text": [
      "Epoch 876/1000 - Train Loss: 0.0350 - Val Loss: 0.0268\n"
     ]
    },
    {
     "name": "stderr",
     "output_type": "stream",
     "text": [
      "Epoch 877/1000 - Training: 100%|██████████| 7/7 [00:00<00:00, 311.00it/s]\n",
      "Epoch 877/1000 - Validation: 100%|██████████| 1/1 [00:00<00:00, 723.65it/s]\n"
     ]
    },
    {
     "name": "stdout",
     "output_type": "stream",
     "text": [
      "Epoch 877/1000 - Train Loss: 0.0335 - Val Loss: 0.0251\n"
     ]
    },
    {
     "name": "stderr",
     "output_type": "stream",
     "text": [
      "Epoch 878/1000 - Training: 100%|██████████| 7/7 [00:00<00:00, 310.58it/s]\n",
      "Epoch 878/1000 - Validation: 100%|██████████| 1/1 [00:00<00:00, 761.91it/s]\n"
     ]
    },
    {
     "name": "stdout",
     "output_type": "stream",
     "text": [
      "Epoch 878/1000 - Train Loss: 0.0283 - Val Loss: 0.0288\n"
     ]
    },
    {
     "name": "stderr",
     "output_type": "stream",
     "text": [
      "Epoch 879/1000 - Training: 100%|██████████| 7/7 [00:00<00:00, 309.58it/s]\n",
      "Epoch 879/1000 - Validation: 100%|██████████| 1/1 [00:00<00:00, 767.48it/s]\n"
     ]
    },
    {
     "name": "stdout",
     "output_type": "stream",
     "text": [
      "Epoch 879/1000 - Train Loss: 0.0326 - Val Loss: 0.0397\n"
     ]
    },
    {
     "name": "stderr",
     "output_type": "stream",
     "text": [
      "Epoch 880/1000 - Training: 100%|██████████| 7/7 [00:00<00:00, 309.86it/s]\n",
      "Epoch 880/1000 - Validation: 100%|██████████| 1/1 [00:00<00:00, 732.12it/s]\n"
     ]
    },
    {
     "name": "stdout",
     "output_type": "stream",
     "text": [
      "Epoch 880/1000 - Train Loss: 0.0268 - Val Loss: 0.0313\n"
     ]
    },
    {
     "name": "stderr",
     "output_type": "stream",
     "text": [
      "Epoch 881/1000 - Training: 100%|██████████| 7/7 [00:00<00:00, 310.35it/s]\n",
      "Epoch 881/1000 - Validation: 100%|██████████| 1/1 [00:00<00:00, 960.89it/s]\n"
     ]
    },
    {
     "name": "stdout",
     "output_type": "stream",
     "text": [
      "Epoch 881/1000 - Train Loss: 0.0255 - Val Loss: 0.0276\n"
     ]
    },
    {
     "name": "stderr",
     "output_type": "stream",
     "text": [
      "Epoch 882/1000 - Training: 100%|██████████| 7/7 [00:00<00:00, 306.97it/s]\n",
      "Epoch 882/1000 - Validation: 100%|██████████| 1/1 [00:00<00:00, 841.89it/s]\n"
     ]
    },
    {
     "name": "stdout",
     "output_type": "stream",
     "text": [
      "Epoch 882/1000 - Train Loss: 0.0259 - Val Loss: 0.0225\n"
     ]
    },
    {
     "name": "stderr",
     "output_type": "stream",
     "text": [
      "Epoch 883/1000 - Training: 100%|██████████| 7/7 [00:00<00:00, 286.50it/s]\n",
      "Epoch 883/1000 - Validation: 100%|██████████| 1/1 [00:00<00:00, 887.31it/s]\n"
     ]
    },
    {
     "name": "stdout",
     "output_type": "stream",
     "text": [
      "Epoch 883/1000 - Train Loss: 0.0326 - Val Loss: 0.0228\n"
     ]
    },
    {
     "name": "stderr",
     "output_type": "stream",
     "text": [
      "Epoch 884/1000 - Training: 100%|██████████| 7/7 [00:00<00:00, 321.88it/s]\n",
      "Epoch 884/1000 - Validation: 100%|██████████| 1/1 [00:00<00:00, 873.27it/s]\n"
     ]
    },
    {
     "name": "stdout",
     "output_type": "stream",
     "text": [
      "Epoch 884/1000 - Train Loss: 0.0283 - Val Loss: 0.0289\n"
     ]
    },
    {
     "name": "stderr",
     "output_type": "stream",
     "text": [
      "Epoch 885/1000 - Training: 100%|██████████| 7/7 [00:00<00:00, 321.83it/s]\n",
      "Epoch 885/1000 - Validation: 100%|██████████| 1/1 [00:00<00:00, 762.88it/s]\n"
     ]
    },
    {
     "name": "stdout",
     "output_type": "stream",
     "text": [
      "Epoch 885/1000 - Train Loss: 0.0267 - Val Loss: 0.0246\n"
     ]
    },
    {
     "name": "stderr",
     "output_type": "stream",
     "text": [
      "Epoch 886/1000 - Training: 100%|██████████| 7/7 [00:00<00:00, 318.24it/s]\n",
      "Epoch 886/1000 - Validation: 100%|██████████| 1/1 [00:00<00:00, 828.10it/s]\n"
     ]
    },
    {
     "name": "stdout",
     "output_type": "stream",
     "text": [
      "Epoch 886/1000 - Train Loss: 0.0297 - Val Loss: 0.0288\n"
     ]
    },
    {
     "name": "stderr",
     "output_type": "stream",
     "text": [
      "Epoch 887/1000 - Training: 100%|██████████| 7/7 [00:00<00:00, 316.41it/s]\n",
      "Epoch 887/1000 - Validation: 100%|██████████| 1/1 [00:00<00:00, 752.07it/s]\n"
     ]
    },
    {
     "name": "stdout",
     "output_type": "stream",
     "text": [
      "Epoch 887/1000 - Train Loss: 0.0327 - Val Loss: 0.0199\n"
     ]
    },
    {
     "name": "stderr",
     "output_type": "stream",
     "text": [
      "Epoch 888/1000 - Training: 100%|██████████| 7/7 [00:00<00:00, 320.13it/s]\n",
      "Epoch 888/1000 - Validation: 100%|██████████| 1/1 [00:00<00:00, 842.91it/s]\n"
     ]
    },
    {
     "name": "stdout",
     "output_type": "stream",
     "text": [
      "Epoch 888/1000 - Train Loss: 0.0243 - Val Loss: 0.0276\n"
     ]
    },
    {
     "name": "stderr",
     "output_type": "stream",
     "text": [
      "Epoch 889/1000 - Training: 100%|██████████| 7/7 [00:00<00:00, 320.33it/s]\n",
      "Epoch 889/1000 - Validation: 100%|██████████| 1/1 [00:00<00:00, 761.08it/s]\n"
     ]
    },
    {
     "name": "stdout",
     "output_type": "stream",
     "text": [
      "Epoch 889/1000 - Train Loss: 0.0227 - Val Loss: 0.0257\n"
     ]
    },
    {
     "name": "stderr",
     "output_type": "stream",
     "text": [
      "Epoch 890/1000 - Training: 100%|██████████| 7/7 [00:00<00:00, 318.90it/s]\n",
      "Epoch 890/1000 - Validation: 100%|██████████| 1/1 [00:00<00:00, 872.72it/s]\n"
     ]
    },
    {
     "name": "stdout",
     "output_type": "stream",
     "text": [
      "Epoch 890/1000 - Train Loss: 0.0216 - Val Loss: 0.0259\n"
     ]
    },
    {
     "name": "stderr",
     "output_type": "stream",
     "text": [
      "Epoch 891/1000 - Training: 100%|██████████| 7/7 [00:00<00:00, 319.58it/s]\n",
      "Epoch 891/1000 - Validation: 100%|██████████| 1/1 [00:00<00:00, 753.96it/s]\n"
     ]
    },
    {
     "name": "stdout",
     "output_type": "stream",
     "text": [
      "Epoch 891/1000 - Train Loss: 0.0280 - Val Loss: 0.0260\n"
     ]
    },
    {
     "name": "stderr",
     "output_type": "stream",
     "text": [
      "Epoch 892/1000 - Training: 100%|██████████| 7/7 [00:00<00:00, 318.13it/s]\n",
      "Epoch 892/1000 - Validation: 100%|██████████| 1/1 [00:00<00:00, 841.38it/s]\n"
     ]
    },
    {
     "name": "stdout",
     "output_type": "stream",
     "text": [
      "Epoch 892/1000 - Train Loss: 0.0268 - Val Loss: 0.0267\n"
     ]
    },
    {
     "name": "stderr",
     "output_type": "stream",
     "text": [
      "Epoch 893/1000 - Training: 100%|██████████| 7/7 [00:00<00:00, 313.68it/s]\n",
      "Epoch 893/1000 - Validation: 100%|██████████| 1/1 [00:00<00:00, 868.93it/s]\n"
     ]
    },
    {
     "name": "stdout",
     "output_type": "stream",
     "text": [
      "Epoch 893/1000 - Train Loss: 0.0232 - Val Loss: 0.0232\n"
     ]
    },
    {
     "name": "stderr",
     "output_type": "stream",
     "text": [
      "Epoch 894/1000 - Training: 100%|██████████| 7/7 [00:00<00:00, 315.72it/s]\n",
      "Epoch 894/1000 - Validation: 100%|██████████| 1/1 [00:00<00:00, 738.95it/s]\n"
     ]
    },
    {
     "name": "stdout",
     "output_type": "stream",
     "text": [
      "Epoch 894/1000 - Train Loss: 0.0228 - Val Loss: 0.0318\n"
     ]
    },
    {
     "name": "stderr",
     "output_type": "stream",
     "text": [
      "Epoch 895/1000 - Training: 100%|██████████| 7/7 [00:00<00:00, 314.81it/s]\n",
      "Epoch 895/1000 - Validation: 100%|██████████| 1/1 [00:00<00:00, 768.19it/s]\n"
     ]
    },
    {
     "name": "stdout",
     "output_type": "stream",
     "text": [
      "Epoch 895/1000 - Train Loss: 0.0249 - Val Loss: 0.0216\n"
     ]
    },
    {
     "name": "stderr",
     "output_type": "stream",
     "text": [
      "Epoch 896/1000 - Training: 100%|██████████| 7/7 [00:00<00:00, 315.24it/s]\n",
      "Epoch 896/1000 - Validation: 100%|██████████| 1/1 [00:00<00:00, 965.98it/s]\n"
     ]
    },
    {
     "name": "stdout",
     "output_type": "stream",
     "text": [
      "Epoch 896/1000 - Train Loss: 0.0311 - Val Loss: 0.0353\n"
     ]
    },
    {
     "name": "stderr",
     "output_type": "stream",
     "text": [
      "Epoch 897/1000 - Training: 100%|██████████| 7/7 [00:00<00:00, 314.54it/s]\n",
      "Epoch 897/1000 - Validation: 100%|██████████| 1/1 [00:00<00:00, 831.54it/s]\n"
     ]
    },
    {
     "name": "stdout",
     "output_type": "stream",
     "text": [
      "Epoch 897/1000 - Train Loss: 0.0277 - Val Loss: 0.0259\n"
     ]
    },
    {
     "name": "stderr",
     "output_type": "stream",
     "text": [
      "Epoch 898/1000 - Training: 100%|██████████| 7/7 [00:00<00:00, 317.20it/s]\n",
      "Epoch 898/1000 - Validation: 100%|██████████| 1/1 [00:00<00:00, 759.98it/s]\n"
     ]
    },
    {
     "name": "stdout",
     "output_type": "stream",
     "text": [
      "Epoch 898/1000 - Train Loss: 0.0242 - Val Loss: 0.0227\n"
     ]
    },
    {
     "name": "stderr",
     "output_type": "stream",
     "text": [
      "Epoch 899/1000 - Training: 100%|██████████| 7/7 [00:00<00:00, 315.08it/s]\n",
      "Epoch 899/1000 - Validation: 100%|██████████| 1/1 [00:00<00:00, 823.22it/s]\n"
     ]
    },
    {
     "name": "stdout",
     "output_type": "stream",
     "text": [
      "Epoch 899/1000 - Train Loss: 0.0204 - Val Loss: 0.0290\n"
     ]
    },
    {
     "name": "stderr",
     "output_type": "stream",
     "text": [
      "Epoch 900/1000 - Training: 100%|██████████| 7/7 [00:00<00:00, 316.89it/s]\n",
      "Epoch 900/1000 - Validation: 100%|██████████| 1/1 [00:00<00:00, 746.72it/s]\n"
     ]
    },
    {
     "name": "stdout",
     "output_type": "stream",
     "text": [
      "Epoch 900/1000 - Train Loss: 0.0244 - Val Loss: 0.0270\n"
     ]
    },
    {
     "name": "stderr",
     "output_type": "stream",
     "text": [
      "Epoch 901/1000 - Training: 100%|██████████| 7/7 [00:00<00:00, 316.14it/s]\n",
      "Epoch 901/1000 - Validation: 100%|██████████| 1/1 [00:00<00:00, 684.90it/s]\n"
     ]
    },
    {
     "name": "stdout",
     "output_type": "stream",
     "text": [
      "Epoch 901/1000 - Train Loss: 0.0294 - Val Loss: 0.0224\n"
     ]
    },
    {
     "name": "stderr",
     "output_type": "stream",
     "text": [
      "Epoch 902/1000 - Training: 100%|██████████| 7/7 [00:00<00:00, 318.77it/s]\n",
      "Epoch 902/1000 - Validation: 100%|██████████| 1/1 [00:00<00:00, 942.12it/s]\n"
     ]
    },
    {
     "name": "stdout",
     "output_type": "stream",
     "text": [
      "Epoch 902/1000 - Train Loss: 0.0313 - Val Loss: 0.0341\n"
     ]
    },
    {
     "name": "stderr",
     "output_type": "stream",
     "text": [
      "Epoch 903/1000 - Training: 100%|██████████| 7/7 [00:00<00:00, 317.70it/s]\n",
      "Epoch 903/1000 - Validation: 100%|██████████| 1/1 [00:00<00:00, 752.61it/s]\n"
     ]
    },
    {
     "name": "stdout",
     "output_type": "stream",
     "text": [
      "Epoch 903/1000 - Train Loss: 0.0250 - Val Loss: 0.0208\n"
     ]
    },
    {
     "name": "stderr",
     "output_type": "stream",
     "text": [
      "Epoch 904/1000 - Training: 100%|██████████| 7/7 [00:00<00:00, 322.17it/s]\n",
      "Epoch 904/1000 - Validation: 100%|██████████| 1/1 [00:00<00:00, 845.80it/s]\n"
     ]
    },
    {
     "name": "stdout",
     "output_type": "stream",
     "text": [
      "Epoch 904/1000 - Train Loss: 0.0275 - Val Loss: 0.0309\n"
     ]
    },
    {
     "name": "stderr",
     "output_type": "stream",
     "text": [
      "Epoch 905/1000 - Training: 100%|██████████| 7/7 [00:00<00:00, 320.36it/s]\n",
      "Epoch 905/1000 - Validation: 100%|██████████| 1/1 [00:00<00:00, 837.86it/s]\n"
     ]
    },
    {
     "name": "stdout",
     "output_type": "stream",
     "text": [
      "Epoch 905/1000 - Train Loss: 0.0298 - Val Loss: 0.0201\n"
     ]
    },
    {
     "name": "stderr",
     "output_type": "stream",
     "text": [
      "Epoch 906/1000 - Training: 100%|██████████| 7/7 [00:00<00:00, 316.74it/s]\n",
      "Epoch 906/1000 - Validation: 100%|██████████| 1/1 [00:00<00:00, 790.33it/s]\n"
     ]
    },
    {
     "name": "stdout",
     "output_type": "stream",
     "text": [
      "Epoch 906/1000 - Train Loss: 0.0315 - Val Loss: 0.0375\n"
     ]
    },
    {
     "name": "stderr",
     "output_type": "stream",
     "text": [
      "Epoch 907/1000 - Training: 100%|██████████| 7/7 [00:00<00:00, 314.21it/s]\n",
      "Epoch 907/1000 - Validation: 100%|██████████| 1/1 [00:00<00:00, 830.39it/s]\n"
     ]
    },
    {
     "name": "stdout",
     "output_type": "stream",
     "text": [
      "Epoch 907/1000 - Train Loss: 0.0259 - Val Loss: 0.0230\n"
     ]
    },
    {
     "name": "stderr",
     "output_type": "stream",
     "text": [
      "Epoch 908/1000 - Training: 100%|██████████| 7/7 [00:00<00:00, 316.06it/s]\n",
      "Epoch 908/1000 - Validation: 100%|██████████| 1/1 [00:00<00:00, 789.14it/s]\n"
     ]
    },
    {
     "name": "stdout",
     "output_type": "stream",
     "text": [
      "Epoch 908/1000 - Train Loss: 0.0264 - Val Loss: 0.0315\n"
     ]
    },
    {
     "name": "stderr",
     "output_type": "stream",
     "text": [
      "Epoch 909/1000 - Training: 100%|██████████| 7/7 [00:00<00:00, 315.27it/s]\n",
      "Epoch 909/1000 - Validation: 100%|██████████| 1/1 [00:00<00:00, 960.23it/s]\n"
     ]
    },
    {
     "name": "stdout",
     "output_type": "stream",
     "text": [
      "Epoch 909/1000 - Train Loss: 0.0260 - Val Loss: 0.0282\n"
     ]
    },
    {
     "name": "stderr",
     "output_type": "stream",
     "text": [
      "Epoch 910/1000 - Training: 100%|██████████| 7/7 [00:00<00:00, 316.60it/s]\n",
      "Epoch 910/1000 - Validation: 100%|██████████| 1/1 [00:00<00:00, 804.59it/s]\n"
     ]
    },
    {
     "name": "stdout",
     "output_type": "stream",
     "text": [
      "Epoch 910/1000 - Train Loss: 0.0315 - Val Loss: 0.0246\n"
     ]
    },
    {
     "name": "stderr",
     "output_type": "stream",
     "text": [
      "Epoch 911/1000 - Training: 100%|██████████| 7/7 [00:00<00:00, 292.21it/s]\n",
      "Epoch 911/1000 - Validation: 100%|██████████| 1/1 [00:00<00:00, 808.31it/s]\n"
     ]
    },
    {
     "name": "stdout",
     "output_type": "stream",
     "text": [
      "Epoch 911/1000 - Train Loss: 0.0260 - Val Loss: 0.0351\n"
     ]
    },
    {
     "name": "stderr",
     "output_type": "stream",
     "text": [
      "Epoch 912/1000 - Training: 100%|██████████| 7/7 [00:00<00:00, 316.45it/s]\n",
      "Epoch 912/1000 - Validation: 100%|██████████| 1/1 [00:00<00:00, 828.59it/s]\n"
     ]
    },
    {
     "name": "stdout",
     "output_type": "stream",
     "text": [
      "Epoch 912/1000 - Train Loss: 0.0253 - Val Loss: 0.0217\n"
     ]
    },
    {
     "name": "stderr",
     "output_type": "stream",
     "text": [
      "Epoch 913/1000 - Training: 100%|██████████| 7/7 [00:00<00:00, 317.59it/s]\n",
      "Epoch 913/1000 - Validation: 100%|██████████| 1/1 [00:00<00:00, 813.80it/s]\n"
     ]
    },
    {
     "name": "stdout",
     "output_type": "stream",
     "text": [
      "Epoch 913/1000 - Train Loss: 0.0244 - Val Loss: 0.0422\n"
     ]
    },
    {
     "name": "stderr",
     "output_type": "stream",
     "text": [
      "Epoch 914/1000 - Training: 100%|██████████| 7/7 [00:00<00:00, 316.33it/s]\n",
      "Epoch 914/1000 - Validation: 100%|██████████| 1/1 [00:00<00:00, 853.89it/s]\n"
     ]
    },
    {
     "name": "stdout",
     "output_type": "stream",
     "text": [
      "Epoch 914/1000 - Train Loss: 0.0276 - Val Loss: 0.0224\n"
     ]
    },
    {
     "name": "stderr",
     "output_type": "stream",
     "text": [
      "Epoch 915/1000 - Training: 100%|██████████| 7/7 [00:00<00:00, 318.78it/s]\n",
      "Epoch 915/1000 - Validation: 100%|██████████| 1/1 [00:00<00:00, 836.35it/s]\n"
     ]
    },
    {
     "name": "stdout",
     "output_type": "stream",
     "text": [
      "Epoch 915/1000 - Train Loss: 0.0307 - Val Loss: 0.0328\n"
     ]
    },
    {
     "name": "stderr",
     "output_type": "stream",
     "text": [
      "Epoch 916/1000 - Training: 100%|██████████| 7/7 [00:00<00:00, 319.02it/s]\n",
      "Epoch 916/1000 - Validation: 100%|██████████| 1/1 [00:00<00:00, 857.38it/s]\n"
     ]
    },
    {
     "name": "stdout",
     "output_type": "stream",
     "text": [
      "Epoch 916/1000 - Train Loss: 0.0220 - Val Loss: 0.0203\n"
     ]
    },
    {
     "name": "stderr",
     "output_type": "stream",
     "text": [
      "Epoch 917/1000 - Training: 100%|██████████| 7/7 [00:00<00:00, 319.86it/s]\n",
      "Epoch 917/1000 - Validation: 100%|██████████| 1/1 [00:00<00:00, 879.86it/s]\n"
     ]
    },
    {
     "name": "stdout",
     "output_type": "stream",
     "text": [
      "Epoch 917/1000 - Train Loss: 0.0272 - Val Loss: 0.0240\n"
     ]
    },
    {
     "name": "stderr",
     "output_type": "stream",
     "text": [
      "Epoch 918/1000 - Training: 100%|██████████| 7/7 [00:00<00:00, 321.35it/s]\n",
      "Epoch 918/1000 - Validation: 100%|██████████| 1/1 [00:00<00:00, 817.44it/s]\n"
     ]
    },
    {
     "name": "stdout",
     "output_type": "stream",
     "text": [
      "Epoch 918/1000 - Train Loss: 0.0266 - Val Loss: 0.0233\n"
     ]
    },
    {
     "name": "stderr",
     "output_type": "stream",
     "text": [
      "Epoch 919/1000 - Training: 100%|██████████| 7/7 [00:00<00:00, 320.00it/s]\n",
      "Epoch 919/1000 - Validation: 100%|██████████| 1/1 [00:00<00:00, 839.53it/s]\n"
     ]
    },
    {
     "name": "stdout",
     "output_type": "stream",
     "text": [
      "Epoch 919/1000 - Train Loss: 0.0247 - Val Loss: 0.0323\n"
     ]
    },
    {
     "name": "stderr",
     "output_type": "stream",
     "text": [
      "Epoch 920/1000 - Training: 100%|██████████| 7/7 [00:00<00:00, 320.24it/s]\n",
      "Epoch 920/1000 - Validation: 100%|██████████| 1/1 [00:00<00:00, 850.08it/s]\n"
     ]
    },
    {
     "name": "stdout",
     "output_type": "stream",
     "text": [
      "Epoch 920/1000 - Train Loss: 0.0275 - Val Loss: 0.0259\n"
     ]
    },
    {
     "name": "stderr",
     "output_type": "stream",
     "text": [
      "Epoch 921/1000 - Training: 100%|██████████| 7/7 [00:00<00:00, 320.41it/s]\n",
      "Epoch 921/1000 - Validation: 100%|██████████| 1/1 [00:00<00:00, 950.66it/s]\n"
     ]
    },
    {
     "name": "stdout",
     "output_type": "stream",
     "text": [
      "Epoch 921/1000 - Train Loss: 0.0283 - Val Loss: 0.0273\n"
     ]
    },
    {
     "name": "stderr",
     "output_type": "stream",
     "text": [
      "Epoch 922/1000 - Training: 100%|██████████| 7/7 [00:00<00:00, 325.53it/s]\n",
      "Epoch 922/1000 - Validation: 100%|██████████| 1/1 [00:00<00:00, 965.98it/s]\n"
     ]
    },
    {
     "name": "stdout",
     "output_type": "stream",
     "text": [
      "Epoch 922/1000 - Train Loss: 0.0265 - Val Loss: 0.0262\n"
     ]
    },
    {
     "name": "stderr",
     "output_type": "stream",
     "text": [
      "Epoch 923/1000 - Training: 100%|██████████| 7/7 [00:00<00:00, 320.55it/s]\n",
      "Epoch 923/1000 - Validation: 100%|██████████| 1/1 [00:00<00:00, 641.82it/s]\n"
     ]
    },
    {
     "name": "stdout",
     "output_type": "stream",
     "text": [
      "Epoch 923/1000 - Train Loss: 0.0276 - Val Loss: 0.0195\n"
     ]
    },
    {
     "name": "stderr",
     "output_type": "stream",
     "text": [
      "Epoch 924/1000 - Training: 100%|██████████| 7/7 [00:00<00:00, 325.59it/s]\n",
      "Epoch 924/1000 - Validation: 100%|██████████| 1/1 [00:00<00:00, 671.20it/s]\n"
     ]
    },
    {
     "name": "stdout",
     "output_type": "stream",
     "text": [
      "Epoch 924/1000 - Train Loss: 0.0276 - Val Loss: 0.0285\n"
     ]
    },
    {
     "name": "stderr",
     "output_type": "stream",
     "text": [
      "Epoch 925/1000 - Training: 100%|██████████| 7/7 [00:00<00:00, 321.88it/s]\n",
      "Epoch 925/1000 - Validation: 100%|██████████| 1/1 [00:00<00:00, 831.54it/s]\n"
     ]
    },
    {
     "name": "stdout",
     "output_type": "stream",
     "text": [
      "Epoch 925/1000 - Train Loss: 0.0260 - Val Loss: 0.0253\n"
     ]
    },
    {
     "name": "stderr",
     "output_type": "stream",
     "text": [
      "Epoch 926/1000 - Training: 100%|██████████| 7/7 [00:00<00:00, 320.56it/s]\n",
      "Epoch 926/1000 - Validation: 100%|██████████| 1/1 [00:00<00:00, 849.22it/s]\n"
     ]
    },
    {
     "name": "stdout",
     "output_type": "stream",
     "text": [
      "Epoch 926/1000 - Train Loss: 0.0267 - Val Loss: 0.0302\n"
     ]
    },
    {
     "name": "stderr",
     "output_type": "stream",
     "text": [
      "Epoch 927/1000 - Training: 100%|██████████| 7/7 [00:00<00:00, 320.34it/s]\n",
      "Epoch 927/1000 - Validation: 100%|██████████| 1/1 [00:00<00:00, 838.02it/s]\n"
     ]
    },
    {
     "name": "stdout",
     "output_type": "stream",
     "text": [
      "Epoch 927/1000 - Train Loss: 0.0288 - Val Loss: 0.0186\n"
     ]
    },
    {
     "name": "stderr",
     "output_type": "stream",
     "text": [
      "Epoch 928/1000 - Training: 100%|██████████| 7/7 [00:00<00:00, 319.08it/s]\n",
      "Epoch 928/1000 - Validation: 100%|██████████| 1/1 [00:00<00:00, 840.71it/s]\n"
     ]
    },
    {
     "name": "stdout",
     "output_type": "stream",
     "text": [
      "Epoch 928/1000 - Train Loss: 0.0241 - Val Loss: 0.0387\n"
     ]
    },
    {
     "name": "stderr",
     "output_type": "stream",
     "text": [
      "Epoch 929/1000 - Training: 100%|██████████| 7/7 [00:00<00:00, 320.74it/s]\n",
      "Epoch 929/1000 - Validation: 100%|██████████| 1/1 [00:00<00:00, 853.19it/s]\n"
     ]
    },
    {
     "name": "stdout",
     "output_type": "stream",
     "text": [
      "Epoch 929/1000 - Train Loss: 0.0253 - Val Loss: 0.0173\n"
     ]
    },
    {
     "name": "stderr",
     "output_type": "stream",
     "text": [
      "Epoch 930/1000 - Training: 100%|██████████| 7/7 [00:00<00:00, 319.09it/s]\n",
      "Epoch 930/1000 - Validation: 100%|██████████| 1/1 [00:00<00:00, 679.24it/s]\n"
     ]
    },
    {
     "name": "stdout",
     "output_type": "stream",
     "text": [
      "Epoch 930/1000 - Train Loss: 0.0281 - Val Loss: 0.0274\n"
     ]
    },
    {
     "name": "stderr",
     "output_type": "stream",
     "text": [
      "Epoch 931/1000 - Training: 100%|██████████| 7/7 [00:00<00:00, 319.89it/s]\n",
      "Epoch 931/1000 - Validation: 100%|██████████| 1/1 [00:00<00:00, 641.13it/s]\n"
     ]
    },
    {
     "name": "stdout",
     "output_type": "stream",
     "text": [
      "Epoch 931/1000 - Train Loss: 0.0320 - Val Loss: 0.0225\n"
     ]
    },
    {
     "name": "stderr",
     "output_type": "stream",
     "text": [
      "Epoch 932/1000 - Training: 100%|██████████| 7/7 [00:00<00:00, 317.53it/s]\n",
      "Epoch 932/1000 - Validation: 100%|██████████| 1/1 [00:00<00:00, 657.93it/s]\n"
     ]
    },
    {
     "name": "stdout",
     "output_type": "stream",
     "text": [
      "Epoch 932/1000 - Train Loss: 0.0274 - Val Loss: 0.0369\n"
     ]
    },
    {
     "name": "stderr",
     "output_type": "stream",
     "text": [
      "Epoch 933/1000 - Training: 100%|██████████| 7/7 [00:00<00:00, 317.70it/s]\n",
      "Epoch 933/1000 - Validation: 100%|██████████| 1/1 [00:00<00:00, 828.26it/s]\n"
     ]
    },
    {
     "name": "stdout",
     "output_type": "stream",
     "text": [
      "Epoch 933/1000 - Train Loss: 0.0235 - Val Loss: 0.0349\n"
     ]
    },
    {
     "name": "stderr",
     "output_type": "stream",
     "text": [
      "Epoch 934/1000 - Training: 100%|██████████| 7/7 [00:00<00:00, 320.54it/s]\n",
      "Epoch 934/1000 - Validation: 100%|██████████| 1/1 [00:00<00:00, 843.42it/s]\n"
     ]
    },
    {
     "name": "stdout",
     "output_type": "stream",
     "text": [
      "Epoch 934/1000 - Train Loss: 0.0303 - Val Loss: 0.0338\n"
     ]
    },
    {
     "name": "stderr",
     "output_type": "stream",
     "text": [
      "Epoch 935/1000 - Training: 100%|██████████| 7/7 [00:00<00:00, 319.32it/s]\n",
      "Epoch 935/1000 - Validation: 100%|██████████| 1/1 [00:00<00:00, 837.19it/s]\n"
     ]
    },
    {
     "name": "stdout",
     "output_type": "stream",
     "text": [
      "Epoch 935/1000 - Train Loss: 0.0318 - Val Loss: 0.0223\n"
     ]
    },
    {
     "name": "stderr",
     "output_type": "stream",
     "text": [
      "Epoch 936/1000 - Training: 100%|██████████| 7/7 [00:00<00:00, 320.36it/s]\n",
      "Epoch 936/1000 - Validation: 100%|██████████| 1/1 [00:00<00:00, 756.00it/s]\n"
     ]
    },
    {
     "name": "stdout",
     "output_type": "stream",
     "text": [
      "Epoch 936/1000 - Train Loss: 0.0246 - Val Loss: 0.0207\n"
     ]
    },
    {
     "name": "stderr",
     "output_type": "stream",
     "text": [
      "Epoch 937/1000 - Training: 100%|██████████| 7/7 [00:00<00:00, 321.17it/s]\n",
      "Epoch 937/1000 - Validation: 100%|██████████| 1/1 [00:00<00:00, 810.65it/s]\n"
     ]
    },
    {
     "name": "stdout",
     "output_type": "stream",
     "text": [
      "Epoch 937/1000 - Train Loss: 0.0241 - Val Loss: 0.0208\n"
     ]
    },
    {
     "name": "stderr",
     "output_type": "stream",
     "text": [
      "Epoch 938/1000 - Training: 100%|██████████| 7/7 [00:00<00:00, 316.83it/s]\n",
      "Epoch 938/1000 - Validation: 100%|██████████| 1/1 [00:00<00:00, 796.64it/s]\n"
     ]
    },
    {
     "name": "stdout",
     "output_type": "stream",
     "text": [
      "Epoch 938/1000 - Train Loss: 0.0302 - Val Loss: 0.0202\n"
     ]
    },
    {
     "name": "stderr",
     "output_type": "stream",
     "text": [
      "Epoch 939/1000 - Training: 100%|██████████| 7/7 [00:00<00:00, 317.20it/s]\n",
      "Epoch 939/1000 - Validation: 100%|██████████| 1/1 [00:00<00:00, 819.84it/s]\n"
     ]
    },
    {
     "name": "stdout",
     "output_type": "stream",
     "text": [
      "Epoch 939/1000 - Train Loss: 0.0249 - Val Loss: 0.0188\n"
     ]
    },
    {
     "name": "stderr",
     "output_type": "stream",
     "text": [
      "Epoch 940/1000 - Training: 100%|██████████| 7/7 [00:00<00:00, 319.00it/s]\n",
      "Epoch 940/1000 - Validation: 100%|██████████| 1/1 [00:00<00:00, 687.82it/s]\n"
     ]
    },
    {
     "name": "stdout",
     "output_type": "stream",
     "text": [
      "Epoch 940/1000 - Train Loss: 0.0272 - Val Loss: 0.0213\n"
     ]
    },
    {
     "name": "stderr",
     "output_type": "stream",
     "text": [
      "Epoch 941/1000 - Training: 100%|██████████| 7/7 [00:00<00:00, 320.83it/s]\n",
      "Epoch 941/1000 - Validation: 100%|██████████| 1/1 [00:00<00:00, 812.85it/s]\n"
     ]
    },
    {
     "name": "stdout",
     "output_type": "stream",
     "text": [
      "Epoch 941/1000 - Train Loss: 0.0228 - Val Loss: 0.0220\n"
     ]
    },
    {
     "name": "stderr",
     "output_type": "stream",
     "text": [
      "Epoch 942/1000 - Training: 100%|██████████| 7/7 [00:00<00:00, 317.88it/s]\n",
      "Epoch 942/1000 - Validation: 100%|██████████| 1/1 [00:00<00:00, 825.81it/s]\n"
     ]
    },
    {
     "name": "stdout",
     "output_type": "stream",
     "text": [
      "Epoch 942/1000 - Train Loss: 0.0232 - Val Loss: 0.0192\n"
     ]
    },
    {
     "name": "stderr",
     "output_type": "stream",
     "text": [
      "Epoch 943/1000 - Training: 100%|██████████| 7/7 [00:00<00:00, 316.83it/s]\n",
      "Epoch 943/1000 - Validation: 100%|██████████| 1/1 [00:00<00:00, 847.33it/s]\n"
     ]
    },
    {
     "name": "stdout",
     "output_type": "stream",
     "text": [
      "Epoch 943/1000 - Train Loss: 0.0269 - Val Loss: 0.0279\n"
     ]
    },
    {
     "name": "stderr",
     "output_type": "stream",
     "text": [
      "Epoch 944/1000 - Training: 100%|██████████| 7/7 [00:00<00:00, 324.87it/s]\n",
      "Epoch 944/1000 - Validation: 100%|██████████| 1/1 [00:00<00:00, 837.35it/s]\n"
     ]
    },
    {
     "name": "stdout",
     "output_type": "stream",
     "text": [
      "Epoch 944/1000 - Train Loss: 0.0245 - Val Loss: 0.0248\n"
     ]
    },
    {
     "name": "stderr",
     "output_type": "stream",
     "text": [
      "Epoch 945/1000 - Training: 100%|██████████| 7/7 [00:00<00:00, 321.65it/s]\n",
      "Epoch 945/1000 - Validation: 100%|██████████| 1/1 [00:00<00:00, 832.53it/s]\n"
     ]
    },
    {
     "name": "stdout",
     "output_type": "stream",
     "text": [
      "Epoch 945/1000 - Train Loss: 0.0251 - Val Loss: 0.0242\n"
     ]
    },
    {
     "name": "stderr",
     "output_type": "stream",
     "text": [
      "Epoch 946/1000 - Training: 100%|██████████| 7/7 [00:00<00:00, 319.67it/s]\n",
      "Epoch 946/1000 - Validation: 100%|██████████| 1/1 [00:00<00:00, 787.81it/s]\n"
     ]
    },
    {
     "name": "stdout",
     "output_type": "stream",
     "text": [
      "Epoch 946/1000 - Train Loss: 0.0230 - Val Loss: 0.0280\n"
     ]
    },
    {
     "name": "stderr",
     "output_type": "stream",
     "text": [
      "Epoch 947/1000 - Training: 100%|██████████| 7/7 [00:00<00:00, 320.51it/s]\n",
      "Epoch 947/1000 - Validation: 100%|██████████| 1/1 [00:00<00:00, 721.54it/s]\n"
     ]
    },
    {
     "name": "stdout",
     "output_type": "stream",
     "text": [
      "Epoch 947/1000 - Train Loss: 0.0277 - Val Loss: 0.0184\n"
     ]
    },
    {
     "name": "stderr",
     "output_type": "stream",
     "text": [
      "Epoch 948/1000 - Training: 100%|██████████| 7/7 [00:00<00:00, 324.37it/s]\n",
      "Epoch 948/1000 - Validation: 100%|██████████| 1/1 [00:00<00:00, 837.35it/s]\n"
     ]
    },
    {
     "name": "stdout",
     "output_type": "stream",
     "text": [
      "Epoch 948/1000 - Train Loss: 0.0324 - Val Loss: 0.0349\n"
     ]
    },
    {
     "name": "stderr",
     "output_type": "stream",
     "text": [
      "Epoch 949/1000 - Training: 100%|██████████| 7/7 [00:00<00:00, 324.18it/s]\n",
      "Epoch 949/1000 - Validation: 100%|██████████| 1/1 [00:00<00:00, 824.68it/s]\n"
     ]
    },
    {
     "name": "stdout",
     "output_type": "stream",
     "text": [
      "Epoch 949/1000 - Train Loss: 0.0277 - Val Loss: 0.0248\n"
     ]
    },
    {
     "name": "stderr",
     "output_type": "stream",
     "text": [
      "Epoch 950/1000 - Training: 100%|██████████| 7/7 [00:00<00:00, 324.80it/s]\n",
      "Epoch 950/1000 - Validation: 100%|██████████| 1/1 [00:00<00:00, 636.37it/s]\n"
     ]
    },
    {
     "name": "stdout",
     "output_type": "stream",
     "text": [
      "Epoch 950/1000 - Train Loss: 0.0287 - Val Loss: 0.0407\n"
     ]
    },
    {
     "name": "stderr",
     "output_type": "stream",
     "text": [
      "Epoch 951/1000 - Training: 100%|██████████| 7/7 [00:00<00:00, 316.72it/s]\n",
      "Epoch 951/1000 - Validation: 100%|██████████| 1/1 [00:00<00:00, 875.64it/s]\n"
     ]
    },
    {
     "name": "stdout",
     "output_type": "stream",
     "text": [
      "Epoch 951/1000 - Train Loss: 0.0268 - Val Loss: 0.0204\n"
     ]
    },
    {
     "name": "stderr",
     "output_type": "stream",
     "text": [
      "Epoch 952/1000 - Training: 100%|██████████| 7/7 [00:00<00:00, 321.50it/s]\n",
      "Epoch 952/1000 - Validation: 100%|██████████| 1/1 [00:00<00:00, 667.46it/s]\n"
     ]
    },
    {
     "name": "stdout",
     "output_type": "stream",
     "text": [
      "Epoch 952/1000 - Train Loss: 0.0256 - Val Loss: 0.0252\n"
     ]
    },
    {
     "name": "stderr",
     "output_type": "stream",
     "text": [
      "Epoch 953/1000 - Training: 100%|██████████| 7/7 [00:00<00:00, 321.86it/s]\n",
      "Epoch 953/1000 - Validation: 100%|██████████| 1/1 [00:00<00:00, 742.35it/s]\n"
     ]
    },
    {
     "name": "stdout",
     "output_type": "stream",
     "text": [
      "Epoch 953/1000 - Train Loss: 0.0215 - Val Loss: 0.0241\n"
     ]
    },
    {
     "name": "stderr",
     "output_type": "stream",
     "text": [
      "Epoch 954/1000 - Training: 100%|██████████| 7/7 [00:00<00:00, 239.24it/s]\n",
      "Epoch 954/1000 - Validation: 100%|██████████| 1/1 [00:00<00:00, 1006.07it/s]\n"
     ]
    },
    {
     "name": "stdout",
     "output_type": "stream",
     "text": [
      "Epoch 954/1000 - Train Loss: 0.0304 - Val Loss: 0.0283\n"
     ]
    },
    {
     "name": "stderr",
     "output_type": "stream",
     "text": [
      "Epoch 955/1000 - Training: 100%|██████████| 7/7 [00:00<00:00, 324.79it/s]\n",
      "Epoch 955/1000 - Validation: 100%|██████████| 1/1 [00:00<00:00, 704.21it/s]\n"
     ]
    },
    {
     "name": "stdout",
     "output_type": "stream",
     "text": [
      "Epoch 955/1000 - Train Loss: 0.0219 - Val Loss: 0.0256\n"
     ]
    },
    {
     "name": "stderr",
     "output_type": "stream",
     "text": [
      "Epoch 956/1000 - Training: 100%|██████████| 7/7 [00:00<00:00, 295.23it/s]\n",
      "Epoch 956/1000 - Validation: 100%|██████████| 1/1 [00:00<00:00, 718.33it/s]\n"
     ]
    },
    {
     "name": "stdout",
     "output_type": "stream",
     "text": [
      "Epoch 956/1000 - Train Loss: 0.0278 - Val Loss: 0.0243\n"
     ]
    },
    {
     "name": "stderr",
     "output_type": "stream",
     "text": [
      "Epoch 957/1000 - Training: 100%|██████████| 7/7 [00:00<00:00, 293.67it/s]\n",
      "Epoch 957/1000 - Validation: 100%|██████████| 1/1 [00:00<00:00, 767.06it/s]\n"
     ]
    },
    {
     "name": "stdout",
     "output_type": "stream",
     "text": [
      "Epoch 957/1000 - Train Loss: 0.0260 - Val Loss: 0.0228\n"
     ]
    },
    {
     "name": "stderr",
     "output_type": "stream",
     "text": [
      "Epoch 958/1000 - Training: 100%|██████████| 7/7 [00:00<00:00, 294.27it/s]\n",
      "Epoch 958/1000 - Validation: 100%|██████████| 1/1 [00:00<00:00, 817.60it/s]\n"
     ]
    },
    {
     "name": "stdout",
     "output_type": "stream",
     "text": [
      "Epoch 958/1000 - Train Loss: 0.0281 - Val Loss: 0.0245\n"
     ]
    },
    {
     "name": "stderr",
     "output_type": "stream",
     "text": [
      "Epoch 959/1000 - Training: 100%|██████████| 7/7 [00:00<00:00, 292.98it/s]\n",
      "Epoch 959/1000 - Validation: 100%|██████████| 1/1 [00:00<00:00, 725.78it/s]\n"
     ]
    },
    {
     "name": "stdout",
     "output_type": "stream",
     "text": [
      "Epoch 959/1000 - Train Loss: 0.0229 - Val Loss: 0.0203\n"
     ]
    },
    {
     "name": "stderr",
     "output_type": "stream",
     "text": [
      "Epoch 960/1000 - Training: 100%|██████████| 7/7 [00:00<00:00, 318.13it/s]\n",
      "Epoch 960/1000 - Validation: 100%|██████████| 1/1 [00:00<00:00, 853.02it/s]\n"
     ]
    },
    {
     "name": "stdout",
     "output_type": "stream",
     "text": [
      "Epoch 960/1000 - Train Loss: 0.0246 - Val Loss: 0.0210\n"
     ]
    },
    {
     "name": "stderr",
     "output_type": "stream",
     "text": [
      "Epoch 961/1000 - Training: 100%|██████████| 7/7 [00:00<00:00, 327.14it/s]\n",
      "Epoch 961/1000 - Validation: 100%|██████████| 1/1 [00:00<00:00, 766.92it/s]\n"
     ]
    },
    {
     "name": "stdout",
     "output_type": "stream",
     "text": [
      "Epoch 961/1000 - Train Loss: 0.0229 - Val Loss: 0.0243\n"
     ]
    },
    {
     "name": "stderr",
     "output_type": "stream",
     "text": [
      "Epoch 962/1000 - Training: 100%|██████████| 7/7 [00:00<00:00, 321.35it/s]\n",
      "Epoch 962/1000 - Validation: 100%|██████████| 1/1 [00:00<00:00, 850.43it/s]\n"
     ]
    },
    {
     "name": "stdout",
     "output_type": "stream",
     "text": [
      "Epoch 962/1000 - Train Loss: 0.0243 - Val Loss: 0.0445\n"
     ]
    },
    {
     "name": "stderr",
     "output_type": "stream",
     "text": [
      "Epoch 963/1000 - Training: 100%|██████████| 7/7 [00:00<00:00, 330.31it/s]\n",
      "Epoch 963/1000 - Validation: 100%|██████████| 1/1 [00:00<00:00, 709.22it/s]\n"
     ]
    },
    {
     "name": "stdout",
     "output_type": "stream",
     "text": [
      "Epoch 963/1000 - Train Loss: 0.0286 - Val Loss: 0.0196\n"
     ]
    },
    {
     "name": "stderr",
     "output_type": "stream",
     "text": [
      "Epoch 964/1000 - Training: 100%|██████████| 7/7 [00:00<00:00, 322.62it/s]\n",
      "Epoch 964/1000 - Validation: 100%|██████████| 1/1 [00:00<00:00, 850.60it/s]\n"
     ]
    },
    {
     "name": "stdout",
     "output_type": "stream",
     "text": [
      "Epoch 964/1000 - Train Loss: 0.0289 - Val Loss: 0.0275\n"
     ]
    },
    {
     "name": "stderr",
     "output_type": "stream",
     "text": [
      "Epoch 965/1000 - Training: 100%|██████████| 7/7 [00:00<00:00, 334.51it/s]\n",
      "Epoch 965/1000 - Validation: 100%|██████████| 1/1 [00:00<00:00, 908.05it/s]\n"
     ]
    },
    {
     "name": "stdout",
     "output_type": "stream",
     "text": [
      "Epoch 965/1000 - Train Loss: 0.0244 - Val Loss: 0.0148\n"
     ]
    },
    {
     "name": "stderr",
     "output_type": "stream",
     "text": [
      "Epoch 966/1000 - Training: 100%|██████████| 7/7 [00:00<00:00, 371.97it/s]\n",
      "Epoch 966/1000 - Validation: 100%|██████████| 1/1 [00:00<00:00, 901.81it/s]\n"
     ]
    },
    {
     "name": "stdout",
     "output_type": "stream",
     "text": [
      "Epoch 966/1000 - Train Loss: 0.0235 - Val Loss: 0.0365\n"
     ]
    },
    {
     "name": "stderr",
     "output_type": "stream",
     "text": [
      "Epoch 967/1000 - Training: 100%|██████████| 7/7 [00:00<00:00, 376.39it/s]\n",
      "Epoch 967/1000 - Validation: 100%|██████████| 1/1 [00:00<00:00, 826.14it/s]\n"
     ]
    },
    {
     "name": "stdout",
     "output_type": "stream",
     "text": [
      "Epoch 967/1000 - Train Loss: 0.0231 - Val Loss: 0.0264\n"
     ]
    },
    {
     "name": "stderr",
     "output_type": "stream",
     "text": [
      "Epoch 968/1000 - Training: 100%|██████████| 7/7 [00:00<00:00, 371.95it/s]\n",
      "Epoch 968/1000 - Validation: 100%|██████████| 1/1 [00:00<00:00, 941.27it/s]\n"
     ]
    },
    {
     "name": "stdout",
     "output_type": "stream",
     "text": [
      "Epoch 968/1000 - Train Loss: 0.0228 - Val Loss: 0.0296\n"
     ]
    },
    {
     "name": "stderr",
     "output_type": "stream",
     "text": [
      "Epoch 969/1000 - Training: 100%|██████████| 7/7 [00:00<00:00, 368.98it/s]\n",
      "Epoch 969/1000 - Validation: 100%|██████████| 1/1 [00:00<00:00, 994.15it/s]\n"
     ]
    },
    {
     "name": "stdout",
     "output_type": "stream",
     "text": [
      "Epoch 969/1000 - Train Loss: 0.0269 - Val Loss: 0.0242\n"
     ]
    },
    {
     "name": "stderr",
     "output_type": "stream",
     "text": [
      "Epoch 970/1000 - Training: 100%|██████████| 7/7 [00:00<00:00, 369.22it/s]\n",
      "Epoch 970/1000 - Validation: 100%|██████████| 1/1 [00:00<00:00, 793.02it/s]\n"
     ]
    },
    {
     "name": "stdout",
     "output_type": "stream",
     "text": [
      "Epoch 970/1000 - Train Loss: 0.0226 - Val Loss: 0.0265\n"
     ]
    },
    {
     "name": "stderr",
     "output_type": "stream",
     "text": [
      "Epoch 971/1000 - Training: 100%|██████████| 7/7 [00:00<00:00, 381.61it/s]\n",
      "Epoch 971/1000 - Validation: 100%|██████████| 1/1 [00:00<00:00, 845.28it/s]\n"
     ]
    },
    {
     "name": "stdout",
     "output_type": "stream",
     "text": [
      "Epoch 971/1000 - Train Loss: 0.0255 - Val Loss: 0.0191\n"
     ]
    },
    {
     "name": "stderr",
     "output_type": "stream",
     "text": [
      "Epoch 972/1000 - Training: 100%|██████████| 7/7 [00:00<00:00, 375.51it/s]\n",
      "Epoch 972/1000 - Validation: 100%|██████████| 1/1 [00:00<00:00, 942.75it/s]\n"
     ]
    },
    {
     "name": "stdout",
     "output_type": "stream",
     "text": [
      "Epoch 972/1000 - Train Loss: 0.0255 - Val Loss: 0.0287\n"
     ]
    },
    {
     "name": "stderr",
     "output_type": "stream",
     "text": [
      "Epoch 973/1000 - Training: 100%|██████████| 7/7 [00:00<00:00, 370.94it/s]\n",
      "Epoch 973/1000 - Validation: 100%|██████████| 1/1 [00:00<00:00, 868.57it/s]\n"
     ]
    },
    {
     "name": "stdout",
     "output_type": "stream",
     "text": [
      "Epoch 973/1000 - Train Loss: 0.0236 - Val Loss: 0.0254\n"
     ]
    },
    {
     "name": "stderr",
     "output_type": "stream",
     "text": [
      "Epoch 974/1000 - Training: 100%|██████████| 7/7 [00:00<00:00, 371.52it/s]\n",
      "Epoch 974/1000 - Validation: 100%|██████████| 1/1 [00:00<00:00, 1150.07it/s]\n"
     ]
    },
    {
     "name": "stdout",
     "output_type": "stream",
     "text": [
      "Epoch 974/1000 - Train Loss: 0.0283 - Val Loss: 0.0172\n"
     ]
    },
    {
     "name": "stderr",
     "output_type": "stream",
     "text": [
      "Epoch 975/1000 - Training: 100%|██████████| 7/7 [00:00<00:00, 372.20it/s]\n",
      "Epoch 975/1000 - Validation: 100%|██████████| 1/1 [00:00<00:00, 872.00it/s]\n"
     ]
    },
    {
     "name": "stdout",
     "output_type": "stream",
     "text": [
      "Epoch 975/1000 - Train Loss: 0.0298 - Val Loss: 0.0255\n"
     ]
    },
    {
     "name": "stderr",
     "output_type": "stream",
     "text": [
      "Epoch 976/1000 - Training: 100%|██████████| 7/7 [00:00<00:00, 370.97it/s]\n",
      "Epoch 976/1000 - Validation: 100%|██████████| 1/1 [00:00<00:00, 951.52it/s]\n"
     ]
    },
    {
     "name": "stdout",
     "output_type": "stream",
     "text": [
      "Epoch 976/1000 - Train Loss: 0.0234 - Val Loss: 0.0173\n"
     ]
    },
    {
     "name": "stderr",
     "output_type": "stream",
     "text": [
      "Epoch 977/1000 - Training: 100%|██████████| 7/7 [00:00<00:00, 371.78it/s]\n",
      "Epoch 977/1000 - Validation: 100%|██████████| 1/1 [00:00<00:00, 1006.31it/s]\n"
     ]
    },
    {
     "name": "stdout",
     "output_type": "stream",
     "text": [
      "Epoch 977/1000 - Train Loss: 0.0251 - Val Loss: 0.0184\n"
     ]
    },
    {
     "name": "stderr",
     "output_type": "stream",
     "text": [
      "Epoch 978/1000 - Training: 100%|██████████| 7/7 [00:00<00:00, 370.34it/s]\n",
      "Epoch 978/1000 - Validation: 100%|██████████| 1/1 [00:00<00:00, 868.75it/s]\n"
     ]
    },
    {
     "name": "stdout",
     "output_type": "stream",
     "text": [
      "Epoch 978/1000 - Train Loss: 0.0211 - Val Loss: 0.0277\n"
     ]
    },
    {
     "name": "stderr",
     "output_type": "stream",
     "text": [
      "Epoch 979/1000 - Training: 100%|██████████| 7/7 [00:00<00:00, 370.60it/s]\n",
      "Epoch 979/1000 - Validation: 100%|██████████| 1/1 [00:00<00:00, 1012.14it/s]\n"
     ]
    },
    {
     "name": "stdout",
     "output_type": "stream",
     "text": [
      "Epoch 979/1000 - Train Loss: 0.0247 - Val Loss: 0.0183\n"
     ]
    },
    {
     "name": "stderr",
     "output_type": "stream",
     "text": [
      "Epoch 980/1000 - Training: 100%|██████████| 7/7 [00:00<00:00, 378.80it/s]\n",
      "Epoch 980/1000 - Validation: 100%|██████████| 1/1 [00:00<00:00, 872.00it/s]\n"
     ]
    },
    {
     "name": "stdout",
     "output_type": "stream",
     "text": [
      "Epoch 980/1000 - Train Loss: 0.0224 - Val Loss: 0.0353\n"
     ]
    },
    {
     "name": "stderr",
     "output_type": "stream",
     "text": [
      "Epoch 981/1000 - Training: 100%|██████████| 7/7 [00:00<00:00, 367.77it/s]\n",
      "Epoch 981/1000 - Validation: 100%|██████████| 1/1 [00:00<00:00, 858.96it/s]\n"
     ]
    },
    {
     "name": "stdout",
     "output_type": "stream",
     "text": [
      "Epoch 981/1000 - Train Loss: 0.0270 - Val Loss: 0.0178\n"
     ]
    },
    {
     "name": "stderr",
     "output_type": "stream",
     "text": [
      "Epoch 982/1000 - Training: 100%|██████████| 7/7 [00:00<00:00, 373.01it/s]\n",
      "Epoch 982/1000 - Validation: 100%|██████████| 1/1 [00:00<00:00, 974.97it/s]\n"
     ]
    },
    {
     "name": "stdout",
     "output_type": "stream",
     "text": [
      "Epoch 982/1000 - Train Loss: 0.0280 - Val Loss: 0.0298\n"
     ]
    },
    {
     "name": "stderr",
     "output_type": "stream",
     "text": [
      "Epoch 983/1000 - Training: 100%|██████████| 7/7 [00:00<00:00, 372.43it/s]\n",
      "Epoch 983/1000 - Validation: 100%|██████████| 1/1 [00:00<00:00, 858.96it/s]\n"
     ]
    },
    {
     "name": "stdout",
     "output_type": "stream",
     "text": [
      "Epoch 983/1000 - Train Loss: 0.0238 - Val Loss: 0.0424\n"
     ]
    },
    {
     "name": "stderr",
     "output_type": "stream",
     "text": [
      "Epoch 984/1000 - Training: 100%|██████████| 7/7 [00:00<00:00, 371.17it/s]\n",
      "Epoch 984/1000 - Validation: 100%|██████████| 1/1 [00:00<00:00, 788.25it/s]\n"
     ]
    },
    {
     "name": "stdout",
     "output_type": "stream",
     "text": [
      "Epoch 984/1000 - Train Loss: 0.0260 - Val Loss: 0.0183\n"
     ]
    },
    {
     "name": "stderr",
     "output_type": "stream",
     "text": [
      "Epoch 985/1000 - Training: 100%|██████████| 7/7 [00:00<00:00, 368.08it/s]\n",
      "Epoch 985/1000 - Validation: 100%|██████████| 1/1 [00:00<00:00, 1143.80it/s]\n"
     ]
    },
    {
     "name": "stdout",
     "output_type": "stream",
     "text": [
      "Epoch 985/1000 - Train Loss: 0.0252 - Val Loss: 0.0585\n"
     ]
    },
    {
     "name": "stderr",
     "output_type": "stream",
     "text": [
      "Epoch 986/1000 - Training: 100%|██████████| 7/7 [00:00<00:00, 371.02it/s]\n",
      "Epoch 986/1000 - Validation: 100%|██████████| 1/1 [00:00<00:00, 890.13it/s]\n"
     ]
    },
    {
     "name": "stdout",
     "output_type": "stream",
     "text": [
      "Epoch 986/1000 - Train Loss: 0.0215 - Val Loss: 0.0243\n"
     ]
    },
    {
     "name": "stderr",
     "output_type": "stream",
     "text": [
      "Epoch 987/1000 - Training: 100%|██████████| 7/7 [00:00<00:00, 365.96it/s]\n",
      "Epoch 987/1000 - Validation: 100%|██████████| 1/1 [00:00<00:00, 842.23it/s]\n"
     ]
    },
    {
     "name": "stdout",
     "output_type": "stream",
     "text": [
      "Epoch 987/1000 - Train Loss: 0.0225 - Val Loss: 0.0430\n"
     ]
    },
    {
     "name": "stderr",
     "output_type": "stream",
     "text": [
      "Epoch 988/1000 - Training: 100%|██████████| 7/7 [00:00<00:00, 372.94it/s]\n",
      "Epoch 988/1000 - Validation: 100%|██████████| 1/1 [00:00<00:00, 955.64it/s]\n"
     ]
    },
    {
     "name": "stdout",
     "output_type": "stream",
     "text": [
      "Epoch 988/1000 - Train Loss: 0.0173 - Val Loss: 0.0240\n"
     ]
    },
    {
     "name": "stderr",
     "output_type": "stream",
     "text": [
      "Epoch 989/1000 - Training: 100%|██████████| 7/7 [00:00<00:00, 373.70it/s]\n",
      "Epoch 989/1000 - Validation: 100%|██████████| 1/1 [00:00<00:00, 941.06it/s]\n"
     ]
    },
    {
     "name": "stdout",
     "output_type": "stream",
     "text": [
      "Epoch 989/1000 - Train Loss: 0.0277 - Val Loss: 0.0279\n"
     ]
    },
    {
     "name": "stderr",
     "output_type": "stream",
     "text": [
      "Epoch 990/1000 - Training: 100%|██████████| 7/7 [00:00<00:00, 367.87it/s]\n",
      "Epoch 990/1000 - Validation: 100%|██████████| 1/1 [00:00<00:00, 786.92it/s]\n"
     ]
    },
    {
     "name": "stdout",
     "output_type": "stream",
     "text": [
      "Epoch 990/1000 - Train Loss: 0.0303 - Val Loss: 0.0340\n"
     ]
    },
    {
     "name": "stderr",
     "output_type": "stream",
     "text": [
      "Epoch 991/1000 - Training: 100%|██████████| 7/7 [00:00<00:00, 368.22it/s]\n",
      "Epoch 991/1000 - Validation: 100%|██████████| 1/1 [00:00<00:00, 859.66it/s]\n"
     ]
    },
    {
     "name": "stdout",
     "output_type": "stream",
     "text": [
      "Epoch 991/1000 - Train Loss: 0.0258 - Val Loss: 0.0229\n"
     ]
    },
    {
     "name": "stderr",
     "output_type": "stream",
     "text": [
      "Epoch 992/1000 - Training: 100%|██████████| 7/7 [00:00<00:00, 373.51it/s]\n",
      "Epoch 992/1000 - Validation: 100%|██████████| 1/1 [00:00<00:00, 1166.06it/s]\n"
     ]
    },
    {
     "name": "stdout",
     "output_type": "stream",
     "text": [
      "Epoch 992/1000 - Train Loss: 0.0266 - Val Loss: 0.0219\n"
     ]
    },
    {
     "name": "stderr",
     "output_type": "stream",
     "text": [
      "Epoch 993/1000 - Training: 100%|██████████| 7/7 [00:00<00:00, 372.46it/s]\n",
      "Epoch 993/1000 - Validation: 100%|██████████| 1/1 [00:00<00:00, 929.79it/s]\n"
     ]
    },
    {
     "name": "stdout",
     "output_type": "stream",
     "text": [
      "Epoch 993/1000 - Train Loss: 0.0234 - Val Loss: 0.0242\n"
     ]
    },
    {
     "name": "stderr",
     "output_type": "stream",
     "text": [
      "Epoch 994/1000 - Training: 100%|██████████| 7/7 [00:00<00:00, 368.66it/s]\n",
      "Epoch 994/1000 - Validation: 100%|██████████| 1/1 [00:00<00:00, 891.27it/s]\n"
     ]
    },
    {
     "name": "stdout",
     "output_type": "stream",
     "text": [
      "Epoch 994/1000 - Train Loss: 0.0289 - Val Loss: 0.0295\n"
     ]
    },
    {
     "name": "stderr",
     "output_type": "stream",
     "text": [
      "Epoch 995/1000 - Training: 100%|██████████| 7/7 [00:00<00:00, 374.79it/s]\n",
      "Epoch 995/1000 - Validation: 100%|██████████| 1/1 [00:00<00:00, 960.01it/s]\n"
     ]
    },
    {
     "name": "stdout",
     "output_type": "stream",
     "text": [
      "Epoch 995/1000 - Train Loss: 0.0242 - Val Loss: 0.0251\n"
     ]
    },
    {
     "name": "stderr",
     "output_type": "stream",
     "text": [
      "Epoch 996/1000 - Training: 100%|██████████| 7/7 [00:00<00:00, 367.78it/s]\n",
      "Epoch 996/1000 - Validation: 100%|██████████| 1/1 [00:00<00:00, 843.75it/s]\n"
     ]
    },
    {
     "name": "stdout",
     "output_type": "stream",
     "text": [
      "Epoch 996/1000 - Train Loss: 0.0190 - Val Loss: 0.0339\n"
     ]
    },
    {
     "name": "stderr",
     "output_type": "stream",
     "text": [
      "Epoch 997/1000 - Training: 100%|██████████| 7/7 [00:00<00:00, 360.71it/s]\n",
      "Epoch 997/1000 - Validation: 100%|██████████| 1/1 [00:00<00:00, 833.86it/s]\n"
     ]
    },
    {
     "name": "stdout",
     "output_type": "stream",
     "text": [
      "Epoch 997/1000 - Train Loss: 0.0281 - Val Loss: 0.0255\n"
     ]
    },
    {
     "name": "stderr",
     "output_type": "stream",
     "text": [
      "Epoch 998/1000 - Training: 100%|██████████| 7/7 [00:00<00:00, 366.80it/s]\n",
      "Epoch 998/1000 - Validation: 100%|██████████| 1/1 [00:00<00:00, 922.64it/s]\n"
     ]
    },
    {
     "name": "stdout",
     "output_type": "stream",
     "text": [
      "Epoch 998/1000 - Train Loss: 0.0208 - Val Loss: 0.0205\n"
     ]
    },
    {
     "name": "stderr",
     "output_type": "stream",
     "text": [
      "Epoch 999/1000 - Training: 100%|██████████| 7/7 [00:00<00:00, 370.96it/s]\n",
      "Epoch 999/1000 - Validation: 100%|██████████| 1/1 [00:00<00:00, 1119.08it/s]\n"
     ]
    },
    {
     "name": "stdout",
     "output_type": "stream",
     "text": [
      "Epoch 999/1000 - Train Loss: 0.0226 - Val Loss: 0.0259\n"
     ]
    },
    {
     "name": "stderr",
     "output_type": "stream",
     "text": [
      "Epoch 1000/1000 - Training: 100%|██████████| 7/7 [00:00<00:00, 366.52it/s]\n",
      "Epoch 1000/1000 - Validation: 100%|██████████| 1/1 [00:00<00:00, 898.14it/s]\n"
     ]
    },
    {
     "name": "stdout",
     "output_type": "stream",
     "text": [
      "Epoch 1000/1000 - Train Loss: 0.0249 - Val Loss: 0.0386\n"
     ]
    }
   ],
   "source": [
    "# Set random seed\n",
    "import random\n",
    "from sklearn.metrics import mean_squared_error, mean_absolute_error, r2_score\n",
    "from transformers import set_seed\n",
    "SEEDS = [42]\n",
    "\n",
    "\n",
    "# Define different types of image features\n",
    "image_feature_types = ['vit']  # 假设 'resnet_features' 已提取\n",
    "\n",
    "\n",
    "\n",
    "# Define model parameters (adjusted according to the dimensions of different features)\n",
    "FEATURE_DIMENSIONS = {\n",
    "    'vit': 50,          # ViT feature dimension after PCA\n",
    "\n",
    "}\n",
    "\n",
    "input_dim_other_text = 768  # The hidden_size of RoBERTa\n",
    "input_dim_text_desc = 768   # Adjust according to the actual hidden_size\n",
    "input_dim_numerical = 3     # Number of numerical features\n",
    "\n",
    "# Define training parameters\n",
    "batch_size = 32\n",
    "num_epochs = 1000\n",
    "\n",
    "# Define loss function\n",
    "criterion = nn.MSELoss()\n",
    "\n",
    "# inspect equipment\n",
    "device = torch.device('cuda' if torch.cuda.is_available() else 'cpu')\n",
    "print(f\"Using device: {device}\")\n",
    "\n",
    "# Traverse all random seeds\n",
    "for seed in SEEDS:\n",
    "    print(f\"=== Data partitioning using random seed {seed} ===\")\n",
    "    set_seed(seed)\n",
    "\n",
    "    # Dataset partitioning\n",
    "    train_df, val_df = train_test_split(\n",
    "        df,\n",
    "        test_size=0.01,  # Adjust the proportion of the validation set as needed\n",
    "        random_state=seed,\n",
    "        shuffle=True\n",
    "    )\n",
    "\n",
    "    # Traverse all image feature types\n",
    "    for feature_type in image_feature_types:\n",
    "        print(f\"The input dimension of feature type {feature_type} is undefined. Skipping\")\n",
    "\n",
    "        # Define input dimensions\n",
    "        input_dim_image = FEATURE_DIMENSIONS.get(feature_type)\n",
    "        if input_dim_image is None:\n",
    "            print(f\"\")\n",
    "            continue\n",
    "\n",
    "        # Create training set and validation set\n",
    "        train_dataset = IncomeDataset(train_df, image_feature_type=feature_type)\n",
    "        val_dataset = IncomeDataset(val_df, image_feature_type=feature_type)\n",
    "\n",
    "        # Create a data loader\n",
    "        train_loader = DataLoader(train_dataset, batch_size=batch_size, shuffle=True, num_workers=0)\n",
    "        val_loader = DataLoader(val_dataset, batch_size=batch_size, shuffle=False, num_workers=0)\n",
    "\n",
    "        # Instantiation model\n",
    "        model = RegressionModelWithAttention(\n",
    "            input_dim_image=input_dim_image,\n",
    "            input_dim_other_text=input_dim_other_text,\n",
    "            input_dim_text_desc=input_dim_text_desc,\n",
    "            input_dim_numerical=input_dim_numerical,\n",
    "            attention_dim=128\n",
    "        ).to(device)\n",
    "\n",
    "        # Define optimizer\n",
    "        optimizer = torch.optim.Adam(model.parameters(), lr=1e-3)\n",
    "\n",
    "        # Train and evaluate the model\n",
    "        all_predictions_log, all_targets_log, all_targets, all_predictions = train_and_evaluate(\n",
    "            model,\n",
    "            train_loader,\n",
    "            val_loader,\n",
    "            criterion,\n",
    "            optimizer,\n",
    "            device,\n",
    "            num_epochs=num_epochs\n",
    "        )\n",
    "    # Convert four lists into a dictionary\n",
    "        data = {\n",
    "    'all_predictions_log': all_predictions_log,\n",
    "    'all_targets_log': all_targets_log,\n",
    "    'all_predictions': all_predictions,\n",
    "    'all_targets': all_targets\n",
    "        }\n",
    "        # Convert the dictionary into a pandas DataFrame\n",
    "        df1 = pd.DataFrame(data)\n",
    "        # Save to a CSV file, specifying the file name (e.g. 'predictions_targets.csv')\n",
    "        df1.to_csv('predictions_targets'+str(seed)+'.csv', index=False)\n",
    "\n",
    "        # Save the model (optional)\n",
    "        model_save_path = f\"regression_model_{feature_type}_seed{seed}.pth\"\n",
    "        torch.save(model.state_dict(), model_save_path)\n"
   ]
  },
  {
   "cell_type": "code",
   "execution_count": null,
   "id": "3b385978-eea3-42f3-a6e0-ba0d706bd971",
   "metadata": {},
   "outputs": [],
   "source": []
  },
  {
   "cell_type": "code",
   "execution_count": null,
   "id": "e1850246-659e-484f-8131-fc82f263ebf0",
   "metadata": {},
   "outputs": [],
   "source": []
  },
  {
   "cell_type": "code",
   "execution_count": null,
   "id": "b52d7de1-ef39-43ad-b62e-3ba3c47468af",
   "metadata": {},
   "outputs": [],
   "source": []
  }
 ],
 "metadata": {
  "kernelspec": {
   "display_name": "Python 3 (ipykernel)",
   "language": "python",
   "name": "python3"
  },
  "language_info": {
   "codemirror_mode": {
    "name": "ipython",
    "version": 3
   },
   "file_extension": ".py",
   "mimetype": "text/x-python",
   "name": "python",
   "nbconvert_exporter": "python",
   "pygments_lexer": "ipython3",
   "version": "3.12.3"
  }
 },
 "nbformat": 4,
 "nbformat_minor": 5
}
